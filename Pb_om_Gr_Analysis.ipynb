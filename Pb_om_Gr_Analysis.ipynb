{
 "cells": [
  {
   "cell_type": "code",
   "execution_count": 1,
   "metadata": {},
   "outputs": [],
   "source": [
    "import numpy as np\n",
    "import scipy.special as scisp\n",
    "import scipy.integrate as integ\n",
    "import mpmath\n",
    "from scipy import constants as const\n",
    "import Green_functions as gr\n",
    "import matplotlib.pyplot as plt\n",
    "from matplotlib.gridspec import GridSpec\n",
    "sim = gr.simulation()\n",
    "import scipy as sc\n",
    "import nanonis\n",
    "from scipy.signal import savgol_filter\n",
    "import deconvolution\n",
    "import os\n",
    "from scipy.signal import argrelextrema\n",
    "from scipy.signal import find_peaks\n",
    "%matplotlib qt"
   ]
  },
  {
   "cell_type": "code",
   "execution_count": 13,
   "metadata": {},
   "outputs": [],
   "source": [
    "a=\"C:/Users/jonor/Desktop/PhD/Lanak/Pb on Gr (analysis)/Magnetic field Coulomb/\"\n",
    "files=os.listdir(a)"
   ]
  },
  {
   "cell_type": "code",
   "execution_count": 20,
   "metadata": {},
   "outputs": [
    {
     "name": "stdout",
     "output_type": "stream",
     "text": [
      "['S100mT230405_001.dat', 'S100mT230405_002.dat', 'S100mT230405_003.dat', 'S100mT230405_004.dat', 'S10mT230405_006.dat', 'S10mT230405_007.dat', 'S10mT230405_008.dat', 'S10mT230405_012.dat', 'S200mT230405_005.dat', 'S200mT230405_006.dat', 'S200mT230405_007.dat', 'S200mT230405_008.dat', 'S20mT230405_001.dat', 'S20mT230405_002.dat', 'S20mT230405_003.dat', 'S20mT230405_007.dat', 'S250mT230405_001.dat', 'S250mT230405_002.dat', 'S250mT230405_003.dat', 'S250mT230405_004.dat', 'S300mT230405_001.dat', 'S300mT230405_002.dat', 'S300mT230405_003.dat', 'S300mT230405_004.dat', 'S350mT230405_001.dat', 'S350mT230405_002.dat', 'S350mT230405_003.dat', 'S350mT230405_004.dat', 'S400mT230405_001.dat', 'S400mT230405_002.dat', 'S400mT230405_003.dat', 'S400mT230405_004.dat', 'S40mT230405_001.dat', 'S40mT230405_002.dat', 'S40mT230405_005.dat', 'S40mT230405_006.dat', 'S800mT230405_001.dat', 'S800mT230405_002.dat', 'S800mT230405_003.dat', 'S800mT230405_004.dat']\n"
     ]
    }
   ],
   "source": [
    "print(files)"
   ]
  },
  {
   "cell_type": "code",
   "execution_count": 14,
   "metadata": {},
   "outputs": [],
   "source": [
    "files1=[]\n",
    "files2=[]\n",
    "for i in files:\n",
    "    if get_offset(a+i)<0:\n",
    "        files1.append(a+i)\n",
    "    else:\n",
    "        files2.append(a+i)\n"
   ]
  },
  {
   "cell_type": "code",
   "execution_count": 15,
   "metadata": {},
   "outputs": [],
   "source": [
    "T1=[]\n",
    "T2=[]\n",
    "T3=[]\n",
    "T4=[]\n",
    "T5=[]\n",
    "T6=[]\n",
    "T7=[]\n",
    "T8=[]\n",
    "T9=[]\n",
    "T10=[]\n",
    "\n",
    "for i in files:\n",
    "    if \"10mT\" in i:\n",
    "        T1.append(i)\n",
    "    if \"20mT\" in i:\n",
    "        T2.append(i)\n",
    "    if \"40mT\" in i:\n",
    "        T3.append(i)\n",
    "    if \"100mT\" in i:\n",
    "        T4.append(i)\n",
    "    if \"200mT\" in i:\n",
    "        T5.append(i)\n",
    "    if \"250mT\" in i:\n",
    "        T6.append(i)\n",
    "    if \"300mT\" in i:\n",
    "        T7.append(i)\n",
    "    if \"350mT\" in i:\n",
    "        T8.append(i)\n",
    "    if \"400mT\" in i:\n",
    "        T9.append(i)\n",
    "    if \"800mT\" in i:\n",
    "        T10.append(i)"
   ]
  },
  {
   "cell_type": "code",
   "execution_count": 16,
   "metadata": {},
   "outputs": [],
   "source": [
    "spec=nanonis.biasSpectroscopy()\n",
    "def normalize(x,N):\n",
    "    norm=0\n",
    "    for i in range(N):\n",
    "        norm+=x[i]\n",
    "    norm=norm/N\n",
    "    return x/norm\n",
    "def dynes(x,delta,eta):\n",
    "    return np.imag(np.divide(x+eta*1j,np.sqrt(delta**2-(x+eta*1j)**2)))\n",
    "\n",
    "def fermi(x,T):\n",
    "    return 1/(1+np.exp(-x/T))\n",
    "                   \n",
    "def conv_dynes(x,delta1,delta2,eta,T):\n",
    "    y=np.linspace(-5*(delta1+delta2),5*(delta1+delta2),5000)\n",
    "    a,b=np.meshgrid(y,x)\n",
    "    return -np.dot(dynes(a-b,delta2,eta)*fermi(a-b,T),dynes(y,delta1,eta))+np.dot(dynes(a-b,delta2,eta),dynes(y,delta1,eta)*fermi(y,T))\n",
    "\n",
    "def get_offset(file):\n",
    "    spec.load(file)\n",
    "    return float(spec.header['Bias Spectroscopy>Z offset (m)'])\n",
    "\n",
    "\n"
   ]
  },
  {
   "cell_type": "code",
   "execution_count": 17,
   "metadata": {},
   "outputs": [],
   "source": [
    "big_far=[T1[2],T2[0],T3[3],T4[0],T5[2],T6[0],T7[2],T8[2],T9[0],T10[2]]\n",
    "big_close=[T1[3],T2[1],T3[2],T4[1],T5[3],T6[1],T7[3],T8[3],T9[1],T10[3]]\n",
    "small_far=[T1[1],T2[2],T3[0],T4[2],T5[0],T6[2],T7[0],T8[0],T9[2],T10[0]]\n",
    "small_close=[T1[0],T2[3],T3[1],T4[3],T5[1],T6[3],T7[1],T8[1],T9[3],T10[1]]\n",
    "small_close2=[T1[0],T2[3],T4[3],T5[1],T6[3],T7[1],T8[1],T9[3],T10[1]]\n",
    "Bfield2=['10mT','20mT','100mT','200mT','250mT','300mT','350mT','400mT','800mT']\n",
    "Bfield=['10mT','20mT','40mT','100mT','200mT','250mT','300mT','350mT','400mT','800mT']"
   ]
  },
  {
   "cell_type": "code",
   "execution_count": 19,
   "metadata": {},
   "outputs": [
    {
     "data": {
      "text/plain": [
       "[<matplotlib.lines.Line2D at 0x1cb6fd22df0>]"
      ]
     },
     "execution_count": 19,
     "metadata": {},
     "output_type": "execute_result"
    }
   ],
   "source": [
    "spec=nanonis.biasSpectroscopy()\n",
    "#spec.load(a+T1[2])\n",
    "#plt.plot(spec.bias,savgol_filter(normalize(spec.conductance,10),5,3))\n",
    "#spec.load(a+T1[3])\n",
    "#plt.plot(spec.bias,savgol_filter(normalize(spec.conductance,10),5,3))\n",
    "#spec.load(a+T2[0])\n",
    "#plt.plot(spec.bias,savgol_filter(normalize(spec.conductance,10),5,3)+0.2)\n",
    "#spec.load(a+T2[1])\n",
    "#plt.plot(spec.bias,savgol_filter(normalize(spec.conductance,10),5,3)+0.2)\n",
    "#spec.load(a+T3[2])\n",
    "#plt.plot(spec.bias,savgol_filter(normalize(spec.conductance,10),5,3)+0.4)\n",
    "#spec.load(a+T3[3])\n",
    "#plt.plot(spec.bias,savgol_filter(normalize(spec.conductance,10),5,3)+0.4)\n",
    "#spec.load(a+T4[0])\n",
    "#plt.plot(spec.bias,savgol_filter(normalize(spec.conductance,10),5,3)+0.6)\n",
    "#spec.load(a+T4[1])\n",
    "#plt.plot(spec.bias,savgol_filter(normalize(spec.conductance,10),5,3)+0.6)\n",
    "#spec.load(a+T5[2])\n",
    "#plt.plot(spec.bias,savgol_filter(normalize(spec.conductance,10),5,3)+0.8)\n",
    "#spec.load(a+T5[3])\n",
    "#plt.plot(spec.bias,savgol_filter(normalize(spec.conductance,10),5,3)+0.8)\n",
    "#spec.load(a+T6[0])\n",
    "#plt.plot(spec.bias,savgol_filter(normalize(spec.conductance,10),5,3)+1)\n",
    "#spec.load(a+T6[1])\n",
    "#plt.plot(spec.bias,savgol_filter(normalize(spec.conductance,10),5,3)+1)\n",
    "#spec.load(a+T7[2])\n",
    "#plt.plot(spec.bias,savgol_filter(normalize(spec.conductance,10),5,3)+1.2)\n",
    "#spec.load(a+T7[3])\n",
    "#plt.plot(spec.bias,savgol_filter(normalize(spec.conductance,10),5,3)+1.2)\n",
    "#spec.load(a+T8[2])\n",
    "#plt.plot(spec.bias,savgol_filter(normalize(spec.conductance,10),5,3)+1.4)\n",
    "#spec.load(a+T8[3])\n",
    "#plt.plot(spec.bias,savgol_filter(normalize(spec.conductance,10),5,3)+1.4)\n",
    "#spec.load(a+T9[0])\n",
    "#plt.plot(spec.bias,savgol_filter(normalize(spec.conductance,10),5,3)+1.6)\n",
    "#spec.load(a+T9[1])\n",
    "#plt.plot(spec.bias,savgol_filter(normalize(spec.conductance,10),5,3)+1.6)\n",
    "#spec.load(a+T10[2])\n",
    "#plt.plot(spec.bias,savgol_filter(normalize(spec.conductance,10),5,3)+1.8)\n",
    "#spec.load(a+T10[3])\n",
    "#plt.plot(spec.bias,savgol_filter(normalize(spec.conductance,10),5,3)+1.8)\n",
    "\n",
    "\n"
   ]
  },
  {
   "attachments": {},
   "cell_type": "markdown",
   "metadata": {},
   "source": [
    "242nm2 coulomb Zapproach"
   ]
  },
  {
   "cell_type": "code",
   "execution_count": 7,
   "metadata": {},
   "outputs": [],
   "source": [
    "b=\"C:/Users/jonor/Desktop/PhD/Lanak/Pb on Gr (analysis)/23.03.23 - 1st Pb evap/\"\n",
    "fi1=\"SZ04230328_001.dat\"\n",
    "fi2=\"SZ04230328_003.dat\"\n",
    "fi3=\"SZ04230328_004.dat\"\n",
    "fi4=\"SZ04230328_005.dat\"\n",
    "fi5=\"SZ04230328_006.dat\"\n",
    "fi6=\"SZ04230328_007.dat\"\n",
    "fi7=\"SZ04230328_008.dat\"\n",
    "fi8=\"SZ04230328_009.dat\"\n",
    "fi9=\"SZ04230328_014.dat\"\n",
    "fi10=\"SZ04230328_019.dat\"\n",
    "fi11=\"SZ04230328_020.dat\"\n",
    "files=[b+fi2,b+fi3,b+fi4,b+fi5,b+fi6,b+fi7,b+fi8,b+fi9,b+fi10,b+fi11]\n"
   ]
  },
  {
   "attachments": {},
   "cell_type": "markdown",
   "metadata": {},
   "source": [
    "684nm2 coulomb Zapproach"
   ]
  },
  {
   "cell_type": "code",
   "execution_count": 163,
   "metadata": {},
   "outputs": [],
   "source": [
    "b=\"C:/Users/jonor/Desktop/PhD/Lanak/Pb on Gr (analysis)/23.03.23 - 1st Pb evap/\"\n",
    "fi1=\"SZ05230328_001.dat\"\n",
    "fi2=\"SZ05230328_003.dat\"\n",
    "fi3=\"SZ05230328_004.dat\"\n",
    "fi4=\"SZ05230328_005.dat\"\n",
    "fi5=\"SZ05230328_006.dat\"\n",
    "fi6=\"SZ05230328_007.dat\"\n",
    "fi7=\"SZ05230328_008.dat\"\n",
    "fi8=\"SZ05230328_011.dat\"\n",
    "files=[b+fi1,b+fi2,b+fi3,b+fi4,b+fi5,b+fi6,b+fi7,b+fi8]"
   ]
  },
  {
   "attachments": {},
   "cell_type": "markdown",
   "metadata": {},
   "source": [
    "684nm2 coulomb Zapproach"
   ]
  },
  {
   "cell_type": "code",
   "execution_count": 177,
   "metadata": {},
   "outputs": [],
   "source": [
    "b=\"C:/Users/jonor/Desktop/PhD/Lanak/Pb on Gr (analysis)/23.03.23 - 1st Pb evap/\"\n",
    "fi1=\"SZ06230328_001.dat\"\n",
    "fi2=\"SZ06230328_003.dat\"\n",
    "fi3=\"SZ06230328_004.dat\"\n",
    "fi4=\"SZ06230328_005.dat\"\n",
    "fi5=\"SZ06230328_006.dat\"\n",
    "fi6=\"SZ06230328_007.dat\"\n",
    "fi7=\"SZ06230328_008.dat\"\n",
    "fi8=\"SZ06230328_009.dat\"\n",
    "files=[b+fi1,b+fi2,b+fi3,b+fi4,b+fi5,b+fi6,b+fi7,b+fi8]"
   ]
  },
  {
   "attachments": {},
   "cell_type": "markdown",
   "metadata": {},
   "source": [
    "200nm2 coulomb Zapproach"
   ]
  },
  {
   "cell_type": "code",
   "execution_count": 186,
   "metadata": {},
   "outputs": [],
   "source": [
    "b=\"C:/Users/jonor/Desktop/PhD/Lanak/Pb on Gr (analysis)/23.03.23 - 1st Pb evap/\"\n",
    "fi1=\"SZ01230330_001.dat\"\n",
    "fi2=\"SZ01230330_003.dat\"\n",
    "fi3=\"SZ01230330_004.dat\"\n",
    "fi4=\"SZ01230330_005.dat\"\n",
    "fi5=\"SZ01230330_006.dat\"\n",
    "fi6=\"SZ01230330_007.dat\"\n",
    "fi7=\"SZ01230330_008.dat\"\n",
    "#fi8=\"SZ01230330_009.dat\"\n",
    "fi9=\"SZ01230330_011.dat\"\n",
    "files=[b+fi1,b+fi2,b+fi3,b+fi4,b+fi5,b+fi6,b+fi7,b+fi9]"
   ]
  },
  {
   "cell_type": "code",
   "execution_count": 24,
   "metadata": {},
   "outputs": [],
   "source": [
    "b=\"C:/Users/jonor/Desktop/PhD/Lanak/Pb on Gr (analysis)/23.03.23 - 1st Pb evap/\"\n",
    "fi1=\"S50mT230331_025.dat\"\n",
    "fi2=\"S100mT230331_026.dat\"\n",
    "fi3=\"S150mT230331_001.dat\"\n",
    "fi4=\"S250mT230331_001.dat\"\n",
    "fi5=\"S300mT230331_001.dat\"\n",
    "fi6=\"S350mT230331_001.dat\"\n",
    "fi7=\"S400mT230331_001.dat\"\n",
    "fi8=\"S600mT230331_001.dat\"\n",
    "fi8=\"S1T230331_001.dat\"\n",
    "fi9=\"S1.2T230331_002.dat\"\n",
    "fi10=\"S1.5T230331_003.dat\"\n",
    "fi11=\"S2T230331_001.dat\"\n",
    "files=[b+fi1,b+fi2,b+fi3,b+fi4,b+fi5,b+fi6,b+fi7,b+fi8,b+fi9,b+fi10,b+fi11,b+fi11]"
   ]
  },
  {
   "cell_type": "code",
   "execution_count": 339,
   "metadata": {},
   "outputs": [
    {
     "name": "stdout",
     "output_type": "stream",
     "text": [
      "C:/Users/jonor/Desktop/PhD/Lanak/Pb on Gr (analysis)/23.03.23 - 1st Pb evap/S2T230331_001.dat\n"
     ]
    }
   ],
   "source": [
    "print(files[-1])"
   ]
  },
  {
   "cell_type": "code",
   "execution_count": 25,
   "metadata": {},
   "outputs": [
    {
     "data": {
      "text/plain": [
       "Text(0, 0.5, 'dI/dV')"
      ]
     },
     "execution_count": 25,
     "metadata": {},
     "output_type": "execute_result"
    }
   ],
   "source": [
    "spec=nanonis.biasSpectroscopy()\n",
    "j=0\n",
    "for i in files:\n",
    "    #off=get_offset(i)*10e10\n",
    "    spec.load(i)\n",
    "    x=np.array(spec.bias)\n",
    "    y=np.array(spec.conductance)\n",
    "    #plt.plot(x[spec.find_nearest(x,0.0015):spec.find_nearest(x,-0.0015)]*1000,savgol_filter(normalize(y[spec.find_nearest(x,0.0015):spec.find_nearest(x,-0.0015)],2),5,3)+j,linewidth=2)\n",
    "    plt.plot(x*1000,savgol_filter(normalize(y,10),5,3)+j,linewidth=2)\n",
    "    j+=0.4\n",
    "plt.xlabel('meV')\n",
    "plt.ylabel('dI/dV')\n",
    "    #x=find_peaks(np.array(savgol_filter(normalize(spec.conductance,10),5,3)),width=5,threshold=0.001)[0]"
   ]
  },
  {
   "cell_type": "code",
   "execution_count": 4,
   "metadata": {},
   "outputs": [
    {
     "ename": "NameError",
     "evalue": "name 'normalize' is not defined",
     "output_type": "error",
     "traceback": [
      "\u001b[1;31m---------------------------------------------------------------------------\u001b[0m",
      "\u001b[1;31mNameError\u001b[0m                                 Traceback (most recent call last)",
      "\u001b[1;32m~\\AppData\\Local\\Temp/ipykernel_16184/3519348654.py\u001b[0m in \u001b[0;36m<module>\u001b[1;34m\u001b[0m\n\u001b[0;32m      6\u001b[0m     \u001b[0mx\u001b[0m\u001b[1;33m=\u001b[0m\u001b[0mnp\u001b[0m\u001b[1;33m.\u001b[0m\u001b[0marray\u001b[0m\u001b[1;33m(\u001b[0m\u001b[0mspec\u001b[0m\u001b[1;33m.\u001b[0m\u001b[0mbias\u001b[0m\u001b[1;33m)\u001b[0m\u001b[1;33m\u001b[0m\u001b[1;33m\u001b[0m\u001b[0m\n\u001b[0;32m      7\u001b[0m     \u001b[0my\u001b[0m\u001b[1;33m=\u001b[0m\u001b[0mnp\u001b[0m\u001b[1;33m.\u001b[0m\u001b[0marray\u001b[0m\u001b[1;33m(\u001b[0m\u001b[0mspec\u001b[0m\u001b[1;33m.\u001b[0m\u001b[0mconductance\u001b[0m\u001b[1;33m)\u001b[0m\u001b[1;33m\u001b[0m\u001b[1;33m\u001b[0m\u001b[0m\n\u001b[1;32m----> 8\u001b[1;33m     \u001b[0mplt\u001b[0m\u001b[1;33m.\u001b[0m\u001b[0mplot\u001b[0m\u001b[1;33m(\u001b[0m\u001b[0mx\u001b[0m\u001b[1;33m,\u001b[0m\u001b[0msavgol_filter\u001b[0m\u001b[1;33m(\u001b[0m\u001b[0mnormalize\u001b[0m\u001b[1;33m(\u001b[0m\u001b[0my\u001b[0m\u001b[1;33m,\u001b[0m\u001b[1;36m2\u001b[0m\u001b[1;33m)\u001b[0m\u001b[1;33m,\u001b[0m\u001b[1;36m5\u001b[0m\u001b[1;33m,\u001b[0m\u001b[1;36m3\u001b[0m\u001b[1;33m)\u001b[0m\u001b[1;33m+\u001b[0m\u001b[0mj\u001b[0m\u001b[1;33m,\u001b[0m\u001b[0mlinewidth\u001b[0m\u001b[1;33m=\u001b[0m\u001b[1;36m2\u001b[0m\u001b[1;33m)\u001b[0m\u001b[1;33m\u001b[0m\u001b[1;33m\u001b[0m\u001b[0m\n\u001b[0m\u001b[0;32m      9\u001b[0m     \u001b[0mj\u001b[0m\u001b[1;33m+=\u001b[0m\u001b[1;36m0.4\u001b[0m\u001b[1;33m\u001b[0m\u001b[1;33m\u001b[0m\u001b[0m\n\u001b[0;32m     10\u001b[0m     \u001b[1;31m#x=find_peaks(np.array(savgol_filter(normalize(spec.conductance,10),5,3)),width=5,threshold=0.001)[0]\u001b[0m\u001b[1;33m\u001b[0m\u001b[1;33m\u001b[0m\u001b[0m\n",
      "\u001b[1;31mNameError\u001b[0m: name 'normalize' is not defined"
     ]
    }
   ],
   "source": [
    "spec=nanonis.biasSpectroscopy()\n",
    "j=0\n",
    "for i in files:\n",
    "    #off=get_offset(i)*10e10\n",
    "    spec.load(i)\n",
    "    x=np.array(spec.bias)\n",
    "    y=np.array(spec.conductance)\n",
    "    plt.plot(x,savgol_filter(normalize(y,2),5,3)+j,linewidth=2)\n",
    "    j+=0.4\n",
    "    #x=find_peaks(np.array(savgol_filter(normalize(spec.conductance,10),5,3)),width=5,threshold=0.001)[0]"
   ]
  },
  {
   "cell_type": "code",
   "execution_count": 267,
   "metadata": {},
   "outputs": [
    {
     "data": {
      "text/plain": [
       "[<matplotlib.lines.Line2D at 0x2983d79be50>]"
      ]
     },
     "execution_count": 267,
     "metadata": {},
     "output_type": "execute_result"
    }
   ],
   "source": [
    "spec.load(a+small_far[0])\n",
    "plt.plot(spec.bias,spec.conductance)"
   ]
  },
  {
   "cell_type": "code",
   "execution_count": 6,
   "metadata": {},
   "outputs": [
    {
     "ename": "NameError",
     "evalue": "name 'big_close' is not defined",
     "output_type": "error",
     "traceback": [
      "\u001b[1;31m---------------------------------------------------------------------------\u001b[0m",
      "\u001b[1;31mNameError\u001b[0m                                 Traceback (most recent call last)",
      "\u001b[1;32m~\\AppData\\Local\\Temp/ipykernel_16184/601658090.py\u001b[0m in \u001b[0;36m<module>\u001b[1;34m\u001b[0m\n\u001b[0;32m      1\u001b[0m \u001b[0mspec\u001b[0m\u001b[1;33m=\u001b[0m\u001b[0mnanonis\u001b[0m\u001b[1;33m.\u001b[0m\u001b[0mbiasSpectroscopy\u001b[0m\u001b[1;33m(\u001b[0m\u001b[1;33m)\u001b[0m\u001b[1;33m\u001b[0m\u001b[1;33m\u001b[0m\u001b[0m\n\u001b[0;32m      2\u001b[0m \u001b[0mj\u001b[0m\u001b[1;33m=\u001b[0m\u001b[1;36m0\u001b[0m\u001b[1;33m\u001b[0m\u001b[1;33m\u001b[0m\u001b[0m\n\u001b[1;32m----> 3\u001b[1;33m \u001b[1;32mfor\u001b[0m \u001b[0mi\u001b[0m \u001b[1;32min\u001b[0m \u001b[0mrange\u001b[0m\u001b[1;33m(\u001b[0m\u001b[0mlen\u001b[0m\u001b[1;33m(\u001b[0m\u001b[0mbig_close\u001b[0m\u001b[1;33m)\u001b[0m\u001b[1;33m)\u001b[0m\u001b[1;33m:\u001b[0m\u001b[1;33m\u001b[0m\u001b[1;33m\u001b[0m\u001b[0m\n\u001b[0m\u001b[0;32m      4\u001b[0m     \u001b[0mspec\u001b[0m\u001b[1;33m.\u001b[0m\u001b[0mload\u001b[0m\u001b[1;33m(\u001b[0m\u001b[0ma\u001b[0m\u001b[1;33m+\u001b[0m\u001b[0mbig_close\u001b[0m\u001b[1;33m[\u001b[0m\u001b[0mi\u001b[0m\u001b[1;33m]\u001b[0m\u001b[1;33m)\u001b[0m\u001b[1;33m\u001b[0m\u001b[1;33m\u001b[0m\u001b[0m\n\u001b[0;32m      5\u001b[0m     \u001b[0mx\u001b[0m\u001b[1;33m=\u001b[0m\u001b[0mnp\u001b[0m\u001b[1;33m.\u001b[0m\u001b[0marray\u001b[0m\u001b[1;33m(\u001b[0m\u001b[0mspec\u001b[0m\u001b[1;33m.\u001b[0m\u001b[0mbias\u001b[0m\u001b[1;33m)\u001b[0m\u001b[1;33m\u001b[0m\u001b[1;33m\u001b[0m\u001b[0m\n",
      "\u001b[1;31mNameError\u001b[0m: name 'big_close' is not defined"
     ]
    }
   ],
   "source": [
    "spec=nanonis.biasSpectroscopy()\n",
    "j=0\n",
    "for i in range(len(big_close)):\n",
    "    spec.load(a+big_close[i])\n",
    "    x=np.array(spec.bias)\n",
    "    y=np.array(spec.conductance)\n",
    "    plt.plot(x,savgol_filter(normalize(y,2),5,3)+j,linewidth=2,label=Bfield[i])\n",
    "    j+=0.2\n",
    "plt.legend(loc='upper left')"
   ]
  },
  {
   "cell_type": "code",
   "execution_count": 311,
   "metadata": {},
   "outputs": [
    {
     "name": "stdout",
     "output_type": "stream",
     "text": [
      "350mT\n",
      "-1.25313e-05\n"
     ]
    }
   ],
   "source": [
    "spec.load(a+big_close[7])\n",
    "print(Bfield[7])\n",
    "x=np.array(spec.bias)\n",
    "y=normalize(np.array(spec.conductance)[spec.find_nearest(x,0.0015):spec.find_nearest(x,-0.0015)],3)\n",
    "x=np.array(spec.bias)[spec.find_nearest(x,0.0015):spec.find_nearest(x,-0.0015)]\n",
    "\n",
    "plt.plot(x,y,linewidth=2)\n",
    "p=find_peaks(y,width=1,threshold=0.0002)[0]\n",
    "for i in p:\n",
    "    print(x[i])\n",
    "    plt.plot(x[i],y[i],'bo')\n"
   ]
  },
  {
   "cell_type": "code",
   "execution_count": 331,
   "metadata": {},
   "outputs": [
    {
     "data": {
      "text/plain": [
       "'C:/Users/jonor/Desktop/PhD/Lanak/Pb on Gr (analysis)/Magnetic field Coulomb/S20mT230405_007.dat'"
      ]
     },
     "execution_count": 331,
     "metadata": {},
     "output_type": "execute_result"
    }
   ],
   "source": [
    "a+small_close[k]"
   ]
  },
  {
   "cell_type": "code",
   "execution_count": 316,
   "metadata": {},
   "outputs": [
    {
     "name": "stdout",
     "output_type": "stream",
     "text": [
      "100mT\n"
     ]
    },
    {
     "data": {
      "text/plain": [
       "[<matplotlib.lines.Line2D at 0x29848136fd0>]"
      ]
     },
     "execution_count": 316,
     "metadata": {},
     "output_type": "execute_result"
    }
   ],
   "source": [
    "k=2\n",
    "spec.load(a+small_close2[k])\n",
    "print(Bfield2[k])\n",
    "x=np.array(spec.bias)\n",
    "y=normalize(np.array(spec.conductance)[spec.find_nearest(x,0.0015):spec.find_nearest(x,-0.0015)],3)\n",
    "x=np.array(spec.bias)[spec.find_nearest(x,0.0015):spec.find_nearest(x,-0.0015)]\n",
    "\n",
    "plt.plot(x,y,linewidth=2)\n"
   ]
  },
  {
   "cell_type": "code",
   "execution_count": 329,
   "metadata": {},
   "outputs": [
    {
     "name": "stdout",
     "output_type": "stream",
     "text": [
      "20mT\n"
     ]
    },
    {
     "data": {
      "text/plain": [
       "[<matplotlib.lines.Line2D at 0x298477c4700>]"
      ]
     },
     "execution_count": 329,
     "metadata": {},
     "output_type": "execute_result"
    }
   ],
   "source": [
    "k=1\n",
    "spec.load(a+small_far[k])\n",
    "print(Bfield2[k])\n",
    "x=np.array(spec.bias)\n",
    "y=normalize(np.array(spec.conductance),2)\n",
    "plt.plot(x,y,linewidth=2)"
   ]
  },
  {
   "cell_type": "code",
   "execution_count": 1,
   "metadata": {},
   "outputs": [
    {
     "ename": "NameError",
     "evalue": "name 'np' is not defined",
     "output_type": "error",
     "traceback": [
      "\u001b[1;31m---------------------------------------------------------------------------\u001b[0m",
      "\u001b[1;31mNameError\u001b[0m                                 Traceback (most recent call last)",
      "\u001b[1;32m~\\AppData\\Local\\Temp/ipykernel_23744/4062727393.py\u001b[0m in \u001b[0;36m<module>\u001b[1;34m\u001b[0m\n\u001b[0;32m      9\u001b[0m     \u001b[1;32mreturn\u001b[0m \u001b[1;36m1\u001b[0m\u001b[1;33m/\u001b[0m\u001b[1;33m(\u001b[0m\u001b[1;36m1\u001b[0m\u001b[1;33m+\u001b[0m\u001b[0mnp\u001b[0m\u001b[1;33m.\u001b[0m\u001b[0mexp\u001b[0m\u001b[1;33m(\u001b[0m\u001b[0mx\u001b[0m\u001b[1;33m/\u001b[0m\u001b[0mT\u001b[0m\u001b[1;33m)\u001b[0m\u001b[1;33m)\u001b[0m\u001b[1;33m\u001b[0m\u001b[1;33m\u001b[0m\u001b[0m\n\u001b[0;32m     10\u001b[0m \u001b[1;33m\u001b[0m\u001b[0m\n\u001b[1;32m---> 11\u001b[1;33m \u001b[0mx\u001b[0m\u001b[1;33m=\u001b[0m\u001b[0mnp\u001b[0m\u001b[1;33m.\u001b[0m\u001b[0mlinspace\u001b[0m\u001b[1;33m(\u001b[0m\u001b[1;33m-\u001b[0m\u001b[1;36m2\u001b[0m\u001b[1;33m,\u001b[0m\u001b[1;36m2\u001b[0m\u001b[1;33m,\u001b[0m\u001b[1;36m2000\u001b[0m\u001b[1;33m)\u001b[0m\u001b[1;33m\u001b[0m\u001b[1;33m\u001b[0m\u001b[0m\n\u001b[0m\u001b[0;32m     12\u001b[0m \u001b[0my\u001b[0m\u001b[1;33m=\u001b[0m\u001b[1;33m[\u001b[0m\u001b[1;33m]\u001b[0m\u001b[1;33m\u001b[0m\u001b[1;33m\u001b[0m\u001b[0m\n\u001b[0;32m     13\u001b[0m \u001b[1;32mfor\u001b[0m \u001b[0mi\u001b[0m \u001b[1;32min\u001b[0m \u001b[0mx\u001b[0m\u001b[1;33m:\u001b[0m\u001b[1;33m\u001b[0m\u001b[1;33m\u001b[0m\u001b[0m\n",
      "\u001b[1;31mNameError\u001b[0m: name 'np' is not defined"
     ]
    }
   ],
   "source": [
    "def bcs(x,delta):\n",
    "    w=np.sqrt(delta**2-(x)**2)\n",
    "    return np.array([[x/w,delta/w],[delta/w,x/w]])\n",
    "def shiba(x,J,delta):\n",
    "    H=[[J,0],[0,J]]\n",
    "    return bcs(x,delta)+ np.dot(   np.dot(  bcs(x,delta),  np.dot(H,  np.linalg.inv([[1,0],[0,1]]-np.dot(bcs(x,delta),H))  )  )  ,bcs(x,delta))\n",
    "\n",
    "def fermi(x,T):\n",
    "    return 1/(1+np.exp(x/T))\n",
    "\n",
    "x=np.linspace(-2,2,2000)\n",
    "y=[]\n",
    "for i in x:\n",
    "    y.append(np.imag(np.trace(shiba(i+0.01*1j,1.5,1)))+np.imag(np.trace(shiba(i+0.01*1j,-1.5,1))))\n",
    "plt.plot(x,y)"
   ]
  },
  {
   "cell_type": "code",
   "execution_count": 378,
   "metadata": {},
   "outputs": [
    {
     "data": {
      "text/plain": [
       "[<matplotlib.lines.Line2D at 0x2984e3aa9a0>]"
      ]
     },
     "execution_count": 378,
     "metadata": {},
     "output_type": "execute_result"
    }
   ],
   "source": [
    "plt.plot(x,fermi(x,0.1))"
   ]
  },
  {
   "cell_type": "markdown",
   "metadata": {},
   "source": [
    "T dependence"
   ]
  },
  {
   "cell_type": "code",
   "execution_count": null,
   "metadata": {},
   "outputs": [],
   "source": []
  }
 ],
 "metadata": {
  "kernelspec": {
   "display_name": "Python 3",
   "language": "python",
   "name": "python3"
  },
  "language_info": {
   "codemirror_mode": {
    "name": "ipython",
    "version": 3
   },
   "file_extension": ".py",
   "mimetype": "text/x-python",
   "name": "python",
   "nbconvert_exporter": "python",
   "pygments_lexer": "ipython3",
   "version": "3.9.13"
  },
  "orig_nbformat": 4,
  "vscode": {
   "interpreter": {
    "hash": "4486e17520d43d2227db3c8ebc9f7a024bb91fe9e6eda71a4dd0fd9b88482ee6"
   }
  }
 },
 "nbformat": 4,
 "nbformat_minor": 2
}
