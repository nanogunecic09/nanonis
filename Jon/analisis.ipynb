{
 "cells": [
  {
   "cell_type": "code",
<<<<<<< HEAD
   "execution_count": 237,
=======
   "execution_count": 2,
>>>>>>> 2904fb0214ce8fe1cfdca3b4ce2f7ad855042061
   "metadata": {},
   "outputs": [],
   "source": [
    "import sys\n",
    "sys.path.append(\"../\")\n",
    "import nanonis\n",
    "import numpy as np\n",
    "import scipy as sc\n",
    "import pandas as pd\n",
    "import matplotlib.pyplot as plt\n",
    "import xlrd\n",
    "import lmfit\n",
    "from lmfit import Model\n",
    "import matplotlib.colors as colors\n",
    "%matplotlib qt\n",
    "spectra=nanonis.biasSpectroscopy()"
   ]
  },
  {
   "cell_type": "markdown",
   "metadata": {},
   "source": [
    "# Useful functions"
   ]
  },
  {
   "cell_type": "code",
<<<<<<< HEAD
   "execution_count": 238,
=======
   "execution_count": 3,
>>>>>>> 2904fb0214ce8fe1cfdca3b4ce2f7ad855042061
   "metadata": {},
   "outputs": [],
   "source": [
    "def fermi(x,T):\n",
    "    return np.divide(1,1+np.exp(x/T))\n",
    "\n",
    "\n",
    "def BCS(x,delta,eta):\n",
    "    return np.sign(x)*np.imag(np.divide(np.abs(x+1j*eta),np.sqrt(delta**2-(x+1j*eta)**2)))\n",
    "\n",
    "def coulomb(x,Ec,Q0):\n",
    "    return np.heaviside(x-Ec-Q0,0)+np.heaviside(-x-Ec+Q0,0)\n",
    "\n",
    "def conv_dynes(x,delta1,delta2,eta,T,Ec,Q0):\n",
    "    y=np.linspace(-5*(delta1+delta2),5*(delta1+delta2),5000)\n",
    "    a,b=np.meshgrid(y,y)\n",
    "    cou=np.gradient(-np.dot(BCS(a+b,delta1,eta)*fermi(a+b,T),coulomb(y,Ec,Q0))+np.dot(BCS(a+b,delta1,eta),fermi(y,T)*coulomb(y,Ec,Q0)))\n",
    "    a,b=np.meshgrid(y,x)\n",
    "    z=np.gradient(-np.dot(BCS(a+b,delta2,eta)*fermi(a+b,T),cou)+np.dot(BCS(a+b,delta2,eta),cou*fermi(y,T)))\n",
    "    return z/z[0]\n",
    "\n",
    "def temp(x,delta1,delta2,eta,T):\n",
    "    y=np.linspace(-5*(delta1+delta2),5*(delta1+delta2),5000)\n",
    "    a,b=np.meshgrid(y,x)\n",
    "    return -np.dot(BCS(a+b,delta2,eta)*fermi(a+b,T),BCS(y,delta1,eta))+np.dot(BCS(a+b,delta2,eta),BCS(y,delta1,eta)*fermi(y,T))\n",
    "\n",
    "def temp2(V,delta1,delta2,eta,T):\n",
    "    y=np.linspace(-5*(delta1+delta2),5*(delta1+delta2),5000)\n",
    "    return np.sum(-BCS(y+V,delta2,eta)*fermi(y+V,T)*BCS(y,delta1,eta)+BCS(y+V,delta2,eta)*BCS(y,delta1,eta)*fermi(y,T))\n",
    "\n",
    "def gap(x,delta1,Bc1,Ec,a):\n",
    "    d1=(0.0013*np.real(np.sqrt(1-((x+0.0000*1j)/800)**2)))*np.heaviside(-x+800,0)\n",
    "    d2=delta1*np.real(np.sqrt(1-((x+0.0000*1j)/Bc1)**2))*np.heaviside(-x+Bc1,0)\n",
    "    d3=(-a*x)*np.heaviside(x-Bc1,0)\n",
    "    return Ec+d1+d2+d3\n",
    "   \n",
    "def coulomb_T(x,Ec,T):\n",
    "    y=np.linspace(-3*np.min(x),3*np.min(x),2000)\n",
    "    a,b=np.meshgrid(y,x)\n",
    "    return np.gradient(-np.dot(fermi(a+b,T),coulomb(y,Ec,Q0))+fermi(y,T)*coulomb(y,Ec,Q0))\n",
    "\n",
<<<<<<< HEAD
    "def find_nearest(array,value):\n",
    "    idx = (np.abs(array-value)).argmin()\n",
    "    return idx\n",
    "\n",
    "def delta_B(B,Delta_0,Bc):\n",
    "    if B<Bc:\n",
    "        return Delta_0*np.sqrt(1-(B/Bc)**2)\n",
    "    else:\n",
    "        return 0\n"
=======
    "\n"
>>>>>>> 2904fb0214ce8fe1cfdca3b4ce2f7ad855042061
   ]
  },
  {
   "cell_type": "markdown",
   "metadata": {},
   "source": [
    "# File management #"
   ]
  },
  {
   "cell_type": "code",
<<<<<<< HEAD
   "execution_count": 239,
=======
   "execution_count": 3,
>>>>>>> 2904fb0214ce8fe1cfdca3b4ce2f7ad855042061
   "metadata": {},
   "outputs": [],
   "source": [
    "data=pd.read_excel(\"C:/Users/jonor/Documents/GitHub/nanonis/Order.xls\")\n",
    "path='C:/Users/jonor/Desktop/PhD/Lanak/Pb on Gr (analysis)/2023.07.26 - 1st evap/'\n"
   ]
  },
  {
   "cell_type": "code",
<<<<<<< HEAD
   "execution_count": 240,
=======
   "execution_count": 4,
>>>>>>> 2904fb0214ce8fe1cfdca3b4ce2f7ad855042061
   "metadata": {},
   "outputs": [],
   "source": [
    "Bfield_files=data.iloc[:,2]\n",
    "Bfields=data.iloc[:,3]\n",
    "size_dat=data.iloc[:,7]\n",
    "height_dat=data.iloc[:,8]\n",
    "temp=data.iloc[:,6]\n",
    "temp_files=data.iloc[:,5]\n",
    "josephson=data.iloc[:,4]"
   ]
  },
  {
   "cell_type": "markdown",
   "metadata": {},
   "source": [
    "# B Field "
   ]
  },
  {
   "cell_type": "code",
   "execution_count": 26,
   "metadata": {},
   "outputs": [],
   "source": [
    "## All files\n",
    "dat=[1,2,3,4,5,6,7,8,10,11,12,13,14,15,16,17,18,19,21,23,24]\n",
    "BFields=[]\n",
    "BFiles=[]\n",
    "size=[]\n",
    "height=[]\n",
    "for i in dat:\n",
    "    a=[int(j) for j in Bfields[i].split(',')]\n",
    "    b=Bfield_files[i].split(',')    \n",
    "    files=[path+i for i in b]\n",
    "    BFields.append(a)\n",
    "    BFiles.append(files)\n",
    "    size.append(size_dat[i])\n",
    "    height.append(height_dat[i])\n",
    "size=np.array(size)\n",
    "height=np.array(height)"
   ]
  },
  {
   "cell_type": "code",
   "execution_count": 27,
   "metadata": {},
   "outputs": [],
   "source": [
    "i=12\n",
    "a=[int(j) for j in Bfields[i].split(',')]\n",
    "b=Bfield_files[i].split(',')\n",
    "files=[path+i for i in b]\n"
   ]
  },
  {
   "cell_type": "code",
   "execution_count": 28,
   "metadata": {},
   "outputs": [],
   "source": [
    "w_B=[0,1,2,3,4,5,6,7,8,10,11,12,13,14,15,16,17,18,19,21,23,24]\n",
    "Bfiles=[]\n",
    "size=[]\n",
    "B=[]\n",
    "\n",
    "for j in w_B:\n",
    "    a=[int(i) for i in Bfields[j].split(',')]\n",
    "    b=Bfield_files[j].split(',')\n",
    "    files=[path+i for i in b]\n",
    "    B.append(a)\n",
    "    #field0=a.index(0)\n",
    "    #files_B0.append(files[field0])\n",
    "    Bfiles.append(files)\n",
    "    size.append(size_dat[j])\n"
   ]
  },
  {
   "cell_type": "markdown",
   "metadata": {},
   "source": [
    "### Plots"
   ]
  },
  {
   "cell_type": "code",
   "execution_count": 29,
   "metadata": {},
   "outputs": [
    {
     "ename": "TypeError",
     "evalue": "expected str, bytes or os.PathLike object, not Series",
     "output_type": "error",
     "traceback": [
      "\u001b[1;31m---------------------------------------------------------------------------\u001b[0m",
      "\u001b[1;31mTypeError\u001b[0m                                 Traceback (most recent call last)",
      "\u001b[1;32m~\\AppData\\Local\\Temp/ipykernel_14648/2124312162.py\u001b[0m in \u001b[0;36m<module>\u001b[1;34m\u001b[0m\n\u001b[0;32m      1\u001b[0m \u001b[0my\u001b[0m\u001b[1;33m=\u001b[0m\u001b[1;33m[\u001b[0m\u001b[1;33m]\u001b[0m\u001b[1;33m\u001b[0m\u001b[1;33m\u001b[0m\u001b[0m\n\u001b[0;32m      2\u001b[0m \u001b[1;32mfor\u001b[0m \u001b[0mi\u001b[0m \u001b[1;32min\u001b[0m \u001b[0mfiles\u001b[0m\u001b[1;33m:\u001b[0m\u001b[1;33m\u001b[0m\u001b[1;33m\u001b[0m\u001b[0m\n\u001b[1;32m----> 3\u001b[1;33m     \u001b[0mspectra\u001b[0m\u001b[1;33m.\u001b[0m\u001b[0mload\u001b[0m\u001b[1;33m(\u001b[0m\u001b[0mi\u001b[0m\u001b[1;33m)\u001b[0m\u001b[1;33m\u001b[0m\u001b[1;33m\u001b[0m\u001b[0m\n\u001b[0m\u001b[0;32m      4\u001b[0m     \u001b[0my\u001b[0m\u001b[1;33m.\u001b[0m\u001b[0mappend\u001b[0m\u001b[1;33m(\u001b[0m\u001b[0mspectra\u001b[0m\u001b[1;33m.\u001b[0m\u001b[0mconductance\u001b[0m\u001b[1;33m/\u001b[0m\u001b[0mspectra\u001b[0m\u001b[1;33m.\u001b[0m\u001b[0mconductance\u001b[0m\u001b[1;33m[\u001b[0m\u001b[1;36m0\u001b[0m\u001b[1;33m]\u001b[0m\u001b[1;33m)\u001b[0m\u001b[1;33m\u001b[0m\u001b[1;33m\u001b[0m\u001b[0m\n\u001b[0;32m      5\u001b[0m \u001b[0mx\u001b[0m\u001b[1;33m=\u001b[0m\u001b[0mnp\u001b[0m\u001b[1;33m.\u001b[0m\u001b[0marray\u001b[0m\u001b[1;33m(\u001b[0m\u001b[0mspectra\u001b[0m\u001b[1;33m.\u001b[0m\u001b[0mbias\u001b[0m\u001b[1;33m)\u001b[0m\u001b[1;33m\u001b[0m\u001b[1;33m\u001b[0m\u001b[0m\n",
      "\u001b[1;32mc:\\Users\\jonor\\Documents\\GitHub\\nanonis\\Jon\\..\\nanonis.py\u001b[0m in \u001b[0;36mload\u001b[1;34m(self, fname)\u001b[0m\n\u001b[0;32m    315\u001b[0m \u001b[1;33m\u001b[0m\u001b[0m\n\u001b[0;32m    316\u001b[0m     \u001b[1;32mdef\u001b[0m \u001b[0mload\u001b[0m\u001b[1;33m(\u001b[0m\u001b[0mself\u001b[0m\u001b[1;33m,\u001b[0m\u001b[0mfname\u001b[0m\u001b[1;33m)\u001b[0m\u001b[1;33m:\u001b[0m\u001b[1;33m\u001b[0m\u001b[1;33m\u001b[0m\u001b[0m\n\u001b[1;32m--> 317\u001b[1;33m         \u001b[0mself\u001b[0m\u001b[1;33m.\u001b[0m\u001b[0mdata\u001b[0m\u001b[1;33m,\u001b[0m \u001b[0mself\u001b[0m\u001b[1;33m.\u001b[0m\u001b[0mheader\u001b[0m \u001b[1;33m=\u001b[0m \u001b[0mreadDAT\u001b[0m\u001b[1;33m(\u001b[0m\u001b[0mfname\u001b[0m\u001b[1;33m)\u001b[0m\u001b[1;33m\u001b[0m\u001b[1;33m\u001b[0m\u001b[0m\n\u001b[0m\u001b[0;32m    318\u001b[0m         \u001b[0mself\u001b[0m\u001b[1;33m.\u001b[0m\u001b[0mfilename\u001b[0m \u001b[1;33m=\u001b[0m \u001b[0mfname\u001b[0m\u001b[1;33m\u001b[0m\u001b[1;33m\u001b[0m\u001b[0m\n\u001b[0;32m    319\u001b[0m         \u001b[0mdummy\u001b[0m \u001b[1;33m=\u001b[0m \u001b[0mself\u001b[0m\u001b[1;33m.\u001b[0m\u001b[0mfilename\u001b[0m\u001b[1;33m.\u001b[0m\u001b[0msplit\u001b[0m\u001b[1;33m(\u001b[0m\u001b[1;34m\"/\"\u001b[0m\u001b[1;33m)\u001b[0m\u001b[1;33m\u001b[0m\u001b[1;33m\u001b[0m\u001b[0m\n",
      "\u001b[1;32mc:\\Users\\jonor\\Documents\\GitHub\\nanonis\\Jon\\..\\nanonis.py\u001b[0m in \u001b[0;36mreadDAT\u001b[1;34m(filename)\u001b[0m\n\u001b[0;32m     57\u001b[0m \u001b[1;32mdef\u001b[0m \u001b[0mreadDAT\u001b[0m\u001b[1;33m(\u001b[0m\u001b[0mfilename\u001b[0m\u001b[1;33m)\u001b[0m\u001b[1;33m:\u001b[0m\u001b[1;33m\u001b[0m\u001b[1;33m\u001b[0m\u001b[0m\n\u001b[0;32m     58\u001b[0m     \u001b[0mheader\u001b[0m \u001b[1;33m=\u001b[0m \u001b[0mdict\u001b[0m\u001b[1;33m(\u001b[0m\u001b[1;33m)\u001b[0m\u001b[1;33m\u001b[0m\u001b[1;33m\u001b[0m\u001b[0m\n\u001b[1;32m---> 59\u001b[1;33m     \u001b[1;32mwith\u001b[0m \u001b[0mopen\u001b[0m\u001b[1;33m(\u001b[0m\u001b[0mfilename\u001b[0m\u001b[1;33m)\u001b[0m \u001b[1;32mas\u001b[0m \u001b[0mf\u001b[0m\u001b[1;33m:\u001b[0m\u001b[1;33m\u001b[0m\u001b[1;33m\u001b[0m\u001b[0m\n\u001b[0m\u001b[0;32m     60\u001b[0m         \u001b[1;32mfor\u001b[0m \u001b[0mi\u001b[0m\u001b[1;33m,\u001b[0m \u001b[0mline\u001b[0m \u001b[1;32min\u001b[0m \u001b[0menumerate\u001b[0m\u001b[1;33m(\u001b[0m\u001b[0mf\u001b[0m\u001b[1;33m)\u001b[0m\u001b[1;33m:\u001b[0m\u001b[1;33m\u001b[0m\u001b[1;33m\u001b[0m\u001b[0m\n\u001b[0;32m     61\u001b[0m             \u001b[1;32mif\u001b[0m \u001b[1;34m'[DATA]'\u001b[0m \u001b[1;32min\u001b[0m \u001b[0mline\u001b[0m\u001b[1;33m:\u001b[0m\u001b[1;33m\u001b[0m\u001b[1;33m\u001b[0m\u001b[0m\n",
      "\u001b[1;31mTypeError\u001b[0m: expected str, bytes or os.PathLike object, not Series"
     ]
    }
   ],
   "source": [
    "y=[]\n",
    "for i in files:\n",
    "    spectra.load(i)\n",
    "    y.append(spectra.conductance/spectra.conductance[0])\n",
    "x=np.array(spectra.bias)\n",
    "plt.imshow(y,aspect='auto',origin='lower',extent=(1000*x[0],1000*x[-1],a[-1],a[0]))\n",
    "plt.ylabel('B(mT)')\n",
    "plt.xlabel('Bias (meV)')"
   ]
  },
  {
   "cell_type": "markdown",
   "metadata": {},
   "source": [
    "### Some info\n",
    "\n",
    "We look at the B field point after 800 mT to see the effect of B field on the coulomb gap"
   ]
  },
  {
   "cell_type": "code",
   "execution_count": null,
   "metadata": {},
   "outputs": [],
   "source": [
    "def coulomb_T(x,Ec,Q0,T):\n",
    "    return fermi(Ec-x+Q0,T)+fermi(Ec+x-Q0,T)\n",
    "def coulomb(x,Ec,Q0):\n",
    "    T=0.0003\n",
    "    return fermi(Ec-x+Q0,T)+fermi(Ec+x-Q0,T)\n",
    "def coulomb_T2(x,Ec,Q0,T):\n",
    "    return np.sinh(np.abs(x)/T)/(np.cosh(x/T)+np.cosh(Ec/T))\n",
    "\n",
    "h=0\n",
    "Bfield=[800,900,1000,1100,1200,1300,1400,1500,1600,1700,1800,1900,2000,2100,2200,2300,2400,2500]\n",
    "Gap=[]\n",
    "Asym=[]\n",
    "Si=[]\n",
    "for k in Bfield:\n",
    "    Ec=[]\n",
    "    Q0=[]\n",
    "    size2=[]\n",
    "    for i in range(len(Bfiles)):\n",
    "        for j in range(len(Bfiles[i])):\n",
    "            if np.abs(B[i][j]-k)<=0.00001:\n",
    "                size2.append(size[i])\n",
    "                spectra.load(Bfiles[i][j])\n",
    "                x=np.array(spectra.bias)\n",
    "                y=np.array(spectra.conductance)\n",
    "                y=y/y[0]\n",
    "                #values=sc.optimize.curve_fit(coulomb_T,x,y,p0=[0.001,0.00,0.0003])[0]\n",
    "                values=sc.optimize.curve_fit(coulomb,x,y,p0=[0.001,0.00])[0]\n",
    "                #yy=coulomb_T(x,values[0],values[1],values[2])\n",
    "                #yy=coulomb(x,values[0],values[1])\n",
    "                Ec.append(values[0])\n",
    "                Q0.append(values[1])\n",
    "                #ther.append(values[2])\n",
    "                #plt.plot(x,yy+h)\n",
    "                #plt.plot(x,y+h)\n",
    "                #h+=1\n",
    "            else:\n",
    "                continue\n",
    "    Gap.append(Ec)\n",
    "    Asym.append(Q0)\n",
    "    Si.append(size2)"
   ]
  },
  {
   "cell_type": "code",
   "execution_count": null,
   "metadata": {},
   "outputs": [],
   "source": [
    "def coulomb_T(x,Ec,Q0,T):\n",
    "    return fermi(Ec-x+Q0,T)+fermi(Ec+x-Q0,T)\n",
    "def coulomb(x,Ec,Q0):\n",
    "    T=0.0003\n",
    "    return fermi(Ec-x+Q0,T)+fermi(Ec+x-Q0,T)\n",
    "def coulomb_T2(x,Ec,Q0,T):\n",
    "    return np.sinh(np.abs(x)/T)/(np.cosh(x/T)+np.cosh(Ec/T))\n",
    "\n",
    "h=0\n",
    "Bfield=[800,900,1000,1100,1200,1300,1400,1500,1600,1700,1800,1900,2000,2100,2200,2300,2400,2500]\n",
    "Gap=[]\n",
    "Asym=[]\n",
    "Si=[]\n",
    "for k in Bfield:\n",
    "    Ec=[]\n",
    "    Q0=[]\n",
    "    size2=[]\n",
    "    for i in range(len(Bfiles)):\n",
    "        for j in range(len(Bfiles[i])):\n",
    "            if np.abs(B[i][j]-k)<=0.00001:\n",
    "                size2.append(size[i])\n",
    "                spectra.load(Bfiles[i][j])\n",
    "                x=np.array(spectra.bias)\n",
    "                y=np.array(spectra.current)\n",
    "                y=y/y[0]\n",
    "                xx=[]\n",
    "                for p in range(len(y)):\n",
    "                    if np.abs(y[p]/y[0])<0.03:\n",
    "                        xx.append(x[p])\n",
    "                Ec.append(np.array(xx)[0]-np.array(xx)[-1])\n",
    "            else:\n",
    "                continue\n",
    "        \n",
    "    Gap.append(Ec)\n",
    "    Asym.append(Q0)\n",
    "    Si.append(size2)"
   ]
  },
  {
   "cell_type": "code",
   "execution_count": null,
   "metadata": {},
   "outputs": [
    {
     "data": {
      "text/plain": [
       "<matplotlib.collections.PathCollection at 0x1d31263d400>"
      ]
     },
     "execution_count": 412,
     "metadata": {},
     "output_type": "execute_result"
    }
   ],
   "source": [
    "\n",
    "plt.scatter(Si[4],Gap[4])\n"
   ]
  },
  {
   "cell_type": "code",
   "execution_count": null,
   "metadata": {},
   "outputs": [],
   "source": [
    "def coulomb(x,Ec,Q0):\n",
    "    T=0.0003\n",
    "    return fermi(Ec-x+Q0,T)+fermi(Ec+x-Q0,T)\n",
    "\n",
    "\n",
    "emp=[]\n",
    "for i in Bfiles:\n",
    "    en=[]\n",
    "    for j in i:\n",
    "        en.append(0.0)\n",
    "    emp.append(en)\n",
    "Ec=emp\n",
    "Q0=emp\n",
    "for i in range(len(Bfiles)):\n",
    "    for j in range(len(Bfiles[i])):\n",
    "        spectra.load(Bfiles[i][j])\n",
    "        x=np.array(spectra.bias)\n",
    "        y=np.array(spectra.conductance)\n",
    "        y=y/y[0]\n",
    "        values=sc.optimize.curve_fit(coulomb,x,y,p0=[0.001,0.00])[0]\n",
    "        #Ec[i][j]=values[0]\n",
    "        Q0[i][j]=values[1]\n",
    "        Ec[i][j]=values[0]\n",
    "        \n",
    "        \n"
   ]
  },
  {
   "cell_type": "code",
   "execution_count": null,
   "metadata": {},
   "outputs": [],
   "source": [
    "emp=[]\n",
    "for i in Bfiles:\n",
    "    en=[]\n",
    "    for j in i:\n",
    "        en.append(0.0)\n",
    "    emp.append(en)\n",
    "Ec=emp\n",
    "Q0=emp\n",
    "for i in range(len(Bfiles)):\n",
    "    for j in range(len(Bfiles[i])):\n",
    "        spectra.load(Bfiles[i][j])\n",
    "        x=np.array(spectra.bias)\n",
    "        y=np.array(spectra.current)\n",
    "        y=y/y[0]\n",
    "        xx=[]\n",
    "        for p in range(len(y)):\n",
    "            if np.abs(y[p]/y[0])<0.01:\n",
    "                xx.append(x[p])\n",
    "        Ec[i][j]=np.array(xx)[0]-np.array(xx)[-1]        "
   ]
  },
  {
   "cell_type": "code",
   "execution_count": null,
   "metadata": {},
   "outputs": [],
   "source": [
    "i=4\n",
    "plt.plot(xx[i],yy[i])"
   ]
  },
  {
   "cell_type": "code",
   "execution_count": null,
   "metadata": {},
   "outputs": [],
   "source": [
    "xx=[]\n",
    "yy=[]\n",
    "for j in range(22):\n",
    "    x=[]\n",
    "    y=[]\n",
    "    si=size[j]\n",
    "    for i in range(len(B[j])):\n",
    "        if B[j][i]>=1000:\n",
    "            x.append(B[j][i])\n",
    "            y.append(Ec[j][i])\n",
    "        else:\n",
    "            continue\n",
    "    xx.append(x)\n",
    "    yy.append(y)\n",
    "    a,b=np.polyfit(x,y,1)\n",
    "    plt.plot(si,a,'o')"
   ]
  },
  {
   "cell_type": "code",
   "execution_count": null,
   "metadata": {},
   "outputs": [
    {
     "data": {
      "text/plain": [
       "[<matplotlib.lines.Line2D at 0x1d312dbbf40>]"
      ]
     },
     "execution_count": 416,
     "metadata": {},
     "output_type": "execute_result"
    }
   ],
   "source": [
    "\n",
    "plt.plot(xx[4],yy[4])"
   ]
  },
  {
   "cell_type": "code",
   "execution_count": null,
   "metadata": {},
   "outputs": [
    {
     "data": {
      "text/plain": [
       "<matplotlib.collections.PathCollection at 0x2389ce12a00>"
      ]
     },
     "execution_count": 241,
     "metadata": {},
     "output_type": "execute_result"
    }
   ],
   "source": [
    "plt.rcParams[\"axes.prop_cycle\"] = plt.cycler(\"color\", plt.cm.viridis(np.linspace(0,1,10)))\n",
    "#for i in range(18):\n",
    "#    plt.scatter(Si[:][i],1000*np.array(Asym[:][i]))\n",
    "plt.scatter(Si[0],1000*np.array(Asym[0]))\n",
    "plt.scatter(Si[17],1000*np.array(Asym[17]))\n",
    "\n",
    "\n",
    "#plt.scatter(size2,1000*np.array(Q08),c='#ff7f0e',label='T=8K')\n",
    "#plt.xlabel('Island Area ($nm^2$)')\n",
    "#plt.ylabel('$Q_0$ ($meV$)')\n",
    "#plt.legend()"
   ]
  },
  {
   "cell_type": "code",
   "execution_count": null,
   "metadata": {},
   "outputs": [
    {
     "data": {
      "text/plain": [
       "(0.00021199756024640996, 0.00012050366485309387)"
      ]
     },
     "execution_count": 234,
     "metadata": {},
     "output_type": "execute_result"
    }
   ],
   "source": [
    "np.sum(np.abs(0-np.array(Asym[0])))/len(np.array(Asym[0])),np.sum(np.abs(0-np.array(Asym[17])))/len(np.array(Asym[17]))"
   ]
  },
  {
   "cell_type": "markdown",
   "metadata": {},
   "source": [
    "### Some info\n",
    "\n",
    "The simplest way to get the gao is to calculate it from the current. We take the points for which the current is zero.\n",
    "\n"
   ]
  },
  {
   "cell_type": "code",
   "execution_count": null,
   "metadata": {},
   "outputs": [
    {
     "data": {
      "text/plain": [
       "[<matplotlib.lines.Line2D at 0x2388b88af10>]"
      ]
     },
     "execution_count": 61,
     "metadata": {},
     "output_type": "execute_result"
    }
   ],
   "source": [
    "h=0\n",
    "Ec=[]\n",
    "Eg=[]\n",
    "for k in range(len(BFiles)):\n",
    "    cur=[]\n",
    "    for i in BFiles[k]:\n",
    "        spectra.load(i)\n",
    "        cur.append(spectra.current)\n",
    "\n",
    "    t=[]\n",
    "    for j in range(len(BFiles[k])):\n",
    "        y=np.array(cur[j])\n",
    "        x=np.array(spectra.bias)\n",
    "        xx=[]\n",
    "        for i in range(len(y)):\n",
    "            if np.abs(y[i]/y[0])<0.04:\n",
    "                xx.append(x[i])\n",
    "        t.append(xx[0]-xx[-1])\n",
    "    T800=BFields[k].index(800)\n",
    "    T0=BFields[k].index(0)\n",
    "    Ec.append(t[T0])\n",
    "\n",
    "\n",
    "plt.plot(size,Ec,'bo')\n"
   ]
  },
  {
   "cell_type": "markdown",
   "metadata": {},
   "source": [
    "### Solme info\n",
    "\n",
    "The critical field for the tip is around B=800mT, while the critical field for the island should be around B=350mT. Althought the first statement is prety robust, the second is not. \n",
    "\n",
    "The following program fit the spectra with a simple convolution. The free parameters will be the coulomb gap (Ec) the shift (Q0) and the dynes parameter (eta). We will suppose that the gaps decrease following the BCS theory with the critical fields that we wrote in the previous line. This first program is not a realistic fir of the system, we will only use it to get an idea of the volution of the full gap of the measurement, i.e., E+Delta1+Delta2. We will not make assupmtions about any of this parameters from the results of this analysis."
   ]
  },
  {
   "cell_type": "code",
   "execution_count": null,
   "metadata": {},
   "outputs": [],
   "source": [
    "\n",
    "def delta(Delta,B,Bc):\n",
    "    return Delta*np.sqrt(1-(B/Bc)**2)\n",
    "\n",
    "def conv_dynes(x,delta,eta,Ec):\n",
    "    T=delta/10\n",
    "    Q0=-0.00025\n",
    "    y=np.linspace(-10*delta,10*delta,2000)\n",
    "    a,b=np.meshgrid(y,x)\n",
    "    z=np.gradient(-np.dot(BCS(a+b,delta,eta)*fermi(a+b,T),coulomb(y,Ec,Q0))+np.dot(BCS(a+b,delta,eta),fermi(y,T)*coulomb(y,Ec,Q0)))\n",
    "    return z/z[0]\n",
    "\n",
    "\n",
    "cond=[]\n",
    "for i in files:\n",
    "    spectra.load(i)\n",
    "    cond.append(spectra.conductance)\n",
    "\n",
    "gap=[]\n",
    "for j in range(0,10):\n",
    "    y=np.array(cond[j])[110:290]/np.array(cond[j])[110]\n",
    "    x=np.array(spectra.bias)[110:290]\n",
    "    temp=fit(conv_dynes,x,y,p0=[0.0013,0.0001,0.0012])\n",
    "    plt.plot(x,y+0.5*j)\n",
    "    p=temp[0]\n",
    "    z=conv_dynes(x,p[0],p[1],p[2])\n",
    "    plt.plot(x,z+0.5*j)\n",
    "    gap.append(p[0]+p[2])\n",
    "    print(j)"
   ]
  },
  {
   "cell_type": "markdown",
   "metadata": {},
   "source": [
    "# Temperature dependence"
   ]
  },
  {
   "cell_type": "code",
   "execution_count": 148,
   "metadata": {},
   "outputs": [],
   "source": [
    "data=[8,9,10,11,12,13,14,15,16,17,18,19,20,21,22,23,24]\n",
    "T=[]\n",
    "files=[]\n",
    "size=[]\n",
    "height=[]\n",
    "\n",
    "for j in data:\n",
    "    a=temp[j].split(',')\n",
    "    T.append([float(i) for i in a])\n",
    "    b=temp_files[j].split(',')\n",
    "    files.append([path[j]+i for i in b])\n",
    "    size.append(size_dat[j])\n",
    "    height.append(height_dat[j])"
   ]
  },
  {
   "cell_type": "code",
   "execution_count": 150,
   "metadata": {},
   "outputs": [
    {
     "data": {
      "text/plain": [
       "[<matplotlib.lines.Line2D at 0x1f40b419df0>]"
      ]
     },
     "execution_count": 150,
     "metadata": {},
     "output_type": "execute_result"
    }
   ],
   "source": [
    "f=files[0][0]\n",
    "spectra.load(f)\n",
    "\n",
    "x=np.array(spectra.bias)\n",
    "y=np.array(spectra.conductance)\n",
    "y=y/np.sum(y)\n",
    "plt.plot(x,y)\n"
   ]
  },
  {
   "cell_type": "code",
   "execution_count": null,
   "metadata": {},
   "outputs": [
    {
     "data": {
      "text/plain": [
       "<matplotlib.collections.PathCollection at 0x1d2ed59e430>"
      ]
     },
     "execution_count": 149,
     "metadata": {},
     "output_type": "execute_result"
    }
   ],
   "source": [
    "Ec=[]\n",
    "Q0=[]\n",
    "ther=[]\n",
    "h=0\n",
    "temperature=8.0\n",
    "size2=[]\n",
    "for i in range(len(files)):\n",
    "    for j in range(len(files[i])):\n",
    "        if np.abs(T[i][j]-temperature)<=0.00001:\n",
    "            size2.append(size[i])\n",
    "            spectra.load(files[i][j])\n",
    "            x=np.array(spectra.bias)\n",
    "            y=np.array(spectra.conductance)\n",
    "            y=y/y[0]\n",
    "            #values=sc.optimize.curve_fit(coulomb_T,x,y,p0=[0.001,0.00,0.002])[0]\n",
    "            values=sc.optimize.curve_fit(coulomb,x,y,p0=[0.001,0.00])[0]\n",
    "            #yy=coulomb_T(x,values[0],values[1],values[2])\n",
    "            yy=coulomb(x,values[0],values[1])\n",
    "            Ec.append(values[0])\n",
    "            Q0.append(values[1])\n",
    "            #ther.append(values[2])\n",
    "            #plt.plot(x,yy+h)\n",
    "            #plt.plot(x,y+h)\n",
    "            h+=1\n",
    "        else:\n",
    "            continue\n",
    "        \n",
    "\n",
    "\n",
    "plt.scatter(size2,1000*np.array(Ec),c='#ff7f0e',label='T=7K')"
   ]
  },
  {
   "cell_type": "code",
   "execution_count": null,
   "metadata": {},
   "outputs": [
    {
     "data": {
      "text/plain": [
       "0.0019455504685344104"
      ]
     },
     "execution_count": 145,
     "metadata": {},
     "output_type": "execute_result"
    }
   ],
   "source": [
    "np.mean(ther)"
   ]
  },
  {
   "cell_type": "code",
   "execution_count": null,
   "metadata": {},
   "outputs": [],
   "source": [
    "Ec7\n",
    "size7\n",
    "size8\n",
    "Ec8\n",
    "Q08\n",
    "Q07"
   ]
  },
  {
   "cell_type": "code",
   "execution_count": null,
   "metadata": {},
   "outputs": [
    {
     "data": {
      "text/plain": [
       "<matplotlib.legend.Legend at 0x1d2edcb59a0>"
      ]
     },
     "execution_count": 153,
     "metadata": {},
     "output_type": "execute_result"
    }
   ],
   "source": [
    "plt.scatter(size7,1000*np.array(Q07),c='#1f77b4',label='T=7K')\n",
    "x=np.linspace(100,2000,1000)\n",
    "#plt.plot(x,1/(0.001*x))\n",
    "plt.scatter(size8,1000*np.array(Q08),c='#ff7f0e',label='T=8K')\n",
    "plt.xlabel('Island Area ($nm^2$)')\n",
    "plt.ylabel('$E_C$ ($meV$)')\n",
    "plt.legend()\n",
    "#plt.scatter(np.array(size),1000*np.array(Q0),c='#ff7f0e')\n",
    "#plt.scatter(np.array(size),1000*np.array(ther),c='#2ca02c')"
   ]
  },
  {
   "cell_type": "code",
   "execution_count": null,
   "metadata": {},
   "outputs": [
    {
     "data": {
      "text/plain": [
       "0.002530124760784503"
      ]
     },
     "execution_count": 175,
     "metadata": {},
     "output_type": "execute_result"
    }
   ],
   "source": [
    "np.sum(np.array(ther))/len(ther)"
   ]
  },
  {
   "cell_type": "markdown",
   "metadata": {},
   "source": [
    "# Josephson "
   ]
  },
  {
   "cell_type": "code",
<<<<<<< HEAD
   "execution_count": 248,
=======
   "execution_count": 434,
>>>>>>> 2904fb0214ce8fe1cfdca3b4ce2f7ad855042061
   "metadata": {},
   "outputs": [],
   "source": [
    "files=[]\n",
    "a=[1,2,3,4,6,8,11,12,13,14,15,16,18,19,21,22,23,24]\n",
    "for j in a:\n",
<<<<<<< HEAD
    "    Jos_files.append(np.array([path[j]+i for i in josephson[j].split(',')]))\n",
    "    JSize.append(size_dat[j])\n",
    "#JSize, Jos_files = (list(t) for t in zip(*sorted(zip(JSize,Jos_files))))"
   ]
  },
  {
   "cell_type": "code",
   "execution_count": 249,
   "metadata": {},
   "outputs": [],
   "source": [
    "fig, axs = plt.subplots(5,7)\n",
    "h=0\n",
    "j=0\n",
    "for i in range(len(Jos_files)):\n",
    "    spectra.load(Jos_files[i][-1])\n",
    "    x=np.array(spectra.bias)\n",
    "    y=np.array(spectra.current)\n",
    "    #yt=np.sum(y)\n",
    "    #y=y/yt\n",
    "    a1=min(find_nearest(x,-0.0015),find_nearest(x,0.0015))\n",
    "    a2=max(find_nearest(x,-0.0015),find_nearest(x,0.0015))\n",
    "    axs[j,h].plot(1000*x[a1:a2],y[a1:a2]/np.abs(y[a1]),label=JSize[i])\n",
    "    y=np.array(spectra.conductance)\n",
    "    a1=min(find_nearest(x,-0.0015),find_nearest(x,0.0015))\n",
    "    a2=max(find_nearest(x,-0.0015),find_nearest(x,0.0015))\n",
    "    axs[j,h].plot(1000*x[a1:a2],y[a1:a2]/np.abs(y[a1]),label=JSize[i])\n",
    "\n",
    "    #axs[j,h].plot(1000*x,y,label=JSize[i])\n",
    "    #axs[j,h].plot(1000*x,y,label=JSize[i])\n",
    "    h+=1\n",
    "    if h==7:\n",
    "        h=0\n",
    "        j+=1\n"
   ]
  },
  {
   "cell_type": "code",
   "execution_count": 156,
   "metadata": {},
   "outputs": [],
   "source": [
    "ax1 = plt.subplot2grid((2,8), (0,0), colspan=2)\n",
    "ax2 = plt.subplot2grid((2,8), (0,3), colspan=2)\n",
    "ax3 = plt.subplot2grid((2,8), (0,6), colspan=2)\n",
    "ax4 = plt.subplot2grid((2,8), (1,2), colspan=2)\n",
    "ax5 = plt.subplot2grid((2,8), (1,5), colspan=2)\n",
    "ax=[ax1,ax2,ax3,ax4,ax5]\n",
    "h=0\n",
    "for i in  [0,1,3,6,18]:\n",
    "    spectra.load(Jos_files[i][-1])\n",
    "    x=np.array(spectra.bias)\n",
    "    y=np.array(spectra.current)\n",
    "    #x0=float(spectra.header.get('Lock-in>Amplitude'))\n",
    "    #print(x0)\n",
    "    #yt=np.sum(y)\n",
    "    #y=y/yt\n",
    "    #ax[h].plot(1000*x,y/10e-9,label=JSize[i],linewidth=3)\n",
    "    ax[h].set_xlabel('Bias (meV)')\n",
    "    ax[h].set_ylabel('Current (nA)')\n",
    "    a1=min(find_nearest(x,-0.0005),find_nearest(x,0.0005))\n",
    "    a2=max(find_nearest(x,-0.0005),find_nearest(x,0.0005))\n",
    "    x=x[a1:a2]\n",
    "    y=y[a1:a2]\n",
    "    ax[h].plot(x,y/10e-9,label=JSize[i],linewidth=3)\n",
    "    ax[h].vlines(0.0001,np.min(y)/10e-9,np.max(y)/10e-9)\n",
    "    ax[h].vlines(-0.0001,np.min(y)/10e-9,np.max(y)/10e-9)\n",
    "    #ax[h].vlines(0.0,np.min(y)/10e-9,np.max(y)/10e-9)\n",
    "    ax[h].axhline(0.0)\n",
    "    #axs[j,h].plot(1000*x,y,label=JSize[i])\n",
    "    h+=1"
   ]
  },
  {
   "cell_type": "code",
   "execution_count": null,
   "metadata": {},
   "outputs": [
    {
     "data": {
      "text/plain": [
       "[2, 4, 6, 8]"
      ]
     },
     "execution_count": 1735,
     "metadata": {},
     "output_type": "execute_result"
    }
   ],
   "source": [
    "sure=[1,2,4,6,18]\n",
    "meh=[0,8]"
   ]
  },
  {
   "cell_type": "code",
   "execution_count": null,
   "metadata": {},
   "outputs": [
    {
     "data": {
      "text/plain": [
       "<matplotlib.lines.Line2D at 0x2320eeae250>"
      ]
     },
     "execution_count": 1774,
     "metadata": {},
     "output_type": "execute_result"
    }
   ],
   "source": [
    "spectra.load(Jos_files[30][-1])\n",
    "x=np.array(spectra.bias)\n",
    "y=np.array(spectra.current)\n",
    "#x0=float(spectra.header.get('Lock-in>Amplitude'))\n",
    "a1=min(find_nearest(x,-0.0005),find_nearest(x,0.0005))\n",
    "a2=max(find_nearest(x,-0.0005),find_nearest(x,0.0005))\n",
    "y=y[a1:a2]\n",
    "x=x[a1:a2]\n",
    "plt.plot(x,y)\n",
    "#plt.vlines(0,np.min(y),np.max(y))\n",
    "plt.vlines(x0,np.min(y),np.max(y))\n",
    "plt.vlines(-x0,np.min(y),np.max(y))\n",
    "plt.axhline(0.0)\n"
=======
    "    files.append([path+i for i in josephson[j].split(',')])\n",
    "files\n",
    "for i in files[6]:\n",
    "    spectra.load(i)\n",
    "    x=spectra.bias\n",
    "    y=np.array(spectra.conductance)\n",
    "    yt=np.sum(y)\n",
    "    plt.plot(x,y/yt)"
>>>>>>> 2904fb0214ce8fe1cfdca3b4ce2f7ad855042061
   ]
  },
  {
   "cell_type": "code",
<<<<<<< HEAD
   "execution_count": null,
=======
   "execution_count": 436,
>>>>>>> 2904fb0214ce8fe1cfdca3b4ce2f7ad855042061
   "metadata": {},
   "outputs": [
    {
     "data": {
      "text/plain": [
       "<matplotlib.collections.PathCollection at 0x1d310f33400>"
      ]
     },
     "execution_count": 436,
     "metadata": {},
     "output_type": "execute_result"
    }
   ],
   "source": [
    "i=files[6][1]\n",
    "spectra.load(i)\n",
    "x=np.array(spectra.bias)[150:350]\n",
    "y=np.array(spectra.conductance)[150:350]\n",
    "yt=np.sum(y)\n",
    "y=y/yt\n",
    "#a,b,c=np.polyfit(x,y,2)\n",
    "#y=y-a*x**2+b*x+c\n",
    "y=sc.signal.savgol_filter(y,7,1)\n",
    "peak=sc.signal.find_peaks(y,threshold=0.000001,width=3,height=0.001)[0]\n",
    "plt.plot(x,y)\n",
    "plt.scatter(x[peak],y[peak])"
   ]
  },
  {
   "cell_type": "code",
<<<<<<< HEAD
   "execution_count": null,
=======
   "execution_count": 442,
>>>>>>> 2904fb0214ce8fe1cfdca3b4ce2f7ad855042061
   "metadata": {},
   "outputs": [],
   "source": [
    "\n",
    "h=0\n",
    "for j in range(len(files)):\n",
    "    i=files[j][1]\n",
    "    spectra.load(i)\n",
    "    x=spectra.bias\n",
    "    xx=np.array(spectra.bias)[150:len(x)-150]\n",
    "    y=np.array(spectra.conductance)[150:len(x)-150]\n",
    "    yt=np.sum(y)\n",
    "    y=y/yt\n",
    "    y=sc.signal.savgol_filter(y,7,1)\n",
    "    peak=sc.signal.find_peaks(y,threshold=0.000001,width=3,height=0.001)[0]\n",
    "    plt.scatter(xx[peak],y[peak]+0.01*h)\n",
    "    plt.plot(xx,y+0.01*h)\n",
    "    h+=1\n"
   ]
  },
  {
   "cell_type": "code",
<<<<<<< HEAD
   "execution_count": null,
=======
   "execution_count": 463,
>>>>>>> 2904fb0214ce8fe1cfdca3b4ce2f7ad855042061
   "metadata": {},
   "outputs": [
    {
     "data": {
      "text/plain": [
       "<matplotlib.collections.PathCollection at 0x1d320566df0>"
      ]
     },
     "execution_count": 463,
     "metadata": {},
     "output_type": "execute_result"
    }
   ],
   "source": [
    "i=files[7][0]\n",
    "spectra.load(i)\n",
    "x=spectra.bias\n",
    "xx=np.array(spectra.bias)\n",
    "y=np.array(spectra.conductance)\n",
    "yt=np.sum(y)\n",
    "y=y/yt\n",
    "peak=sc.signal.find_peaks(y,threshold=0.000001,width=3,height=0.001)[0]\n",
    "plt.plot(xx,y)\n",
    "plt.scatter(xx[peak],y[peak])\n",
    "\n",
    "\n",
    "i=files[7][2]\n",
    "spectra.load(i)\n",
    "x=spectra.bias\n",
    "xx=np.array(spectra.bias)\n",
    "y=np.array(spectra.conductance)\n",
    "yt=np.sum(y)\n",
    "y=y/yt\n",
    "peak=sc.signal.find_peaks(y,threshold=0.000001,width=3,height=0.003)[0]\n",
    "plt.plot(xx,y)\n",
    "plt.scatter(xx[peak],y[peak])"
   ]
  },
  {
   "cell_type": "markdown",
   "metadata": {},
   "source": [
    "## Good Josephson"
   ]
  },
  {
   "cell_type": "code",
   "execution_count": 68,
   "metadata": {},
   "outputs": [],
   "source": [
    "Good_Jos_files=[]\n",
    "Good_JSize=[]\n",
    "a=[0,1,2,3,4,6,8,11,12,13,14,15,16,21,22,23,24,25,26,27,28,29,32]\n",
    "for j in a:\n",
    "    Good_Jos_files.append(np.array([path[j]+i for i in josephson[j].split(',')]))\n",
    "    Good_JSize.append(size_dat[j])\n",
    "Good_JSize, Good_Jos_files = (list(t) for t in zip(*sorted(zip(Good_JSize,Good_Jos_files))))"
   ]
  },
  {
   "cell_type": "code",
   "execution_count": 70,
   "metadata": {},
   "outputs": [],
   "source": [
    "fig, axs = plt.subplots(4,6)\n",
    "h=0\n",
    "j=0\n",
    "for i in range(len(Good_Jos_files)):\n",
    "    spectra.load(Good_Jos_files[i][-1])\n",
    "    x=np.array(spectra.bias)\n",
    "    y=np.array(spectra.current)\n",
    "    #yt=np.sum(y)\n",
    "    #y=y/yt\n",
    "    a1=min(find_nearest(x,-0.0015),find_nearest(x,0.0015))\n",
    "    a2=max(find_nearest(x,-0.0015),find_nearest(x,0.0015))\n",
    "    axs[j,h].plot(1000*x[a1:a2],y[a1:a2]/np.abs(y[a1]),label=JSize[i])\n",
    "    y=np.array(spectra.conductance)\n",
    "    a1=min(find_nearest(x,-0.0015),find_nearest(x,0.0015))\n",
    "    a2=max(find_nearest(x,-0.0015),find_nearest(x,0.0015))\n",
    "    axs[j,h].plot(1000*x[a1:a2],y[a1:a2]/np.abs(y[a1]),label=JSize[i])\n",
    "\n",
    "    #axs[j,h].plot(1000*x,y,label=JSize[i])\n",
    "    #axs[j,h].plot(1000*x,y,label=JSize[i])\n",
    "    h+=1\n",
    "    if h==6:\n",
    "        h=0\n",
    "        j+=1\n"
   ]
  },
  {
   "cell_type": "code",
   "execution_count": 87,
   "metadata": {},
   "outputs": [],
   "source": [
    "Sym_Jos_files=[]\n",
    "Sym_JSize=[]\n",
    "a=[1,3,4,13,15,16,21,22,25,26,32]\n",
    "for j in a:\n",
    "    Sym_Jos_files.append(np.array([path[j]+i for i in josephson[j].split(',')]))\n",
    "    Sym_JSize.append(size_dat[j])\n",
    "#Sym_JSize, Sym_Jos_files = (list(t) for t in zip(*sorted(zip(Sym_JSize,Sym_Jos_files))))"
   ]
  },
  {
   "cell_type": "code",
   "execution_count": 93,
   "metadata": {},
   "outputs": [],
   "source": [
    "ax1 = plt.subplot2grid((4,6), (0,0), colspan=2)\n",
    "ax2 = plt.subplot2grid((4,6), (0,2), colspan=2)\n",
    "ax3 = plt.subplot2grid((4,6), (0,4), colspan=2)\n",
    "ax4 = plt.subplot2grid((4,6), (1,0), colspan=2)\n",
    "ax5 = plt.subplot2grid((4,6), (1,2), colspan=2)\n",
    "ax6 = plt.subplot2grid((4,6), (1,4), colspan=2)\n",
    "ax7 = plt.subplot2grid((4,6), (2,0), colspan=2)\n",
    "ax8 = plt.subplot2grid((4,6), (2,2), colspan=2)\n",
    "ax9 = plt.subplot2grid((4,6), (2,4), colspan=2)\n",
    "ax10 = plt.subplot2grid((4,6), (3,1), colspan=2)\n",
    "ax11 = plt.subplot2grid((4,6), (3,3), colspan=2)\n",
    "ax=[ax1,ax2,ax3,ax4,ax5,ax6,ax7,ax8,ax9,ax10,ax11]\n",
    "for i in range(len(Sym_Jos_files)):\n",
    "    spectra.load(Sym_Jos_files[i][-1])\n",
    "    x=np.array(spectra.bias)\n",
    "    y=np.array(spectra.current)\n",
    "    #yt=np.sum(y)\n",
    "    #y=y/yt\n",
    "    a1=min(find_nearest(x,-0.002),find_nearest(x,0.002))\n",
    "    a2=max(find_nearest(x,-0.002),find_nearest(x,0.002))\n",
    "    R=int(np.mean(x[len(x)-10:len(x)]/y[len(y)-10:len(y)]))\n",
    "    ax[i].plot(1000*x[a1:a2],y[a1:a2]/np.abs(y[a1]),label=R)\n",
    "    y=np.array(spectra.conductance)\n",
    "    a1=min(find_nearest(x,-0.002),find_nearest(x,0.002))\n",
    "    a2=max(find_nearest(x,-0.002),find_nearest(x,0.002))\n",
    "    ax[i].plot(1000*x[a1:a2],y[a1:a2]/np.abs(y[a1]),label=JSize[i])\n",
    "    ax[i].legend()\n",
    "    \n"
   ]
  },
  {
   "cell_type": "code",
   "execution_count": 98,
   "metadata": {},
   "outputs": [],
   "source": [
    "ax1 = plt.subplot2grid((4,6), (0,0), colspan=2)\n",
    "ax2 = plt.subplot2grid((4,6), (0,2), colspan=2)\n",
    "ax3 = plt.subplot2grid((4,6), (0,4), colspan=2)\n",
    "ax4 = plt.subplot2grid((4,6), (1,0), colspan=2)\n",
    "ax5 = plt.subplot2grid((4,6), (1,2), colspan=2)\n",
    "ax6 = plt.subplot2grid((4,6), (1,4), colspan=2)\n",
    "ax7 = plt.subplot2grid((4,6), (2,0), colspan=2)\n",
    "ax8 = plt.subplot2grid((4,6), (2,2), colspan=2)\n",
    "ax9 = plt.subplot2grid((4,6), (2,4), colspan=2)\n",
    "ax10 = plt.subplot2grid((4,6), (3,1), colspan=2)\n",
    "ax11 = plt.subplot2grid((4,6), (3,3), colspan=2)\n",
    "ax=[ax1,ax2,ax3,ax4,ax5,ax6,ax7,ax8,ax9,ax10,ax11]\n",
    "for i in range(len(Sym_Jos_files)):\n",
    "    spectra.load(Sym_Jos_files[i][0])\n",
    "    x=np.array(spectra.bias)\n",
    "    y=np.array(spectra.current)\n",
    "    #yt=np.sum(y)\n",
    "    #y=y/yt\n",
    "    R=int(np.mean(x[len(x)-20:len(x)]/y[len(y)-20:len(y)]))\n",
    "    ax[i].plot(1000*x,y/np.abs(y[0]),label=R)\n",
    "    y=np.array(spectra.conductance)\n",
    "    a1=min(find_nearest(x,-0.002),find_nearest(x,0.002))\n",
    "    a2=max(find_nearest(x,-0.002),find_nearest(x,0.002))\n",
    "    ax[i].plot(1000*x,y/np.abs(y[0]),label=JSize[i])\n",
    "    ax[i].legend()"
   ]
  },
  {
   "cell_type": "code",
   "execution_count": 143,
   "metadata": {},
   "outputs": [
    {
     "data": {
      "text/plain": [
       "[<matplotlib.lines.Line2D at 0x1f40c3ad910>]"
      ]
     },
     "execution_count": 143,
     "metadata": {},
     "output_type": "execute_result"
    }
   ],
   "source": [
    "spectra.load(Sym_Jos_files[3][0])\n",
    "x=np.array(spectra.bias)\n",
    "y=np.array(spectra.conductance)\n",
    "\n",
    "plt.plot(1000*x,y/np.sum(np.abs(y)))\n",
    "R1=10000\n",
    "R2=1\n",
    "C1=0.01\n",
    "C2=0.9\n",
    "Delta=1.25\n",
    "Q0=0.0\n",
    "T=0.1\n",
    "z=currentD(1000*x,R1,R2,C1,C2,Q0,Delta,T)\n",
    "plt.plot(1000*x,z/np.sum(np.abs(z)))"
   ]
  },
  {
   "cell_type": "markdown",
   "metadata": {},
   "source": [
    "# Islans by island"
   ]
  },
  {
   "cell_type": "code",
<<<<<<< HEAD
   "execution_count": 241,
=======
   "execution_count": 46,
>>>>>>> 2904fb0214ce8fe1cfdca3b4ce2f7ad855042061
   "metadata": {},
   "outputs": [],
   "source": [
    "dat=[ 8, 11, 12, 13, 14, 15, 16, 17, 18, 19, 21, 23, 24]\n",
    "T=[]\n",
    "Tfiles=[]\n",
    "Bfiles=[]\n",
    "Jfiles=[]\n",
    "size=[]\n",
    "height=[]\n",
    "Bfiles=[]\n",
    "B=[]\n",
    "\n",
    "for j in dat:\n",
    "\n",
    "    T.append([float(i) for i in temp[j].split(',')])\n",
    "\n",
    "    Tfiles.append([path[j]+i for i in temp_files[j].split(',')])\n",
    "\n",
    "    size.append(size_dat[j])\n",
    "\n",
    "    height.append(height_dat[j])\n",
    "\n",
    "    B.append([int(i) for i in Bfields[j].split(',')])\n",
    "\n",
    "    Bfiles.append([path[j]+i for i in Bfield_files[j].split(',')])\n",
    "\n",
    "    Jfiles.append([path[j]+i for i in josephson[j].split(',')])\n",
    "\n",
    "\n"
   ]
  },
  {
   "cell_type": "markdown",
   "metadata": {},
   "source": [
    "### T dependence"
   ]
  },
  {
   "cell_type": "code",
   "execution_count": 242,
   "metadata": {},
   "outputs": [],
   "source": [
    "i=12\n",
    "h=0\n",
    "for j in range(len(Tfiles[i])):\n",
    "    spectra.load(Tfiles[i][j])\n",
    "    x=np.array(spectra.bias)\n",
    "    y=np.array(spectra.conductance)\n",
    "    y=y/y[0]\n",
    "    plt.plot(1000*x,y+1.4-0.2*h,linewidth=2,label=T[i][j])\n",
    "    plt.xlim(-10,10)\n",
    "    plt.xlabel('Bias (meV)')\n",
    "    plt.ylabel('DoS (a.u.)')\n",
    "    plt.legend(loc=1)\n",
    "    h+=1"
   ]
  },
  {
   "cell_type": "markdown",
   "metadata": {},
   "source": [
    "### B dependence"
   ]
  },
  {
   "cell_type": "code",
<<<<<<< HEAD
   "execution_count": 377,
   "metadata": {},
   "outputs": [
    {
     "data": {
      "text/plain": [
       "Text(0.5, 1.0, 'B=0T to 2500T')"
      ]
     },
     "execution_count": 377,
     "metadata": {},
     "output_type": "execute_result"
    }
   ],
   "source": [
    "i=12\n",
    "h=0\n",
    "for j in range(len(Bfiles[i])):\n",
    "    spectra.load(Bfiles[i][j])\n",
    "    x=np.array(spectra.bias)\n",
    "    y=np.array(spectra.conductance)\n",
    "    y=y/y[0]\n",
    "    plt.plot(1000*x,y+0.2*h,linewidth=2)\n",
    "    plt.xlim(-10,10)\n",
    "    plt.xlabel('Bias (meV)')\n",
    "    plt.ylabel('DoS (a.u.)')\n",
    "    h+=1\n",
    "plt.title('B='+str(B[i][0])+'T to '+str(B[i][-1])+ 'T')"
   ]
  },
  {
   "cell_type": "code",
   "execution_count": null,
   "metadata": {},
   "outputs": [],
   "source": [
    "\n",
    "y=[]\n",
    "\n",
    "for i in Bfiles[1]:\n",
    "    spectra.load(i)\n",
    "    y.append(spectra.conductance/spectra.conductance[0])\n",
    "x=np.array(spectra.bias)\n",
    "plt.imshow(y,aspect='auto',origin='lower',extent=(1000*x[0],1000*x[-1],a[-1],a[0]))\n",
    "plt.ylabel('B(mT)')\n",
    "plt.xlabel('Bias (meV)')"
   ]
  },
  {
   "cell_type": "markdown",
   "metadata": {},
   "source": [
    "### B dependence Fit\n",
    "\n",
    "We first take spectra for B>800mT and fit it with the model for a metal"
   ]
  },
  {
   "cell_type": "code",
   "execution_count": 273,
   "metadata": {},
   "outputs": [],
   "source": [
    "i=1\n",
    "h=0\n",
    "C1=[]\n",
    "C2=[]\n",
    "Q0=[]\n",
    "ther=[]\n",
    "B800=B[i].index(800)\n",
    "for j in Bfiles[i][B800:-1]:\n",
    "    spectra.load(j)\n",
    "    x=np.array(spectra.bias)\n",
    "    y=np.array(spectra.conductance)\n",
    "    y=y/np.sum(np.abs(y))\n",
    "    plt.plot(1000*x,y+0.002*h,linewidth=2)\n",
    "    par=sc.optimize.curve_fit(lambda xx, C1,Q0,T,C2: current(xx, 1,10000, C1,C2,Q0,T), 1000*x, y,p0=[0.9,0.0,0.1,0.001],bounds=([0.1,-0.45,0.1,0.0005],[1.0,0.45,0.3,0.001]))[0]\n",
    "    a=current(1000*x,1,10000,par[0],par[3],par[1],par[2])\n",
    "    plt.plot(1000*x,a+0.002*h)\n",
    "    h+=1\n",
    "    C1.append(par[0])\n",
    "    Q0.append(par[1])\n",
    "    ther.append(par[2])\n",
    "    C2.append(par[3])\n",
    "    plt.xlim(-10,10)\n",
    "    plt.xlabel('Bias (meV)')\n",
    "    plt.ylabel('DoS (a.u.)')\n",
    "    h+=1\n"
   ]
  },
  {
   "cell_type": "code",
   "execution_count": 279,
=======
   "execution_count": null,
>>>>>>> 2904fb0214ce8fe1cfdca3b4ce2f7ad855042061
   "metadata": {},
   "outputs": [
    {
     "data": {
      "text/plain": [
       "[<matplotlib.lines.Line2D at 0x220781b08b0>]"
      ]
     },
     "execution_count": 279,
     "metadata": {},
     "output_type": "execute_result"
    }
   ],
   "source": [
    "plt.plot(ther)\n",
    "plt.plot(Q0)\n",
    "plt.plot(1/(2*np.array(C1)))"
   ]
  },
  {
   "cell_type": "code",
   "execution_count": null,
   "metadata": {},
   "outputs": [],
   "source": [
    "i=4\n",
    "h=1\n",
    "C1=[]\n",
    "C2=[]\n",
    "Q0=[]\n",
    "ther=[]\n",
    "\n",
    "spectra.load(Bfiles[i][0])\n",
    "x=np.array(spectra.bias)\n",
    "y=np.array(spectra.conductance)\n",
    "y=y/np.sum(np.abs(y))\n",
    "plt.plot(1000*x,y+0.002*h,linewidth=2)\n",
    "par=sc.optimize.curve_fit(lambda xx, C2,Q0,Delta_s,T: currentD(xx, 10000,1, 0.01,C2,Q0,Delta_s,1.25,T,0.1), 1000*x, y,p0=[0.6,0.0,0.5,0.1],bounds=([0.1,-0.5,0.0,0.1],[1.0,0.5,1.25,0.3]))[0]\n",
    "a=currentD(1000*x,1,10000,0.01,par[0],par[1],par[2],par[3],0.1)\n",
    "plt.plot(1000*x,a+0.002*h)\n",
    "\n",
    "\n"
   ]
  },
  {
   "cell_type": "code",
   "execution_count": 576,
   "metadata": {},
   "outputs": [
    {
     "data": {
      "text/plain": [
       "<matplotlib.legend.Legend at 0x1f4832f77f0>"
      ]
     },
     "execution_count": 576,
     "metadata": {},
     "output_type": "execute_result"
    }
   ],
   "source": [
    "ax1 = plt.subplot2grid((2,5), (0,0), colspan=2)\n",
    "ax2 = plt.subplot2grid((2,5), (0,3), colspan=2)\n",
    "ax3 = plt.subplot2grid((2,5), (1,0), colspan=2)\n",
    "ax4 = plt.subplot2grid((2,5), (1,3), colspan=2)\n",
    "ax1.plot(B[i][B800:-1],C1,label='$C_1$')\n",
    "ax1.legend()\n",
    "ax2.plot(B[i][B800:-1],C2,label='$C_2$')\n",
    "ax2.legend()\n",
    "ax3.plot(B[i][B800:-1],ther,label='$T$')\n",
    "ax3.legend()\n",
    "ax4.plot(B[i][B800:-1],Q0,label='$Q_0$')\n",
    "ax4.legend()"
   ]
  },
  {
   "cell_type": "code",
   "execution_count": 436,
   "metadata": {},
   "outputs": [
    {
     "data": {
      "text/plain": [
       "[<matplotlib.lines.Line2D at 0x1f444bb7670>]"
      ]
     },
     "execution_count": 436,
     "metadata": {},
     "output_type": "execute_result"
    }
   ],
   "source": [
    "spectra.load(Bfiles[i][0])\n",
    "x=np.array(spectra.bias)\n",
    "y=np.array(spectra.conductance)\n",
    "y=y/np.sum(np.abs(y))\n",
    "plt.plot(1000*x,y)\n",
    "z=currentD(1000*x, 100,1, 0.01,0.4,0.15,0.25,0.15)\n",
    "z=z/np.sum(np.abs(z))\n",
    "plt.plot(1000*x,z)"
   ]
  },
  {
   "cell_type": "code",
   "execution_count": 412,
   "metadata": {},
   "outputs": [
    {
     "data": {
      "text/plain": [
       "[<matplotlib.lines.Line2D at 0x1f446418ca0>]"
      ]
     },
     "execution_count": 412,
     "metadata": {},
     "output_type": "execute_result"
    }
   ],
   "source": [
    "plt.plot(B[i][B800:-1],Q0)\n"
   ]
  },
  {
   "cell_type": "markdown",
   "metadata": {},
   "source": [
    "### Other stuff"
   ]
  },
  {
   "cell_type": "code",
   "execution_count": 246,
   "metadata": {},
   "outputs": [],
   "source": [
    "C1=[]\n",
    "Q0=[]\n",
    "ther=[]\n",
    "h=0\n",
<<<<<<< HEAD
    "for i in range(len(dat)):\n",
    "    spectra.load(Tfiles[i][T[i].index(1.3)])\n",
    "    x=np.array(spectra.bias)\n",
    "    y=np.array(spectra.conductance)\n",
    "    y=y/np.sum(y)\n",
    "    plt.plot(1000*x,y+0.005*h)\n",
    "    par=sc.optimize.curve_fit(lambda xx, C1,Q0,T,C2: current(xx, 1,10000, C1,C2,Q0,T), 1000*x, y,p0=[0.9,0.0,1,0.001],bounds=([0.1,-0.45,0.64,0.0005],[1.0,0.45,1.5,0.001]))[0]\n",
    "    a=current(1000*x,1,10000,par[0],par[3],par[1],par[2])\n",
    "    plt.plot(1000*x,a+0.005*h)\n",
    "    h+=1\n",
    "    C1.append(par[0])\n",
    "    Q0.append(par[1])\n",
    "    ther.append(par[2])\n",
    "    C2.append(par[3])\n"
   ]
  },
  {
   "cell_type": "code",
   "execution_count": 292,
   "metadata": {},
   "outputs": [],
   "source": [
    "C1=[]\n",
    "Q0=[]\n",
    "C2=[]\n",
    "h=0\n",
    "for i in range(len(dat)):\n",
    "    spectra.load(Tfiles[i][T[i].index(8.0)])\n",
    "    x=np.array(spectra.bias)\n",
    "    y=np.array(spectra.conductance)\n",
    "    y=y/np.sum(y)\n",
    "    plt.plot(1000*x,y+0.005*h)\n",
    "    par=sc.optimize.curve_fit(lambda xx, C1,Q0,C2: current(xx, 1,10000, C1,C2,Q0,1.3), 1000*x, y,p0=[0.9,0.0,0.001],bounds=([0.1,-0.5,0.0005],[1.0,0.5,0.001]))[0]\n",
    "    a=current(1000*x,1,10000,par[0],par[2],par[1],1.3)\n",
    "    plt.plot(1000*x,a+0.005*h)\n",
    "    h+=1\n",
    "    C1.append(par[0])\n",
    "    Q0.append(par[1])\n",
    "    C2.append(par[2])"
=======
    "for i in range(8,len(dat)):\n",
    "    print(i)\n",
    "    spectra.load(Tfiles[i][T[i].index(8.0)])\n",
    "    x=np.array(spectra.bias)\n",
    "    y=np.array(spectra.conductance)\n",
    "    y=len(y)*y/np.sum(y)\n",
    "    plt.plot(1000*x,y+h)\n",
    "    par=sc.optimize.curve_fit(lambda xx, C1,Q0,T: current(xx, 1,10000, C1,0.01,Q0,T), 1000*x, y,p0=[0.9,0.0,1],bounds=([0.1,-0.5,0.64],[1.0,0.5,1.5]))[0]\n",
    "    a=current(1000*x,1,10000,par[0],0.01,par[1],par[2])\n",
    "    plt.plot(1000*x,a+h)\n",
    "    h+=1\n",
    "    C1.append(par[0])\n",
    "    Q0.append(par[1])\n",
    "    ther.append(par[2])\n"
>>>>>>> 2904fb0214ce8fe1cfdca3b4ce2f7ad855042061
   ]
  },
  {
   "cell_type": "code",
<<<<<<< HEAD
   "execution_count": 247,
=======
   "execution_count": 59,
>>>>>>> 2904fb0214ce8fe1cfdca3b4ce2f7ad855042061
   "metadata": {},
   "outputs": [
    {
     "data": {
      "text/plain": [
<<<<<<< HEAD
       "[<matplotlib.lines.Line2D at 0x22080378fd0>]"
      ]
     },
     "execution_count": 247,
=======
       "[<matplotlib.lines.Line2D at 0x2312718b9d0>]"
      ]
     },
     "execution_count": 59,
>>>>>>> 2904fb0214ce8fe1cfdca3b4ce2f7ad855042061
     "metadata": {},
     "output_type": "execute_result"
    }
   ],
   "source": [
<<<<<<< HEAD
    "spectra.load(Tfiles[0][T[0].index(1.3)])\n",
    "x=np.array(spectra.bias)\n",
    "y=np.array(spectra.conductance)\n",
    "y=y/np.sum(y)\n",
    "plt.plot(1000*x,y)"
   ]
  },
  {
   "cell_type": "code",
   "execution_count": null,
   "metadata": {},
   "outputs": [],
   "source": [
    "ther=[]\n",
    "Delta_island=[]\n",
    "Q0=[]\n",
    "h=0\n",
    "for i in range(len(dat)):\n",
    "    print(i)\n",
    "    spectra.load(Tfiles[i][T[i].index(1.3)])\n",
    "    x=np.array(spectra.bias)\n",
    "    y=np.array(spectra.conductance)\n",
    "    y=y/np.sum(y)\n",
    "    plt.plot(1000*x,y+0.005*h)\n",
    "    par=sc.optimize.curve_fit(lambda xx, Q0,T,Delta: currentD(xx, 1,10000, C1[i],C2[i],Q0,Delta,T), 1000*x, y,p0=[0.9,0.0,1.0],bounds=([0.1,-0.45,0.01],[1.0,0.45,1.3]))[0]\n",
    "    a=currentD(1000*x,1,10000, C1[i],C2[i],par[0],par[2],par[1])\n",
    "    plt.plot(1000*x,a+0.005*h)\n",
    "    h+=1\n",
    "    Q0.append(par[0])\n",
    "    Delta_island.append(par[2])\n",
    "    ther.append(par[1])\n"
=======
    "i=1\n",
    "spectra.load(Tfiles[i][T[i].index(8.0)])\n",
    "x=np.array(spectra.bias)\n",
    "y=np.array(spectra.conductance)\n",
    "y=len(y)*y/np.sum(y)\n",
    "plt.plot(1000*x,y+h)\n",
    "#par=sc.optimize.curve_fit(lambda xx, C1,Q0,T: current(xx, 1,10000, C1,0.01,Q0,T), 1000*x, y,p0=[0.9,0.0,1],bounds=([0.1,-0.5,0.64],[1.0,0.5,1.5]))[0]\n",
    "q0=-0.2\n",
    "C1=0.8\n",
    "tem=0.64\n",
    "C2=0.03\n",
    "plt.plot(1000*x,current(1000*x, 1,10000, C1,C2,q0,tem))\n",
    "plt.plot(1000*x,current2(1000*x, 1,10000, C1,C2,q0,tem))"
>>>>>>> 2904fb0214ce8fe1cfdca3b4ce2f7ad855042061
   ]
  },
  {
   "cell_type": "code",
<<<<<<< HEAD
   "execution_count": 378,
=======
   "execution_count": 33,
>>>>>>> 2904fb0214ce8fe1cfdca3b4ce2f7ad855042061
   "metadata": {},
   "outputs": [
    {
     "data": {
      "text/plain": [
       "[<matplotlib.lines.Line2D at 0x23123820cd0>]"
      ]
     },
<<<<<<< HEAD
     "execution_count": 378,
=======
     "execution_count": 33,
>>>>>>> 2904fb0214ce8fe1cfdca3b4ce2f7ad855042061
     "metadata": {},
     "output_type": "execute_result"
    }
   ],
   "source": [
    "plt.plot(np.array(Q0)/8e-2)"
   ]
  },
  {
   "cell_type": "code",
<<<<<<< HEAD
   "execution_count": 251,
=======
   "execution_count": 55,
>>>>>>> 2904fb0214ce8fe1cfdca3b4ce2f7ad855042061
   "metadata": {},
   "outputs": [],
   "source": [
    "def fermi(T,x):\n",
    "    return np.divide(1,1+np.exp(x/T))\n",
    "\n",
    "def E1(C1,C2,V,n,Q0):\n",
    "    k=C2/(C1+C2)\n",
    "    return k*V+(n+Q0-1/2)/(C1+C2)\n",
    "\n",
    "def E2(C1,C2,V,n,Q0):\n",
    "    k=C1/(C1+C2)\n",
    "    return k*V+(n+Q0-1/2)/(C1+C2)\n",
    "\n",
    "def Gamma1(V,R1,C1,C2,n,Q0,T):\n",
    "    x=np.linspace(-20,20,3000)\n",
    "    k=C2/(C1+C2)\n",
    "    Ec=(1)/(2*(C1+C2))\n",
    "    a,b=np.meshgrid(x,-k**2*Ec+E1(C1,C2,V,n,Q0))\n",
    "    t=a+b\n",
    "    return np.dot((1-fermi(T,t)),fermi(T,x) )/R1\n",
    "\n",
    "def Gamma2(V,R2,C1,C2,n,Q0,T):\n",
    "    x=np.linspace(-20,20,3000)\n",
    "    k=C1/(C1+C2)\n",
    "    Ec=(1)/(2*(C1+C2))\n",
    "    a,b=np.meshgrid(x,-k**2*Ec+E2(C1,C2,V,-n,-Q0))\n",
    "    t=a+b\n",
    "    return np.dot(1-fermi(T,t),fermi(T,x))/R2\n",
    "\n",
    "\n",
    "def PN(V,R1,R2,C1,C2,Q0,T,n):\n",
    "    mn=(Gamma1(V,R1,C1,C2,-n,Q0,T)+Gamma2(-V,R2,C1,C2,n,-Q0,T))/(Gamma1(-V,R1,C1,C2,n+1,-Q0,T)+Gamma2(V,R2,C1,C2,-n-1,Q0,T))\n",
    "    en=(Gamma1(-V,R1,C1,C2,-n,-Q0,T)+Gamma2(V,R2,C1,C2,n,Q0,T))/(Gamma1(V,R1,C1,C2,n+1,Q0,T)+Gamma2(-V,R2,C1,C2,-n-1,-Q0,T))\n",
    "    return en,mn\n",
    "\n",
    "def check_p(V,R1,R2,C1,C2,Q0,T):\n",
    "    Vmax=V\n",
    "    n=[0]\n",
    "    while True:\n",
    "        a=[]\n",
    "        b=[]\n",
    "        for i in n:\n",
    "            an,bn=PN(Vmax,R1,R2,C1,C2,Q0,T,i)\n",
    "            a.append(an[0])\n",
    "            b.append(bn[0])\n",
    "        p0=1\n",
    "        for i in range(len(a)):\n",
    "            temp=np.zeros(len(a))\n",
    "            temp[0:i+1]=1\n",
    "            temp=temp.tolist()\n",
    "            p0+=np.prod(a,where=temp)+np.prod(b,where=temp)\n",
    "        p0=1/p0\n",
    "        pn=p0*np.prod(a)\n",
    "        p_n=p0*np.prod(b)\n",
    "        #print(pn,p_n)\n",
    "        n.append(n[-1]+1)\n",
    "        if np.sum(pn)<0.0001 and np.sum(p_n)<0.0001:\n",
    "            #print(len(a))\n",
    "            break \n",
    "    return n[-1]\n",
    "\n",
    "def all_p(V,R1,R2,C1,C2,Q0,T,n):\n",
    "    a=[]\n",
    "    b=[]\n",
    "    for i in range(n):\n",
    "        an,bn=PN(V,R1,R2,C1,C2,Q0,T,i)\n",
    "        a.append(an)\n",
    "        b.append(bn)\n",
    "    p0=1\n",
    "    pn=[]\n",
    "    p_n=[]\n",
    "    for i in range(n):\n",
    "        temp=np.zeros(n)\n",
    "        temp[0:i+1]=1\n",
    "        temp=temp.tolist()\n",
    "        temp1=np.full(len(V),1.0)\n",
    "        temp2=np.full(len(V),1.0)\n",
    "        for j in range(n):\n",
    "            if temp[j]<=0.1:\n",
    "                pass\n",
    "            else:\n",
    "                temp1*=a[j]       \n",
    "                temp2*=b[j]\n",
    "        p0+=temp1+temp2\n",
    "        pn.append(temp1)\n",
    "        p_n.append(temp2)\n",
    "    p0=1/p0\n",
    "    pn=p0*np.array(pn)\n",
    "    p_n=p0*np.array(p_n)\n",
    "    return p0,pn,p_n\n",
    "\n",
    "def G1n(V,R1,C1,C2,Q0,T,n):\n",
    "    return Gamma1(V,R1,C1,C2,n,Q0,T)-Gamma1(-V,R1,C1,C2,-n,-Q0,T)\n",
    "\n",
    "def G2n(V,R2,C1,C2,Q0,T,n):\n",
    "    return Gamma2(V,R2,C1,C2,n,Q0,T)-Gamma2(-V,R2,C1,C2,-n,-Q0,T)\n",
    "\n",
    "def current(V,R1,R2,C1,C2,Q0,T):\n",
    "    n=check_p(V,R1,R2,C1,C2,Q0,T)\n",
    "    p0,pn,p_n=all_p(V,R1,R2,C1,C2,Q0,T,n)\n",
    "    I=p0*G1n(V,R1,C1,C2,Q0,T,0)\n",
    "    for i in range(1,n+1):\n",
    "        I+=pn[i-1]*G1n(V,R1,C1,C2,Q0,T,i)\n",
    "        I+=p_n[i-1]*G1n(V,R1,C1,C2,Q0,T,-i)\n",
    "    t=np.gradient(I)\n",
    "    return len(t)*t/np.sum(t)\n",
    "\n",
    "\n",
    "def current2(V,R1,R2,C1,C2,Q0,T):\n",
    "    n=check_p(V,R1,R2,C1,C2,Q0,T)\n",
    "    p0,pn,p_n=all_p(V,R1,R2,C1,C2,Q0,T,n)\n",
    "    I=p0*G2n(V,R2,C1,C2,Q0,T,0)\n",
    "    for i in range(1,n+1):\n",
    "        I+=pn[i-1]*G2n(V,R2,C1,C2,Q0,T,i)\n",
    "        I+=p_n[i-1]*G2n(V,R2,C1,C2,Q0,T,-i)\n",
    "    t=np.gradient(I)\n",
    "    return len(t)*t/np.sum(t)\n"
   ]
  },
  {
   "cell_type": "code",
   "execution_count": 295,
   "metadata": {},
   "outputs": [
    {
     "data": {
      "text/plain": [
       "[<matplotlib.lines.Line2D at 0x178ae43f820>]"
      ]
     },
     "execution_count": 295,
     "metadata": {},
     "output_type": "execute_result"
    }
   ],
   "source": [
    "q0=0.3\n",
    "plt.plot(1000*x,current(1000*x,1,10000,0.3,0.04,q0,1))\n",
    "plt.plot(1000*x,current2(1000*x,1,10000,0.3,0.04,q0,1))"
   ]
  },
  {
   "cell_type": "code",
<<<<<<< HEAD
   "execution_count": null,
=======
   "execution_count": 65,
>>>>>>> 2904fb0214ce8fe1cfdca3b4ce2f7ad855042061
   "metadata": {},
   "outputs": [
    {
     "name": "stdout",
     "output_type": "stream",
     "text": [
      "-0.5\n"
     ]
    },
    {
     "name": "stderr",
     "output_type": "stream",
     "text": [
      "C:\\Users\\jonor\\AppData\\Local\\Temp/ipykernel_36796/2313028267.py:2: RuntimeWarning: overflow encountered in exp\n",
      "  return np.divide(1,1+np.exp(x/T))\n",
      "C:\\Users\\jonor\\AppData\\Local\\Temp/ipykernel_36796/2313028267.py:2: RuntimeWarning: overflow encountered in exp\n",
      "  return np.divide(1,1+np.exp(x/T))\n"
     ]
    },
    {
     "name": "stdout",
     "output_type": "stream",
     "text": [
      "-0.3888888888888889\n"
     ]
    },
    {
     "name": "stderr",
     "output_type": "stream",
     "text": [
      "C:\\Users\\jonor\\AppData\\Local\\Temp/ipykernel_36796/2313028267.py:2: RuntimeWarning: overflow encountered in exp\n",
      "  return np.divide(1,1+np.exp(x/T))\n",
      "C:\\Users\\jonor\\AppData\\Local\\Temp/ipykernel_36796/2313028267.py:2: RuntimeWarning: overflow encountered in exp\n",
      "  return np.divide(1,1+np.exp(x/T))\n"
     ]
    },
    {
     "name": "stdout",
     "output_type": "stream",
     "text": [
      "-0.2777777777777778\n"
     ]
    },
    {
     "name": "stderr",
     "output_type": "stream",
     "text": [
      "C:\\Users\\jonor\\AppData\\Local\\Temp/ipykernel_36796/2313028267.py:2: RuntimeWarning: overflow encountered in exp\n",
      "  return np.divide(1,1+np.exp(x/T))\n"
     ]
    },
    {
     "ename": "KeyboardInterrupt",
     "evalue": "",
     "output_type": "error",
     "traceback": [
      "\u001b[1;31m---------------------------------------------------------------------------\u001b[0m",
      "\u001b[1;31mKeyboardInterrupt\u001b[0m                         Traceback (most recent call last)",
      "\u001b[1;32m~\\AppData\\Local\\Temp/ipykernel_36796/2671970492.py\u001b[0m in \u001b[0;36m<module>\u001b[1;34m\u001b[0m\n\u001b[0;32m      6\u001b[0m \u001b[1;32mfor\u001b[0m \u001b[0mi\u001b[0m \u001b[1;32min\u001b[0m \u001b[0mq0\u001b[0m\u001b[1;33m:\u001b[0m\u001b[1;33m\u001b[0m\u001b[1;33m\u001b[0m\u001b[0m\n\u001b[0;32m      7\u001b[0m     \u001b[0mprint\u001b[0m\u001b[1;33m(\u001b[0m\u001b[0mi\u001b[0m\u001b[1;33m)\u001b[0m\u001b[1;33m\u001b[0m\u001b[1;33m\u001b[0m\u001b[0m\n\u001b[1;32m----> 8\u001b[1;33m     \u001b[0mplt\u001b[0m\u001b[1;33m.\u001b[0m\u001b[0mplot\u001b[0m\u001b[1;33m(\u001b[0m\u001b[1;36m1000\u001b[0m\u001b[1;33m*\u001b[0m\u001b[0mx\u001b[0m\u001b[1;33m,\u001b[0m\u001b[0mcurrent\u001b[0m\u001b[1;33m(\u001b[0m\u001b[1;36m1000\u001b[0m\u001b[1;33m*\u001b[0m\u001b[0mx\u001b[0m\u001b[1;33m,\u001b[0m \u001b[1;36m1\u001b[0m\u001b[1;33m,\u001b[0m\u001b[1;36m10000\u001b[0m\u001b[1;33m,\u001b[0m \u001b[0mC1\u001b[0m\u001b[1;33m,\u001b[0m\u001b[0mC2\u001b[0m\u001b[1;33m,\u001b[0m\u001b[0mi\u001b[0m\u001b[1;33m,\u001b[0m\u001b[0mtem\u001b[0m\u001b[1;33m)\u001b[0m\u001b[1;33m+\u001b[0m\u001b[0mh\u001b[0m\u001b[1;33m)\u001b[0m\u001b[1;33m\u001b[0m\u001b[1;33m\u001b[0m\u001b[0m\n\u001b[0m\u001b[0;32m      9\u001b[0m     \u001b[0mplt\u001b[0m\u001b[1;33m.\u001b[0m\u001b[0mplot\u001b[0m\u001b[1;33m(\u001b[0m\u001b[1;36m1000\u001b[0m\u001b[1;33m*\u001b[0m\u001b[0mx\u001b[0m\u001b[1;33m,\u001b[0m\u001b[0mcurrent2\u001b[0m\u001b[1;33m(\u001b[0m\u001b[1;36m1000\u001b[0m\u001b[1;33m*\u001b[0m\u001b[0mx\u001b[0m\u001b[1;33m,\u001b[0m \u001b[1;36m1\u001b[0m\u001b[1;33m,\u001b[0m\u001b[1;36m10000\u001b[0m\u001b[1;33m,\u001b[0m \u001b[0mC1\u001b[0m\u001b[1;33m,\u001b[0m\u001b[0mC2\u001b[0m\u001b[1;33m,\u001b[0m\u001b[0mi\u001b[0m\u001b[1;33m,\u001b[0m\u001b[0mtem\u001b[0m\u001b[1;33m)\u001b[0m\u001b[1;33m+\u001b[0m\u001b[0mh\u001b[0m\u001b[1;33m)\u001b[0m\u001b[1;33m\u001b[0m\u001b[1;33m\u001b[0m\u001b[0m\n\u001b[0;32m     10\u001b[0m     \u001b[0mh\u001b[0m\u001b[1;33m+=\u001b[0m\u001b[1;36m1\u001b[0m\u001b[1;33m\u001b[0m\u001b[1;33m\u001b[0m\u001b[0m\n",
      "\u001b[1;32m~\\AppData\\Local\\Temp/ipykernel_36796/2313028267.py\u001b[0m in \u001b[0;36mcurrent\u001b[1;34m(V, R1, R2, C1, C2, Q0, T)\u001b[0m\n\u001b[0;32m     95\u001b[0m \u001b[1;33m\u001b[0m\u001b[0m\n\u001b[0;32m     96\u001b[0m \u001b[1;32mdef\u001b[0m \u001b[0mcurrent\u001b[0m\u001b[1;33m(\u001b[0m\u001b[0mV\u001b[0m\u001b[1;33m,\u001b[0m\u001b[0mR1\u001b[0m\u001b[1;33m,\u001b[0m\u001b[0mR2\u001b[0m\u001b[1;33m,\u001b[0m\u001b[0mC1\u001b[0m\u001b[1;33m,\u001b[0m\u001b[0mC2\u001b[0m\u001b[1;33m,\u001b[0m\u001b[0mQ0\u001b[0m\u001b[1;33m,\u001b[0m\u001b[0mT\u001b[0m\u001b[1;33m)\u001b[0m\u001b[1;33m:\u001b[0m\u001b[1;33m\u001b[0m\u001b[1;33m\u001b[0m\u001b[0m\n\u001b[1;32m---> 97\u001b[1;33m     \u001b[0mn\u001b[0m\u001b[1;33m=\u001b[0m\u001b[0mcheck_p\u001b[0m\u001b[1;33m(\u001b[0m\u001b[0mV\u001b[0m\u001b[1;33m,\u001b[0m\u001b[0mR1\u001b[0m\u001b[1;33m,\u001b[0m\u001b[0mR2\u001b[0m\u001b[1;33m,\u001b[0m\u001b[0mC1\u001b[0m\u001b[1;33m,\u001b[0m\u001b[0mC2\u001b[0m\u001b[1;33m,\u001b[0m\u001b[0mQ0\u001b[0m\u001b[1;33m,\u001b[0m\u001b[0mT\u001b[0m\u001b[1;33m)\u001b[0m\u001b[1;33m\u001b[0m\u001b[1;33m\u001b[0m\u001b[0m\n\u001b[0m\u001b[0;32m     98\u001b[0m     \u001b[0mp0\u001b[0m\u001b[1;33m,\u001b[0m\u001b[0mpn\u001b[0m\u001b[1;33m,\u001b[0m\u001b[0mp_n\u001b[0m\u001b[1;33m=\u001b[0m\u001b[0mall_p\u001b[0m\u001b[1;33m(\u001b[0m\u001b[0mV\u001b[0m\u001b[1;33m,\u001b[0m\u001b[0mR1\u001b[0m\u001b[1;33m,\u001b[0m\u001b[0mR2\u001b[0m\u001b[1;33m,\u001b[0m\u001b[0mC1\u001b[0m\u001b[1;33m,\u001b[0m\u001b[0mC2\u001b[0m\u001b[1;33m,\u001b[0m\u001b[0mQ0\u001b[0m\u001b[1;33m,\u001b[0m\u001b[0mT\u001b[0m\u001b[1;33m,\u001b[0m\u001b[0mn\u001b[0m\u001b[1;33m)\u001b[0m\u001b[1;33m\u001b[0m\u001b[1;33m\u001b[0m\u001b[0m\n\u001b[0;32m     99\u001b[0m     \u001b[0mI\u001b[0m\u001b[1;33m=\u001b[0m\u001b[0mp0\u001b[0m\u001b[1;33m*\u001b[0m\u001b[0mG1n\u001b[0m\u001b[1;33m(\u001b[0m\u001b[0mV\u001b[0m\u001b[1;33m,\u001b[0m\u001b[0mR1\u001b[0m\u001b[1;33m,\u001b[0m\u001b[0mC1\u001b[0m\u001b[1;33m,\u001b[0m\u001b[0mC2\u001b[0m\u001b[1;33m,\u001b[0m\u001b[0mQ0\u001b[0m\u001b[1;33m,\u001b[0m\u001b[0mT\u001b[0m\u001b[1;33m,\u001b[0m\u001b[1;36m0\u001b[0m\u001b[1;33m)\u001b[0m\u001b[1;33m\u001b[0m\u001b[1;33m\u001b[0m\u001b[0m\n",
      "\u001b[1;32m~\\AppData\\Local\\Temp/ipykernel_36796/2313028267.py\u001b[0m in \u001b[0;36mcheck_p\u001b[1;34m(V, R1, R2, C1, C2, Q0, T)\u001b[0m\n\u001b[0;32m     39\u001b[0m         \u001b[0mb\u001b[0m\u001b[1;33m=\u001b[0m\u001b[1;33m[\u001b[0m\u001b[1;33m]\u001b[0m\u001b[1;33m\u001b[0m\u001b[1;33m\u001b[0m\u001b[0m\n\u001b[0;32m     40\u001b[0m         \u001b[1;32mfor\u001b[0m \u001b[0mi\u001b[0m \u001b[1;32min\u001b[0m \u001b[0mn\u001b[0m\u001b[1;33m:\u001b[0m\u001b[1;33m\u001b[0m\u001b[1;33m\u001b[0m\u001b[0m\n\u001b[1;32m---> 41\u001b[1;33m             \u001b[0man\u001b[0m\u001b[1;33m,\u001b[0m\u001b[0mbn\u001b[0m\u001b[1;33m=\u001b[0m\u001b[0mPN\u001b[0m\u001b[1;33m(\u001b[0m\u001b[0mVmax\u001b[0m\u001b[1;33m,\u001b[0m\u001b[0mR1\u001b[0m\u001b[1;33m,\u001b[0m\u001b[0mR2\u001b[0m\u001b[1;33m,\u001b[0m\u001b[0mC1\u001b[0m\u001b[1;33m,\u001b[0m\u001b[0mC2\u001b[0m\u001b[1;33m,\u001b[0m\u001b[0mQ0\u001b[0m\u001b[1;33m,\u001b[0m\u001b[0mT\u001b[0m\u001b[1;33m,\u001b[0m\u001b[0mi\u001b[0m\u001b[1;33m)\u001b[0m\u001b[1;33m\u001b[0m\u001b[1;33m\u001b[0m\u001b[0m\n\u001b[0m\u001b[0;32m     42\u001b[0m             \u001b[0ma\u001b[0m\u001b[1;33m.\u001b[0m\u001b[0mappend\u001b[0m\u001b[1;33m(\u001b[0m\u001b[0man\u001b[0m\u001b[1;33m[\u001b[0m\u001b[1;36m0\u001b[0m\u001b[1;33m]\u001b[0m\u001b[1;33m)\u001b[0m\u001b[1;33m\u001b[0m\u001b[1;33m\u001b[0m\u001b[0m\n\u001b[0;32m     43\u001b[0m             \u001b[0mb\u001b[0m\u001b[1;33m.\u001b[0m\u001b[0mappend\u001b[0m\u001b[1;33m(\u001b[0m\u001b[0mbn\u001b[0m\u001b[1;33m[\u001b[0m\u001b[1;36m0\u001b[0m\u001b[1;33m]\u001b[0m\u001b[1;33m)\u001b[0m\u001b[1;33m\u001b[0m\u001b[1;33m\u001b[0m\u001b[0m\n",
      "\u001b[1;32m~\\AppData\\Local\\Temp/ipykernel_36796/2313028267.py\u001b[0m in \u001b[0;36mPN\u001b[1;34m(V, R1, R2, C1, C2, Q0, T, n)\u001b[0m\n\u001b[0;32m     29\u001b[0m \u001b[1;32mdef\u001b[0m \u001b[0mPN\u001b[0m\u001b[1;33m(\u001b[0m\u001b[0mV\u001b[0m\u001b[1;33m,\u001b[0m\u001b[0mR1\u001b[0m\u001b[1;33m,\u001b[0m\u001b[0mR2\u001b[0m\u001b[1;33m,\u001b[0m\u001b[0mC1\u001b[0m\u001b[1;33m,\u001b[0m\u001b[0mC2\u001b[0m\u001b[1;33m,\u001b[0m\u001b[0mQ0\u001b[0m\u001b[1;33m,\u001b[0m\u001b[0mT\u001b[0m\u001b[1;33m,\u001b[0m\u001b[0mn\u001b[0m\u001b[1;33m)\u001b[0m\u001b[1;33m:\u001b[0m\u001b[1;33m\u001b[0m\u001b[1;33m\u001b[0m\u001b[0m\n\u001b[0;32m     30\u001b[0m     \u001b[0mmn\u001b[0m\u001b[1;33m=\u001b[0m\u001b[1;33m(\u001b[0m\u001b[0mGamma1\u001b[0m\u001b[1;33m(\u001b[0m\u001b[0mV\u001b[0m\u001b[1;33m,\u001b[0m\u001b[0mR1\u001b[0m\u001b[1;33m,\u001b[0m\u001b[0mC1\u001b[0m\u001b[1;33m,\u001b[0m\u001b[0mC2\u001b[0m\u001b[1;33m,\u001b[0m\u001b[1;33m-\u001b[0m\u001b[0mn\u001b[0m\u001b[1;33m,\u001b[0m\u001b[0mQ0\u001b[0m\u001b[1;33m,\u001b[0m\u001b[0mT\u001b[0m\u001b[1;33m)\u001b[0m\u001b[1;33m+\u001b[0m\u001b[0mGamma2\u001b[0m\u001b[1;33m(\u001b[0m\u001b[1;33m-\u001b[0m\u001b[0mV\u001b[0m\u001b[1;33m,\u001b[0m\u001b[0mR2\u001b[0m\u001b[1;33m,\u001b[0m\u001b[0mC1\u001b[0m\u001b[1;33m,\u001b[0m\u001b[0mC2\u001b[0m\u001b[1;33m,\u001b[0m\u001b[0mn\u001b[0m\u001b[1;33m,\u001b[0m\u001b[1;33m-\u001b[0m\u001b[0mQ0\u001b[0m\u001b[1;33m,\u001b[0m\u001b[0mT\u001b[0m\u001b[1;33m)\u001b[0m\u001b[1;33m)\u001b[0m\u001b[1;33m/\u001b[0m\u001b[1;33m(\u001b[0m\u001b[0mGamma1\u001b[0m\u001b[1;33m(\u001b[0m\u001b[1;33m-\u001b[0m\u001b[0mV\u001b[0m\u001b[1;33m,\u001b[0m\u001b[0mR1\u001b[0m\u001b[1;33m,\u001b[0m\u001b[0mC1\u001b[0m\u001b[1;33m,\u001b[0m\u001b[0mC2\u001b[0m\u001b[1;33m,\u001b[0m\u001b[0mn\u001b[0m\u001b[1;33m+\u001b[0m\u001b[1;36m1\u001b[0m\u001b[1;33m,\u001b[0m\u001b[1;33m-\u001b[0m\u001b[0mQ0\u001b[0m\u001b[1;33m,\u001b[0m\u001b[0mT\u001b[0m\u001b[1;33m)\u001b[0m\u001b[1;33m+\u001b[0m\u001b[0mGamma2\u001b[0m\u001b[1;33m(\u001b[0m\u001b[0mV\u001b[0m\u001b[1;33m,\u001b[0m\u001b[0mR2\u001b[0m\u001b[1;33m,\u001b[0m\u001b[0mC1\u001b[0m\u001b[1;33m,\u001b[0m\u001b[0mC2\u001b[0m\u001b[1;33m,\u001b[0m\u001b[1;33m-\u001b[0m\u001b[0mn\u001b[0m\u001b[1;33m-\u001b[0m\u001b[1;36m1\u001b[0m\u001b[1;33m,\u001b[0m\u001b[0mQ0\u001b[0m\u001b[1;33m,\u001b[0m\u001b[0mT\u001b[0m\u001b[1;33m)\u001b[0m\u001b[1;33m)\u001b[0m\u001b[1;33m\u001b[0m\u001b[1;33m\u001b[0m\u001b[0m\n\u001b[1;32m---> 31\u001b[1;33m     \u001b[0men\u001b[0m\u001b[1;33m=\u001b[0m\u001b[1;33m(\u001b[0m\u001b[0mGamma1\u001b[0m\u001b[1;33m(\u001b[0m\u001b[1;33m-\u001b[0m\u001b[0mV\u001b[0m\u001b[1;33m,\u001b[0m\u001b[0mR1\u001b[0m\u001b[1;33m,\u001b[0m\u001b[0mC1\u001b[0m\u001b[1;33m,\u001b[0m\u001b[0mC2\u001b[0m\u001b[1;33m,\u001b[0m\u001b[1;33m-\u001b[0m\u001b[0mn\u001b[0m\u001b[1;33m,\u001b[0m\u001b[1;33m-\u001b[0m\u001b[0mQ0\u001b[0m\u001b[1;33m,\u001b[0m\u001b[0mT\u001b[0m\u001b[1;33m)\u001b[0m\u001b[1;33m+\u001b[0m\u001b[0mGamma2\u001b[0m\u001b[1;33m(\u001b[0m\u001b[0mV\u001b[0m\u001b[1;33m,\u001b[0m\u001b[0mR2\u001b[0m\u001b[1;33m,\u001b[0m\u001b[0mC1\u001b[0m\u001b[1;33m,\u001b[0m\u001b[0mC2\u001b[0m\u001b[1;33m,\u001b[0m\u001b[0mn\u001b[0m\u001b[1;33m,\u001b[0m\u001b[0mQ0\u001b[0m\u001b[1;33m,\u001b[0m\u001b[0mT\u001b[0m\u001b[1;33m)\u001b[0m\u001b[1;33m)\u001b[0m\u001b[1;33m/\u001b[0m\u001b[1;33m(\u001b[0m\u001b[0mGamma1\u001b[0m\u001b[1;33m(\u001b[0m\u001b[0mV\u001b[0m\u001b[1;33m,\u001b[0m\u001b[0mR1\u001b[0m\u001b[1;33m,\u001b[0m\u001b[0mC1\u001b[0m\u001b[1;33m,\u001b[0m\u001b[0mC2\u001b[0m\u001b[1;33m,\u001b[0m\u001b[0mn\u001b[0m\u001b[1;33m+\u001b[0m\u001b[1;36m1\u001b[0m\u001b[1;33m,\u001b[0m\u001b[0mQ0\u001b[0m\u001b[1;33m,\u001b[0m\u001b[0mT\u001b[0m\u001b[1;33m)\u001b[0m\u001b[1;33m+\u001b[0m\u001b[0mGamma2\u001b[0m\u001b[1;33m(\u001b[0m\u001b[1;33m-\u001b[0m\u001b[0mV\u001b[0m\u001b[1;33m,\u001b[0m\u001b[0mR2\u001b[0m\u001b[1;33m,\u001b[0m\u001b[0mC1\u001b[0m\u001b[1;33m,\u001b[0m\u001b[0mC2\u001b[0m\u001b[1;33m,\u001b[0m\u001b[1;33m-\u001b[0m\u001b[0mn\u001b[0m\u001b[1;33m-\u001b[0m\u001b[1;36m1\u001b[0m\u001b[1;33m,\u001b[0m\u001b[1;33m-\u001b[0m\u001b[0mQ0\u001b[0m\u001b[1;33m,\u001b[0m\u001b[0mT\u001b[0m\u001b[1;33m)\u001b[0m\u001b[1;33m)\u001b[0m\u001b[1;33m\u001b[0m\u001b[1;33m\u001b[0m\u001b[0m\n\u001b[0m\u001b[0;32m     32\u001b[0m     \u001b[1;32mreturn\u001b[0m \u001b[0men\u001b[0m\u001b[1;33m,\u001b[0m\u001b[0mmn\u001b[0m\u001b[1;33m\u001b[0m\u001b[1;33m\u001b[0m\u001b[0m\n\u001b[0;32m     33\u001b[0m \u001b[1;33m\u001b[0m\u001b[0m\n",
      "\u001b[1;32m~\\AppData\\Local\\Temp/ipykernel_36796/2313028267.py\u001b[0m in \u001b[0;36mGamma2\u001b[1;34m(V, R2, C1, C2, n, Q0, T)\u001b[0m\n\u001b[0;32m     22\u001b[0m     \u001b[0mk\u001b[0m\u001b[1;33m=\u001b[0m\u001b[0mC1\u001b[0m\u001b[1;33m/\u001b[0m\u001b[1;33m(\u001b[0m\u001b[0mC1\u001b[0m\u001b[1;33m+\u001b[0m\u001b[0mC2\u001b[0m\u001b[1;33m)\u001b[0m\u001b[1;33m\u001b[0m\u001b[1;33m\u001b[0m\u001b[0m\n\u001b[0;32m     23\u001b[0m     \u001b[0mEc\u001b[0m\u001b[1;33m=\u001b[0m\u001b[1;33m(\u001b[0m\u001b[1;36m1\u001b[0m\u001b[1;33m)\u001b[0m\u001b[1;33m/\u001b[0m\u001b[1;33m(\u001b[0m\u001b[1;36m2\u001b[0m\u001b[1;33m*\u001b[0m\u001b[1;33m(\u001b[0m\u001b[0mC1\u001b[0m\u001b[1;33m+\u001b[0m\u001b[0mC2\u001b[0m\u001b[1;33m)\u001b[0m\u001b[1;33m)\u001b[0m\u001b[1;33m\u001b[0m\u001b[1;33m\u001b[0m\u001b[0m\n\u001b[1;32m---> 24\u001b[1;33m     \u001b[0ma\u001b[0m\u001b[1;33m,\u001b[0m\u001b[0mb\u001b[0m\u001b[1;33m=\u001b[0m\u001b[0mnp\u001b[0m\u001b[1;33m.\u001b[0m\u001b[0mmeshgrid\u001b[0m\u001b[1;33m(\u001b[0m\u001b[0mx\u001b[0m\u001b[1;33m,\u001b[0m\u001b[1;33m-\u001b[0m\u001b[0mk\u001b[0m\u001b[1;33m**\u001b[0m\u001b[1;36m2\u001b[0m\u001b[1;33m*\u001b[0m\u001b[0mEc\u001b[0m\u001b[1;33m+\u001b[0m\u001b[0mE2\u001b[0m\u001b[1;33m(\u001b[0m\u001b[0mC1\u001b[0m\u001b[1;33m,\u001b[0m\u001b[0mC2\u001b[0m\u001b[1;33m,\u001b[0m\u001b[0mV\u001b[0m\u001b[1;33m,\u001b[0m\u001b[1;33m-\u001b[0m\u001b[0mn\u001b[0m\u001b[1;33m,\u001b[0m\u001b[1;33m-\u001b[0m\u001b[0mQ0\u001b[0m\u001b[1;33m)\u001b[0m\u001b[1;33m)\u001b[0m\u001b[1;33m\u001b[0m\u001b[1;33m\u001b[0m\u001b[0m\n\u001b[0m\u001b[0;32m     25\u001b[0m     \u001b[0mt\u001b[0m\u001b[1;33m=\u001b[0m\u001b[0ma\u001b[0m\u001b[1;33m+\u001b[0m\u001b[0mb\u001b[0m\u001b[1;33m\u001b[0m\u001b[1;33m\u001b[0m\u001b[0m\n\u001b[0;32m     26\u001b[0m     \u001b[1;32mreturn\u001b[0m \u001b[0mnp\u001b[0m\u001b[1;33m.\u001b[0m\u001b[0mdot\u001b[0m\u001b[1;33m(\u001b[0m\u001b[1;36m1\u001b[0m\u001b[1;33m-\u001b[0m\u001b[0mfermi\u001b[0m\u001b[1;33m(\u001b[0m\u001b[0mT\u001b[0m\u001b[1;33m,\u001b[0m\u001b[0mt\u001b[0m\u001b[1;33m)\u001b[0m\u001b[1;33m,\u001b[0m\u001b[0mfermi\u001b[0m\u001b[1;33m(\u001b[0m\u001b[0mT\u001b[0m\u001b[1;33m,\u001b[0m\u001b[0mx\u001b[0m\u001b[1;33m)\u001b[0m\u001b[1;33m)\u001b[0m\u001b[1;33m/\u001b[0m\u001b[0mR2\u001b[0m\u001b[1;33m\u001b[0m\u001b[1;33m\u001b[0m\u001b[0m\n",
      "\u001b[1;32m<__array_function__ internals>\u001b[0m in \u001b[0;36mmeshgrid\u001b[1;34m(*args, **kwargs)\u001b[0m\n",
      "\u001b[1;32m~\\AppData\\Local\\Packages\\PythonSoftwareFoundation.Python.3.9_qbz5n2kfra8p0\\LocalCache\\local-packages\\Python39\\site-packages\\numpy\\lib\\function_base.py\u001b[0m in \u001b[0;36mmeshgrid\u001b[1;34m(copy, sparse, indexing, *xi)\u001b[0m\n\u001b[0;32m   4371\u001b[0m \u001b[1;33m\u001b[0m\u001b[0m\n\u001b[0;32m   4372\u001b[0m     \u001b[1;32mif\u001b[0m \u001b[0mcopy\u001b[0m\u001b[1;33m:\u001b[0m\u001b[1;33m\u001b[0m\u001b[1;33m\u001b[0m\u001b[0m\n\u001b[1;32m-> 4373\u001b[1;33m         \u001b[0moutput\u001b[0m \u001b[1;33m=\u001b[0m \u001b[1;33m[\u001b[0m\u001b[0mx\u001b[0m\u001b[1;33m.\u001b[0m\u001b[0mcopy\u001b[0m\u001b[1;33m(\u001b[0m\u001b[1;33m)\u001b[0m \u001b[1;32mfor\u001b[0m \u001b[0mx\u001b[0m \u001b[1;32min\u001b[0m \u001b[0moutput\u001b[0m\u001b[1;33m]\u001b[0m\u001b[1;33m\u001b[0m\u001b[1;33m\u001b[0m\u001b[0m\n\u001b[0m\u001b[0;32m   4374\u001b[0m \u001b[1;33m\u001b[0m\u001b[0m\n\u001b[0;32m   4375\u001b[0m     \u001b[1;32mreturn\u001b[0m \u001b[0moutput\u001b[0m\u001b[1;33m\u001b[0m\u001b[1;33m\u001b[0m\u001b[0m\n",
      "\u001b[1;32m~\\AppData\\Local\\Packages\\PythonSoftwareFoundation.Python.3.9_qbz5n2kfra8p0\\LocalCache\\local-packages\\Python39\\site-packages\\numpy\\lib\\function_base.py\u001b[0m in \u001b[0;36m<listcomp>\u001b[1;34m(.0)\u001b[0m\n\u001b[0;32m   4371\u001b[0m \u001b[1;33m\u001b[0m\u001b[0m\n\u001b[0;32m   4372\u001b[0m     \u001b[1;32mif\u001b[0m \u001b[0mcopy\u001b[0m\u001b[1;33m:\u001b[0m\u001b[1;33m\u001b[0m\u001b[1;33m\u001b[0m\u001b[0m\n\u001b[1;32m-> 4373\u001b[1;33m         \u001b[0moutput\u001b[0m \u001b[1;33m=\u001b[0m \u001b[1;33m[\u001b[0m\u001b[0mx\u001b[0m\u001b[1;33m.\u001b[0m\u001b[0mcopy\u001b[0m\u001b[1;33m(\u001b[0m\u001b[1;33m)\u001b[0m \u001b[1;32mfor\u001b[0m \u001b[0mx\u001b[0m \u001b[1;32min\u001b[0m \u001b[0moutput\u001b[0m\u001b[1;33m]\u001b[0m\u001b[1;33m\u001b[0m\u001b[1;33m\u001b[0m\u001b[0m\n\u001b[0m\u001b[0;32m   4374\u001b[0m \u001b[1;33m\u001b[0m\u001b[0m\n\u001b[0;32m   4375\u001b[0m     \u001b[1;32mreturn\u001b[0m \u001b[0moutput\u001b[0m\u001b[1;33m\u001b[0m\u001b[1;33m\u001b[0m\u001b[0m\n",
      "\u001b[1;31mKeyboardInterrupt\u001b[0m: "
     ]
    }
   ],
   "source": [
<<<<<<< HEAD
    "def fermi(T,x):\n",
    "    return np.divide(1,1+np.exp(x/T))\n",
    "\n",
    "def E1(C1,C2,V,n,Q0):\n",
    "    k=C2/(C1+C2)\n",
    "    return k*V+(n+Q0-1/2)/(C1+C2)\n",
    "\n",
    "def E2(C1,C2,V,n,Q0):\n",
    "    k=C1/(C1+C2)\n",
    "    return k*V+(n+Q0-1/2)/(C1+C2)\n",
    "\n",
    "def Gamma1(V,R1,C1,C2,n,Q0,T):\n",
    "    k=C2/(C1+C2)\n",
    "    Ec=(C1+C2)/(2*C1*C2)\n",
    "    x=E1(C1,C2,V,n,Q0)-k**2*Ec\n",
    "    return (x/(1-np.exp(-x/T)))/R1\n",
    "\n",
    "def Gamma2(V,R2,C1,C2,n,Q0,T):\n",
    "    k=C1/(C1+C2)\n",
    "    Ec=(C1+C2)/(2*C1*C2)\n",
    "    x=E2(C1,C2,V,-n,-Q0)-k**2*Ec\n",
    "    return (x/(1-np.exp(-x/T)))/R2\n",
    "\n",
    "\n",
    "def PN(V,R1,R2,C1,C2,Q0,T,n):\n",
    "    mn=(Gamma1(V,R1,C1,C2,-n,Q0,T)+Gamma2(-V,R2,C1,C2,n,-Q0,T))/(Gamma1(-V,R1,C1,C2,n+1,-Q0,T)+Gamma2(V,R2,C1,C2,-n-1,Q0,T))\n",
    "    en=(Gamma1(-V,R1,C1,C2,-n,-Q0,T)+Gamma2(V,R2,C1,C2,n,Q0,T))/(Gamma1(V,R1,C1,C2,n+1,Q0,T)+Gamma2(-V,R2,C1,C2,-n-1,-Q0,T))\n",
    "    return en,mn\n",
    "\n",
    "def check_p(V,R1,R2,C1,C2,Q0,T):\n",
    "    Vmax=V\n",
    "    n=[0]\n",
    "    while True:\n",
    "        a=[]\n",
    "        b=[]\n",
    "        for i in n:\n",
    "            an,bn=PN(Vmax,R1,R2,C1,C2,Q0,T,i)\n",
    "            a.append(an[0])\n",
    "            b.append(bn[0])\n",
    "        p0=1\n",
    "        for i in range(len(a)):\n",
    "            temp=np.zeros(len(a))\n",
    "            temp[0:i+1]=1\n",
    "            temp=temp.tolist()\n",
    "            p0+=np.prod(a,where=temp)+np.prod(b,where=temp)\n",
    "        p0=1/p0\n",
    "        pn=p0*np.prod(a)\n",
    "        p_n=p0*np.prod(b)\n",
    "        #print(pn,p_n)\n",
    "        n.append(n[-1]+1)\n",
    "        if np.sum(pn)<0.001 and np.sum(p_n)<0.001:\n",
    "            #print(len(a))\n",
    "            break \n",
    "    return n[-1]\n",
    "\n",
    "def all_p(V,R1,R2,C1,C2,Q0,T,n):\n",
    "    a=[]\n",
    "    b=[]\n",
    "    for i in range(n):\n",
    "        an,bn=PN(V,R1,R2,C1,C2,Q0,T,i)\n",
    "        a.append(an)\n",
    "        b.append(bn)\n",
    "    p0=1\n",
    "    pn=[]\n",
    "    p_n=[]\n",
    "    for i in range(n):\n",
    "        temp=np.zeros(n)\n",
    "        temp[0:i+1]=1\n",
    "        temp=temp.tolist()\n",
    "        temp1=np.full(len(V),1.0)\n",
    "        temp2=np.full(len(V),1.0)\n",
    "        for j in range(n):\n",
    "            if temp[j]<=0.1:\n",
    "                pass\n",
    "            else:\n",
    "                temp1*=a[j]       \n",
    "                temp2*=b[j]\n",
    "        p0+=temp1+temp2\n",
    "        pn.append(temp1)\n",
    "        p_n.append(temp2)\n",
    "    p0=1/p0\n",
    "    pn=p0*np.array(pn)\n",
    "    p_n=p0*np.array(p_n)\n",
    "    return p0,pn,p_n\n",
    "\n",
    "def G1n(V,R1,C1,C2,Q0,T,n):\n",
    "    return Gamma1(V,R1,C1,C2,n,Q0,T)-Gamma1(-V,R1,C1,C2,-n,-Q0,T)\n",
    "\n",
    "def G2n(V,R2,C1,C2,Q0,T,n):\n",
    "    return Gamma2(V,R2,C1,C2,n,Q0,T)-Gamma2(-V,R2,C1,C2,-n,-Q0,T)\n",
    "\n",
    "def current(V,R1,R2,C1,C2,Q0,T):\n",
    "    n=check_p(V,R1,R2,C1,C2,Q0,T)\n",
    "    p0,pn,p_n=all_p(V,R1,R2,C1,C2,Q0,T,n)\n",
    "    I=p0*G1n(V,R1,C1,C2,Q0,T,0)\n",
    "    for i in range(1,n+1):\n",
    "        I+=pn[i-1]*G1n(V,R1,C1,C2,Q0,T,i)\n",
    "        I+=p_n[i-1]*G1n(V,R1,C1,C2,Q0,T,-i)\n",
    "    t=np.gradient(I)\n",
    "    return len(t)*t/np.sum(t)\n",
    "\n",
    "\n",
    "def current2(V,R1,R2,C1,C2,Q0,T):\n",
    "    n=check_p(V,R1,R2,C1,C2,Q0,T)\n",
    "    p0,pn,p_n=all_p(V,R1,R2,C1,C2,Q0,T,n)\n",
    "    I=p0*G2n(V,R2,C1,C2,Q0,T,0)\n",
    "    for i in range(1,n+1):\n",
    "        I+=pn[i-1]*G2n(V,R2,C1,C2,Q0,T,i)\n",
    "        I+=p_n[i-1]*G2n(V,R2,C1,C2,Q0,T,-i)\n",
    "    t=np.gradient(I)\n",
    "    return len(t)*t/np.sum(t)"
   ]
  },
  {
   "cell_type": "markdown",
   "metadata": {},
   "source": [
    "## Experimental broadening"
   ]
  },
  {
   "cell_type": "code",
   "execution_count": null,
   "metadata": {},
   "outputs": [],
   "source": [
    "def conv_lockin(V,R1,R2,C1,C2,Q0,T,Vw):\n",
    "    x=np.linspace(-Vw,Vw,len(V))\n",
    "    a,b=np.meshgrid(V,x)\n",
    "    conv=[]\n",
    "    for i in V:\n",
    "        f=current(i+x,R1,R2,C1,C2,Q0,T)\n",
    "        g=(Vw**2-x**2)**(3/2)/(Vw**2)\n",
    "        conv.append(np.sum(f*g))\n",
    "    np.array(conv)\n",
    "    out=np.gradient(conv)\n",
    "    return out/np.sum(out)"
   ]
  },
  {
   "cell_type": "code",
   "execution_count": null,
   "metadata": {},
   "outputs": [
    {
     "data": {
      "text/plain": [
       "[<matplotlib.lines.Line2D at 0x2319f01faf0>]"
      ]
     },
     "execution_count": 956,
     "metadata": {},
     "output_type": "execute_result"
    }
   ],
   "source": [
    "x=np.linspace(-10.0,10.0,1000)\n",
    "plt.plot(x,current(x,1,10000,0.3,0.01,0.0,0.1))\n",
    "plt.plot(x,conv_lockin(x,1,10000,0.3,0.01,0.0,0.1,0.1))"
   ]
  },
  {
   "cell_type": "markdown",
   "metadata": {},
   "source": [
    "## Low Impedance Superconductivity"
   ]
  },
  {
   "cell_type": "code",
   "execution_count": 114,
   "metadata": {},
   "outputs": [],
   "source": [
    "def bcs(delta,x,eta):\n",
    "    if delta<=0.01: \n",
    "        return 1\n",
    "    else:\n",
    "        return (np.sign(x))*np.imag(np.divide(np.abs(x+eta*1j),np.sqrt(delta-(x+eta*1j)**2)))\n",
    "        \n",
    "\n",
    "def fermi(T,x):\n",
    "    return np.divide(1,1+np.exp(x/T))\n",
    "\n",
    "def E1(C1,C2,V,n,Q0):\n",
    "    k=C2/(C1+C2)\n",
    "    return k*V+(n+Q0-1/2)/(C1+C2)\n",
    "\n",
    "def E2(C1,C2,V,n,Q0):\n",
    "    k=C1/(C1+C2)\n",
    "    return k*V+(n+Q0-1/2)/(C1+C2)\n",
    "\n",
    "def Gamma1D(V,R1,C1,C2,n,Q0,Delta,delta_t,T,eta):\n",
    "    x=np.linspace(-4*np.max(V),4*np.max(V),7000)\n",
    "    a,b=np.meshgrid(x,E1(C1,C2,V,n,Q0))\n",
    "    t=a+b\n",
    "    return np.dot( bcs(delta_t,t,eta)*(1-fermi(T,t)),bcs(Delta,x,eta)*fermi(T,x) )/R1\n",
    "\n",
    "def Gamma2D(V,R2,C1,C2,n,Q0,Delta,delta_t,T,eta):\n",
    "    x=np.linspace(-4*np.max(V),4*np.max(V),7000)\n",
    "    a,b=np.meshgrid(x,E2(C1,C2,V,-n,-Q0))\n",
    "    t=a+b\n",
    "    return np.dot(1-fermi(T,t),bcs(Delta,x,eta)*fermi(T,x))/R2\n",
    "\n",
    "\n",
    "def PND(V,R1,R2,C1,C2,Q0,Delta,delta_t,T,eta,n):\n",
    "    mn=(Gamma1D(V,R1,C1,C2,-n,Q0,Delta,delta_t,T,eta)+Gamma2D(-V,R2,C1,C2,n,-Q0,Delta,delta_t,T,eta))/(Gamma1D(-V,R1,C1,C2,n+1,-Q0,Delta,delta_t,T,eta)+Gamma2D(V,R2,C1,C2,-n-1,Q0,Delta,delta_t,T,eta))\n",
    "    en=(Gamma1D(-V,R1,C1,C2,-n,-Q0,Delta,delta_t,T,eta)+Gamma2D(V,R2,C1,C2,n,Q0,Delta,delta_t,T,eta))/(Gamma1D(V,R1,C1,C2,n+1,Q0,Delta,delta_t,T,eta)+Gamma2D(-V,R2,C1,C2,-n-1,-Q0,Delta,delta_t,T,eta))\n",
    "    return en,mn\n",
    "\n",
    "def check_pD(V,R1,R2,C1,C2,Q0,Delta,delta_t,T,eta):\n",
    "    Vmax=V[-1]\n",
    "    n=[0]\n",
    "    while True:\n",
    "        a=[]\n",
    "        b=[]\n",
    "        for i in n:\n",
    "            an,bn=PND(Vmax,R1,R2,C1,C2,Q0,Delta,delta_t,T,eta,i)\n",
    "            a.append(an[0])\n",
    "            b.append(bn[0])\n",
    "        p0=1\n",
    "        for i in range(len(a)):\n",
    "            temp=np.zeros(len(a))\n",
    "            temp[0:i+1]=1\n",
    "            temp=temp.tolist()\n",
    "            p0+=np.prod(a,where=temp)+np.prod(b,where=temp)\n",
    "        p0=1/p0\n",
    "        pn=p0*np.prod(a)\n",
    "        p_n=p0*np.prod(b)\n",
    "        #print(pn,p_n)\n",
    "        n.append(n[-1]+1)\n",
    "        if pn<0.0001 and p_n<0.0001:\n",
    "            #print(len(a))\n",
    "            break \n",
    "    return n[-1]\n",
    "\n",
    "def all_pD(V,R1,R2,C1,C2,Q0,Delta,delta_t,T,eta,n):\n",
    "    a=[]\n",
    "    b=[]\n",
    "    for i in range(n):\n",
    "        an,bn=PND(V,R1,R2,C1,C2,Q0,Delta,delta_t,T,eta,i)\n",
    "        a.append(an)\n",
    "        b.append(bn)\n",
    "    p0=1\n",
    "    pn=[]\n",
    "    p_n=[]\n",
    "    for i in range(n):\n",
    "        temp=np.zeros(n)\n",
    "        temp[0:i+1]=1\n",
    "        temp=temp.tolist()\n",
    "        temp1=np.full(len(V),1.0)\n",
    "        temp2=np.full(len(V),1.0)\n",
    "        for j in range(n):\n",
    "            if temp[j]<=0.1:\n",
    "                pass\n",
    "            else:\n",
    "                temp1*=a[j]       \n",
    "                temp2*=b[j]\n",
    "        p0+=temp1+temp2\n",
    "        pn.append(temp1)\n",
    "        p_n.append(temp2)\n",
    "    p0=1/p0\n",
    "    pn=p0*np.array(pn)\n",
    "    p_n=p0*np.array(p_n)\n",
    "    return p0,pn,p_n\n",
    "\n",
    "def G1nD(V,R1,R2,C1,C2,Q0,Delta,delta_t,T,eta,n):\n",
    "    return Gamma1D(V,R1,C1,C2,n,Q0,Delta,delta_t,T,eta)-Gamma1D(-V,R1,C1,C2,-n,-Q0,Delta,delta_t,T,eta)\n",
    "\n",
    "def G2nD(V,R1,R2,C1,C2,Q0,Delta,delta_t,T,eta,n):\n",
    "    return Gamma2D(V,R2,C1,C2,n,Q0,Delta,delta_t,T,eta)-Gamma2D(-V,R2,C1,C2,-n,-Q0,Delta,delta_t,T,eta)\n",
    "\n",
    "def currentD(V,R1,R2,C1,C2,Q0,Delta,delta_t,T,eta):\n",
    "    n=check_pD(V,R1,R2,C1,C2,Q0,Delta,delta_t,T,eta)\n",
    "    p0,pn,p_n=all_pD(V,R1,R2,C1,C2,Q0,Delta,delta_t,T,eta,n)\n",
    "    I=p0*G1nD(V,R1,R2,C1,C2,Q0,Delta,delta_t,T,eta,0)\n",
    "    for i in range(1,n+1):\n",
    "        I+=pn[i-1]*G1nD(V,R1,R2,C1,C2,Q0,Delta,delta_t,T,eta,i)\n",
    "        I+=p_n[i-1]*G1nD(V,R1,R2,C1,C2,Q0,Delta,delta_t,T,eta,-i)\n",
    "    t=np.gradient(I)\n",
    "    return t/np.sum(t)\n",
    "\n",
    "\n",
    "def currentD2(V,R1,R2,C1,C2,Q0,Delta,delta_t,T,eta):\n",
    "    n=check_pD(V,R1,R2,C1,C2,Q0,Delta,delta_t,T,eta)\n",
    "    p0,pn,p_n=all_pD(V,R1,R2,C1,C2,Q0,Delta,delta_t,T,eta,n)\n",
    "    I=p0*G2nD(V,R1,R2,C1,C2,Q0,Delta,delta_t,T,eta,0)\n",
    "    for i in range(1,n+1):\n",
    "        I+=pn[i-1]*G2nD(V,R1,R2,C1,C2,Q0,Delta,delta_t,T,eta,i)\n",
    "        I+=p_n[i-1]*G2nD(V,R1,R2,C1,C2,Q0,Delta,delta_t,T,eta,-i)\n",
    "    t=np.gradient(I)\n",
    "    return t/np.sum(t)\n"
   ]
  },
  {
   "cell_type": "code",
   "execution_count": 599,
   "metadata": {},
   "outputs": [
    {
     "data": {
      "text/plain": [
       "[<matplotlib.lines.Line2D at 0x1f485d80160>]"
      ]
     },
     "execution_count": 599,
     "metadata": {},
     "output_type": "execute_result"
    }
   ],
   "source": [
    "V=np.linspace(-10,10,100)\n",
    "#R1=10000\n",
    "#R2=1\n",
    "#C1=0.01\n",
    "#C2=0.5\n",
    "#Delta=1.25\n",
    "#Q0=0.1\n",
    "#T=0.1\n",
    "R1=10000\n",
    "R2=1\n",
    "C1=0.01\n",
    "C2=0.5\n",
    "Q0=0.1\n",
    "Delta=0.2\n",
    "T=0.1\n",
    "spectra.load(Bfiles[4][5])\n",
    "x=np.array(spectra.bias)\n",
    "y=np.array(spectra.conductance)\n",
    "y=y/y[0]\n",
    "plt.plot(1000*x,y)\n",
    "z=currentD(V,R1,R2,C1,C2,Q0,Delta,1.0,T,0.2)\n",
    "z=z/z[0]\n",
    "plt.plot(V,z)\n",
    "\n"
   ]
  },
  {
   "cell_type": "code",
   "execution_count": 559,
   "metadata": {},
   "outputs": [
    {
     "data": {
      "text/plain": [
       "[<matplotlib.lines.Line2D at 0x1f45accd0d0>]"
      ]
     },
     "execution_count": 559,
     "metadata": {},
     "output_type": "execute_result"
    }
   ],
   "source": [
    "V=np.linspace(-2,2,100)\n",
    "plt.plot(V,bcs(1,V))"
   ]
  },
  {
   "cell_type": "code",
   "execution_count": null,
   "metadata": {},
   "outputs": [
    {
     "name": "stdout",
     "output_type": "stream",
     "text": [
      "9\n",
      "10\n",
      "11\n",
      "12\n"
     ]
    }
   ],
   "source": [
    "\n",
    "for i in range(9,len(dat)):\n",
    "    print(i)\n",
    "    spectra.load(Tfiles[i][T[i].index(1.3)])\n",
    "    x=np.array(spectra.bias)\n",
    "    y=np.array(spectra.conductance)\n",
    "    y=y/np.sum(y)\n",
    "    plt.plot(1000*x,y)\n",
    "    par=sc.optimize.curve_fit(lambda xx, Q0,delta: currentD(xx,1000,1,C2[i],C1[i],Q0,delta,0.1), 1000*x, y,p0=[0.0,0.3],bounds=([-0.50,0.1],[0.5,1.3]))[0]\n",
    "    a=currentD(1000*x,1000,1,C2[i],C1[i],par[0],par[1],0.1)\n",
    "    plt.plot(1000*x,a)\n",
    "    delta.append(par[1])\n",
    "    Q0.append(par[0])"
   ]
  },
  {
   "cell_type": "code",
   "execution_count": null,
   "metadata": {},
   "outputs": [
    {
     "data": {
      "text/plain": [
       "[<matplotlib.lines.Line2D at 0x23185b69940>]"
      ]
     },
     "execution_count": 1003,
     "metadata": {},
     "output_type": "execute_result"
    }
   ],
   "source": [
    "i=7\n",
    "spectra.load(Tfiles[i][T[i].index(1.3)])\n",
    "x=np.array(spectra.bias)\n",
    "y=np.array(spectra.conductance)\n",
    "y=y/np.sum(y)\n",
    "plt.plot(1000*x,y)\n",
    "#a=currentD(1000*x,1000,1,C2[i],C1[i],Q0[i],delta[i],0.1)\n",
    "#plt.plot(1000*x,a)"
   ]
  },
  {
   "cell_type": "code",
   "execution_count": null,
   "metadata": {},
   "outputs": [
    {
     "data": {
      "text/plain": [
       "<matplotlib.collections.PathCollection at 0x231acc65f70>"
      ]
     },
     "execution_count": 1094,
     "metadata": {},
     "output_type": "execute_result"
    }
   ],
   "source": [
    "temp1=[0.20538628915861032,0.3139708157071217,0.219155437068271,0.10000000000000002,0.9584898529396583,0.16640228862074904,0.3681922831136722,0.0,0.2097395898675521,0.458292984581787,0.10000000000000002,0.4714580736956538]\n",
    "temp2=[373.0,578.0,419.0,363.0,865.0,846.0,873.0,305.0,613.0,1368.0,573.0,806.0]\n",
    "\n",
    "plt.scatter(temp2,temp1)"
   ]
  },
  {
   "cell_type": "markdown",
   "metadata": {},
   "source": [
    "## Low Impedance Superconductor Fixed"
   ]
  },
  {
   "cell_type": "code",
   "execution_count": 188,
   "metadata": {},
   "outputs": [],
   "source": [
    "def bcs(delta,x,eta):\n",
    "    if delta<=0.01: \n",
    "        return 1\n",
    "    else:\n",
    "        return (np.sign(x))*np.imag(np.divide(np.abs(x+eta*1j),np.sqrt(delta-(x+eta*1j)**2)))\n",
    "    \n",
    "def bcs_i(delta,x,eta,n):\n",
    "    if np.mod(n,2)==0:\n",
    "        if delta<=0.01: \n",
    "            return 1\n",
    "        else:\n",
    "            return (np.sign(x))*np.imag(np.divide(np.abs(x+eta*1j),np.sqrt(delta-(x+eta*1j)**2)))\n",
    "    else:\n",
    "        return 1\n",
    "\n",
    "def fermi(T,x):\n",
    "    return np.divide(1,1+np.exp(x/T))\n",
    "\n",
    "def E1(C1,C2,V,n,Q0):\n",
    "    k=C2/(C1+C2)\n",
    "    return k*V+(n+Q0-1/2)/(C1+C2)\n",
    "\n",
    "def E2(C1,C2,V,n,Q0):\n",
    "    k=C1/(C1+C2)\n",
    "    return k*V+(n+Q0-1/2)/(C1+C2)\n",
    "\n",
    "def Gamma1D(V,R1,C1,C2,n,Q0,Delta,delta_t,T,eta):\n",
    "    x=np.linspace(-4*np.max(V),4*np.max(V),7000)\n",
    "    a,b=np.meshgrid(x,E1(C1,C2,V,n,Q0))\n",
    "    t=a+b\n",
    "    return np.dot( bcs(delta_t,t,eta)*(1-fermi(T,t)),bcs_i(Delta,x,eta,n)*fermi(T,x) )/R1\n",
    "\n",
    "def Gamma2D(V,R2,C1,C2,n,Q0,Delta,delta_t,T,eta):\n",
    "    x=np.linspace(-4*np.max(V),4*np.max(V),7000)\n",
    "    a,b=np.meshgrid(x,E2(C1,C2,V,-n,-Q0))\n",
    "    t=a+b\n",
    "    return np.dot(1-fermi(T,t),bcs_i(Delta,x,eta,n)*fermi(T,x))/R2\n",
    "\n",
    "\n",
    "def PND(V,R1,R2,C1,C2,Q0,Delta,delta_t,T,eta,n):\n",
    "    mn=(Gamma1D(V,R1,C1,C2,-n,Q0,Delta,delta_t,T,eta)+Gamma2D(-V,R2,C1,C2,n,-Q0,Delta,delta_t,T,eta))/(Gamma1D(-V,R1,C1,C2,n+1,-Q0,Delta,delta_t,T,eta)+Gamma2D(V,R2,C1,C2,-n-1,Q0,Delta,delta_t,T,eta))\n",
    "    en=(Gamma1D(-V,R1,C1,C2,-n,-Q0,Delta,delta_t,T,eta)+Gamma2D(V,R2,C1,C2,n,Q0,Delta,delta_t,T,eta))/(Gamma1D(V,R1,C1,C2,n+1,Q0,Delta,delta_t,T,eta)+Gamma2D(-V,R2,C1,C2,-n-1,-Q0,Delta,delta_t,T,eta))\n",
    "    return en,mn\n",
    "\n",
    "def check_pD(V,R1,R2,C1,C2,Q0,Delta,delta_t,T,eta):\n",
    "    Vmax=V[-1]\n",
    "    n=[0]\n",
    "    while True:\n",
    "        a=[]\n",
    "        b=[]\n",
    "        for i in n:\n",
    "            an,bn=PND(Vmax,R1,R2,C1,C2,Q0,Delta,delta_t,T,eta,i)\n",
    "            a.append(an[0])\n",
    "            b.append(bn[0])\n",
    "        p0=1\n",
    "        for i in range(len(a)):\n",
    "            temp=np.zeros(len(a))\n",
    "            temp[0:i+1]=1\n",
    "            temp=temp.tolist()\n",
    "            p0+=np.prod(a,where=temp)+np.prod(b,where=temp)\n",
    "        p0=1/p0\n",
    "        pn=p0*np.prod(a)\n",
    "        p_n=p0*np.prod(b)\n",
    "        #print(pn,p_n)\n",
    "        n.append(n[-1]+1)\n",
    "        if pn<0.0001 and p_n<0.0001:\n",
    "            #print(len(a))\n",
    "            break \n",
    "    return n[-1]\n",
    "\n",
    "def all_pD(V,R1,R2,C1,C2,Q0,Delta,delta_t,T,eta,n):\n",
    "    a=[]\n",
    "    b=[]\n",
    "    for i in range(n):\n",
    "        an,bn=PND(V,R1,R2,C1,C2,Q0,Delta,delta_t,T,eta,i)\n",
    "        a.append(an)\n",
    "        b.append(bn)\n",
    "    p0=1\n",
    "    pn=[]\n",
    "    p_n=[]\n",
    "    for i in range(n):\n",
    "        temp=np.zeros(n)\n",
    "        temp[0:i+1]=1\n",
    "        temp=temp.tolist()\n",
    "        temp1=np.full(len(V),1.0)\n",
    "        temp2=np.full(len(V),1.0)\n",
    "        for j in range(n):\n",
    "            if temp[j]<=0.1:\n",
    "                pass\n",
    "            else:\n",
    "                temp1*=a[j]       \n",
    "                temp2*=b[j]\n",
    "        p0+=temp1+temp2\n",
    "        pn.append(temp1)\n",
    "        p_n.append(temp2)\n",
    "    p0=1/p0\n",
    "    pn=p0*np.array(pn)\n",
    "    p_n=p0*np.array(p_n)\n",
    "    return p0,pn,p_n\n",
    "\n",
    "def G1nD(V,R1,R2,C1,C2,Q0,Delta,delta_t,T,eta,n):\n",
    "    return Gamma1D(V,R1,C1,C2,n,Q0,Delta,delta_t,T,eta)-Gamma1D(-V,R1,C1,C2,-n,-Q0,Delta,delta_t,T,eta)\n",
    "\n",
    "def G2nD(V,R1,R2,C1,C2,Q0,Delta,delta_t,T,eta,n):\n",
    "    return Gamma2D(V,R2,C1,C2,n,Q0,Delta,delta_t,T,eta)-Gamma2D(-V,R2,C1,C2,-n,-Q0,Delta,delta_t,T,eta)\n",
    "\n",
    "def currentD(V,R1,R2,C1,C2,Q0,Delta,delta_t,T,eta):\n",
    "    n=check_pD(V,R1,R2,C1,C2,Q0,Delta,delta_t,T,eta)\n",
    "    p0,pn,p_n=all_pD(V,R1,R2,C1,C2,Q0,Delta,delta_t,T,eta,n)\n",
    "    I=p0*G1nD(V,R1,R2,C1,C2,Q0,Delta,delta_t,T,eta,0)\n",
    "    for i in range(1,n+1):\n",
    "        I+=pn[i-1]*G1nD(V,R1,R2,C1,C2,Q0,Delta,delta_t,T,eta,i)\n",
    "        I+=p_n[i-1]*G1nD(V,R1,R2,C1,C2,Q0,Delta,delta_t,T,eta,-i)\n",
    "    t=np.gradient(I)\n",
    "    return t/np.sum(t)\n",
    "\n",
    "\n",
    "def currentD2(V,R1,R2,C1,C2,Q0,Delta,delta_t,T,eta):\n",
    "    n=check_pD(V,R1,R2,C1,C2,Q0,Delta,delta_t,T,eta)\n",
    "    p0,pn,p_n=all_pD(V,R1,R2,C1,C2,Q0,Delta,delta_t,T,eta,n)\n",
    "    I=p0*G2nD(V,R1,R2,C1,C2,Q0,Delta,delta_t,T,eta,0)\n",
    "    for i in range(1,n+1):\n",
    "        I+=pn[i-1]*G2nD(V,R1,R2,C1,C2,Q0,Delta,delta_t,T,eta,i)\n",
    "        I+=p_n[i-1]*G2nD(V,R1,R2,C1,C2,Q0,Delta,delta_t,T,eta,-i)\n",
    "    t=np.gradient(I)\n",
    "    return t/np.sum(t)\n"
   ]
  },
  {
   "cell_type": "markdown",
   "metadata": {},
   "source": [
    "## Low Impedance Superconductivity Fixed 3 Delta"
   ]
  },
  {
   "cell_type": "code",
   "execution_count": 236,
   "metadata": {},
   "outputs": [],
   "source": [
    "def bcs(delta,x,eta):\n",
    "    if delta<=0.01: \n",
    "        return 1\n",
    "    else:\n",
    "        return (np.sign(x))*np.imag(np.divide(np.abs(x+eta*1j),np.sqrt(delta-(x+eta*1j)**2)))\n",
    "    \n",
    "def bcs_i(delta,x,eta,n):\n",
    "    if np.mod(n,2)==0:\n",
    "        if delta<=0.01: \n",
    "            return 1\n",
    "        else:\n",
    "            return (np.sign(x))*np.imag(np.divide(np.abs(x+eta*1j),np.sqrt(delta-(x+eta*1j)**2)))\n",
    "    else:\n",
    "        return 1\n",
    "\n",
    "def fermi(T,x):\n",
    "    return np.divide(1,1+np.exp(x/T))\n",
    "\n",
    "def E1(C1,C2,V,n,Q0):\n",
    "    k=C2/(C1+C2)\n",
    "    return k*V+(n+Q0-1/2)/(C1+C2)\n",
    "\n",
    "def E2(C1,C2,V,n,Q0):\n",
    "    k=C1/(C1+C2)\n",
    "    return k*V+(n+Q0-1/2)/(C1+C2)\n",
    "\n",
    "def Gamma1D(V,R1,C1,C2,n,Q0,Delta,delta_t,delta_s,T,eta):\n",
    "    x=np.linspace(-4*np.max(V),4*np.max(V),7000)\n",
    "    a,b=np.meshgrid(x,E1(C1,C2,V,n,Q0))\n",
    "    t=a+b\n",
    "    return np.dot( bcs(delta_t,t,eta)*(1-fermi(T,t)),bcs_i(Delta,x,eta,n)*fermi(T,x) )/R1\n",
    "\n",
    "def Gamma2D(V,R2,C1,C2,n,Q0,Delta,delta_t,delta_s,T,eta):\n",
    "    x=np.linspace(-4*np.max(V),4*np.max(V),7000)\n",
    "    a,b=np.meshgrid(x,E2(C1,C2,V,-n,-Q0))\n",
    "    t=a+b\n",
    "    return np.dot(bcs(delta_s,t,eta)*(1-fermi(T,t)),bcs_i(Delta,x,eta,n)*fermi(T,x))/R2\n",
    "\n",
    "\n",
    "def PND(V,R1,R2,C1,C2,Q0,Delta,delta_t,delta_s,T,eta,n):\n",
    "    mn=(Gamma1D(V,R1,C1,C2,-n,Q0,Delta,delta_t,delta_s,T,eta)+Gamma2D(-V,R2,C1,C2,n,-Q0,Delta,delta_t,delta_s,T,eta))/(Gamma1D(-V,R1,C1,C2,n+1,-Q0,Delta,delta_t,delta_s,T,eta)+Gamma2D(V,R2,C1,C2,-n-1,Q0,Delta,delta_t,delta_s,T,eta))\n",
    "    en=(Gamma1D(-V,R1,C1,C2,-n,-Q0,Delta,delta_t,delta_s,T,eta)+Gamma2D(V,R2,C1,C2,n,Q0,Delta,delta_t,delta_s,T,eta))/(Gamma1D(V,R1,C1,C2,n+1,Q0,Delta,delta_t,delta_s,T,eta)+Gamma2D(-V,R2,C1,C2,-n-1,-Q0,Delta,delta_t,delta_s,T,eta))\n",
    "    return en,mn\n",
    "\n",
    "def check_pD(V,R1,R2,C1,C2,Q0,Delta,delta_t,delta_s,T,eta):\n",
    "    Vmax=V[-1]\n",
    "    n=[0]\n",
    "    while True:\n",
    "        a=[]\n",
    "        b=[]\n",
    "        for i in n:\n",
    "            an,bn=PND(Vmax,R1,R2,C1,C2,Q0,Delta,delta_t,delta_s,T,eta,i)\n",
    "            a.append(an[0])\n",
    "            b.append(bn[0])\n",
    "        p0=1\n",
    "        for i in range(len(a)):\n",
    "            temp=np.zeros(len(a))\n",
    "            temp[0:i+1]=1\n",
    "            temp=temp.tolist()\n",
    "            p0+=np.prod(a,where=temp)+np.prod(b,where=temp)\n",
    "        p0=1/p0\n",
    "        pn=p0*np.prod(a)\n",
    "        p_n=p0*np.prod(b)\n",
    "        #print(pn,p_n)\n",
    "        n.append(n[-1]+1)\n",
    "        if pn<0.0001 and p_n<0.0001:\n",
    "            #print(len(a))\n",
    "            break \n",
    "    return n[-1]\n",
    "\n",
    "def all_pD(V,R1,R2,C1,C2,Q0,Delta,delta_t,delta_s,T,eta,n):\n",
    "    a=[]\n",
    "    b=[]\n",
    "    for i in range(n):\n",
    "        an,bn=PND(V,R1,R2,C1,C2,Q0,Delta,delta_t,delta_s,T,eta,i)\n",
    "        a.append(an)\n",
    "        b.append(bn)\n",
    "    p0=1\n",
    "    pn=[]\n",
    "    p_n=[]\n",
    "    for i in range(n):\n",
    "        temp=np.zeros(n)\n",
    "        temp[0:i+1]=1\n",
    "        temp=temp.tolist()\n",
    "        temp1=np.full(len(V),1.0)\n",
    "        temp2=np.full(len(V),1.0)\n",
    "        for j in range(n):\n",
    "            if temp[j]<=0.1:\n",
    "                pass\n",
    "            else:\n",
    "                temp1*=a[j]       \n",
    "                temp2*=b[j]\n",
    "        p0+=temp1+temp2\n",
    "        pn.append(temp1)\n",
    "        p_n.append(temp2)\n",
    "    p0=1/p0\n",
    "    pn=p0*np.array(pn)\n",
    "    p_n=p0*np.array(p_n)\n",
    "    return p0,pn,p_n\n",
    "\n",
    "def G1nD(V,R1,R2,C1,C2,Q0,Delta,delta_t,delta_s,T,eta,n):\n",
    "    return Gamma1D(V,R1,C1,C2,n,Q0,Delta,delta_t,delta_s,T,eta)-Gamma1D(-V,R1,C1,C2,-n,-Q0,Delta,delta_t,delta_s,T,eta)\n",
    "\n",
    "def G2nD(V,R1,R2,C1,C2,Q0,Delta,delta_t,delta_s,T,eta,n):\n",
    "    return Gamma2D(V,R2,C1,C2,n,Q0,Delta,delta_t,delta_s,T,eta)-Gamma2D(-V,R2,C1,C2,-n,-Q0,Delta,delta_t,delta_s,T,eta)\n",
    "\n",
    "def currentD(V,R1,R2,C1,C2,Q0,Delta,delta_t,delta_s,T,eta):\n",
    "    n=check_pD(V,R1,R2,C1,C2,Q0,Delta,delta_t,delta_s,T,eta)\n",
    "    p0,pn,p_n=all_pD(V,R1,R2,C1,C2,Q0,Delta,delta_t,delta_s,T,eta,n)\n",
    "    I=p0*G1nD(V,R1,R2,C1,C2,Q0,Delta,delta_t,delta_s,T,eta,0)\n",
    "    for i in range(1,n+1):\n",
    "        I+=pn[i-1]*G1nD(V,R1,R2,C1,C2,Q0,Delta,delta_t,delta_s,T,eta,i)\n",
    "        I+=p_n[i-1]*G1nD(V,R1,R2,C1,C2,Q0,Delta,delta_t,delta_s,T,eta,-i)\n",
    "    t=np.gradient(I)\n",
    "    return t/np.sum(t)\n",
    "\n",
    "\n",
    "def currentD2(V,R1,R2,C1,C2,Q0,Delta,delta_t,delta_s,T,eta):\n",
    "    n=check_pD(V,R1,R2,C1,C2,Q0,Delta,delta_t,delta_s,T,eta)\n",
    "    p0,pn,p_n=all_pD(V,R1,R2,C1,C2,Q0,Delta,delta_t,delta_s,T,eta,n)\n",
    "    I=p0*G2nD(V,R1,R2,C1,C2,Q0,Delta,delta_t,delta_s,T,eta,0)\n",
    "    for i in range(1,n+1):\n",
    "        I+=pn[i-1]*G2nD(V,R1,R2,C1,C2,Q0,Delta,delta_t,delta_s,T,eta,i)\n",
    "        I+=p_n[i-1]*G2nD(V,R1,R2,C1,C2,Q0,Delta,delta_t,delta_s,T,eta,-i)\n",
    "    t=np.gradient(I)\n",
    "    return t/np.sum(t)\n"
   ]
  },
  {
   "cell_type": "code",
   "execution_count": 235,
   "metadata": {},
   "outputs": [
    {
     "name": "stderr",
     "output_type": "stream",
     "text": [
      "C:\\Users\\jonor\\AppData\\Local\\Temp/ipykernel_22516/3347251083.py:17: RuntimeWarning: overflow encountered in exp\n",
      "  return np.divide(1,1+np.exp(x/T))\n"
     ]
    },
    {
     "data": {
      "text/plain": [
       "<matplotlib.legend.Legend at 0x220697bffd0>"
      ]
     },
     "execution_count": 235,
     "metadata": {},
     "output_type": "execute_result"
    }
   ],
   "source": [
    "V=np.linspace(-15,15,200)\n",
    "#R1=10000\n",
    "#R2=1\n",
    "#C1=0.01\n",
    "#C2=0.5\n",
    "#Delta=1.25\n",
    "#Q0=0.1\n",
    "#T=0.1\n",
    "R1=10000\n",
    "R2=1\n",
    "C1=0.01\n",
    "C2=0.3\n",
    "Q0=0.8\n",
    "Delta=0.60\n",
    "T=0.1\n",
    "y=y/y[0]\n",
    "#plt.plot(1000*x,y)\n",
    "z=currentD(V,R1,R2,C1,C2,Q0,Delta,1.0,0.2,T,0.1)\n",
    "z=z/z[0]\n",
    "p0,pn,p_n=all_pD(V,R1,R2,C1,C2,Q0,Delta,1.0,0.2,T,0.1,5)\n",
    "plt.plot(V,p0,label='0')\n",
    "plt.plot(V,pn[0],label='1')\n",
    "plt.plot(V,pn[1],label='2')\n",
    "plt.plot(V,pn[2],label='3')\n",
    "plt.plot(V,p_n[0],label='-1')\n",
    "plt.plot(V,p_n[1],label='-2')\n",
    "plt.plot(V,p_n[3],label='-3')\n",
    "plt.plot(V,z)\n",
    "plt.vlines(1/(2*C2)+Delta+1.0+0.2-0.5/(C1+C2),0,1)\n",
    "#plt.vlines(1/(C2)+Q0,0,1)\n",
    "plt.legend(loc=1)"
   ]
  },
  {
   "cell_type": "markdown",
   "metadata": {},
   "source": [
    "# Adventure"
   ]
  },
  {
   "cell_type": "markdown",
   "metadata": {},
   "source": [
    "# Josephson Pulse"
   ]
  },
  {
   "cell_type": "code",
   "execution_count": 6,
   "metadata": {},
   "outputs": [],
   "source": [
    "files=['S230803_738.dat','S230803_747.dat','S230803_753.dat','S230803_760.dat']\n",
    "Pfiles=['C:/Users/jonor/Desktop/PhD/Lanak/Pb on Gr (analysis)/2023.07.26 - 1st evap/'+i for i in files]\n",
    "Jfiles=['S230803_744.dat','S230803_752.dat','S230803_758.dat','S230803_764.dat']\n",
    "PJfiles=['C:/Users/jonor/Desktop/PhD/Lanak/Pb on Gr (analysis)/2023.07.26 - 1st evap/'+i for i in Jfiles]\n"
   ]
  },
  {
   "cell_type": "code",
   "execution_count": 7,
   "metadata": {},
   "outputs": [
    {
     "name": "stdout",
     "output_type": "stream",
     "text": [
      "150E-6\n",
      "150E-6\n",
      "150E-6\n",
      "150E-6\n"
     ]
    }
   ],
   "source": [
    "ax1 = plt.subplot2grid((2,5), (0,0), colspan=2)\n",
    "ax2 = plt.subplot2grid((2,5), (0,3), colspan=2)\n",
    "ax3 = plt.subplot2grid((2,5), (1,0), colspan=2)\n",
    "ax4 = plt.subplot2grid((2,5), (1,3), colspan=2)\n",
    "ax=[ax1,ax2,ax3,ax4]\n",
    "for i in range(len(PJfiles)):\n",
    "    spectra.load(Pfiles[i])\n",
    "    print(spectra.header.get('Lock-in>Amplitude'))\n",
    "    x=np.array(spectra.bias)\n",
    "    y=np.array(spectra.conductance)\n",
    "    a1=min(find_nearest(x,-0.002),find_nearest(x,0.002))\n",
    "    a2=max(find_nearest(x,-0.002),find_nearest(x,0.002))\n",
    "    ax[i].plot(x[a1:a2]/x[a1],y[a1:a2]/y[a1])\n",
    "    a1=min(find_nearest(x,-0.00015),find_nearest(x,0.00015))\n",
    "    a2=max(find_nearest(x,-0.00015),find_nearest(x,0.00015))\n",
    "    #ax[i].plot(x[a1:a2],y[a1:a2])\n",
    "    #ax[i].axhline(0.0)\n",
    "    #ax[i].vlines(0.8*150e-6,np.min(y[a1:a2]),np.max(y[a1:a2]))\n",
    "    #ax[i].vlines(-0.8*150e-6,np.min(y[a1:a2]),np.max(y[a1:a2]))\n",
    "\n",
    "\n"
   ]
  },
  {
   "cell_type": "code",
   "execution_count": 42,
   "metadata": {},
   "outputs": [
    {
     "name": "stdout",
     "output_type": "stream",
     "text": [
      "4707136.270604083\n"
     ]
    },
    {
     "data": {
      "text/plain": [
       "[<matplotlib.lines.Line2D at 0x2204ef43f40>]"
      ]
     },
     "execution_count": 42,
     "metadata": {},
     "output_type": "execute_result"
    }
   ],
   "source": [
    "spectra.load(Pfiles[0])\n",
    "x=np.array(spectra.bias)\n",
    "y=np.array(spectra.conductance)\n",
    "yy=np.array(spectra.current)\n",
    "y=y/np.sum(np.abs(y))\n",
    "plt.plot(1000*x,y)\n",
    "print(np.mean(x[len(x)-20:-1]/yy[len(yy)-20:-1]))\n",
    "R1=1000\n",
    "R2=1\n",
    "C1=0.01\n",
    "C2=1.5\n",
    "Q0=0.15\n",
    "Delta=1.0\n",
    "T=0.1\n",
    "z=currentD(1000*x,R1,R2,C1,C2,Q0,Delta,1.25,T,0.1)\n",
    "z=z/np.sum(np.abs(z))\n",
    "plt.plot(1000*x,z)\n"
   ]
  },
  {
   "cell_type": "code",
   "execution_count": 65,
   "metadata": {},
   "outputs": [
    {
     "data": {
      "text/plain": [
       "[<matplotlib.lines.Line2D at 0x22051927040>]"
      ]
     },
     "execution_count": 65,
     "metadata": {},
     "output_type": "execute_result"
    }
   ],
   "source": [
    "p0,pn,p_n=all_pD(1000*x,R1,R2,C1,C2,Q0,Delta,1.25,T,0.1,3)\n",
    "a1=find_nearest(1000*x,4.58)\n",
    "a2=find_nearest(1000*x,-4.58)\n",
    "x=np.concatenate((x[0:a1],x[a2:-1]))\n",
    "p0=np.concatenate((p0[0:a1],p0[a2:-1]))\n",
    "p1=np.concatenate((pn[0][0:a1],pn[0][a2:-1]))\n",
    "p_1=np.concatenate((p_n[0][0:a1],p_n[0][a2:-1]))\n",
    "p2=np.concatenate((pn[1][0:a1],pn[1][a2:-1]))\n",
    "p_2=np.concatenate((p_n[1][0:a1],p_n[1][a2:-1]))\n",
    "plt.plot(1000*x,p0,label='0')\n",
    "plt.plot(1000*x,p1,label='1')\n",
    "plt.plot(1000*x,p_1,label='-1')\n",
    "plt.plot(1000*x,p2,label='2')\n",
    "plt.plot(1000*x,p_2,label='-2')\n",
    "spectra.load(PJfiles[0])\n",
    "x=np.array(spectra.bias)\n",
    "y=np.array(spectra.conductance)\n",
    "a1=min(find_nearest(x,-0.002),find_nearest(x,0.002))\n",
    "a2=max(find_nearest(x,-0.002),find_nearest(x,0.002))\n",
    "plt.plot(1000*x[a1:a2],y[a1:a2]/y[a1])\n"
   ]
  },
  {
   "cell_type": "code",
   "execution_count": null,
   "metadata": {},
   "outputs": [],
   "source": [
    "f= lambda x, a: 1/(x**2+a**2)\n",
    "g= lambda x, Vw: np.sqrt(Vw**2-x**2+0.00001*1j)*np.heaviside(Vw-np.abs(x),0)\n",
    "#h= lambda x, a: (-fermi(1,x)+fermi(1,-x))*(a*np.heaviside(x,0)+np.heaviside(-x,0))\n",
    "h= lambda x, a: (a*np.heaviside(x,0))-1\n",
    "\n",
    "Vw=0.1\n",
    "t=0.1\n",
    "x=np.linspace(-10,10,5000)\n",
    "V=np.linspace(-10,10,5000)\n",
    "y=f(V,t)\n",
    "a,b=np.meshgrid(x,V)\n",
    "conv=np.dot(g(a-b,Vw),f(x,0.1))\n",
    "deconv=np.dot(np.linalg.pinv(g(a-b,Vw)),f(V,0.1))\n",
    "plt.plot(V,y/np.sum(np.abs(y)))\n",
    "plt.plot(V,conv/np.sum(np.abs(conv)))\n",
    "plt.plot(x,deconv/np.sum(np.abs(deconv)))\n",
    "#plt.axhline(0.0)\n",
    "#plt.vlines(0.0,-0.001,0.001)\n"
   ]
  },
  {
   "cell_type": "markdown",
   "metadata": {},
   "source": [
    "# Deconvoluting Oscillation"
   ]
  },
  {
   "cell_type": "code",
   "execution_count": null,
   "metadata": {},
   "outputs": [],
   "source": [
    "\n",
    "conductance_new=savgol_filter(conductance_n,window,order)\n",
    "x=np.linspace(min(bias_new),max(bias_new),n)\n",
    "f2 = interp1d(bias_new, conductance_new, kind='cubic')\n",
    "deconvolutionBias = np.arange(-energyR,energyR, spacing)\n",
    "\n",
    "M_E, M_eV = np.meshgrid(deconvolutionBias,x)\n",
    "M_N = dynes_curve(M_E,gap,dynesParameter)\n",
    "M_NV = dynes_curve(M_E+M_eV,gap,dynesParameter)\n",
    "M_dNV = dynes_curve_diff(M_E+M_eV,gap,dynesParameter)\n",
    "M_f = fermiDirac(M_E, temperature)\n",
    "M_fV = fermiDirac(M_E+M_eV, temperature)\n",
    "M_dfV = fermiDirac_diff(M_E+M_eV, temperature)\n",
    "M_g = M_dNV*(M_f-M_fV) - M_NV*M_dfV\n",
    "M_g_pinv = np.linalg.pinv(M_g)\n",
    "deconvolutionConductance = np.dot(M_g_pinv,f2(x))\n",
    "return deconvolutionBias,deconvolutionConductance"
=======
    "C1=0.8\n",
    "tem=0.01\n",
    "C2=0.03\n",
    "q0=np.linspace(-0.5,0.5,10)\n",
    "h=0\n",
    "for i in q0:\n",
    "    print(i)\n",
    "    plt.plot(1000*x,current(1000*x, 1,10000, C1,C2,i,tem)+h)\n",
    "    plt.plot(1000*x,current2(1000*x, 1,10000, C1,C2,i,tem)+h)\n",
    "    h+=1"
>>>>>>> 2904fb0214ce8fe1cfdca3b4ce2f7ad855042061
   ]
  }
 ],
 "metadata": {
  "kernelspec": {
   "display_name": "Python 3",
   "language": "python",
   "name": "python3"
  },
  "language_info": {
   "codemirror_mode": {
    "name": "ipython",
    "version": 3
   },
   "file_extension": ".py",
   "mimetype": "text/x-python",
   "name": "python",
   "nbconvert_exporter": "python",
   "pygments_lexer": "ipython3",
   "version": "3.9.13"
  },
  "orig_nbformat": 4
 },
 "nbformat": 4,
 "nbformat_minor": 2
}
