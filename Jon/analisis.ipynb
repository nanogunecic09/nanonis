{
 "cells": [
  {
   "cell_type": "code",
   "execution_count": 160,
   "metadata": {},
   "outputs": [],
   "source": [
    "import sys\n",
    "sys.path.append(\"../\")\n",
    "import nanonis\n",
    "import numpy as np\n",
    "import scipy as sc\n",
    "import pandas as pd\n",
    "import matplotlib.pyplot as plt\n",
    "import xlrd\n",
    "import lmfit\n",
    "from lmfit import Model\n",
    "import matplotlib.colors as colors\n",
    "%matplotlib qt\n",
    "spectra=nanonis.biasSpectroscopy()"
   ]
  },
  {
   "cell_type": "markdown",
   "metadata": {},
   "source": [
    "# Useful functions"
   ]
  },
  {
   "cell_type": "code",
   "execution_count": 3,
   "metadata": {},
   "outputs": [],
   "source": [
    "def fermi(x,T):\n",
    "    return np.divide(1,1+np.exp(x/T))\n",
    "\n",
    "\n",
    "def BCS(x,delta,eta):\n",
    "    return np.sign(x)*np.imag(np.divide(np.abs(x+1j*eta),np.sqrt(delta**2-(x+1j*eta)**2)))\n",
    "\n",
    "def coulomb(x,Ec,Q0):\n",
    "    return np.heaviside(x-Ec-Q0,0)+np.heaviside(-x-Ec+Q0,0)\n",
    "\n",
    "def conv_dynes(x,delta1,delta2,eta,T,Ec,Q0):\n",
    "    y=np.linspace(-5*(delta1+delta2),5*(delta1+delta2),5000)\n",
    "    a,b=np.meshgrid(y,y)\n",
    "    cou=np.gradient(-np.dot(BCS(a+b,delta1,eta)*fermi(a+b,T),coulomb(y,Ec,Q0))+np.dot(BCS(a+b,delta1,eta),fermi(y,T)*coulomb(y,Ec,Q0)))\n",
    "    a,b=np.meshgrid(y,x)\n",
    "    z=np.gradient(-np.dot(BCS(a+b,delta2,eta)*fermi(a+b,T),cou)+np.dot(BCS(a+b,delta2,eta),cou*fermi(y,T)))\n",
    "    return z/z[0]\n",
    "\n",
    "def temp(x,delta1,delta2,eta,T):\n",
    "    y=np.linspace(-5*(delta1+delta2),5*(delta1+delta2),5000)\n",
    "    a,b=np.meshgrid(y,x)\n",
    "    return -np.dot(BCS(a+b,delta2,eta)*fermi(a+b,T),BCS(y,delta1,eta))+np.dot(BCS(a+b,delta2,eta),BCS(y,delta1,eta)*fermi(y,T))\n",
    "\n",
    "def temp2(V,delta1,delta2,eta,T):\n",
    "    y=np.linspace(-5*(delta1+delta2),5*(delta1+delta2),5000)\n",
    "    return np.sum(-BCS(y+V,delta2,eta)*fermi(y+V,T)*BCS(y,delta1,eta)+BCS(y+V,delta2,eta)*BCS(y,delta1,eta)*fermi(y,T))\n",
    "\n",
    "def gap(x,delta1,Bc1,Ec,a):\n",
    "    d1=(0.0013*np.real(np.sqrt(1-((x+0.0000*1j)/800)**2)))*np.heaviside(-x+800,0)\n",
    "    d2=delta1*np.real(np.sqrt(1-((x+0.0000*1j)/Bc1)**2))*np.heaviside(-x+Bc1,0)\n",
    "    d3=(-a*x)*np.heaviside(x-Bc1,0)\n",
    "    return Ec+d1+d2+d3\n",
    "   \n",
    "def coulomb_T(x,Ec,T):\n",
    "    y=np.linspace(-3*np.min(x),3*np.min(x),2000)\n",
    "    a,b=np.meshgrid(y,x)\n",
    "    return np.gradient(-np.dot(fermi(a+b,T),coulomb(y,Ec,Q0))+fermi(y,T)*coulomb(y,Ec,Q0))\n",
    "\n",
    "\n"
   ]
  },
  {
   "cell_type": "markdown",
   "metadata": {},
   "source": [
    "# File management #"
   ]
  },
  {
   "cell_type": "code",
   "execution_count": 420,
   "metadata": {},
   "outputs": [],
   "source": [
    "data=pd.read_excel(\"C:/Users/jonor/Documents/GitHub/nanonis/Order.xls\")\n",
    "path='C:/Users/jonor/Desktop/PhD/Lanak/Pb on Gr (analysis)/2023.07.26 - 1st evap/'\n"
   ]
  },
  {
   "cell_type": "code",
   "execution_count": 421,
   "metadata": {},
   "outputs": [],
   "source": [
    "Bfield_files=data.iloc[:,2]\n",
    "Bfields=data.iloc[:,3]\n",
    "size_dat=data.iloc[:,7]\n",
    "height_dat=data.iloc[:,8]\n",
    "temp=data.iloc[:,6]\n",
    "temp_files=data.iloc[:,5]\n",
    "josephson=data.iloc[:,4]"
   ]
  },
  {
   "cell_type": "markdown",
   "metadata": {},
   "source": [
    "# B Field "
   ]
  },
  {
   "cell_type": "code",
   "execution_count": 60,
   "metadata": {},
   "outputs": [],
   "source": [
    "## All files\n",
    "dat=[1,2,3,4,5,6,7,8,10,11,12,13,14,15,16,17,18,19,21,23,24]\n",
    "BFields=[]\n",
    "BFiles=[]\n",
    "size=[]\n",
    "height=[]\n",
    "for i in dat:\n",
    "    a=[int(j) for j in Bfields[i].split(',')]\n",
    "    b=Bfield_files[i].split(',')    \n",
    "    files=[path+i for i in b]\n",
    "    BFields.append(a)\n",
    "    BFiles.append(files)\n",
    "    size.append(size_dat[i])\n",
    "    height.append(height_dat[i])\n",
    "size=np.array(size)\n",
    "height=np.array(height)"
   ]
  },
  {
   "cell_type": "code",
   "execution_count": 734,
   "metadata": {},
   "outputs": [],
   "source": [
    "i=12\n",
    "a=[int(j) for j in Bfields[i].split(',')]\n",
    "b=Bfield_files[i].split(',')\n",
    "files=[path+i for i in b]\n"
   ]
  },
  {
   "cell_type": "code",
   "execution_count": 154,
   "metadata": {},
   "outputs": [],
   "source": [
    "w_B=[0,1,2,3,4,5,6,7,8,10,11,12,13,14,15,16,17,18,19,21,23,24]\n",
    "Bfiles=[]\n",
    "size=[]\n",
    "B=[]\n",
    "\n",
    "for j in w_B:\n",
    "    a=[int(i) for i in Bfields[j].split(',')]\n",
    "    b=Bfield_files[j].split(',')\n",
    "    files=[path+i for i in b]\n",
    "    B.append(a)\n",
    "    #field0=a.index(0)\n",
    "    #files_B0.append(files[field0])\n",
    "    Bfiles.append(files)\n",
    "    size.append(size_dat[j])\n"
   ]
  },
  {
   "cell_type": "markdown",
   "metadata": {},
   "source": [
    "### Plots"
   ]
  },
  {
   "cell_type": "code",
   "execution_count": 722,
   "metadata": {},
   "outputs": [
    {
     "data": {
      "text/plain": [
       "Text(0.5, 0, 'Bias (meV)')"
      ]
     },
     "execution_count": 722,
     "metadata": {},
     "output_type": "execute_result"
    }
   ],
   "source": [
    "y=[]\n",
    "for i in files:\n",
    "    spectra.load(i)\n",
    "    y.append(spectra.conductance/spectra.conductance[0])\n",
    "x=np.array(spectra.bias)\n",
    "plt.imshow(y,aspect='auto',origin='lower',extent=(1000*x[0],1000*x[-1],a[-1],a[0]))\n",
    "plt.ylabel('B(mT)')\n",
    "plt.xlabel('Bias (meV)')"
   ]
  },
  {
   "cell_type": "markdown",
   "metadata": {},
   "source": [
    "### Some info\n",
    "\n",
    "We look at the B field point after 800 mT to see the effect of B field on the coulomb gap"
   ]
  },
  {
   "cell_type": "code",
   "execution_count": 216,
   "metadata": {},
   "outputs": [],
   "source": [
    "def coulomb_T(x,Ec,Q0,T):\n",
    "    return fermi(Ec-x+Q0,T)+fermi(Ec+x-Q0,T)\n",
    "def coulomb(x,Ec,Q0):\n",
    "    T=0.0003\n",
    "    return fermi(Ec-x+Q0,T)+fermi(Ec+x-Q0,T)\n",
    "def coulomb_T2(x,Ec,Q0,T):\n",
    "    return np.sinh(np.abs(x)/T)/(np.cosh(x/T)+np.cosh(Ec/T))\n",
    "\n",
    "h=0\n",
    "Bfield=[800,900,1000,1100,1200,1300,1400,1500,1600,1700,1800,1900,2000,2100,2200,2300,2400,2500]\n",
    "Gap=[]\n",
    "Asym=[]\n",
    "Si=[]\n",
    "for k in Bfield:\n",
    "    Ec=[]\n",
    "    Q0=[]\n",
    "    size2=[]\n",
    "    for i in range(len(Bfiles)):\n",
    "        for j in range(len(Bfiles[i])):\n",
    "            if np.abs(B[i][j]-k)<=0.00001:\n",
    "                size2.append(size[i])\n",
    "                spectra.load(Bfiles[i][j])\n",
    "                x=np.array(spectra.bias)\n",
    "                y=np.array(spectra.conductance)\n",
    "                y=y/y[0]\n",
    "                #values=sc.optimize.curve_fit(coulomb_T,x,y,p0=[0.001,0.00,0.0003])[0]\n",
    "                values=sc.optimize.curve_fit(coulomb,x,y,p0=[0.001,0.00])[0]\n",
    "                #yy=coulomb_T(x,values[0],values[1],values[2])\n",
    "                #yy=coulomb(x,values[0],values[1])\n",
    "                Ec.append(values[0])\n",
    "                Q0.append(values[1])\n",
    "                #ther.append(values[2])\n",
    "                #plt.plot(x,yy+h)\n",
    "                #plt.plot(x,y+h)\n",
    "                #h+=1\n",
    "            else:\n",
    "                continue\n",
    "    Gap.append(Ec)\n",
    "    Asym.append(Q0)\n",
    "    Si.append(size2)"
   ]
  },
  {
   "cell_type": "code",
   "execution_count": 411,
   "metadata": {},
   "outputs": [],
   "source": [
    "def coulomb_T(x,Ec,Q0,T):\n",
    "    return fermi(Ec-x+Q0,T)+fermi(Ec+x-Q0,T)\n",
    "def coulomb(x,Ec,Q0):\n",
    "    T=0.0003\n",
    "    return fermi(Ec-x+Q0,T)+fermi(Ec+x-Q0,T)\n",
    "def coulomb_T2(x,Ec,Q0,T):\n",
    "    return np.sinh(np.abs(x)/T)/(np.cosh(x/T)+np.cosh(Ec/T))\n",
    "\n",
    "h=0\n",
    "Bfield=[800,900,1000,1100,1200,1300,1400,1500,1600,1700,1800,1900,2000,2100,2200,2300,2400,2500]\n",
    "Gap=[]\n",
    "Asym=[]\n",
    "Si=[]\n",
    "for k in Bfield:\n",
    "    Ec=[]\n",
    "    Q0=[]\n",
    "    size2=[]\n",
    "    for i in range(len(Bfiles)):\n",
    "        for j in range(len(Bfiles[i])):\n",
    "            if np.abs(B[i][j]-k)<=0.00001:\n",
    "                size2.append(size[i])\n",
    "                spectra.load(Bfiles[i][j])\n",
    "                x=np.array(spectra.bias)\n",
    "                y=np.array(spectra.current)\n",
    "                y=y/y[0]\n",
    "                xx=[]\n",
    "                for p in range(len(y)):\n",
    "                    if np.abs(y[p]/y[0])<0.03:\n",
    "                        xx.append(x[p])\n",
    "                Ec.append(np.array(xx)[0]-np.array(xx)[-1])\n",
    "            else:\n",
    "                continue\n",
    "        \n",
    "    Gap.append(Ec)\n",
    "    Asym.append(Q0)\n",
    "    Si.append(size2)"
   ]
  },
  {
   "cell_type": "code",
   "execution_count": 412,
   "metadata": {},
   "outputs": [
    {
     "data": {
      "text/plain": [
       "<matplotlib.collections.PathCollection at 0x1d31263d400>"
      ]
     },
     "execution_count": 412,
     "metadata": {},
     "output_type": "execute_result"
    }
   ],
   "source": [
    "\n",
    "plt.scatter(Si[4],Gap[4])\n"
   ]
  },
  {
   "cell_type": "code",
   "execution_count": 183,
   "metadata": {},
   "outputs": [],
   "source": [
    "def coulomb(x,Ec,Q0):\n",
    "    T=0.0003\n",
    "    return fermi(Ec-x+Q0,T)+fermi(Ec+x-Q0,T)\n",
    "\n",
    "\n",
    "emp=[]\n",
    "for i in Bfiles:\n",
    "    en=[]\n",
    "    for j in i:\n",
    "        en.append(0.0)\n",
    "    emp.append(en)\n",
    "Ec=emp\n",
    "Q0=emp\n",
    "for i in range(len(Bfiles)):\n",
    "    for j in range(len(Bfiles[i])):\n",
    "        spectra.load(Bfiles[i][j])\n",
    "        x=np.array(spectra.bias)\n",
    "        y=np.array(spectra.conductance)\n",
    "        y=y/y[0]\n",
    "        values=sc.optimize.curve_fit(coulomb,x,y,p0=[0.001,0.00])[0]\n",
    "        #Ec[i][j]=values[0]\n",
    "        Q0[i][j]=values[1]\n",
    "        Ec[i][j]=values[0]\n",
    "        \n",
    "        \n"
   ]
  },
  {
   "cell_type": "code",
   "execution_count": 413,
   "metadata": {},
   "outputs": [],
   "source": [
    "emp=[]\n",
    "for i in Bfiles:\n",
    "    en=[]\n",
    "    for j in i:\n",
    "        en.append(0.0)\n",
    "    emp.append(en)\n",
    "Ec=emp\n",
    "Q0=emp\n",
    "for i in range(len(Bfiles)):\n",
    "    for j in range(len(Bfiles[i])):\n",
    "        spectra.load(Bfiles[i][j])\n",
    "        x=np.array(spectra.bias)\n",
    "        y=np.array(spectra.current)\n",
    "        y=y/y[0]\n",
    "        xx=[]\n",
    "        for p in range(len(y)):\n",
    "            if np.abs(y[p]/y[0])<0.01:\n",
    "                xx.append(x[p])\n",
    "        Ec[i][j]=np.array(xx)[0]-np.array(xx)[-1]        "
   ]
  },
  {
   "cell_type": "code",
   "execution_count": null,
   "metadata": {},
   "outputs": [],
   "source": [
    "i=4\n",
    "plt.plot(xx[i],yy[i])"
   ]
  },
  {
   "cell_type": "code",
   "execution_count": 420,
   "metadata": {},
   "outputs": [],
   "source": [
    "xx=[]\n",
    "yy=[]\n",
    "for j in range(22):\n",
    "    x=[]\n",
    "    y=[]\n",
    "    si=size[j]\n",
    "    for i in range(len(B[j])):\n",
    "        if B[j][i]>=1000:\n",
    "            x.append(B[j][i])\n",
    "            y.append(Ec[j][i])\n",
    "        else:\n",
    "            continue\n",
    "    xx.append(x)\n",
    "    yy.append(y)\n",
    "    a,b=np.polyfit(x,y,1)\n",
    "    plt.plot(si,a,'o')"
   ]
  },
  {
   "cell_type": "code",
   "execution_count": 416,
   "metadata": {},
   "outputs": [
    {
     "data": {
      "text/plain": [
       "[<matplotlib.lines.Line2D at 0x1d312dbbf40>]"
      ]
     },
     "execution_count": 416,
     "metadata": {},
     "output_type": "execute_result"
    }
   ],
   "source": [
    "\n",
    "plt.plot(xx[4],yy[4])"
   ]
  },
  {
   "cell_type": "code",
   "execution_count": 241,
   "metadata": {},
   "outputs": [
    {
     "data": {
      "text/plain": [
       "<matplotlib.collections.PathCollection at 0x2389ce12a00>"
      ]
     },
     "execution_count": 241,
     "metadata": {},
     "output_type": "execute_result"
    }
   ],
   "source": [
    "plt.rcParams[\"axes.prop_cycle\"] = plt.cycler(\"color\", plt.cm.viridis(np.linspace(0,1,10)))\n",
    "#for i in range(18):\n",
    "#    plt.scatter(Si[:][i],1000*np.array(Asym[:][i]))\n",
    "plt.scatter(Si[0],1000*np.array(Asym[0]))\n",
    "plt.scatter(Si[17],1000*np.array(Asym[17]))\n",
    "\n",
    "\n",
    "#plt.scatter(size2,1000*np.array(Q08),c='#ff7f0e',label='T=8K')\n",
    "#plt.xlabel('Island Area ($nm^2$)')\n",
    "#plt.ylabel('$Q_0$ ($meV$)')\n",
    "#plt.legend()"
   ]
  },
  {
   "cell_type": "code",
   "execution_count": 234,
   "metadata": {},
   "outputs": [
    {
     "data": {
      "text/plain": [
       "(0.00021199756024640996, 0.00012050366485309387)"
      ]
     },
     "execution_count": 234,
     "metadata": {},
     "output_type": "execute_result"
    }
   ],
   "source": [
    "np.sum(np.abs(0-np.array(Asym[0])))/len(np.array(Asym[0])),np.sum(np.abs(0-np.array(Asym[17])))/len(np.array(Asym[17]))"
   ]
  },
  {
   "cell_type": "markdown",
   "metadata": {},
   "source": [
    "### Some info\n",
    "\n",
    "The simplest way to get the gao is to calculate it from the current. We take the points for which the current is zero.\n",
    "\n"
   ]
  },
  {
   "cell_type": "code",
   "execution_count": 61,
   "metadata": {},
   "outputs": [
    {
     "data": {
      "text/plain": [
       "[<matplotlib.lines.Line2D at 0x2388b88af10>]"
      ]
     },
     "execution_count": 61,
     "metadata": {},
     "output_type": "execute_result"
    }
   ],
   "source": [
    "h=0\n",
    "Ec=[]\n",
    "Eg=[]\n",
    "for k in range(len(BFiles)):\n",
    "    cur=[]\n",
    "    for i in BFiles[k]:\n",
    "        spectra.load(i)\n",
    "        cur.append(spectra.current)\n",
    "\n",
    "    t=[]\n",
    "    for j in range(len(BFiles[k])):\n",
    "        y=np.array(cur[j])\n",
    "        x=np.array(spectra.bias)\n",
    "        xx=[]\n",
    "        for i in range(len(y)):\n",
    "            if np.abs(y[i]/y[0])<0.04:\n",
    "                xx.append(x[i])\n",
    "        t.append(xx[0]-xx[-1])\n",
    "    T800=BFields[k].index(800)\n",
    "    T0=BFields[k].index(0)\n",
    "    Ec.append(t[T0])\n",
    "\n",
    "\n",
    "plt.plot(size,Ec,'bo')\n"
   ]
  },
  {
   "cell_type": "markdown",
   "metadata": {},
   "source": [
    "### Solme info\n",
    "\n",
    "The critical field for the tip is around B=800mT, while the critical field for the island should be around B=350mT. Althought the first statement is prety robust, the second is not. \n",
    "\n",
    "The following program fit the spectra with a simple convolution. The free parameters will be the coulomb gap (Ec) the shift (Q0) and the dynes parameter (eta). We will suppose that the gaps decrease following the BCS theory with the critical fields that we wrote in the previous line. This first program is not a realistic fir of the system, we will only use it to get an idea of the volution of the full gap of the measurement, i.e., E+Delta1+Delta2. We will not make assupmtions about any of this parameters from the results of this analysis."
   ]
  },
  {
   "cell_type": "code",
   "execution_count": null,
   "metadata": {},
   "outputs": [],
   "source": [
    "\n",
    "def delta(Delta,B,Bc):\n",
    "    return Delta*np.sqrt(1-(B/Bc)**2)\n",
    "\n",
    "def conv_dynes(x,delta,eta,Ec):\n",
    "    T=delta/10\n",
    "    Q0=-0.00025\n",
    "    y=np.linspace(-10*delta,10*delta,2000)\n",
    "    a,b=np.meshgrid(y,x)\n",
    "    z=np.gradient(-np.dot(BCS(a+b,delta,eta)*fermi(a+b,T),coulomb(y,Ec,Q0))+np.dot(BCS(a+b,delta,eta),fermi(y,T)*coulomb(y,Ec,Q0)))\n",
    "    return z/z[0]\n",
    "\n",
    "\n",
    "cond=[]\n",
    "for i in files:\n",
    "    spectra.load(i)\n",
    "    cond.append(spectra.conductance)\n",
    "\n",
    "gap=[]\n",
    "for j in range(0,10):\n",
    "    y=np.array(cond[j])[110:290]/np.array(cond[j])[110]\n",
    "    x=np.array(spectra.bias)[110:290]\n",
    "    temp=fit(conv_dynes,x,y,p0=[0.0013,0.0001,0.0012])\n",
    "    plt.plot(x,y+0.5*j)\n",
    "    p=temp[0]\n",
    "    z=conv_dynes(x,p[0],p[1],p[2])\n",
    "    plt.plot(x,z+0.5*j)\n",
    "    gap.append(p[0]+p[2])\n",
    "    print(j)"
   ]
  },
  {
   "cell_type": "markdown",
   "metadata": {},
   "source": [
    "# Temperature dependence"
   ]
  },
  {
   "cell_type": "code",
   "execution_count": 421,
   "metadata": {},
   "outputs": [],
   "source": [
    "data=[8,9,10,11,12,13,14,15,16,17,18,19,20,21,22,23,24]\n",
    "T=[]\n",
    "files=[]\n",
    "size=[]\n",
    "height=[]\n",
    "\n",
    "for j in data:\n",
    "    a=temp[j].split(',')\n",
    "    T.append([float(i) for i in a])\n",
    "    b=temp_files[j].split(',')\n",
    "    files.append([path+i for i in b])\n",
    "    size.append(size_dat[j])\n",
    "    height.append(height_dat[j])"
   ]
  },
  {
   "cell_type": "code",
   "execution_count": 422,
   "metadata": {},
   "outputs": [],
   "source": [
    "f=files[0][0]\n",
    "spectra.load(f)\n",
    "\n",
    "x=np.array(spectra.bias)\n",
    "y=np.array(spectra.conductance)\n",
    "y=y/np.sum(y)\n"
   ]
  },
  {
   "cell_type": "code",
   "execution_count": null,
   "metadata": {},
   "outputs": [],
   "source": [
    "x=np.linspace(-0.01,0.01,1000)\n",
    "plt.plot(x,coulomb_T(x,0.0005,0.0))"
   ]
  },
  {
   "cell_type": "code",
   "execution_count": 149,
   "metadata": {},
   "outputs": [
    {
     "data": {
      "text/plain": [
       "<matplotlib.collections.PathCollection at 0x1d2ed59e430>"
      ]
     },
     "execution_count": 149,
     "metadata": {},
     "output_type": "execute_result"
    }
   ],
   "source": [
    "def coulomb_T(x,Ec,Q0,T):\n",
    "    return fermi(Ec-x+Q0,T)+fermi(Ec+x-Q0,T)\n",
    "def coulomb(x,Ec,Q0):\n",
    "    T=0.0019455504685344104\n",
    "    return fermi(Ec-x+Q0,T)+fermi(Ec+x-Q0,T)\n",
    "def coulomb_T2(x,Ec,Q0,T):\n",
    "    return np.sinh(np.abs(x)/T)/(np.cosh(x/T)+np.cosh(Ec/T))\n",
    "Ec=[]\n",
    "Q0=[]\n",
    "ther=[]\n",
    "h=0\n",
    "temperature=8.0\n",
    "size2=[]\n",
    "for i in range(len(files)):\n",
    "    for j in range(len(files[i])):\n",
    "        if np.abs(T[i][j]-temperature)<=0.00001:\n",
    "            size2.append(size[i])\n",
    "            spectra.load(files[i][j])\n",
    "            x=np.array(spectra.bias)\n",
    "            y=np.array(spectra.conductance)\n",
    "            y=y/y[0]\n",
    "            #values=sc.optimize.curve_fit(coulomb_T,x,y,p0=[0.001,0.00,0.002])[0]\n",
    "            values=sc.optimize.curve_fit(coulomb,x,y,p0=[0.001,0.00])[0]\n",
    "            #yy=coulomb_T(x,values[0],values[1],values[2])\n",
    "            yy=coulomb(x,values[0],values[1])\n",
    "            Ec.append(values[0])\n",
    "            Q0.append(values[1])\n",
    "            #ther.append(values[2])\n",
    "            #plt.plot(x,yy+h)\n",
    "            #plt.plot(x,y+h)\n",
    "            h+=1\n",
    "        else:\n",
    "            continue\n",
    "        \n",
    "\n",
    "\n",
    "plt.scatter(size2,1000*np.array(Ec),c='#ff7f0e',label='T=7K')"
   ]
  },
  {
   "cell_type": "code",
   "execution_count": 145,
   "metadata": {},
   "outputs": [
    {
     "data": {
      "text/plain": [
       "0.0019455504685344104"
      ]
     },
     "execution_count": 145,
     "metadata": {},
     "output_type": "execute_result"
    }
   ],
   "source": [
    "np.mean(ther)"
   ]
  },
  {
   "cell_type": "code",
   "execution_count": 177,
   "metadata": {},
   "outputs": [],
   "source": [
    "Ec7\n",
    "size7\n",
    "size8\n",
    "Ec8\n",
    "Q08\n",
    "Q07"
   ]
  },
  {
   "cell_type": "code",
   "execution_count": 153,
   "metadata": {},
   "outputs": [
    {
     "data": {
      "text/plain": [
       "<matplotlib.legend.Legend at 0x1d2edcb59a0>"
      ]
     },
     "execution_count": 153,
     "metadata": {},
     "output_type": "execute_result"
    }
   ],
   "source": [
    "plt.scatter(size7,1000*np.array(Q07),c='#1f77b4',label='T=7K')\n",
    "x=np.linspace(100,2000,1000)\n",
    "#plt.plot(x,1/(0.001*x))\n",
    "plt.scatter(size8,1000*np.array(Q08),c='#ff7f0e',label='T=8K')\n",
    "plt.xlabel('Island Area ($nm^2$)')\n",
    "plt.ylabel('$E_C$ ($meV$)')\n",
    "plt.legend()\n",
    "#plt.scatter(np.array(size),1000*np.array(Q0),c='#ff7f0e')\n",
    "#plt.scatter(np.array(size),1000*np.array(ther),c='#2ca02c')"
   ]
  },
  {
   "cell_type": "code",
   "execution_count": 175,
   "metadata": {},
   "outputs": [
    {
     "data": {
      "text/plain": [
       "0.002530124760784503"
      ]
     },
     "execution_count": 175,
     "metadata": {},
     "output_type": "execute_result"
    }
   ],
   "source": [
    "np.sum(np.array(ther))/len(ther)"
   ]
  },
  {
   "cell_type": "markdown",
   "metadata": {},
   "source": [
    "# Josephson "
   ]
  },
  {
   "cell_type": "code",
   "execution_count": 434,
   "metadata": {},
   "outputs": [],
   "source": [
    "files=[]\n",
    "a=[1,2,3,4,6,8,11,12,13,14,15,16,18,19,21,22,23,24]\n",
    "for j in a:\n",
    "    files.append([path+i for i in josephson[j].split(',')])\n",
    "files\n",
    "for i in files[6]:\n",
    "    spectra.load(i)\n",
    "    x=spectra.bias\n",
    "    y=np.array(spectra.conductance)\n",
    "    yt=np.sum(y)\n",
    "    plt.plot(x,y/yt)"
   ]
  },
  {
   "cell_type": "code",
   "execution_count": 436,
   "metadata": {},
   "outputs": [
    {
     "data": {
      "text/plain": [
       "<matplotlib.collections.PathCollection at 0x1d310f33400>"
      ]
     },
     "execution_count": 436,
     "metadata": {},
     "output_type": "execute_result"
    }
   ],
   "source": [
    "i=files[6][1]\n",
    "spectra.load(i)\n",
    "x=np.array(spectra.bias)[150:350]\n",
    "y=np.array(spectra.conductance)[150:350]\n",
    "yt=np.sum(y)\n",
    "y=y/yt\n",
    "#a,b,c=np.polyfit(x,y,2)\n",
    "#y=y-a*x**2+b*x+c\n",
    "y=sc.signal.savgol_filter(y,7,1)\n",
    "peak=sc.signal.find_peaks(y,threshold=0.000001,width=3,height=0.001)[0]\n",
    "plt.plot(x,y)\n",
    "plt.scatter(x[peak],y[peak])"
   ]
  },
  {
   "cell_type": "code",
   "execution_count": 442,
   "metadata": {},
   "outputs": [],
   "source": [
    "\n",
    "h=0\n",
    "for j in range(len(files)):\n",
    "    i=files[j][1]\n",
    "    spectra.load(i)\n",
    "    x=spectra.bias\n",
    "    xx=np.array(spectra.bias)[150:len(x)-150]\n",
    "    y=np.array(spectra.conductance)[150:len(x)-150]\n",
    "    yt=np.sum(y)\n",
    "    y=y/yt\n",
    "    y=sc.signal.savgol_filter(y,7,1)\n",
    "    peak=sc.signal.find_peaks(y,threshold=0.000001,width=3,height=0.001)[0]\n",
    "    plt.scatter(xx[peak],y[peak]+0.01*h)\n",
    "    plt.plot(xx,y+0.01*h)\n",
    "    h+=1\n"
   ]
  },
  {
   "cell_type": "code",
   "execution_count": 463,
   "metadata": {},
   "outputs": [
    {
     "data": {
      "text/plain": [
       "<matplotlib.collections.PathCollection at 0x1d320566df0>"
      ]
     },
     "execution_count": 463,
     "metadata": {},
     "output_type": "execute_result"
    }
   ],
   "source": [
    "i=files[7][0]\n",
    "spectra.load(i)\n",
    "x=spectra.bias\n",
    "xx=np.array(spectra.bias)\n",
    "y=np.array(spectra.conductance)\n",
    "yt=np.sum(y)\n",
    "y=y/yt\n",
    "peak=sc.signal.find_peaks(y,threshold=0.000001,width=3,height=0.001)[0]\n",
    "plt.plot(xx,y)\n",
    "plt.scatter(xx[peak],y[peak])\n",
    "\n",
    "\n",
    "i=files[7][2]\n",
    "spectra.load(i)\n",
    "x=spectra.bias\n",
    "xx=np.array(spectra.bias)\n",
    "y=np.array(spectra.conductance)\n",
    "yt=np.sum(y)\n",
    "y=y/yt\n",
    "peak=sc.signal.find_peaks(y,threshold=0.000001,width=3,height=0.003)[0]\n",
    "plt.plot(xx,y)\n",
    "plt.scatter(xx[peak],y[peak])"
   ]
  },
  {
   "cell_type": "markdown",
   "metadata": {},
   "source": [
    "# Islans by island"
   ]
  },
  {
   "cell_type": "code",
   "execution_count": 422,
   "metadata": {},
   "outputs": [],
   "source": [
    "dat=[ 8, 11, 12, 13, 14, 15, 16, 17, 18, 19, 21, 23, 24]\n",
    "T=[]\n",
    "Tfiles=[]\n",
    "Bfiles=[]\n",
    "Jfiles=[]\n",
    "size=[]\n",
    "height=[]\n",
    "Bfiles=[]\n",
    "B=[]\n",
    "\n",
    "for j in dat:\n",
    "\n",
    "    T.append([float(i) for i in temp[j].split(',')])\n",
    "\n",
    "    Tfiles.append([path+i for i in temp_files[j].split(',')])\n",
    "\n",
    "    size.append(size_dat[j])\n",
    "\n",
    "    height.append(height_dat[j])\n",
    "\n",
    "    B.append([int(i) for i in Bfields[j].split(',')])\n",
    "\n",
    "    Bfiles.append([path+i for i in Bfield_files[j].split(',')])\n",
    "\n",
    "    Jfiles.append([path+i for i in josephson[j].split(',')])\n",
    "\n",
    "\n"
   ]
  },
  {
   "cell_type": "code",
   "execution_count": 483,
   "metadata": {},
   "outputs": [],
   "source": [
    "C1=[]\n",
    "Q0=[]\n",
    "ther=[]\n",
    "C2=[]\n",
    "h=0\n",
    "for i in range(len(dat)):\n",
    "    spectra.load(Tfiles[i][T[i].index(8.0)])\n",
    "    x=np.array(spectra.bias)\n",
    "    y=np.array(spectra.conductance)\n",
    "    y=y/np.sum(y)\n",
    "    plt.plot(1000*x,y+0.005*h)\n",
    "    par=sc.optimize.curve_fit(lambda xx, C1,Q0,T,C2: current(xx, 1,10000, C1,C2,Q0,T), 1000*x, y,p0=[0.9,0.0,1,0.01],bounds=([0.1,-0.45,0.64,0.005],[1.0,0.45,1.5,0.1]))[0]\n",
    "    a=current(1000*x,1,10000,par[0],par[3],par[1],par[2])\n",
    "    plt.plot(1000*x,a+0.005*h)\n",
    "    h+=1\n",
    "    C1.append(par[0])\n",
    "    Q0.append(par[1])\n",
    "    ther.append(par[2])\n",
    "    C2.append(par[3])\n"
   ]
  },
  {
   "cell_type": "code",
   "execution_count": 486,
   "metadata": {},
   "outputs": [
    {
     "data": {
      "text/plain": [
       "Text(0.5, 0, 'Bias (meV)')"
      ]
     },
     "execution_count": 486,
     "metadata": {},
     "output_type": "execute_result"
    }
   ],
   "source": [
    "y=[]\n",
    "for i in Bfiles[1]:\n",
    "    spectra.load(i)\n",
    "    y.append(spectra.conductance/spectra.conductance[0])\n",
    "x=np.array(spectra.bias)\n",
    "plt.imshow(y,aspect='auto',origin='lower',extent=(1000*x[0],1000*x[-1],a[-1],a[0]))\n",
    "plt.ylabel('B(mT)')\n",
    "plt.xlabel('Bias (meV)')"
   ]
  },
  {
   "cell_type": "code",
   "execution_count": 481,
   "metadata": {},
   "outputs": [
    {
     "data": {
      "text/plain": [
       "<matplotlib.legend.Legend at 0x2315b1a8970>"
      ]
     },
     "execution_count": 481,
     "metadata": {},
     "output_type": "execute_result"
    }
   ],
   "source": [
    "Ec=[]\n",
    "for i in range(len(C18)):\n",
    "    Ec.append(min(1/(2*C28[i]),1/(2*C18[i])))\n",
    "plt.scatter(size,Ec,label='8K')\n",
    "Ec=[]\n",
    "for i in range(len(C17)):\n",
    "    Ec.append(min(1/(2*C27[i]),1/(2*C17[i])))\n",
    "plt.scatter(size,Ec,label='7K')\n",
    "plt.xlabel('Size ($nm^2$)')\n",
    "plt.ylabel('$E_C$ ($meV$)')\n",
    "plt.legend()\n"
   ]
  },
  {
   "cell_type": "code",
   "execution_count": 454,
   "metadata": {},
   "outputs": [
    {
     "data": {
      "text/plain": [
       "0.043209116899231875"
      ]
     },
     "execution_count": 454,
     "metadata": {},
     "output_type": "execute_result"
    }
   ],
   "source": [
    "np.mean(C2)"
   ]
  },
  {
   "cell_type": "code",
   "execution_count": 446,
   "metadata": {},
   "outputs": [
    {
     "data": {
      "text/plain": [
       "[<matplotlib.lines.Line2D at 0x231564102b0>]"
      ]
     },
     "execution_count": 446,
     "metadata": {},
     "output_type": "execute_result"
    }
   ],
   "source": [
    "i=4\n",
    "spectra.load(Tfiles[i][T[i].index(7.0)])\n",
    "x=np.array(spectra.bias)\n",
    "y=np.array(spectra.conductance)\n",
    "y=y/np.sum(y)\n",
    "plt.plot(1000*x,y)\n",
    "#par=sc.optimize.curve_fit(lambda xx, C1,Q0,T: current(xx, 1,10000, C1,0.01,Q0,T), 1000*x, y,p0=[0.9,0.0,1],bounds=([0.1,-0.5,0.64],[1.0,0.5,1.5]))[0]\n",
    "q0=0.1\n",
    "C1=0.4\n",
    "tem=1\n",
    "C2=0.05\n",
    "plt.plot(1000*x,current(1000*x, 1,10000, C1,C2,q0,tem))\n",
    "#plt.plot(1000*x,current2(1000*x, 1,10000, C1,C2,q0,tem))\n"
   ]
  },
  {
   "cell_type": "markdown",
   "metadata": {},
   "source": [
    "## Low impedance"
   ]
  },
  {
   "cell_type": "code",
   "execution_count": 413,
   "metadata": {},
   "outputs": [],
   "source": [
    "def fermi(T,x):\n",
    "    return np.divide(1,1+np.exp(x/T))\n",
    "\n",
    "def E1(C1,C2,V,n,Q0):\n",
    "    k=C2/(C1+C2)\n",
    "    return k*V+(n+Q0-1/2)/(C1+C2)\n",
    "\n",
    "def E2(C1,C2,V,n,Q0):\n",
    "    k=C1/(C1+C2)\n",
    "    return k*V+(n+Q0-1/2)/(C1+C2)\n",
    "\n",
    "def Gamma1(V,R1,C1,C2,n,Q0,T):\n",
    "    k=C2/(C1+C2)\n",
    "    Ec=(C1+C2)/(2*C1*C2)\n",
    "    x=E1(C1,C2,V,n,Q0)\n",
    "    return (x/(1-np.exp(-x/T)))/R1\n",
    "\n",
    "def Gamma2(V,R2,C1,C2,n,Q0,T):\n",
    "    k=C1/(C1+C2)\n",
    "    Ec=(C1+C2)/(2*C1*C2)\n",
    "    x=E2(C1,C2,V,-n,-Q0)\n",
    "    return (x/(1-np.exp(-x/T)))/R2\n",
    "\n",
    "\n",
    "def PN(V,R1,R2,C1,C2,Q0,T,n):\n",
    "    mn=(Gamma1(V,R1,C1,C2,-n,Q0,T)+Gamma2(-V,R2,C1,C2,n,-Q0,T))/(Gamma1(-V,R1,C1,C2,n+1,-Q0,T)+Gamma2(V,R2,C1,C2,-n-1,Q0,T))\n",
    "    en=(Gamma1(-V,R1,C1,C2,-n,-Q0,T)+Gamma2(V,R2,C1,C2,n,Q0,T))/(Gamma1(V,R1,C1,C2,n+1,Q0,T)+Gamma2(-V,R2,C1,C2,-n-1,-Q0,T))\n",
    "    return en,mn\n",
    "\n",
    "def check_p(V,R1,R2,C1,C2,Q0,T):\n",
    "    Vmax=V\n",
    "    n=[0]\n",
    "    while True:\n",
    "        a=[]\n",
    "        b=[]\n",
    "        for i in n:\n",
    "            an,bn=PN(Vmax,R1,R2,C1,C2,Q0,T,i)\n",
    "            a.append(an[0])\n",
    "            b.append(bn[0])\n",
    "        p0=1\n",
    "        for i in range(len(a)):\n",
    "            temp=np.zeros(len(a))\n",
    "            temp[0:i+1]=1\n",
    "            temp=temp.tolist()\n",
    "            p0+=np.prod(a,where=temp)+np.prod(b,where=temp)\n",
    "        p0=1/p0\n",
    "        pn=p0*np.prod(a)\n",
    "        p_n=p0*np.prod(b)\n",
    "        #print(pn,p_n)\n",
    "        n.append(n[-1]+1)\n",
    "        if np.sum(pn)<0.001 and np.sum(p_n)<0.001:\n",
    "            #print(len(a))\n",
    "            break \n",
    "    return n[-1]\n",
    "\n",
    "def all_p(V,R1,R2,C1,C2,Q0,T,n):\n",
    "    a=[]\n",
    "    b=[]\n",
    "    for i in range(n):\n",
    "        an,bn=PN(V,R1,R2,C1,C2,Q0,T,i)\n",
    "        a.append(an)\n",
    "        b.append(bn)\n",
    "    p0=1\n",
    "    pn=[]\n",
    "    p_n=[]\n",
    "    for i in range(n):\n",
    "        temp=np.zeros(n)\n",
    "        temp[0:i+1]=1\n",
    "        temp=temp.tolist()\n",
    "        temp1=np.full(len(V),1.0)\n",
    "        temp2=np.full(len(V),1.0)\n",
    "        for j in range(n):\n",
    "            if temp[j]<=0.1:\n",
    "                pass\n",
    "            else:\n",
    "                temp1*=a[j]       \n",
    "                temp2*=b[j]\n",
    "        p0+=temp1+temp2\n",
    "        pn.append(temp1)\n",
    "        p_n.append(temp2)\n",
    "    p0=1/p0\n",
    "    pn=p0*np.array(pn)\n",
    "    p_n=p0*np.array(p_n)\n",
    "    return p0,pn,p_n\n",
    "\n",
    "def G1n(V,R1,C1,C2,Q0,T,n):\n",
    "    return Gamma1(V,R1,C1,C2,n,Q0,T)-Gamma1(-V,R1,C1,C2,-n,-Q0,T)\n",
    "\n",
    "def G2n(V,R2,C1,C2,Q0,T,n):\n",
    "    return Gamma2(V,R2,C1,C2,n,Q0,T)-Gamma2(-V,R2,C1,C2,-n,-Q0,T)\n",
    "\n",
    "def current(V,R1,R2,C1,C2,Q0,T):\n",
    "    n=check_p(V,R1,R2,C1,C2,Q0,T)\n",
    "    p0,pn,p_n=all_p(V,R1,R2,C1,C2,Q0,T,n)\n",
    "    I=p0*G1n(V,R1,C1,C2,Q0,T,0)\n",
    "    for i in range(1,n+1):\n",
    "        I+=pn[i-1]*G1n(V,R1,C1,C2,Q0,T,i)\n",
    "        I+=p_n[i-1]*G1n(V,R1,C1,C2,Q0,T,-i)\n",
    "    t=np.gradient(I)\n",
    "    return t/np.sum(t)\n",
    "\n",
    "\n",
    "def current2(V,R1,R2,C1,C2,Q0,T):\n",
    "    n=check_p(V,R1,R2,C1,C2,Q0,T)\n",
    "    p0,pn,p_n=all_p(V,R1,R2,C1,C2,Q0,T,n)\n",
    "    I=p0*G2n(V,R2,C1,C2,Q0,T,0)\n",
    "    for i in range(1,n+1):\n",
    "        I+=pn[i-1]*G2n(V,R2,C1,C2,Q0,T,i)\n",
    "        I+=p_n[i-1]*G2n(V,R2,C1,C2,Q0,T,-i)\n",
    "    t=np.gradient(I)\n",
    "    return len(t)*t/np.sum(t)"
   ]
  },
  {
   "cell_type": "markdown",
   "metadata": {},
   "source": [
    "## High impedance"
   ]
  },
  {
   "cell_type": "code",
   "execution_count": 198,
   "metadata": {},
   "outputs": [],
   "source": [
    "def fermi(T,x):\n",
    "    return np.divide(1,1+np.exp(x/T))\n",
    "\n",
    "def E1(C1,C2,V,n,Q0):\n",
    "    k=C2/(C1+C2)\n",
    "    return k*V+(n+Q0-1/2)/(C1+C2)\n",
    "\n",
    "def E2(C1,C2,V,n,Q0):\n",
    "    k=C1/(C1+C2)\n",
    "    return k*V+(n+Q0-1/2)/(C1+C2)\n",
    "\n",
    "def Gamma1(V,R1,C1,C2,n,Q0,T):\n",
    "    k=C2/(C1+C2)\n",
    "    Ec=(C1+C2)/(2*C1*C2)\n",
    "    x=E1(C1,C2,V,n,Q0)-k**2*Ec\n",
    "    return (x/(1-np.exp(-x/T)))/R1\n",
    "\n",
    "def Gamma2(V,R2,C1,C2,n,Q0,T):\n",
    "    k=C1/(C1+C2)\n",
    "    Ec=(C1+C2)/(2*C1*C2)\n",
    "    x=E2(C1,C2,V,-n,-Q0)-k**2*Ec\n",
    "    return (x/(1-np.exp(-x/T)))/R2\n",
    "\n",
    "\n",
    "def PN(V,R1,R2,C1,C2,Q0,T,n):\n",
    "    mn=(Gamma1(V,R1,C1,C2,-n,Q0,T)+Gamma2(-V,R2,C1,C2,n,-Q0,T))/(Gamma1(-V,R1,C1,C2,n+1,-Q0,T)+Gamma2(V,R2,C1,C2,-n-1,Q0,T))\n",
    "    en=(Gamma1(-V,R1,C1,C2,-n,-Q0,T)+Gamma2(V,R2,C1,C2,n,Q0,T))/(Gamma1(V,R1,C1,C2,n+1,Q0,T)+Gamma2(-V,R2,C1,C2,-n-1,-Q0,T))\n",
    "    return en,mn\n",
    "\n",
    "def check_p(V,R1,R2,C1,C2,Q0,T):\n",
    "    Vmax=V\n",
    "    n=[0]\n",
    "    while True:\n",
    "        a=[]\n",
    "        b=[]\n",
    "        for i in n:\n",
    "            an,bn=PN(Vmax,R1,R2,C1,C2,Q0,T,i)\n",
    "            a.append(an[0])\n",
    "            b.append(bn[0])\n",
    "        p0=1\n",
    "        for i in range(len(a)):\n",
    "            temp=np.zeros(len(a))\n",
    "            temp[0:i+1]=1\n",
    "            temp=temp.tolist()\n",
    "            p0+=np.prod(a,where=temp)+np.prod(b,where=temp)\n",
    "        p0=1/p0\n",
    "        pn=p0*np.prod(a)\n",
    "        p_n=p0*np.prod(b)\n",
    "        #print(pn,p_n)\n",
    "        n.append(n[-1]+1)\n",
    "        if np.sum(pn)<0.001 and np.sum(p_n)<0.001:\n",
    "            #print(len(a))\n",
    "            break \n",
    "    return n[-1]\n",
    "\n",
    "def all_p(V,R1,R2,C1,C2,Q0,T,n):\n",
    "    a=[]\n",
    "    b=[]\n",
    "    for i in range(n):\n",
    "        an,bn=PN(V,R1,R2,C1,C2,Q0,T,i)\n",
    "        a.append(an)\n",
    "        b.append(bn)\n",
    "    p0=1\n",
    "    pn=[]\n",
    "    p_n=[]\n",
    "    for i in range(n):\n",
    "        temp=np.zeros(n)\n",
    "        temp[0:i+1]=1\n",
    "        temp=temp.tolist()\n",
    "        temp1=np.full(len(V),1.0)\n",
    "        temp2=np.full(len(V),1.0)\n",
    "        for j in range(n):\n",
    "            if temp[j]<=0.1:\n",
    "                pass\n",
    "            else:\n",
    "                temp1*=a[j]       \n",
    "                temp2*=b[j]\n",
    "        p0+=temp1+temp2\n",
    "        pn.append(temp1)\n",
    "        p_n.append(temp2)\n",
    "    p0=1/p0\n",
    "    pn=p0*np.array(pn)\n",
    "    p_n=p0*np.array(p_n)\n",
    "    return p0,pn,p_n\n",
    "\n",
    "def G1n(V,R1,C1,C2,Q0,T,n):\n",
    "    return Gamma1(V,R1,C1,C2,n,Q0,T)-Gamma1(-V,R1,C1,C2,-n,-Q0,T)\n",
    "\n",
    "def G2n(V,R2,C1,C2,Q0,T,n):\n",
    "    return Gamma2(V,R2,C1,C2,n,Q0,T)-Gamma2(-V,R2,C1,C2,-n,-Q0,T)\n",
    "\n",
    "def current(V,R1,R2,C1,C2,Q0,T):\n",
    "    n=check_p(V,R1,R2,C1,C2,Q0,T)\n",
    "    p0,pn,p_n=all_p(V,R1,R2,C1,C2,Q0,T,n)\n",
    "    I=p0*G1n(V,R1,C1,C2,Q0,T,0)\n",
    "    for i in range(1,n+1):\n",
    "        I+=pn[i-1]*G1n(V,R1,C1,C2,Q0,T,i)\n",
    "        I+=p_n[i-1]*G1n(V,R1,C1,C2,Q0,T,-i)\n",
    "    t=np.gradient(I)\n",
    "    return len(t)*t/np.sum(t)\n",
    "\n",
    "\n",
    "def current2(V,R1,R2,C1,C2,Q0,T):\n",
    "    n=check_p(V,R1,R2,C1,C2,Q0,T)\n",
    "    p0,pn,p_n=all_p(V,R1,R2,C1,C2,Q0,T,n)\n",
    "    I=p0*G2n(V,R2,C1,C2,Q0,T,0)\n",
    "    for i in range(1,n+1):\n",
    "        I+=pn[i-1]*G2n(V,R2,C1,C2,Q0,T,i)\n",
    "        I+=p_n[i-1]*G2n(V,R2,C1,C2,Q0,T,-i)\n",
    "    t=np.gradient(I)\n",
    "    return len(t)*t/np.sum(t)"
   ]
  },
  {
   "cell_type": "markdown",
   "metadata": {},
   "source": [
    "## Experimental broadening"
   ]
  },
  {
   "cell_type": "code",
   "execution_count": 319,
   "metadata": {},
   "outputs": [],
   "source": [
    "def conv_lockin(V,R1,R2,C1,C2,Q0,T,Vw):\n",
    "    x=np.linspace(-Vw,Vw,len(V))\n",
    "    a,b=np.meshgrid(V,x)\n",
    "    conv=[]\n",
    "    for i in V:\n",
    "        f=current(i+x,R1,R2,C1,C2,Q0,T)\n",
    "        g=(Vw**2-x**2)**(3/2)/(Vw**2)\n",
    "        conv.append(np.sum(f*g))\n",
    "    np.array(conv)\n",
    "    out=np.gradient(conv)\n",
    "    return out/np.sum(out)"
   ]
  },
  {
   "cell_type": "markdown",
   "metadata": {},
   "source": [
    "## Low Impedance Superconductivity"
   ]
  }
 ],
 "metadata": {
  "kernelspec": {
   "display_name": "Python 3",
   "language": "python",
   "name": "python3"
  },
  "language_info": {
   "codemirror_mode": {
    "name": "ipython",
    "version": 3
   },
   "file_extension": ".py",
   "mimetype": "text/x-python",
   "name": "python",
   "nbconvert_exporter": "python",
   "pygments_lexer": "ipython3",
   "version": "3.9.13"
  },
  "orig_nbformat": 4
 },
 "nbformat": 4,
 "nbformat_minor": 2
}
