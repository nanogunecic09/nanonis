{
 "cells": [
  {
   "cell_type": "code",
   "execution_count": 2,
   "metadata": {},
   "outputs": [],
   "source": [
    "import sys\n",
    "sys.path.append(\"../\")\n",
    "import nanonis\n",
    "import numpy as np\n",
    "import scipy as sc\n",
    "import pandas as pd\n",
    "import matplotlib.pyplot as plt\n",
    "import xlrd\n",
    "import lmfit\n",
    "from lmfit import Model\n",
    "import matplotlib.colors as colors\n",
    "%matplotlib qt\n",
    "spectra=nanonis.biasSpectroscopy()"
   ]
  },
  {
   "cell_type": "markdown",
   "metadata": {},
   "source": [
    "# Useful functions"
   ]
  },
  {
   "cell_type": "code",
   "execution_count": 3,
   "metadata": {},
   "outputs": [],
   "source": [
    "def fermi(x,T):\n",
    "    return np.divide(1,1+np.exp(x/T))\n",
    "\n",
    "\n",
    "def BCS(x,delta,eta):\n",
    "    return np.sign(x)*np.imag(np.divide(np.abs(x+1j*eta),np.sqrt(delta**2-(x+1j*eta)**2)))\n",
    "\n",
    "def coulomb(x,Ec,Q0):\n",
    "    return np.heaviside(x-Ec-Q0,0)+np.heaviside(-x-Ec+Q0,0)\n",
    "\n",
    "def conv_dynes(x,delta1,delta2,eta,T,Ec,Q0):\n",
    "    y=np.linspace(-5*(delta1+delta2),5*(delta1+delta2),5000)\n",
    "    a,b=np.meshgrid(y,y)\n",
    "    cou=np.gradient(-np.dot(BCS(a+b,delta1,eta)*fermi(a+b,T),coulomb(y,Ec,Q0))+np.dot(BCS(a+b,delta1,eta),fermi(y,T)*coulomb(y,Ec,Q0)))\n",
    "    a,b=np.meshgrid(y,x)\n",
    "    z=np.gradient(-np.dot(BCS(a+b,delta2,eta)*fermi(a+b,T),cou)+np.dot(BCS(a+b,delta2,eta),cou*fermi(y,T)))\n",
    "    return z/z[0]\n",
    "\n",
    "def temp(x,delta1,delta2,eta,T):\n",
    "    y=np.linspace(-5*(delta1+delta2),5*(delta1+delta2),5000)\n",
    "    a,b=np.meshgrid(y,x)\n",
    "    return -np.dot(BCS(a+b,delta2,eta)*fermi(a+b,T),BCS(y,delta1,eta))+np.dot(BCS(a+b,delta2,eta),BCS(y,delta1,eta)*fermi(y,T))\n",
    "\n",
    "def temp2(V,delta1,delta2,eta,T):\n",
    "    y=np.linspace(-5*(delta1+delta2),5*(delta1+delta2),5000)\n",
    "    return np.sum(-BCS(y+V,delta2,eta)*fermi(y+V,T)*BCS(y,delta1,eta)+BCS(y+V,delta2,eta)*BCS(y,delta1,eta)*fermi(y,T))\n",
    "\n",
    "def gap(x,delta1,Bc1,Ec,a):\n",
    "    d1=(0.0013*np.real(np.sqrt(1-((x+0.0000*1j)/800)**2)))*np.heaviside(-x+800,0)\n",
    "    d2=delta1*np.real(np.sqrt(1-((x+0.0000*1j)/Bc1)**2))*np.heaviside(-x+Bc1,0)\n",
    "    d3=(-a*x)*np.heaviside(x-Bc1,0)\n",
    "    return Ec+d1+d2+d3\n",
    "   \n",
    "def coulomb_T(x,Ec,T):\n",
    "    y=np.linspace(-3*np.min(x),3*np.min(x),2000)\n",
    "    a,b=np.meshgrid(y,x)\n",
    "    return np.gradient(-np.dot(fermi(a+b,T),coulomb(y,Ec,Q0))+fermi(y,T)*coulomb(y,Ec,Q0))\n",
    "\n",
    "\n"
   ]
  },
  {
   "cell_type": "markdown",
   "metadata": {},
   "source": [
    "# File management #"
   ]
  },
  {
   "cell_type": "code",
   "execution_count": 242,
   "metadata": {},
   "outputs": [],
   "source": [
    "data=pd.read_excel(\"C:/Users/jonor/Documents/GitHub/nanonis/Order.xls\")\n",
    "path='C:/Users/jonor/Desktop/PhD/Lanak/Pb on Gr (analysis)/2023.07.26 - 1st evap/'\n"
   ]
  },
  {
   "cell_type": "code",
   "execution_count": 244,
   "metadata": {},
   "outputs": [],
   "source": [
    "Bfield_files=data.iloc[:,2]\n",
    "Bfields=data.iloc[:,3]\n",
    "size_dat=data.iloc[:,7]\n",
    "height_dat=data.iloc[:,8]\n",
    "temp=data.iloc[:,6]\n",
    "temp_files=data.iloc[:,5]\n",
    "josephson=data.iloc[:,4]"
   ]
  },
  {
   "cell_type": "markdown",
   "metadata": {},
   "source": [
    "# B Field "
   ]
  },
  {
   "cell_type": "code",
   "execution_count": 60,
   "metadata": {},
   "outputs": [],
   "source": [
    "## All files\n",
    "dat=[1,2,3,4,5,6,7,8,10,11,12,13,14,15,16,17,18,19,21,23,24]\n",
    "BFields=[]\n",
    "BFiles=[]\n",
    "size=[]\n",
    "height=[]\n",
    "for i in dat:\n",
    "    a=[int(j) for j in Bfields[i].split(',')]\n",
    "    b=Bfield_files[i].split(',')    \n",
    "    files=[path+i for i in b]\n",
    "    BFields.append(a)\n",
    "    BFiles.append(files)\n",
    "    size.append(size_dat[i])\n",
    "    height.append(height_dat[i])\n",
    "size=np.array(size)\n",
    "height=np.array(height)"
   ]
  },
  {
   "cell_type": "code",
   "execution_count": 734,
   "metadata": {},
   "outputs": [],
   "source": [
    "i=12\n",
    "a=[int(j) for j in Bfields[i].split(',')]\n",
    "b=Bfield_files[i].split(',')\n",
    "files=[path+i for i in b]\n"
   ]
  },
  {
   "cell_type": "code",
   "execution_count": 154,
   "metadata": {},
   "outputs": [],
   "source": [
    "w_B=[0,1,2,3,4,5,6,7,8,10,11,12,13,14,15,16,17,18,19,21,23,24]\n",
    "Bfiles=[]\n",
    "size=[]\n",
    "B=[]\n",
    "\n",
    "for j in w_B:\n",
    "    a=[int(i) for i in Bfields[j].split(',')]\n",
    "    b=Bfield_files[j].split(',')\n",
    "    files=[path+i for i in b]\n",
    "    B.append(a)\n",
    "    #field0=a.index(0)\n",
    "    #files_B0.append(files[field0])\n",
    "    Bfiles.append(files)\n",
    "    size.append(size_dat[j])\n"
   ]
  },
  {
   "cell_type": "markdown",
   "metadata": {},
   "source": [
    "### Plots"
   ]
  },
  {
   "cell_type": "code",
   "execution_count": 722,
   "metadata": {},
   "outputs": [
    {
     "data": {
      "text/plain": [
       "Text(0.5, 0, 'Bias (meV)')"
      ]
     },
     "execution_count": 722,
     "metadata": {},
     "output_type": "execute_result"
    }
   ],
   "source": [
    "y=[]\n",
    "for i in files:\n",
    "    spectra.load(i)\n",
    "    y.append(spectra.conductance/spectra.conductance[0])\n",
    "x=np.array(spectra.bias)\n",
    "plt.imshow(y,aspect='auto',origin='lower',extent=(1000*x[0],1000*x[-1],a[-1],a[0]))\n",
    "plt.ylabel('B(mT)')\n",
    "plt.xlabel('Bias (meV)')"
   ]
  },
  {
   "cell_type": "markdown",
   "metadata": {},
   "source": [
    "### Some info\n",
    "\n",
    "We look at the B field point after 800 mT to see the effect of B field on the coulomb gap"
   ]
  },
  {
   "cell_type": "code",
   "execution_count": 216,
   "metadata": {},
   "outputs": [],
   "source": [
    "def coulomb_T(x,Ec,Q0,T):\n",
    "    return fermi(Ec-x+Q0,T)+fermi(Ec+x-Q0,T)\n",
    "def coulomb(x,Ec,Q0):\n",
    "    T=0.0003\n",
    "    return fermi(Ec-x+Q0,T)+fermi(Ec+x-Q0,T)\n",
    "def coulomb_T2(x,Ec,Q0,T):\n",
    "    return np.sinh(np.abs(x)/T)/(np.cosh(x/T)+np.cosh(Ec/T))\n",
    "\n",
    "h=0\n",
    "Bfield=[800,900,1000,1100,1200,1300,1400,1500,1600,1700,1800,1900,2000,2100,2200,2300,2400,2500]\n",
    "Gap=[]\n",
    "Asym=[]\n",
    "Si=[]\n",
    "for k in Bfield:\n",
    "    Ec=[]\n",
    "    Q0=[]\n",
    "    size2=[]\n",
    "    for i in range(len(Bfiles)):\n",
    "        for j in range(len(Bfiles[i])):\n",
    "            if np.abs(B[i][j]-k)<=0.00001:\n",
    "                size2.append(size[i])\n",
    "                spectra.load(Bfiles[i][j])\n",
    "                x=np.array(spectra.bias)\n",
    "                y=np.array(spectra.conductance)\n",
    "                y=y/y[0]\n",
    "                #values=sc.optimize.curve_fit(coulomb_T,x,y,p0=[0.001,0.00,0.0003])[0]\n",
    "                values=sc.optimize.curve_fit(coulomb,x,y,p0=[0.001,0.00])[0]\n",
    "                #yy=coulomb_T(x,values[0],values[1],values[2])\n",
    "                #yy=coulomb(x,values[0],values[1])\n",
    "                Ec.append(values[0])\n",
    "                Q0.append(values[1])\n",
    "                #ther.append(values[2])\n",
    "                #plt.plot(x,yy+h)\n",
    "                #plt.plot(x,y+h)\n",
    "                #h+=1\n",
    "            else:\n",
    "                continue\n",
    "    Gap.append(Ec)\n",
    "    Asym.append(Q0)\n",
    "    Si.append(size2)"
   ]
  },
  {
   "cell_type": "code",
   "execution_count": 224,
   "metadata": {},
   "outputs": [],
   "source": [
    "def coulomb_T(x,Ec,Q0,T):\n",
    "    return fermi(Ec-x+Q0,T)+fermi(Ec+x-Q0,T)\n",
    "def coulomb(x,Ec,Q0):\n",
    "    T=0.0003\n",
    "    return fermi(Ec-x+Q0,T)+fermi(Ec+x-Q0,T)\n",
    "def coulomb_T2(x,Ec,Q0,T):\n",
    "    return np.sinh(np.abs(x)/T)/(np.cosh(x/T)+np.cosh(Ec/T))\n",
    "\n",
    "h=0\n",
    "Bfield=[800,900,1000,1100,1200,1300,1400,1500,1600,1700,1800,1900,2000,2100,2200,2300,2400,2500]\n",
    "Gap=[]\n",
    "Asym=[]\n",
    "Si=[]\n",
    "for k in Bfield:\n",
    "    Ec=[]\n",
    "    Q0=[]\n",
    "    size2=[]\n",
    "    for i in range(len(Bfiles)):\n",
    "        for j in range(len(Bfiles[i])):\n",
    "            if np.abs(B[i][j]-k)<=0.00001:\n",
    "                size2.append(size[i])\n",
    "                spectra.load(Bfiles[i][j])\n",
    "                x=np.array(spectra.bias)\n",
    "                y=np.array(spectra.current)\n",
    "                y=y/y[0]\n",
    "                xx=[]\n",
    "                for p in range(len(y)):\n",
    "                    if np.abs(y[p]/y[0])<0.03:\n",
    "                        xx.append(x[p])\n",
    "                Ec.append(np.array(xx)[0]-np.array(xx)[-1])\n",
    "            else:\n",
    "                continue\n",
    "        \n",
    "    Gap.append(Ec)\n",
    "    Asym.append(Q0)\n",
    "    Si.append(size2)"
   ]
  },
  {
   "cell_type": "code",
   "execution_count": 227,
   "metadata": {},
   "outputs": [
    {
     "data": {
      "text/plain": [
       "<matplotlib.collections.PathCollection at 0x1d2f8d301f0>"
      ]
     },
     "execution_count": 227,
     "metadata": {},
     "output_type": "execute_result"
    }
   ],
   "source": [
    "plt.scatter(Si[12],Gap[12])"
   ]
  },
  {
   "cell_type": "code",
   "execution_count": 183,
   "metadata": {},
   "outputs": [],
   "source": [
    "def coulomb(x,Ec,Q0):\n",
    "    T=0.0003\n",
    "    return fermi(Ec-x+Q0,T)+fermi(Ec+x-Q0,T)\n",
    "\n",
    "\n",
    "emp=[]\n",
    "for i in Bfiles:\n",
    "    en=[]\n",
    "    for j in i:\n",
    "        en.append(0.0)\n",
    "    emp.append(en)\n",
    "Ec=emp\n",
    "Q0=emp\n",
    "for i in range(len(Bfiles)):\n",
    "    for j in range(len(Bfiles[i])):\n",
    "        spectra.load(Bfiles[i][j])\n",
    "        x=np.array(spectra.bias)\n",
    "        y=np.array(spectra.conductance)\n",
    "        y=y/y[0]\n",
    "        values=sc.optimize.curve_fit(coulomb,x,y,p0=[0.001,0.00])[0]\n",
    "        #Ec[i][j]=values[0]\n",
    "        Q0[i][j]=values[1]\n",
    "        Ec[i][j]=values[0]\n",
    "        \n",
    "        \n"
   ]
  },
  {
   "cell_type": "code",
   "execution_count": 228,
   "metadata": {},
   "outputs": [],
   "source": [
    "emp=[]\n",
    "for i in Bfiles:\n",
    "    en=[]\n",
    "    for j in i:\n",
    "        en.append(0.0)\n",
    "    emp.append(en)\n",
    "Ec=emp\n",
    "Q0=emp\n",
    "for i in range(len(Bfiles)):\n",
    "    for j in range(len(Bfiles[i])):\n",
    "        spectra.load(Bfiles[i][j])\n",
    "        x=np.array(spectra.bias)\n",
    "        y=np.array(spectra.current)\n",
    "        y=y/y[0]\n",
    "        xx=[]\n",
    "        for p in range(len(y)):\n",
    "            if np.abs(y[p]/y[0])<0.03:\n",
    "                xx.append(x[p])\n",
    "        Ec[i][j]=np.array(xx)[0]-np.array(xx)[-1]        "
   ]
  },
  {
   "cell_type": "code",
   "execution_count": 240,
   "metadata": {},
   "outputs": [
    {
     "data": {
      "text/plain": [
       "[<matplotlib.lines.Line2D at 0x1d2fad61dc0>]"
      ]
     },
     "execution_count": 240,
     "metadata": {},
     "output_type": "execute_result"
    }
   ],
   "source": [
    "i=20\n",
    "plt.plot(xx[i],yy[i])"
   ]
  },
  {
   "cell_type": "code",
   "execution_count": 241,
   "metadata": {},
   "outputs": [],
   "source": [
    "xx=[]\n",
    "yy=[]\n",
    "for j in range(22):\n",
    "    x=[]\n",
    "    y=[]\n",
    "    si=size[j]\n",
    "    for i in range(len(B[j])):\n",
    "        if B[j][i]>=1000:\n",
    "            x.append(B[j][i])\n",
    "            y.append(Ec[j][i])\n",
    "        else:\n",
    "            continue\n",
    "    xx.append(x)\n",
    "    yy.append(y)\n",
    "    a,b=np.polyfit(x,y,1)\n",
    "    #plt.plot(si,b,'o')"
   ]
  },
  {
   "cell_type": "code",
   "execution_count": 182,
   "metadata": {},
   "outputs": [
    {
     "data": {
      "text/plain": [
       "[<matplotlib.lines.Line2D at 0x1d2f2ac9b80>]"
      ]
     },
     "execution_count": 182,
     "metadata": {},
     "output_type": "execute_result"
    }
   ],
   "source": [
    "\n",
    "plt.plot(xx[j],yy[j])"
   ]
  },
  {
   "cell_type": "code",
   "execution_count": 241,
   "metadata": {},
   "outputs": [
    {
     "data": {
      "text/plain": [
       "<matplotlib.collections.PathCollection at 0x2389ce12a00>"
      ]
     },
     "execution_count": 241,
     "metadata": {},
     "output_type": "execute_result"
    }
   ],
   "source": [
    "plt.rcParams[\"axes.prop_cycle\"] = plt.cycler(\"color\", plt.cm.viridis(np.linspace(0,1,10)))\n",
    "#for i in range(18):\n",
    "#    plt.scatter(Si[:][i],1000*np.array(Asym[:][i]))\n",
    "plt.scatter(Si[0],1000*np.array(Asym[0]))\n",
    "plt.scatter(Si[17],1000*np.array(Asym[17]))\n",
    "\n",
    "\n",
    "#plt.scatter(size2,1000*np.array(Q08),c='#ff7f0e',label='T=8K')\n",
    "#plt.xlabel('Island Area ($nm^2$)')\n",
    "#plt.ylabel('$Q_0$ ($meV$)')\n",
    "#plt.legend()"
   ]
  },
  {
   "cell_type": "code",
   "execution_count": 234,
   "metadata": {},
   "outputs": [
    {
     "data": {
      "text/plain": [
       "(0.00021199756024640996, 0.00012050366485309387)"
      ]
     },
     "execution_count": 234,
     "metadata": {},
     "output_type": "execute_result"
    }
   ],
   "source": [
    "np.sum(np.abs(0-np.array(Asym[0])))/len(np.array(Asym[0])),np.sum(np.abs(0-np.array(Asym[17])))/len(np.array(Asym[17]))"
   ]
  },
  {
   "cell_type": "markdown",
   "metadata": {},
   "source": [
    "### Some info\n",
    "\n",
    "The simplest way to get the gao is to calculate it from the current. We take the points for which the current is zero.\n",
    "\n"
   ]
  },
  {
   "cell_type": "code",
   "execution_count": 61,
   "metadata": {},
   "outputs": [
    {
     "data": {
      "text/plain": [
       "[<matplotlib.lines.Line2D at 0x2388b88af10>]"
      ]
     },
     "execution_count": 61,
     "metadata": {},
     "output_type": "execute_result"
    }
   ],
   "source": [
    "h=0\n",
    "Ec=[]\n",
    "Eg=[]\n",
    "for k in range(len(BFiles)):\n",
    "    cur=[]\n",
    "    for i in BFiles[k]:\n",
    "        spectra.load(i)\n",
    "        cur.append(spectra.current)\n",
    "\n",
    "    t=[]\n",
    "    for j in range(len(BFiles[k])):\n",
    "        y=np.array(cur[j])\n",
    "        x=np.array(spectra.bias)\n",
    "        xx=[]\n",
    "        for i in range(len(y)):\n",
    "            if np.abs(y[i]/y[0])<0.04:\n",
    "                xx.append(x[i])\n",
    "        t.append(xx[0]-xx[-1])\n",
    "    T800=BFields[k].index(800)\n",
    "    T0=BFields[k].index(0)\n",
    "    Ec.append(t[T0])\n",
    "\n",
    "\n",
    "plt.plot(size,Ec,'bo')\n"
   ]
  },
  {
   "cell_type": "markdown",
   "metadata": {},
   "source": [
    "### Solme info\n",
    "\n",
    "The critical field for the tip is around B=800mT, while the critical field for the island should be around B=350mT. Althought the first statement is prety robust, the second is not. \n",
    "\n",
    "The following program fit the spectra with a simple convolution. The free parameters will be the coulomb gap (Ec) the shift (Q0) and the dynes parameter (eta). We will suppose that the gaps decrease following the BCS theory with the critical fields that we wrote in the previous line. This first program is not a realistic fir of the system, we will only use it to get an idea of the volution of the full gap of the measurement, i.e., E+Delta1+Delta2. We will not make assupmtions about any of this parameters from the results of this analysis."
   ]
  },
  {
   "cell_type": "code",
   "execution_count": null,
   "metadata": {},
   "outputs": [],
   "source": [
    "\n",
    "def delta(Delta,B,Bc):\n",
    "    return Delta*np.sqrt(1-(B/Bc)**2)\n",
    "\n",
    "def conv_dynes(x,delta,eta,Ec):\n",
    "    T=delta/10\n",
    "    Q0=-0.00025\n",
    "    y=np.linspace(-10*delta,10*delta,2000)\n",
    "    a,b=np.meshgrid(y,x)\n",
    "    z=np.gradient(-np.dot(BCS(a+b,delta,eta)*fermi(a+b,T),coulomb(y,Ec,Q0))+np.dot(BCS(a+b,delta,eta),fermi(y,T)*coulomb(y,Ec,Q0)))\n",
    "    return z/z[0]\n",
    "\n",
    "\n",
    "cond=[]\n",
    "for i in files:\n",
    "    spectra.load(i)\n",
    "    cond.append(spectra.conductance)\n",
    "\n",
    "gap=[]\n",
    "for j in range(0,10):\n",
    "    y=np.array(cond[j])[110:290]/np.array(cond[j])[110]\n",
    "    x=np.array(spectra.bias)[110:290]\n",
    "    temp=fit(conv_dynes,x,y,p0=[0.0013,0.0001,0.0012])\n",
    "    plt.plot(x,y+0.5*j)\n",
    "    p=temp[0]\n",
    "    z=conv_dynes(x,p[0],p[1],p[2])\n",
    "    plt.plot(x,z+0.5*j)\n",
    "    gap.append(p[0]+p[2])\n",
    "    print(j)"
   ]
  },
  {
   "cell_type": "markdown",
   "metadata": {},
   "source": [
    "# Temperature dependence"
   ]
  },
  {
   "cell_type": "code",
   "execution_count": 101,
   "metadata": {},
   "outputs": [],
   "source": [
    "data=[8,9,10,11,12,13,14,15,16,17,18,19,20,21,22,23,24]\n",
    "T=[]\n",
    "files=[]\n",
    "size=[]\n",
    "height=[]\n",
    "\n",
    "for j in data:\n",
    "    a=temp[j].split(',')\n",
    "    T.append([float(i) for i in a])\n",
    "    b=temp_files[j].split(',')\n",
    "    files.append([path+i for i in b])\n",
    "    size.append(size_dat[j])\n",
    "    height.append(height_dat[j])"
   ]
  },
  {
   "cell_type": "code",
   "execution_count": 102,
   "metadata": {},
   "outputs": [],
   "source": [
    "f=files[0][0]\n",
    "spectra.load(f)\n",
    "\n",
    "x=np.array(spectra.bias)\n",
    "y=np.array(spectra.conductance)\n",
    "y=y/np.sum(y)\n"
   ]
  },
  {
   "cell_type": "code",
   "execution_count": 103,
   "metadata": {},
   "outputs": [
    {
     "ename": "TypeError",
     "evalue": "coulomb_T() missing 1 required positional argument: 'T'",
     "output_type": "error",
     "traceback": [
      "\u001b[1;31m---------------------------------------------------------------------------\u001b[0m",
      "\u001b[1;31mTypeError\u001b[0m                                 Traceback (most recent call last)",
      "\u001b[1;32m~\\AppData\\Local\\Temp/ipykernel_28248/132299728.py\u001b[0m in \u001b[0;36m<module>\u001b[1;34m\u001b[0m\n\u001b[0;32m      1\u001b[0m \u001b[0mx\u001b[0m\u001b[1;33m=\u001b[0m\u001b[0mnp\u001b[0m\u001b[1;33m.\u001b[0m\u001b[0mlinspace\u001b[0m\u001b[1;33m(\u001b[0m\u001b[1;33m-\u001b[0m\u001b[1;36m0.01\u001b[0m\u001b[1;33m,\u001b[0m\u001b[1;36m0.01\u001b[0m\u001b[1;33m,\u001b[0m\u001b[1;36m1000\u001b[0m\u001b[1;33m)\u001b[0m\u001b[1;33m\u001b[0m\u001b[1;33m\u001b[0m\u001b[0m\n\u001b[1;32m----> 2\u001b[1;33m \u001b[0mplt\u001b[0m\u001b[1;33m.\u001b[0m\u001b[0mplot\u001b[0m\u001b[1;33m(\u001b[0m\u001b[0mx\u001b[0m\u001b[1;33m,\u001b[0m\u001b[0mcoulomb_T\u001b[0m\u001b[1;33m(\u001b[0m\u001b[0mx\u001b[0m\u001b[1;33m,\u001b[0m\u001b[1;36m0.0005\u001b[0m\u001b[1;33m,\u001b[0m\u001b[1;36m0.0\u001b[0m\u001b[1;33m)\u001b[0m\u001b[1;33m)\u001b[0m\u001b[1;33m\u001b[0m\u001b[1;33m\u001b[0m\u001b[0m\n\u001b[0m",
      "\u001b[1;31mTypeError\u001b[0m: coulomb_T() missing 1 required positional argument: 'T'"
     ]
    }
   ],
   "source": [
    "x=np.linspace(-0.01,0.01,1000)\n",
    "plt.plot(x,coulomb_T(x,0.0005,0.0))"
   ]
  },
  {
   "cell_type": "code",
   "execution_count": 149,
   "metadata": {},
   "outputs": [
    {
     "data": {
      "text/plain": [
       "<matplotlib.collections.PathCollection at 0x1d2ed59e430>"
      ]
     },
     "execution_count": 149,
     "metadata": {},
     "output_type": "execute_result"
    }
   ],
   "source": [
    "def coulomb_T(x,Ec,Q0,T):\n",
    "    return fermi(Ec-x+Q0,T)+fermi(Ec+x-Q0,T)\n",
    "def coulomb(x,Ec,Q0):\n",
    "    T=0.0019455504685344104\n",
    "    return fermi(Ec-x+Q0,T)+fermi(Ec+x-Q0,T)\n",
    "def coulomb_T2(x,Ec,Q0,T):\n",
    "    return np.sinh(np.abs(x)/T)/(np.cosh(x/T)+np.cosh(Ec/T))\n",
    "Ec=[]\n",
    "Q0=[]\n",
    "ther=[]\n",
    "h=0\n",
    "temperature=8.0\n",
    "size2=[]\n",
    "for i in range(len(files)):\n",
    "    for j in range(len(files[i])):\n",
    "        if np.abs(T[i][j]-temperature)<=0.00001:\n",
    "            size2.append(size[i])\n",
    "            spectra.load(files[i][j])\n",
    "            x=np.array(spectra.bias)\n",
    "            y=np.array(spectra.conductance)\n",
    "            y=y/y[0]\n",
    "            #values=sc.optimize.curve_fit(coulomb_T,x,y,p0=[0.001,0.00,0.002])[0]\n",
    "            values=sc.optimize.curve_fit(coulomb,x,y,p0=[0.001,0.00])[0]\n",
    "            #yy=coulomb_T(x,values[0],values[1],values[2])\n",
    "            yy=coulomb(x,values[0],values[1])\n",
    "            Ec.append(values[0])\n",
    "            Q0.append(values[1])\n",
    "            #ther.append(values[2])\n",
    "            #plt.plot(x,yy+h)\n",
    "            #plt.plot(x,y+h)\n",
    "            h+=1\n",
    "        else:\n",
    "            continue\n",
    "        \n",
    "\n",
    "\n",
    "plt.scatter(size2,1000*np.array(Ec),c='#ff7f0e',label='T=7K')"
   ]
  },
  {
   "cell_type": "code",
   "execution_count": 145,
   "metadata": {},
   "outputs": [
    {
     "data": {
      "text/plain": [
       "0.0019455504685344104"
      ]
     },
     "execution_count": 145,
     "metadata": {},
     "output_type": "execute_result"
    }
   ],
   "source": [
    "np.mean(ther)"
   ]
  },
  {
   "cell_type": "code",
   "execution_count": 177,
   "metadata": {},
   "outputs": [],
   "source": [
    "Ec7\n",
    "size7\n",
    "size8\n",
    "Ec8\n",
    "Q08\n",
    "Q07"
   ]
  },
  {
   "cell_type": "code",
   "execution_count": 153,
   "metadata": {},
   "outputs": [
    {
     "data": {
      "text/plain": [
       "<matplotlib.legend.Legend at 0x1d2edcb59a0>"
      ]
     },
     "execution_count": 153,
     "metadata": {},
     "output_type": "execute_result"
    }
   ],
   "source": [
    "plt.scatter(size7,1000*np.array(Q07),c='#1f77b4',label='T=7K')\n",
    "x=np.linspace(100,2000,1000)\n",
    "#plt.plot(x,1/(0.001*x))\n",
    "plt.scatter(size8,1000*np.array(Q08),c='#ff7f0e',label='T=8K')\n",
    "plt.xlabel('Island Area ($nm^2$)')\n",
    "plt.ylabel('$E_C$ ($meV$)')\n",
    "plt.legend()\n",
    "#plt.scatter(np.array(size),1000*np.array(Q0),c='#ff7f0e')\n",
    "#plt.scatter(np.array(size),1000*np.array(ther),c='#2ca02c')"
   ]
  },
  {
   "cell_type": "code",
   "execution_count": 175,
   "metadata": {},
   "outputs": [
    {
     "data": {
      "text/plain": [
       "0.002530124760784503"
      ]
     },
     "execution_count": 175,
     "metadata": {},
     "output_type": "execute_result"
    }
   ],
   "source": [
    "np.sum(np.array(ther))/len(ther)"
   ]
  },
  {
   "cell_type": "markdown",
   "metadata": {},
   "source": [
    "# Josephson "
   ]
  },
  {
   "cell_type": "code",
   "execution_count": 275,
   "metadata": {},
   "outputs": [],
   "source": [
    "files=[]\n",
    "a=[1,2,3,4,5,6,7,8,11,12,13,14,15,16,17,18,19,21,22,23,24]\n",
    "for j in a:\n",
    "    files.append([path+i for i in josephson[j].split(',')])\n",
    "files\n",
    "for i in files[6]:\n",
    "    spectra.load(i)\n",
    "    x=spectra.bias\n",
    "    y=np.array(spectra.conductance)\n",
    "    yt=np.sum(y)\n",
    "    plt.plot(x,y/yt)"
   ]
  },
  {
   "cell_type": "code",
   "execution_count": 308,
   "metadata": {},
   "outputs": [
    {
     "data": {
      "text/plain": [
       "<matplotlib.collections.PathCollection at 0x1d3022e2b20>"
      ]
     },
     "execution_count": 308,
     "metadata": {},
     "output_type": "execute_result"
    }
   ],
   "source": [
    "i=files[6][1]\n",
    "spectra.load(i)\n",
    "x=np.array(spectra.bias)[150:350]\n",
    "y=np.array(spectra.conductance)[150:350]\n",
    "yt=np.sum(y)\n",
    "y=y/yt\n",
    "peak=sc.signal.find_peaks(y)[0]\n",
    "plt.plot(x,y)\n",
    "plt.scatter(x[peak],y[peak])"
   ]
  },
  {
   "cell_type": "code",
   "execution_count": null,
   "metadata": {},
   "outputs": [],
   "source": []
  }
 ],
 "metadata": {
  "kernelspec": {
   "display_name": "Python 3",
   "language": "python",
   "name": "python3"
  },
  "language_info": {
   "codemirror_mode": {
    "name": "ipython",
    "version": 3
   },
   "file_extension": ".py",
   "mimetype": "text/x-python",
   "name": "python",
   "nbconvert_exporter": "python",
   "pygments_lexer": "ipython3",
   "version": "3.9.13"
  },
  "orig_nbformat": 4
 },
 "nbformat": 4,
 "nbformat_minor": 2
}
