{
 "cells": [
  {
   "cell_type": "code",
   "execution_count": 94,
   "metadata": {},
   "outputs": [],
   "source": [
    "import sys\n",
    "sys.path.append(\"C:/Users/jonor/Documents/GitHub/nanonis/\")\n",
    "import nanonis\n",
    "import numpy as np\n",
    "import scipy as sc\n",
    "import pandas as pd\n",
    "import matplotlib.pyplot as plt\n",
    "import xlrd\n",
    "%matplotlib qt\n",
    "spectra=nanonis.biasSpectroscopy()"
   ]
  },
  {
   "cell_type": "markdown",
   "metadata": {},
   "source": [
    "# Useful functions"
   ]
  },
  {
   "cell_type": "code",
   "execution_count": 129,
   "metadata": {},
   "outputs": [
    {
     "ename": "IndentationError",
     "evalue": "expected an indented block (Temp/ipykernel_29136/995948645.py, line 2)",
     "output_type": "error",
     "traceback": [
      "\u001b[1;36m  File \u001b[1;32m\"C:\\Users\\jonor\\AppData\\Local\\Temp/ipykernel_29136/995948645.py\"\u001b[1;36m, line \u001b[1;32m2\u001b[0m\n\u001b[1;33m    def simple_fit_func(delta1,delta2,Ec,T):\u001b[0m\n\u001b[1;37m    ^\u001b[0m\n\u001b[1;31mIndentationError\u001b[0m\u001b[1;31m:\u001b[0m expected an indented block\n"
     ]
    }
   ],
   "source": [
    "def fermi(x,T):\n",
    "    return np.divide(1,1+np.exp(x/T))\n",
    "\n",
    "\n",
    "def BCS(x,eta,delta):\n",
    "    return np.imag(np.divide(x+1j*eta,np.sqrt(delta**2-(x+1j*eta)**2)))\n",
    "\n",
    "def simple_fit_func(V,delta1,delta2,Ec,T):\n",
    "    delta=np.max(delta1,delta2)\n",
    "    x=np.linspace(-10*delta,10*delta)\n",
    "    rho1=BCS()\n",
    "    "
   ]
  },
  {
   "cell_type": "markdown",
   "metadata": {},
   "source": [
    "# File management #"
   ]
  },
  {
   "cell_type": "code",
   "execution_count": 107,
   "metadata": {},
   "outputs": [],
   "source": [
    "data=pd.read_excel(\"C:/Users/jonor/Documents/GitHub/nanonis/Order.xls\")\n",
    "path='C:/Users/jonor/Desktop/PhD/Lanak/Pb on Gr (analysis)/2023.07.26 - 1st evap/'\n"
   ]
  },
  {
   "cell_type": "markdown",
   "metadata": {},
   "source": [
    "## B Field Files"
   ]
  },
  {
   "cell_type": "code",
   "execution_count": 108,
   "metadata": {},
   "outputs": [],
   "source": [
    "Bfield_files=data.iloc[:,2]\n",
    "Bfields=data.iloc[:,3]\n"
   ]
  },
  {
   "cell_type": "markdown",
   "metadata": {},
   "source": [
    "# B Field "
   ]
  },
  {
   "cell_type": "code",
   "execution_count": 116,
   "metadata": {},
   "outputs": [],
   "source": [
    "a=[int(i) for i in Bfields[16].split(',')]\n",
    "b=Bfield_files[16].split(',')\n",
    "files=[path+i for i in b]\n"
   ]
  },
  {
   "cell_type": "code",
   "execution_count": 128,
   "metadata": {},
   "outputs": [
    {
     "data": {
      "text/plain": [
       "[<matplotlib.lines.Line2D at 0x22c8bf73700>]"
      ]
     },
     "execution_count": 128,
     "metadata": {},
     "output_type": "execute_result"
    }
   ],
   "source": [
    "y=[]\n",
    "for i in files:\n",
    "    spectra.load(i)\n",
    "    y.append(spectra.conductance/spectra.conductance[0])\n",
    "plt.plot(y[10])"
   ]
  }
 ],
 "metadata": {
  "kernelspec": {
   "display_name": "Python 3",
   "language": "python",
   "name": "python3"
  },
  "language_info": {
   "codemirror_mode": {
    "name": "ipython",
    "version": 3
   },
   "file_extension": ".py",
   "mimetype": "text/x-python",
   "name": "python",
   "nbconvert_exporter": "python",
   "pygments_lexer": "ipython3",
   "version": "3.9.13"
  },
  "orig_nbformat": 4
 },
 "nbformat": 4,
 "nbformat_minor": 2
}
