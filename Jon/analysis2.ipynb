{
 "cells": [
  {
   "cell_type": "code",
   "execution_count": 32,
   "metadata": {},
   "outputs": [],
   "source": [
    "import sys\n",
    "sys.path.append(\"../\")\n",
    "import nanonis\n",
    "import numpy as np\n",
    "import scipy as sc\n",
    "import pandas as pd\n",
    "import matplotlib.pyplot as plt\n",
    "import xlrd\n",
    "import lmfit\n",
    "from lmfit import Model\n",
    "import glob\n",
    "import matplotlib.colors as colors\n",
    "from scipy import constants as const\n",
    "from matplotlib.widgets import Button, Slider\n",
    "%matplotlib qt\n",
    "%reload_ext autoreload\n",
    "%autoreload 2\n",
    "spectra=nanonis.biasSpectroscopy()\n",
    "path1=\"//sannet01.nanogune.intranet/CIC09/STMDATA/Berlino/Pb(111)/2023-11-20 - Pb on graphene/2023-11-30 - Pb on Gr-SiC0001 - sandra2\""
   ]
  },
  {
   "cell_type": "markdown",
   "metadata": {},
   "source": [
    "# Island By Island"
   ]
  },
  {
   "cell_type": "markdown",
   "metadata": {},
   "source": [
    "## 1st Island"
   ]
  },
  {
   "cell_type": "markdown",
   "metadata": {},
   "source": [
    "### Data for the island"
   ]
  },
  {
   "cell_type": "code",
   "execution_count": 70,
   "metadata": {},
   "outputs": [],
   "source": [
    "h=0\n",
    "fig, ax = plt.subplots()\n",
    "Z=[]\n",
    "for i in file:\n",
    "    file=glob.glob(path1+'/*SZ01231204*')\n",
    "    spectra.load(i)\n",
    "    x=spectra.bias\n",
    "    y=spectra.conductance\n",
    "    z=spectra.current\n",
    "    #plt.plot(x,y/y[0]+0.2*h)\n",
    "    #plt.scatter(h,z[0])\n",
    "    h+=1\n",
    "    Z.append(y/y[0])\n",
    "\n",
    "val1=1\n",
    "val2=0\n",
    "#create the slider\n",
    "ax.imshow(Z,aspect='auto',vmax=val1,vmin=val2)\n",
    "fig.subplots_adjust(left=0.25, bottom=0.25)\n",
    "\n",
    "axfreq = fig.add_axes([0.25, 0.1, 0.65, 0.03])\n",
    "val1_slider = Slider(\n",
    "    ax=axfreq,\n",
    "    label='Max',\n",
    "    valmin=0.1,\n",
    "    valmax=10,\n",
    "    valinit=val1,\n",
    ")\n",
    "\n",
    "# Make a vertically oriented slider to control the amplitude\n",
    "axamp = fig.add_axes([0.1, 0.25, 0.0225, 0.63])\n",
    "val2_slider = Slider(\n",
    "    ax=axamp,\n",
    "    label=\"Min\",\n",
    "    valmin=-5,\n",
    "    valmax=4,\n",
    "    valinit=val2,\n",
    "    orientation=\"vertical\"\n",
    ")\n",
    "\n",
    "\n",
    "val1_slider.on_changed(update)\n",
    "val2_slider.on_changed(update)  \n",
    "\n",
    "def update(val):\n",
    "    ax.clear()\n",
    "    ax.imshow(Z,aspect='auto',vmax=val1_slider.val,vmin=val2_slider.val)\n"
   ]
  },
  {
   "cell_type": "code",
   "execution_count": 74,
   "metadata": {},
   "outputs": [],
   "source": [
    "h=0\n",
    "fig, ax = plt.subplots()\n",
    "Z=[]\n",
    "file=glob.glob(path1+'/*SZ01231204*')\n",
    "for i in file:\n",
    "    spectra.load(i)\n",
    "    x=spectra.bias\n",
    "    y=spectra.conductance\n",
    "    z=spectra.current\n",
    "    y=sc.signal.savgol_filter(y/y[0],7,3)\n",
    "    ax.plot(x,y+0.2*h)\n",
    "    h+=1\n",
    "\n"
   ]
  },
  {
   "cell_type": "code",
   "execution_count": null,
   "metadata": {},
   "outputs": [],
   "source": [
    "h=0\n",
    "fig, ax = plt.subplots()\n",
    "Z=[]\n",
    "file=glob.glob(path1+'/*IZ02y1204*')\n",
    "for i in file:\n",
    "    spectra.load(i)\n",
    "    x=spectra.bias\n",
    "    z=spectra.biasVI_b\n",
    "    ax.plot(x,z)"
   ]
  },
  {
   "cell_type": "code",
   "execution_count": 87,
   "metadata": {},
   "outputs": [],
   "source": [
    "h=0\n",
    "fig, ax = plt.subplots()\n",
    "Z=[]\n",
    "file=glob.glob(path1+'/*SP01231204*')\n",
    "for i in [2,3,4,5,6,7,8,9]:\n",
    "    spectra.load(file[i])\n",
    "    x=spectra.bias\n",
    "    z=spectra.current\n",
    "    ax.plot(x,z)"
   ]
  }
 ],
 "metadata": {
  "kernelspec": {
   "display_name": "Python 3",
   "language": "python",
   "name": "python3"
  },
  "language_info": {
   "codemirror_mode": {
    "name": "ipython",
    "version": 3
   },
   "file_extension": ".py",
   "mimetype": "text/x-python",
   "name": "python",
   "nbconvert_exporter": "python",
   "pygments_lexer": "ipython3",
   "version": "3.12.0"
  }
 },
 "nbformat": 4,
 "nbformat_minor": 2
}
