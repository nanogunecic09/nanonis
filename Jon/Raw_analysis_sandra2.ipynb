{
 "cells": [
  {
   "cell_type": "code",
   "execution_count": null,
   "metadata": {},
   "outputs": [],
   "source": [
    "import numpy as np\n",
    "import scipy.special as scisp\n",
    "import scipy.integrate as integ\n",
    "import matplotlib.pyplot as plt\n",
    "from scipy import constants as const\n",
    "from scipy import interp1d\n",
    "import mpmath\n",
    "import glob\n",
    "import sys\n",
    "sys.path.append('C:/Users/strivini/Documents/Git/nanonis/')\n",
    "import graphix\n",
    "import nanonis\n",
    "import shiba_fit as sf\n",
    "import deconvolution as decon\n",
    "import time\n",
    "import Green_functions as gr\n",
    "import superconductor as sc\n",
    "import pandas as pd\n",
    "import useful as uf\n",
    "%matplotlib qt\n",
    "%reload_ext autoreload\n",
    "%autoreload 2\n",
    "plt.rcParams.update({'font.size': 8})\n",
    "mm = 1/(2.54*10)\n",
    "\n",
    "outpath = \"C:/Users/strivini/Desktop/\"\n",
    "path = 'Z:/STMDATA/Berlino/GrSiC-Si side/2023.07.23 - Gr SiC Sandra 2/2023.07.26 - 1st evap/'\n",
    "\n",
    "import matplotlib\n",
    "new_rc_params = {'text.usetex': False,\n",
    "\"svg.fonttype\": 'none'\n",
    "}\n",
    "matplotlib.rcParams.update(new_rc_params)\n",
    "matplotlib.rcParams['axes.unicode_minus']=False\n",
    "\n",
    "spectra = nanonis.biasSpectroscopy()\n",
    "lin = nanonis.linescan()\n",
    "lin_g = graphix.lineProfile()\n",
    "grid = graphix.grid()\n",
    "# functions\n",
    "def loadfnames(idx,date):\n",
    "    fnames = []\n",
    "    for i in idx:\n",
    "        fnames.append(path + date + '{:03}.dat'.format(i))\n",
    "    return fnames\n",
    "\n",
    "def loadfnames_gen(idx,date):\n",
    "    fnames = []\n",
    "    for i in idx:\n",
    "        print(glob.glob(path + date + '{:03}.dat'.format(i)))\n",
    "        fnames.append(glob.glob(path + date + '{:03}.dat'.format(i))[-1])\n",
    "    return fnames"
   ]
  },
  {
   "cell_type": "markdown",
   "metadata": {},
   "source": [
    "# Collection 1"
   ]
  },
  {
   "cell_type": "markdown",
   "metadata": {},
   "source": [
    "## Isla 1"
   ]
  },
  {
   "cell_type": "code",
   "execution_count": null,
   "metadata": {},
   "outputs": [],
   "source": [
    "# B field dependence (0,2,0.2) T\n",
    "\n",
    "isl_1_pos1 = []\n",
    "fnames1 = []\n",
    "isl_1__idx = [52,55,65,66,77,78,89,90,101,102,115]\n",
    "for i in isl_1__idx:\n",
    "    fnames.append('Z:/STMDATA/Berlino/GrSiC-Si side/2023.07.23 - Gr SiC Sandra 2/2023.07.26 - 1st evap/S230726_{:03}.dat'.format(i))\n",
    "\n",
    "isl_2_idx = [48,56,63,68,75,80,87,92,99,104,113]\n",
    "fnames2 = []\n",
    "\n",
    "for i in isl_2_idx:\n",
    "    fnames2.append('Z:/STMDATA/Berlino/GrSiC-Si side/2023.07.23 - Gr SiC Sandra 2/2023.07.26 - 1st evap/S230726_{:03}.dat'.format(i))\n",
    "isl_3__idx = [50,58,61,70,73,82,85,94,97,106,107]\n",
    "\n",
    "fnames3 = []\n",
    "\n",
    "for i in isl_3__idx:\n",
    "    fnames3.append('Z:/STMDATA/Berlino/GrSiC-Si side/2023.07.23 - Gr SiC Sandra 2/2023.07.26 - 1st evap/S230726_{:03}.dat'.format(i))\n"
   ]
  },
  {
   "cell_type": "code",
   "execution_count": null,
   "metadata": {},
   "outputs": [],
   "source": [
    "lin = nanonis.linescan()\n",
    "lin.load(fnames3)\n",
    "\n",
    "f,ax = plt.subplots(1)\n",
    "ax.imshow(lin.conductance,aspect='auto',interpolation='nearest',vmax=lin.conductance.max()*0.5)"
   ]
  },
  {
   "cell_type": "markdown",
   "metadata": {},
   "source": [
    "# Josephson isla 3"
   ]
  },
  {
   "cell_type": "code",
   "execution_count": null,
   "metadata": {},
   "outputs": [],
   "source": [
    "# to check coulomb\n",
    "\n",
    "spectra.load('Z:/STMDATA/Berlino/GrSiC-Si side/2023.07.23 - Gr SiC Sandra 2/2023.07.26 - 1st evap/S230726_050.dat')\n",
    "spectra.normalizeTo(3e-3)\n",
    "f,ax = plt.subplots()\n",
    "\n",
    "ax.plot(spectra.bias*1e3,spectra.conductance)\n",
    "\n",
    "def Ip(Vp,R2,C1,C2,Q0):\n",
    "    n0 = np.round(((-C2*Vp+Q0-const.e/2)/const.e + (-C2*Vp+Q0+const.e/2)/const.e)/2)\n",
    "    if (-const.e/2 + n0*const.e -Q0 )/C1 < Vp <  (const.e/2 + n0*const.e -Q0)/C1:\n",
    "        Ip = 0\n",
    "    else:\n",
    "        Ip = (1/(R2*(C1+C2)))*(-(n0*const.e-Q0)+C1*Vp-const.e*np.sign(Vp)/2)\n",
    "    return Ip\n",
    "\n",
    "def fdd( E, mu, T): #fermi Dirac function\n",
    "    if T == 0:\n",
    "        f = np.heaviside(-(E-mu), 1)\n",
    "    else:\n",
    "        f = 1/(1+np.exp((E-mu)/(const.k*T/const.e)))\n",
    "    return f\n",
    "\n",
    "def coulomb(R2,C1,C2,Q0,Vpx=300,T=1.3,Erange=8e-3):\n",
    "    V = np.linspace(-Erange,Erange,Vpx)\n",
    "    Vint = np.linspace(-Erange/2,Erange/2,Vpx)\n",
    "    I = []\n",
    "    for Vp in V:\n",
    "        I.append(Ip(Vp,R2,C1,C2,Q0))\n",
    "    It = []\n",
    "    for i in Vint:\n",
    "        It.append(np.trapz(np.gradient(I)*( fdd(V,i,T)-fdd(V,0,T) ),x=V))\n",
    "    return np.gradient(It)\n",
    "\n",
    "C2 = 0.037e-16\n",
    "C1 = 0.75e-16\n",
    "Q0=1.1e-20\n",
    "\n",
    "Erange =5e-3\n",
    "V = np.linspace(-Erange,Erange,300)\n",
    "cul = coulomb(1e8,C1,C2,Q0,Vpx=300,T=2.5,Erange=10e-3)\n",
    "ax.plot(V*1e3,cul/cul[0],color='k',linestyle='--',linewidth=3)"
   ]
  },
  {
   "cell_type": "code",
   "execution_count": null,
   "metadata": {},
   "outputs": [],
   "source": [
    "Model"
   ]
  },
  {
   "cell_type": "code",
   "execution_count": null,
   "metadata": {},
   "outputs": [],
   "source": [
    "const.e/(2*C1)*1e3"
   ]
  },
  {
   "cell_type": "code",
   "execution_count": null,
   "metadata": {},
   "outputs": [],
   "source": [
    "spectra = nanonis.biasSpectroscopy()\n",
    "\n",
    "spectra.load('Z:/STMDATA/Berlino/GrSiC-Si side/2023.07.23 - Gr SiC Sandra 2/2023.07.26 - 1st evap/HistoryData001.dat')\n",
    "\n",
    "spectra.normalizeTo(3e-3)\n",
    "\n",
    "fig, ax = plt.subplots(1)\n",
    "\n",
    "ax.plot(spectra.conductance)\n",
    "ax.set_xlabel('Bias (mV)')"
   ]
  },
  {
   "cell_type": "code",
   "execution_count": null,
   "metadata": {},
   "outputs": [],
   "source": [
    "spectra = nanonis.biasSpectroscopy()\n",
    "\n",
    "spectra.load('Z:/STMDATA/Berlino/GrSiC-Si side/2023.07.23 - Gr SiC Sandra 2/2023.07.26 - 1st evap/HistoryData001.dat')\n",
    "\n",
    "spectra.normalizeTo(3e-3)\n",
    "\n",
    "fig, ax = plt.subplots(1)\n",
    "\n",
    "ax.plot(spectra.conductance)\n",
    "ax.set_xlabel('Bias (mV)')"
   ]
  },
  {
   "cell_type": "markdown",
   "metadata": {},
   "source": [
    "# Dip test"
   ]
  },
  {
   "cell_type": "code",
   "execution_count": null,
   "metadata": {},
   "outputs": [],
   "source": [
    "fname = 'Z:/STMDATA/Berlino/GrSiC-Si side/2023.07.23 - Gr SiC Sandra 2/2023.07.26 - 1st evap/S230727_076.dat'\n",
    "spectra.load(fname)\n",
    "\n",
    "R = np.sqrt(spectra.data['LIX 1 omega (A)']**2 + spectra.data['LIY 1 omega (A)']**2)"
   ]
  },
  {
   "cell_type": "code",
   "execution_count": null,
   "metadata": {},
   "outputs": [],
   "source": [
    "plt.figure()\n",
    "\n",
    "plt.plot(spectra.bias*1e3,R)\n",
    "plt.plot(spectra.bias*1e3,spectra.conductance)\n"
   ]
  },
  {
   "cell_type": "code",
   "execution_count": null,
   "metadata": {},
   "outputs": [],
   "source": [
    "fnames = []\n",
    "\n",
    "fnames.append('Z:/STMDATA/Berlino/GrSiC-Si side/2023.07.23 - Gr SiC Sandra 2/2023.07.26 - 1st evap/S230727_098.dat')\n",
    "fnames.append('Z:/STMDATA/Berlino/GrSiC-Si side/2023.07.23 - Gr SiC Sandra 2/2023.07.26 - 1st evap/S230727_100.dat')\n",
    "\n",
    "f,ax = plt.subplots(1)\n",
    "for f in fnames:\n",
    "    spectra.load(f)\n",
    "    spectra.normalizeTo(4e-3)\n",
    "    ax.plot(spectra.conductance)"
   ]
  },
  {
   "cell_type": "markdown",
   "metadata": {},
   "source": []
  },
  {
   "cell_type": "markdown",
   "metadata": {},
   "source": [
    "# Josephson"
   ]
  },
  {
   "cell_type": "code",
   "execution_count": null,
   "metadata": {},
   "outputs": [],
   "source": [
    "fnames"
   ]
  },
  {
   "cell_type": "code",
   "execution_count": null,
   "metadata": {},
   "outputs": [],
   "source": [
    "fnames = glob.glob(path + 'LS01230727_*.dat')\n",
    "\n",
    "fnames.remove('Z:/STMDATA/Berlino/GrSiC-Si side/2023.07.23 - Gr SiC Sandra 2/2023.07.26 - 1st evap//LS01230727_009.dat',)\n",
    "\n",
    "lin.load(fnames)\n",
    "lin.normalizeRange([400e-6,500e-6])\n",
    "\n",
    "\n",
    "plt.figure()\n",
    "plt.imshow(lin.conductance,aspect='auto',interpolation='nearest')"
   ]
  },
  {
   "cell_type": "markdown",
   "metadata": {},
   "source": [
    "## Z approach"
   ]
  },
  {
   "cell_type": "code",
   "execution_count": null,
   "metadata": {},
   "outputs": [],
   "source": [
    "fnames = loadfnames([3,4,5],'S230729_')\n",
    "\n",
    "f,ax = plt.subplots()\n",
    "\n",
    "for f in fnames:\n",
    "    spectra.load(f)\n",
    "    spectra.normalizeRange([4e-3,5e-3])\n",
    "    ax.plot(spectra.bias*1e3,spectra.conductance)\n",
    "\n",
    "ax.set_xlim(-0.25,0.25)\n",
    "ax.set_ylim(0.02,0.035)\n",
    "uf.didv(ax)"
   ]
  },
  {
   "cell_type": "markdown",
   "metadata": {},
   "source": [
    "### second Z approach (far from islands)"
   ]
  },
  {
   "cell_type": "code",
   "execution_count": null,
   "metadata": {},
   "outputs": [],
   "source": [
    "fnames = loadfnames([1,2,3,4],'S230730_')\n",
    "\n",
    "f,ax = plt.subplots()\n",
    "\n",
    "for f in fnames:\n",
    "    spectra.load(f)\n",
    "    spectra.normalizeRange([-5e-3,5e-3])\n",
    "    ax.plot(spectra.bias*1e3,(spectra.conductance/1.07))\n",
    "\n",
    "ax.set_xlim(-0.7,0.7)\n",
    "ax.set_ylim(0,0.05)\n",
    "uf.didv(ax)\n",
    "\n",
    "f,ax = plt.subplots()\n",
    "\n",
    "for f in fnames:\n",
    "    spectra.load(f)\n",
    "    spectra.normalizeRange([-5e-3,5e-3])\n",
    "    ax.plot(spectra.bias*1e3,spectra.conductance/1.07)\n",
    "\n",
    "uf.didv(ax)"
   ]
  },
  {
   "cell_type": "markdown",
   "metadata": {},
   "source": [
    "## Linescans"
   ]
  },
  {
   "cell_type": "markdown",
   "metadata": {},
   "source": [
    "### decay from island"
   ]
  },
  {
   "cell_type": "code",
   "execution_count": null,
   "metadata": {},
   "outputs": [],
   "source": [
    "lin_g = graphix.lineProfile()\n",
    "fnames = glob.glob(path + 'LS02230729_*')\n",
    "lin_g.mapLoad(fnames)\n",
    "lin_g.normalize_range([-1e-3,1e-3],0)\n"
   ]
  },
  {
   "cell_type": "markdown",
   "metadata": {},
   "source": [
    "### linescan deconvolution"
   ]
  },
  {
   "cell_type": "code",
   "execution_count": null,
   "metadata": {},
   "outputs": [],
   "source": [
    "lin_g.deconvolution(gap=1.35e-3, temperature=1.3, dynesParameter=30e-6, energyR=6e-3, spacing=40e-6,x_min=-4E-3,x_max=4E-3,N=200, window=5,order=3,n=2000)"
   ]
  },
  {
   "cell_type": "code",
   "execution_count": null,
   "metadata": {},
   "outputs": [],
   "source": [
    "f,ax = plt.subplots(1)\n",
    "ax.imshow(lin_g.linescan.conductance_dec,extent=[-6,6,0,2.6],aspect='auto',interpolation='nearest',vmax=lin_g.linescan.conductance_dec.max())\n",
    "\n",
    "ax.set_xlim(-1,1)\n",
    "f,ax = plt.subplots()\n",
    "plt.plot(lin_g.linescan.bias*1e3,np.average(lin_g.linescan.conductance_dec[2:4],axis=0))\n",
    "plt.plot(lin_g.linescan.bias*1e3,np.average(lin_g.linescan.conductance_dec[-5:-3],axis=0))\n",
    "\n",
    "ax.set_xlim(-3,3)\n",
    "ax.set_ylim(0,None)"
   ]
  },
  {
   "cell_type": "code",
   "execution_count": null,
   "metadata": {},
   "outputs": [],
   "source": []
  },
  {
   "cell_type": "code",
   "execution_count": null,
   "metadata": {},
   "outputs": [],
   "source": [
    "lin_g.linescan.conductance_dec"
   ]
  },
  {
   "cell_type": "code",
   "execution_count": null,
   "metadata": {},
   "outputs": [],
   "source": [
    "lin_g = graphix.lineProfile()\n",
    "\n",
    "fnames = glob.glob(path + 'LS03230729_*')\n",
    "lin_g.mapLoad(fnames)\n",
    "lin_g.normalize_range([4e-3,5e-3],0)\n",
    "\n",
    "\n",
    "f, ax = plt.subplots()\n",
    "n=0\n",
    "spectra.load(fnames[0])\n",
    "idx_p = np.abs(spectra.bias*1e3-0.6).argmin()\n",
    "idx_n = np.abs(spectra.bias*1e3+0.6).argmin()\n",
    "plt.rcParams[\"axes.prop_cycle\"] = plt.cycler(\"color\", plt.cm.viridis(np.linspace(0,1,len(fnames))))\n",
    "\n",
    "for f in fnames:\n",
    "    spectra.load(f)\n",
    "    spectra.normalizeRange([4e-3,5e-3])\n",
    "    ax.plot(spectra.bias[idx_p:idx_n]*1e3,spectra.conductance[idx_p:idx_n] + n*0.01)\n",
    "    n+=1"
   ]
  },
  {
   "cell_type": "markdown",
   "metadata": {},
   "source": [
    "#### fit of decay"
   ]
  },
  {
   "cell_type": "code",
   "execution_count": null,
   "metadata": {},
   "outputs": [],
   "source": [
    "data = sf.specTodf(fnames,norm=[-0.4e-3,0.4e-3])\n",
    "\n",
    "\n",
    "multifit = sf.fit_plotfull(data,0, 0.16,0.01,0,'lin',plotype='fullPlot',plotGauss=True)\n",
    "\n",
    "joseph = sf.fitParamExtract1g(multifit,'amplitude')"
   ]
  },
  {
   "cell_type": "code",
   "execution_count": null,
   "metadata": {},
   "outputs": [],
   "source": [
    "lin.load(fnames)\n",
    "lin.normalizeRange([-1.60e-3,1.60e-3])"
   ]
  },
  {
   "cell_type": "code",
   "execution_count": null,
   "metadata": {},
   "outputs": [],
   "source": [
    "lin.conductance.shape"
   ]
  },
  {
   "cell_type": "code",
   "execution_count": null,
   "metadata": {},
   "outputs": [],
   "source": [
    "plt.figure()\n",
    "plt.plot(lin.bias,np.rot90(lin.conductance))"
   ]
  },
  {
   "cell_type": "code",
   "execution_count": null,
   "metadata": {},
   "outputs": [],
   "source": [
    "f,ax = plt.subplots(1)\n",
    "\n",
    "ax.errorbar(lin_g.linescan.distance,joseph[0],yerr=joseph[1],marker='o',capsize=5)\n",
    "ax.set_ylim(0,None)\n",
    "ax.set_xlabel('Distance (nm)')\n",
    "ax.set_ylabel('dI/dV (Gn)')\n"
   ]
  },
  {
   "cell_type": "markdown",
   "metadata": {},
   "source": [
    "### josephson close and far"
   ]
  },
  {
   "cell_type": "code",
   "execution_count": null,
   "metadata": {},
   "outputs": [],
   "source": [
    "lin_g = graphix.lineProfile()\n",
    "fnames = glob.glob(path + 'LS02230729_*')\n",
    "lin_g.mapLoad(fnames)\n",
    "lin_g.normalize_range([-3e-3,3e-3],0)\n",
    "plt.rcParams[\"axes.prop_cycle\"] = plt.cycler(\"color\", plt.cm.tab10(np.linspace(0,1,10)))\n",
    "\n",
    "f,ax = plt.subplots(1)\n",
    "\n",
    "ax.plot(lin_g.linescan.bias*1e3,np.average(lin_g.linescan.conductance[0:5],axis=0))\n",
    "ax.plot(lin_g.linescan.bias*1e3,np.average(lin_g.linescan.conductance[-5:-1],axis=0))\n",
    "\n",
    "ax.set_xlim(-0.5,0.5)\n",
    "ax.set_ylim(0.02,0.035)\n",
    "uf.didv(ax)\n"
   ]
  },
  {
   "cell_type": "code",
   "execution_count": null,
   "metadata": {},
   "outputs": [],
   "source": []
  },
  {
   "cell_type": "markdown",
   "metadata": {},
   "source": [
    "## Linescan in T230730_002"
   ]
  },
  {
   "cell_type": "code",
   "execution_count": null,
   "metadata": {},
   "outputs": [],
   "source": []
  },
  {
   "cell_type": "code",
   "execution_count": null,
   "metadata": {},
   "outputs": [],
   "source": [
    "\n",
    "lin_g = graphix.lineProfile()\n",
    "fnames = glob.glob(path + 'LS08230730_*')\n",
    "lin_g.mapLoad(fnames[2:-1])\n",
    "lin_g.normalize_range([4e-3,5e-3],0)\n",
    "\n"
   ]
  },
  {
   "cell_type": "markdown",
   "metadata": {},
   "source": [
    "### Fit"
   ]
  },
  {
   "cell_type": "code",
   "execution_count": null,
   "metadata": {},
   "outputs": [],
   "source": [
    "data = sf.specTodf(fnames[2:-1])\n",
    "x = data[0]\n",
    "n=9\n",
    "y = data[n]/(data[n][0])\n",
    "x , y = sf.cutSpec(x,y,0,0.17)\n",
    "fit = sf.fitFunc1g_lin(x,y,center=0,sigma=0.1)\n",
    "\n",
    "plt.figure()\n",
    "plt.plot(x,y)\n",
    "comps = fit.eval_components(x=x)\n",
    "plt.plot(x,comps['gaussian'])\n",
    "plt.plot(x,comps['bkg_'])\n",
    "\n",
    "multifit = sf.fit_plotfull(data,0, 0.17,0.1,0.02,'para',plotype='ct',plotGauss=True)\n",
    "\n",
    "joseph = sf.fitParamExtract1g(multifit,'amplitude')"
   ]
  },
  {
   "cell_type": "code",
   "execution_count": null,
   "metadata": {},
   "outputs": [],
   "source": []
  },
  {
   "cell_type": "code",
   "execution_count": null,
   "metadata": {},
   "outputs": [],
   "source": [
    "f,ax = plt.subplots(1)\n",
    "\n",
    "ax.errorbar(lin_g.linescan.distance,joseph[0],yerr=joseph[1],marker='o',capsize=5)\n",
    "ax.set_ylim(0,None)\n",
    "ax.set_xlabel('Distance (nm)')\n",
    "ax.set_ylabel('dI/dV (Gn)')"
   ]
  },
  {
   "cell_type": "markdown",
   "metadata": {},
   "source": [
    "# Grids"
   ]
  },
  {
   "cell_type": "code",
   "execution_count": null,
   "metadata": {},
   "outputs": [],
   "source": [
    "\n",
    "# 15mT field\n",
    "grid.mapload(path+'G04230731_001.3ds',cmap='viridis')\n",
    "grid.explorer()"
   ]
  },
  {
   "cell_type": "code",
   "execution_count": null,
   "metadata": {},
   "outputs": [],
   "source": [
    "# 0 field\n",
    "grid.mapload(path+'G03230730_001.3ds',cmap='viridis')\n",
    "grid.explorer()"
   ]
  },
  {
   "cell_type": "code",
   "execution_count": null,
   "metadata": {},
   "outputs": [],
   "source": [
    "grid.conductance.max(),grid.conductance.min()"
   ]
  },
  {
   "cell_type": "markdown",
   "metadata": {},
   "source": [
    "## B field dependence"
   ]
  },
  {
   "cell_type": "code",
   "execution_count": null,
   "metadata": {},
   "outputs": [],
   "source": [
    "#gap\n",
    "from scipy.interpolate import interp1d\n",
    "from scipy.ndimage import gaussian_filter\n",
    "\n",
    "def apply_interpolation(x, y, new_x, kind='cubic'):\n",
    "    interp_func = interp1d(x, y, kind=kind)\n",
    "    interpolated_y = interp_func(new_x)\n",
    "    return interpolated_y\n",
    "\n",
    "idx = [12,7,8,9,10,11]\n",
    "B = [0,5,10,20,30,40]\n",
    "f, ax = plt.subplots()\n",
    "fnames = loadfnames(idx,'S230730_')\n",
    "spectra.load(fnames[0])\n",
    "idx_p = np.abs(spectra.bias*1e3-5).argmin()\n",
    "idx_n = np.abs(spectra.bias*1e3+5).argmin()\n",
    "plt.rcParams[\"axes.prop_cycle\"] = plt.cycler(\"color\", plt.cm.viridis(np.linspace(0,1,len(fnames))))\n",
    "n=0\n",
    "gap = []\n",
    "for f in fnames:\n",
    "    spectra.load(f)\n",
    "    spectra.normalizeRange([4e-3,5e-3])\n",
    "    ax.plot(spectra.bias[idx_p:idx_n]*1e3,spectra.conductance[idx_p:idx_n] + n*0)\n",
    "    n+=1\n",
    "    x = spectra.bias\n",
    "    new_x = np.linspace(x.min(),x.max(),2000)\n",
    "    intY =apply_interpolation(x,spectra.conductance,new_x)\n",
    "    idxs = (gaussian_filter(intY,0).argmax())\n",
    "    gap.append(np.abs(new_x[idxs]))\n",
    "ax.set_xlim(-3,3)\n",
    "uf.didv(ax)\n"
   ]
  },
  {
   "cell_type": "code",
   "execution_count": null,
   "metadata": {},
   "outputs": [],
   "source": [
    "plt.figure()\n",
    "plt.scatter(B,np.array(gap)*1e3)"
   ]
  },
  {
   "cell_type": "code",
   "execution_count": null,
   "metadata": {},
   "outputs": [],
   "source": [
    "(gap[0]-gap[-1])*1e3"
   ]
  },
  {
   "cell_type": "code",
   "execution_count": null,
   "metadata": {},
   "outputs": [],
   "source": [
    "# josephson\n",
    "idx = [12,7,8,9,10,11]\n",
    "B = [0,5,10,20,30,40]\n",
    "f, ax = plt.subplots()\n",
    "fnames = loadfnames(idx,'S230730_')\n",
    "spectra.load(fnames[0])\n",
    "idx_p = np.abs(spectra.bias*1e3-5).argmin()\n",
    "idx_n = np.abs(spectra.bias*1e3+5).argmin()\n",
    "plt.rcParams[\"axes.prop_cycle\"] = plt.cycler(\"color\", plt.cm.viridis(np.linspace(0,1,len(fnames))))\n",
    "n=0\n",
    "for f in fnames:\n",
    "    spectra.load(f)\n",
    "    spectra.normalizeRange([4e-3,5e-3])\n",
    "    ax.plot(spectra.bias[idx_p:idx_n]*1e3,spectra.conductance[idx_p:idx_n] + n*0)\n",
    "    n+=1\n",
    "ax.set_xlim(-0.6,0.6)\n",
    "ax.set_ylim(0.01,0.05)\n",
    "uf.didv(ax)"
   ]
  },
  {
   "cell_type": "code",
   "execution_count": null,
   "metadata": {},
   "outputs": [],
   "source": [
    "# deconvolution\n",
    "idx = [12,7,8,9,10,11]\n",
    "B = [0,5,10,20,30,40]\n",
    "f, ax = plt.subplots()\n",
    "fnames = loadfnames(idx,'S230730_')\n",
    "spectra.load(fnames[0])\n",
    "idx_p = np.abs(spectra.bias*1e3-5).argmin()\n",
    "idx_n = np.abs(spectra.bias*1e3+5).argmin()\n",
    "plt.rcParams[\"axes.prop_cycle\"] = plt.cycler(\"color\", plt.cm.viridis(np.linspace(0,1,len(fnames))))\n",
    "\n",
    "for f in fnames:\n",
    "    spectra.load(f)\n",
    "    spectra.normalizeRange([-5e-3,5e-3])\n",
    "    spectra.dynesDeconvolute(gap=1.32e-3, temperature=1.3, dynesParameter=30e-6, energyR=6e-3, spacing=50e-6,x_min=-4E-3,x_max=4E-3,N=200, window=5,order=3,n=2000)\n",
    "    norm = np.average(spectra.conductance_dec[idx_p:idx_n])\n",
    "    ax.plot(spectra.bias_dec[idx_p:idx_n]*1e3,spectra.conductance_dec[idx_p:idx_n]/norm)\n",
    "    n+=1\n",
    "\n",
    "uf.didv_dec(ax)\n",
    "ax.set_xlim(-3,3)"
   ]
  },
  {
   "cell_type": "markdown",
   "metadata": {},
   "source": [
    "# Collection 2"
   ]
  },
  {
   "cell_type": "code",
   "execution_count": null,
   "metadata": {},
   "outputs": [],
   "source": [
    "fnames = []\n",
    "\n",
    "f1 = [98,110,118,125,132 ,140,147,155,162,169,176,183,190,198,205,213,220,227,234,241,249,257,264,271,278,285]\n",
    "f2 = [102,111,119,126,133,141,148,156,163,170,177,184,191,199,207,214,221,228,235,242,250,258,265,272,279,286]\n",
    "f3 = [105,112,120,127,134,142,149,157,164,171,178,185,193,200,208,215,222,229,236,243,251,259,266,273,280,287]\n",
    "f4 = [107,114,121,128,135,143,150,158,165,172,179,186,194,201,209,216,223,230,237,244,252,260,267,274,281,288]\n",
    "f5 = [106,115,122,129,136,144,151,159,166,173,180,187,195,202,210,217,224,231,238,245,253,261,268,275,282,289]\n",
    "f6 = [108,108,123,130,137,145,152,160,167,174,181,188,196,203,211,218,225,232,239,246,254,262,269,276,283,290] # missing second point\n",
    "f7 = [109,116,124,131,138,146,154,161,168,175,182,189,197,204,212,219,226,233,240,247,255,263,270,277,284,291] #changed slightly tip at 154\n",
    "\n",
    "all_files = [f1,f2,f3,f4,f5,f6,f7]\n"
   ]
  },
  {
   "cell_type": "code",
   "execution_count": null,
   "metadata": {},
   "outputs": [],
   "source": [
    "def plotBset(idx,date):\n",
    "    fnames = []\n",
    "    for i in idx:\n",
    "        fnames.append(path + date + '{:03}.dat'.format(i))\n",
    "    lin.load(fnames)\n",
    "    lin.normalizeRange([4.5e-3,5e-3])\n",
    "    f,ax = plt.subplots(1)\n",
    "    ax.imshow(lin.conductance,extent=[-5,5,0,2.6],aspect='auto',interpolation='nearest',vmax=lin.conductance.max()*0.5)\n",
    "    ax.set_xlabel('Bias (mV)')\n",
    "    ax.set_ylabel('B field (T)')"
   ]
  },
  {
   "cell_type": "code",
   "execution_count": null,
   "metadata": {},
   "outputs": [],
   "source": [
    "n=0\n",
    "for f in all_files:\n",
    "    plotBset(f,'S230727_')\n",
    "    plt.savefig('out{}.png'.format(n),dpi=600)\n",
    "    n+=1"
   ]
  },
  {
   "cell_type": "markdown",
   "metadata": {},
   "source": [
    "## fit of the coulomb gap"
   ]
  },
  {
   "cell_type": "code",
   "execution_count": null,
   "metadata": {},
   "outputs": [],
   "source": [
    "from lmfit import Model\n",
    "def Ip(Vp,R2,C1,C2,Q0):\n",
    "    n0 = np.round(((-C2*Vp+Q0-const.e/2)/const.e + (-C2*Vp+Q0+const.e/2)/const.e)/2)\n",
    "    if (-const.e/2 + n0*const.e -Q0 )/C1 < Vp <  (const.e/2 + n0*const.e -Q0)/C1:\n",
    "        Ip = 0\n",
    "    else:\n",
    "        Ip = (1/(R2*(C1+C2)))*(-(n0*const.e-Q0)+C1*Vp-const.e*np.sign(Vp)/2)\n",
    "    return Ip\n",
    "\n",
    "def fdd( E, mu, T): #fermi Dirac function\n",
    "    if T == 0:\n",
    "        f = np.heaviside(-(E-mu), 1)\n",
    "    else:\n",
    "        f = 1/(1+np.exp((E-mu)/(const.k*T/const.e)))\n",
    "    return f\n",
    "\n",
    "def coulomb(x,R2,C1,C2,Q0,T):\n",
    "    I = []\n",
    "    for Vp in x:\n",
    "        I.append(Ip(Vp,R2,C1,C2,Q0))\n",
    "    It = []\n",
    "    Vint = np.linspace(-Erange/2,Erange/2,V.shape[0])\n",
    "    for i in Vint:\n",
    "        It.append(np.trapz(np.gradient(I)*( fdd(V,i,T)-fdd(V,0,T) ),x=x))\n",
    "    return np.gradient(It)\n",
    "\n",
    "\n",
    "\n",
    "model = Model(coulomb)\n",
    "Erange= 5e-3\n",
    "x= np.linspace(-Erange,Erange,300)\n",
    "\n",
    "params = model.make_params()\n",
    "params['C2'].set(0.037e-16,vary=False)\n",
    "params['C1'].set(0.75e-16)\n",
    "params['Q0'].set(1.1e-20)\n",
    "params['T'].set(1.3)\n",
    "params['R2'].set(1e8,vary=False)\n",
    "\n",
    "fit = model.fit(lin.conductance[0],params,x=x)"
   ]
  },
  {
   "cell_type": "code",
   "execution_count": null,
   "metadata": {},
   "outputs": [],
   "source": [
    "plt.figure()\n",
    "plt.plot(lin.conductance[0])\n",
    "plt.plot(fit.eval(x=V))"
   ]
  },
  {
   "cell_type": "code",
   "execution_count": null,
   "metadata": {},
   "outputs": [],
   "source": [
    "fit"
   ]
  },
  {
   "cell_type": "markdown",
   "metadata": {},
   "source": [
    "# collection 3"
   ]
  },
  {
   "cell_type": "code",
   "execution_count": null,
   "metadata": {},
   "outputs": [],
   "source": [
    "idx_island15 = [78,80,90]\n"
   ]
  },
  {
   "cell_type": "markdown",
   "metadata": {},
   "source": [
    "# Temperature dependence"
   ]
  },
  {
   "cell_type": "code",
   "execution_count": null,
   "metadata": {},
   "outputs": [],
   "source": [
    "is1 = [53,81,86,115,156,178,185,204]\n",
    "is1_T = [8,7,6,5,4,3,2,1.3]\n",
    "is2 = [55,80,92,118,155,181]\n",
    "is2_T = [8,7,6,5,4,3]\n",
    "is3 = [79,91,117,152,179,184,203]\n",
    "is3_T = [7,6,5,4,3,2,1.3]\n",
    "is4 = [52,82,87,116,154,177,186,211] # 209 also valid but a bit dif.?\n",
    "is4_T = [8,7,6,5,4,3,2,1.3]\n",
    "is5 = [51,78,90,120,151,176,183,210]\n",
    "is5_T = [8,7,6,5,4,3,2,1.3]\n",
    "is6 = [50,77,89,119,150,175,187,212]\n",
    "is6_T = [8,7,6,5,4,3,2,1.3]\n",
    "is7 = [48,75,94,121,149,173,188,213]\n",
    "is7_T = [8,7,6,5,4,3,2,1.3]\n",
    "is8 = [47,73,96,122,147,172,189,215]\n",
    "is8_T = [8,7,6,5,4,3,2,1.3]\n",
    "is9 = [46,72,98,123,145,171,190,216]\n",
    "is9_T = [8,7,6,5,4,3,2,1.3]\n",
    "is10 = [42,71,99,124,144,170,193,217]\n",
    "is10_T = [8,7,6,5,4,3,2,1.3]\n",
    "is11 = [45,70,100,169,192,218]\n",
    "is11_T = [8,7,6,3,2,1.3]\n",
    "is12 = [43,68,102,126,141,167,194,220]\n",
    "is12_T = [8,7,6,5,4,3,2,1.3]\n",
    "is13 = [44,69,101,127,142,168,196,219]\n",
    "is13_T = [8,7,6,5,4,3,2,1.3]\n",
    "is14 = [25,64,103,128,140,166,197,221]\n",
    "is14_T = [8,7,6,5,4,3,2,1.3]\n",
    "is15 = [28,63,107,130,138,165,198,222]\n",
    "is15_T = [8,7,6,5,4,3,2,1.3]\n",
    "is16 = [40,62,108,131,137,200,223] #200 -> X mark not found\n",
    "is16_T = [8,7,6,5,4,2,1.3]\n",
    "is17 = [41,61,109,132,136,164,201,224]\n",
    "is17_T = [8,7,6,5,4,3,2,1.3]\n",
    "gr = [112,134,157,182,202]\n",
    "gr_T = [6,5,4,3,2]\n",
    "\n",
    "idxs = [is1 ,is2 ,is3 ,is4 ,is5 ,is6 ,is7 ,is8 ,is9 ,is10,is11,is12,is13,is14,is15,is16,is17,gr]"
   ]
  },
  {
   "cell_type": "code",
   "execution_count": null,
   "metadata": {},
   "outputs": [],
   "source": [
    "fnames = []\n",
    "for idx in idxs:\n",
    "    fnames.append(loadfnames_gen(idx,'S230*'))"
   ]
  },
  {
   "cell_type": "code",
   "execution_count": null,
   "metadata": {},
   "outputs": [],
   "source": [
    "\n",
    "f,axs = plt.subplots(3,6)\n",
    "n=0\n",
    "axs=np.reshape(axs,18)\n",
    "for ax in axs:\n",
    "        for i in fnames[n]:\n",
    "            spectra.load(i)\n",
    "            spectra.normalizeTo(10e-3)\n",
    "            ax.plot(spectra.bias*1e3,spectra.conductance)\n",
    "            ax.set_xlabel('Bias (mV)')\n",
    "            ax.set_ylabel('dI/dV')\n",
    "            ax.set_xlim(-10,10)\n",
    "        n+=1\n"
   ]
  },
  {
   "cell_type": "markdown",
   "metadata": {},
   "source": [
    "# additional islands T230803_008"
   ]
  },
  {
   "cell_type": "markdown",
   "metadata": {},
   "source": [
    "## z approach"
   ]
  },
  {
   "cell_type": "code",
   "execution_count": null,
   "metadata": {},
   "outputs": [],
   "source": [
    "idx = [710,711,712,713,714,715]\n",
    "\n",
    "fnames = loadfnames(idx,'S230803_')"
   ]
  },
  {
   "cell_type": "code",
   "execution_count": null,
   "metadata": {},
   "outputs": [],
   "source": [
    "f, ax = plt.subplots()\n",
    "\n",
    "for i in fnames:\n",
    "    spectra.load(i)\n",
    "    spectra.normalizeRange([-5e-3,5e-3])\n",
    "    ax.plot(spectra.bias*1e3,spectra.conductance)"
   ]
  },
  {
   "cell_type": "markdown",
   "metadata": {},
   "source": [
    "# triangular grids"
   ]
  },
  {
   "cell_type": "code",
   "execution_count": null,
   "metadata": {},
   "outputs": [],
   "source": [
    "def fill_triangle(v1, v2, v3, spacing=1.0):\n",
    "    # Sort vertices in ascending order of y-coordinates\n",
    "    vertices = sorted([v1, v2, v3], key=lambda vertex: vertex[1])\n",
    "\n",
    "    v1, v2, v3 = vertices\n",
    "\n",
    "    x1, y1 = v1\n",
    "    x2, y2 = v2\n",
    "    x3, y3 = v3\n",
    "\n",
    "    # Calculate the slopes of the three edges of the triangle\n",
    "    inv_slope1 = (x2 - x1) / (y2 - y1) if y2 != y1 else 0\n",
    "    inv_slope2 = (x3 - x1) / (y3 - y1) if y3 != y1 else 0\n",
    "    inv_slope3 = (x3 - x2) / (y3 - y2) if y3 != y2 else 0\n",
    "\n",
    "    # Initialize the starting and ending x-coordinates for each scanline\n",
    "    x_start = x1\n",
    "    x_end = x1\n",
    "\n",
    "    points = []\n",
    "\n",
    "    # Fill the triangle using scanline approach\n",
    "    for y in range(y1, y3 + 1):\n",
    "        # Calculate the starting and ending x-coordinates for each scanline\n",
    "        if y < y2:\n",
    "            x_start = x1 + int((y - y1) * inv_slope1)\n",
    "            x_end = x1 + int((y - y1) * inv_slope2)\n",
    "        else:\n",
    "            x_start = x2 + int((y - y2) * inv_slope3)\n",
    "            x_end = x1 + int((y - y1) * inv_slope2)\n",
    "\n",
    "        # Sort x-coordinates for each scanline\n",
    "        x_start, x_end = sorted([x_start, x_end])\n",
    "\n",
    "        # Append points lying on the scanline to the list with the specified spacing\n",
    "        for x in range(x_start, x_end + 1, int(spacing)):\n",
    "            points.append((x, y))\n",
    "\n",
    "    return points\n",
    "\n",
    "# Define the vertices of the generic triangle\n",
    "v1 = (-390.006, -846.221)    # Vertex 1\n",
    "v2 = (-366.101, -812.574)    # Vertex 2\n",
    "v3 = (-409.041, -809.253)    # Vertex 3\n",
    "\n",
    "spacing = 1  # Control the spacing between points\n",
    "\n",
    "t_p = fill_triangle(v1, v2, v3, spacing)\n"
   ]
  },
  {
   "cell_type": "code",
   "execution_count": null,
   "metadata": {},
   "outputs": [],
   "source": [
    "\n",
    "def frange(start, end, step):\n",
    "    while start <= end:\n",
    "        yield start\n",
    "        start += step\n",
    "\n",
    "def fill_triangle(v1, v2, v3, spacing=1.0):\n",
    "    # Sort vertices in ascending order of y-coordinates\n",
    "    vertices = sorted([v1, v2, v3], key=lambda vertex: vertex[1])\n",
    "\n",
    "    v1, v2, v3 = vertices\n",
    "\n",
    "    x1, y1 = v1\n",
    "    x2, y2 = v2\n",
    "    x3, y3 = v3\n",
    "\n",
    "    # Calculate the slopes of the three edges of the triangle\n",
    "    slope1 = (x2 - x1) / (y2 - y1) if y2 != y1 else 0\n",
    "    slope2 = (x3 - x1) / (y3 - y1) if y3 != y1 else 0\n",
    "    slope3 = (x3 - x2) / (y3 - y2) if y3 != y2 else 0\n",
    "\n",
    "    # Initialize the starting and ending x-coordinates for each scanline\n",
    "    x_start = x1\n",
    "    x_end = x1\n",
    "\n",
    "    points = []\n",
    "\n",
    "    # Fill the triangle using scanline approach\n",
    "    for y in range(int(y1), int(y3) + 1):\n",
    "        # Calculate the starting and ending x-coordinates for each scanline\n",
    "        if y < y2:\n",
    "            x_start = x1 + (y - y1) * slope1\n",
    "            x_end = x1 + (y - y1) * slope2\n",
    "        else:\n",
    "            x_start = x2 + (y - y2) * slope3\n",
    "            x_end = x1 + (y - y1) * slope2\n",
    "\n",
    "        # Sort x-coordinates for each scanline\n",
    "        x_start, x_end = sorted([x_start, x_end])\n",
    "\n",
    "        # Append points lying on the scanline to the list with the specified spacing\n",
    "        x_points = [x for x in frange(x_start, x_end, spacing)]\n",
    "        for x in x_points:\n",
    "            points.append((x, y))\n",
    "\n",
    "    return points\n",
    "\n",
    "# Define the vertices of the generic triangle with floating-point coordinates\n",
    "v1 = (-390.006, -846.221)    # Vertex 1\n",
    "v2 = (-366.101, -812.574)    # Vertex 2\n",
    "v3 = (-409.041, -809.253)    # Vertex 3\n",
    "\n",
    "spacing = 1.5  # Control the spacing between points\n",
    "\n",
    "triangle_points = fill_triangle(v1, v2, v3, spacing)\n",
    "print(triangle_points)"
   ]
  },
  {
   "cell_type": "code",
   "execution_count": null,
   "metadata": {},
   "outputs": [],
   "source": [
    "import math\n",
    "\n",
    "def frange(start, end, step):\n",
    "    while start <= end:\n",
    "        yield start\n",
    "        start += step\n",
    "\n",
    "def generate_square_grid(min_x, max_x, min_y, max_y, spacing=1.0):\n",
    "    square_points = []\n",
    "    for x in frange(min_x, max_x, spacing):\n",
    "        for y in frange(min_y, max_y, spacing):\n",
    "            square_points.append((x, y))\n",
    "\n",
    "    return square_points\n",
    "\n",
    "def is_inside_triangle(point, v1, v2, v3):\n",
    "    def sign(p1, p2, p3):\n",
    "        return (p1[0] - p3[0]) * (p2[1] - p3[1]) - (p2[0] - p3[0]) * (p1[1] - p3[1])\n",
    "\n",
    "    b1 = sign(point, v1, v2) < 0.0\n",
    "    b2 = sign(point, v2, v3) < 0.0\n",
    "    b3 = sign(point, v3, v1) < 0.0\n",
    "\n",
    "    return b1 == b2 == b3\n",
    "\n",
    "def cut_triangle_from_square(square_points, v1, v2, v3):\n",
    "    triangle_points = []\n",
    "    for point in square_points:\n",
    "        if is_inside_triangle(point, v1, v2, v3):\n",
    "            triangle_points.append(point)\n",
    "    return triangle_points\n",
    "\n",
    "# Define the vertices of the triangular pattern with square lattice symmetry\n",
    "\n",
    "v1 = (-384,-840)\n",
    "v2 = (-357,-804)\n",
    "v3 = (-402,-800)\n",
    "\n",
    "\n",
    "\n",
    "v1 = (0,0)\n",
    "v2 = (0,10)\n",
    "v3 = (10,5)\n",
    "\n",
    "\n",
    "min_x = -1\n",
    "max_x = 3\n",
    "min_y = -1\n",
    "max_y = 2\n",
    "\n",
    "spacing = 0.1  # Control the spacing between points in the square grid\n",
    "\n",
    "# Generate the square grid\n",
    "square_points = generate_square_grid(min_x, max_x, min_y, max_y, spacing)\n",
    "\n",
    "# Cut the triangle from the square grid\n",
    "triangle_points = cut_triangle_from_square(square_points, v1, v2, v3)\n",
    "\n",
    "print(\"Triangle Points:\")\n",
    "print(triangle_points)"
   ]
  },
  {
   "cell_type": "code",
   "execution_count": null,
   "metadata": {},
   "outputs": [],
   "source": [
    "import math\n",
    "\n",
    "def frange(start, end, step):\n",
    "    while start <= end:\n",
    "        yield start\n",
    "        start += step\n",
    "\n",
    "def generate_square_grid(center_x, center_y, width, height, spacing=1.0):\n",
    "    min_x = center_x - width / 2\n",
    "    max_x = center_x + width / 2\n",
    "    min_y = center_y - height / 2\n",
    "    max_y = center_y + height / 2\n",
    "\n",
    "    square_points = []\n",
    "    for x in frange(min_x, max_x, spacing):\n",
    "        for y in frange(min_y, max_y, spacing):\n",
    "            square_points.append((x, y))\n",
    "\n",
    "    return square_points\n",
    "\n",
    "def is_inside_triangle(point, v1, v2, v3):\n",
    "    def sign(p1, p2, p3):\n",
    "        return (p1[0] - p3[0]) * (p2[1] - p3[1]) - (p2[0] - p3[0]) * (p1[1] - p3[1])\n",
    "\n",
    "    b1 = sign(point, v1, v2) < 0.0\n",
    "    b2 = sign(point, v2, v3) < 0.0\n",
    "    b3 = sign(point, v3, v1) < 0.0\n",
    "\n",
    "    return b1 == b2 == b3\n",
    "\n",
    "def cut_triangle_from_square(square_points, v1, v2, v3):\n",
    "    triangle_points = []\n",
    "    for point in square_points:\n",
    "        if is_inside_triangle(point, v1, v2, v3):\n",
    "            triangle_points.append(point)\n",
    "    return triangle_points\n",
    "\n",
    "\n",
    "# Define the vertices of the triangular pattern with square lattice symmetry\n",
    "\n",
    "v1 = (-383,-839)\n",
    "v2 = (-356,-802)\n",
    "v3 = (-401,-799)   # Vertex 3 (sqrt(3) to keep symmetry)\n",
    "\n",
    "# Define the center and dimensions of the square grid\n",
    "center_x = -378\n",
    "center_y = -818\n",
    "width = 56\n",
    "height = 56\n",
    "\n",
    "spacing = 1.5  # Control the spacing between points in the square grid\n",
    "\n",
    "# Generate the square grid\n",
    "square_points = generate_square_grid(center_x, center_y, width, height, spacing)\n",
    "\n",
    "# Cut the triangle from the square grid\n",
    "triangle_points = cut_triangle_from_square(square_points, v1, v2, v3)\n",
    "\n",
    "print(\"Triangle Points:\")\n",
    "print(triangle_points)\n",
    "\n",
    "def sort_points(points):\n",
    "    # Sort points first by -X (right to left), then by Y (bottom to top)\n",
    "    return sorted(points, key=lambda point: (point[1], -point[0]))\n",
    "\n",
    "triangle_points = sort_points(triangle_points)"
   ]
  },
  {
   "cell_type": "code",
   "execution_count": null,
   "metadata": {},
   "outputs": [],
   "source": [
    "plt.rcParams[\"axes.prop_cycle\"] = plt.cycler(\"color\", plt.cm.tab10(np.linspace(0,1,10)))\n",
    "plt.figure()\n",
    "for i in square_points:\n",
    "    plt.scatter(i[0],i[1],color='C0')\n",
    "\n",
    "\n",
    "\n",
    "\n",
    "# plt.figure()\n",
    "for i in triangle_points:\n",
    "    plt.scatter(i[0],i[1],color='C1')"
   ]
  },
  {
   "cell_type": "code",
   "execution_count": null,
   "metadata": {},
   "outputs": [],
   "source": [
    "def generate_coordinates_txt(coordinates, filename):\n",
    "    with open(filename, 'w') as file:\n",
    "        for i, (x, y) in enumerate(coordinates):\n",
    "            line = f\"XY {i}(m)={x:.3f}n,{y:.3f}n/n\"\n",
    "            file.write(line)\n",
    "\n",
    "\n",
    "# Output file name\n",
    "output_filename = \"coordinatesG5-_square.txt\"\n",
    "\n",
    "# Generate the coordinates in the txt file\n",
    "generate_coordinates_txt(square_points, output_filename)"
   ]
  },
  {
   "cell_type": "code",
   "execution_count": null,
   "metadata": {},
   "outputs": [],
   "source": [
    "# load triangle points\n",
    "\n"
   ]
  },
  {
   "cell_type": "code",
   "execution_count": null,
   "metadata": {},
   "outputs": [],
   "source": [
    "coords = np.loadtxt"
   ]
  },
  {
   "cell_type": "code",
   "execution_count": null,
   "metadata": {},
   "outputs": [],
   "source": [
    "\n",
    "center_x = -378\n",
    "center_y = -818\n",
    "width = 56\n",
    "height = 56\n",
    "\n",
    "x = np.arange(center_x-width/2,center_x+width/2,1.5)\n",
    "y = np.arange(center_y-width/2,center_y+width/2,1.5)"
   ]
  },
  {
   "cell_type": "code",
   "execution_count": 229,
   "metadata": {},
   "outputs": [],
   "source": [
    "def load_coords(fname):\n",
    "    with open(fname, 'r') as file:\n",
    "        # Read lines from the file\n",
    "        lines = file.readlines()\n",
    "\n",
    "    # Initialize an empty list to store tuples\n",
    "    result = []\n",
    "\n",
    "    # Loop through each line in the file\n",
    "    for line in lines:\n",
    "        # Split the line by '=' and ',' to extract numerical values\n",
    "        values = line.split('=')[1].strip().split(',')\n",
    "        # Convert the values to floats and create a tuple\n",
    "        xy_tuple = (float(values[0][:-1]), float(values[1][:-1]))\n",
    "        # Append the tuple to the result list\n",
    "        result.append(xy_tuple)\n",
    "    return result\n"
   ]
  },
  {
   "cell_type": "code",
   "execution_count": 241,
   "metadata": {},
   "outputs": [],
   "source": [
    "square_points = load_coords('../Jon/ste_files/coordinatesG1-4_square.txt')\n",
    "triangle_points = load_coords('../Jon/ste_files/coordinatesG5-.txt')\n"
   ]
  },
  {
   "cell_type": "code",
   "execution_count": 244,
   "metadata": {},
   "outputs": [],
   "source": [
    "fnames = glob.glob(\"Z:/STMDATA/Berlino/GrSiC-Si side/2023.07.23 - Gr SiC Sandra 2/2023.07.26 - 1st evap/23.08.04 - New island1/23.08.04 - grids triangular/G02*.dat\")[5:-5]\n",
    "center_x = -371\n",
    "center_y = -800\n",
    "width = 50\n",
    "height = 50\n",
    "\n",
    "\n",
    "\n",
    "tri_grid = graphix.tri_grid()\n",
    "tri_grid.load(fnames,triangle_points,square_points,center_x,center_y,width,height)\n",
    "\n",
    "tri_grid.explorer()"
   ]
  },
  {
   "cell_type": "markdown",
   "metadata": {},
   "source": [
    "# sequential pulses"
   ]
  },
  {
   "cell_type": "code",
   "execution_count": null,
   "metadata": {},
   "outputs": [],
   "source": [
    "fnames = glob.glob('Z:/STMDATA/Berlino/GrSiC-Si side/2023.07.23 - Gr SiC Sandra 2/2023.07.26 - 1st evap/23.08.04 - New island1/23.08.04 - Pulse Test/S23080*.dat')\n",
    "lin_close = []\n",
    "for i in range(0,len(fnames),2):\n",
    "    if i==286:\n",
    "        continue\n",
    "    lin_close.append(fnames[i])\n",
    "\n",
    "lin.load(lin_close)\n",
    "lin.normalizeRange([4e-3,5e-3])"
   ]
  },
  {
   "cell_type": "code",
   "execution_count": null,
   "metadata": {},
   "outputs": [],
   "source": [
    "plt.figure()\n",
    "y = np.arange(-2.5,2.5,0.025)\n",
    "plt.imshow(lin.conductance,extent=[-5,5,-2.5,2.5],aspect='auto',vmax=0.5,interpolation='nearest')"
   ]
  },
  {
   "cell_type": "markdown",
   "metadata": {},
   "source": [
    "# Theory and simulations"
   ]
  },
  {
   "cell_type": "code",
   "execution_count": null,
   "metadata": {},
   "outputs": [],
   "source": [
    "def bcs(delta,x):\n",
    "    eta=delta/20\n",
    "    return np.imag(np.divide(x+eta*1j,np.sqrt(delta**2-(x+eta*1j)**2)))\n",
    "\n",
    "def fermi(T,x):\n",
    "    return np.divide(1,1+np.exp(x/T))\n",
    "\n",
    "def E1(C1,C2,V,n,Q0):\n",
    "    k=C2/(C1+C2)\n",
    "    return k*V+(n+Q0-1/2)/(C1+C2)\n",
    "\n",
    "def E2(C1,C2,V,n,Q0):\n",
    "    k=C1/(C1+C2)\n",
    "    return k*V+(n+Q0-1/2)/(C1+C2)\n",
    "\n",
    "def Gamma1(V,R1,C1,C2,n,Q0,Delta_t,Delta_s,T):\n",
    "    x=np.linspace(-15*Delta,15*Delta,800)\n",
    "    k=C2/(C1+C2)\n",
    "    Ec=1/(4*C1*C2)\n",
    "    a,b=np.meshgrid(x,-k**2*Ec+E1(C1,C2,V,n,Q0))\n",
    "    t=a+b\n",
    "    return np.dot( bcs(Delta_s,t)*(1-fermi(T,t)),bcs(Delta_t,x)*fermi(T,x) )/R1\n",
    "\n",
    "def Gamma2(V,R2,C1,C2,n,Q0,Delta_s,T):\n",
    "    x=np.linspace(-15*Delta,15*Delta,800)\n",
    "    k=C1/(C1+C2)\n",
    "    Ec=1/(4*C1*C2)\n",
    "    a,b=np.meshgrid(x,-k**2*Ec+E2(C1,C2,V,-n,-Q0))\n",
    "    t=a+b\n",
    "    return np.dot(bcs(Delta_s,x)*(1-fermi(T,t)),bcs(Delta_s,x)*fermi(T,x))/R2\n",
    "\n",
    "\n",
    "def p(V,R1,R2,C1,C2,Q0,Delta_t,Delta_s,T):\n",
    "    m1=(Gamma1(V,R1,C1,C2,0,Q0,Delta_t,Delta_s,T)+Gamma2(-V,R2,C1,C2,0,-Q0,Delta_t,T))/(Gamma1(-V,R1,C1,C2,1,-Q0,Delta_t,Delta_s,T)+Gamma2(V,R2,C1,C2,-1,Q0,Delta_t,T))\n",
    "    e1=(Gamma1(-V,R1,C1,C2,0,-Q0,Delta_t,Delta_s,T)+Gamma2(V,R2,C1,C2,0,Q0,Delta_t,T))/(Gamma1(V,R1,C1,C2,1,Q0,Delta_t,Delta_s,T)+Gamma2(-V,R2,C1,C2,-1,-Q0,Delta_t,T))\n",
    "    e2=(Gamma1(-V,R1,C1,C2,-1,-Q0,Delta_t,Delta_s,T)+Gamma2(V,R2,C1,C2,1,Q0,Delta_t,T))/(Gamma1(V,R1,C1,C2,2,Q0,Delta_t,Delta_s,T)+Gamma2(-V,R2,C1,C2,-2,-Q0,Delta_t,T))\n",
    "    m2=(Gamma1(V,R1,C1,C2,-1,Q0,Delta_t,Delta_s,T)+Gamma2(-V,R2,C1,C2,1,-Q0,Delta_t,T))/(Gamma1(-V,R1,C1,C2,2,-Q0,Delta_t,Delta_s,T)+Gamma2(V,R2,C1,C2,-2,Q0,Delta_t,T))\n",
    "    e3=(Gamma1(-V,R1,C1,C2,-2,-Q0,Delta_t,Delta_s,T)+Gamma2(V,R2,C1,C2,2,Q0,Delta_t,T))/(Gamma1(V,R1,C1,C2,3,Q0,Delta_t,Delta_s,T)+Gamma2(-V,R2,C1,C2,-3,-Q0,Delta_t,T))\n",
    "    m3=(Gamma1(V,R1,C1,C2,-2,Q0,Delta_t,Delta_s,T)+Gamma2(-V,R2,C1,C2,2,-Q0,Delta_t,T))/(Gamma1(-V,R1,C1,C2,3,-Q0,Delta_t,Delta_s,T)+Gamma2(V,R2,C1,C2,-3,Q0,Delta_t,T))\n",
    "    p0=np.divide(1,1+m1+e1+m1*m2+e1*e2+m1*m2*m3+e1*e2*e3)\n",
    "    p1=np.multiply(p0,e1)\n",
    "    p_1=np.multiply(p0,m1)\n",
    "    p2=np.multiply(p0,e1*e2)\n",
    "    p_2=np.multiply(p0,m1*m2)\n",
    "    p3=np.multiply(p0,e1*e2*e3)\n",
    "    p_3=np.multiply(p0,m1*m2*m3)\n",
    "    return p0,p_1,p1,p_2,p2,p_3,p3\n",
    "\n",
    "def current(V,R1,R2,C1,C2,Q0,Delta_t,Delta_s,T):\n",
    "    p0,p_1,p1,p_2,p2,p_3,p3=p(V,R1,R2,C1,C2,Q0,Delta_t,Delta_s,T)\n",
    "    G0=Gamma1(V,R1,C1,C2,0,Q0,Delta_t,Delta_s,T)-Gamma1(-V,R1,C1,C2,0,-Q0,Delta_t,Delta_s,T)\n",
    "    G1=Gamma1(V,R1,C1,C2,1,Q0,Delta_t,Delta_s,T)-Gamma1(-V,R1,C1,C2,-1,-Q0,Delta_t,Delta_s,T)\n",
    "    G_1=Gamma1(V,R1,C1,C2,-1,Q0,Delta_t,Delta_s,T)-Gamma1(-V,R1,C1,C2,1,-Q0,Delta_t,Delta_s,T)\n",
    "    G2=Gamma1(V,R1,C1,C2,2,Q0,Delta_t,Delta_s,T)-Gamma1(-V,R1,C1,C2,-2,-Q0,Delta_t,Delta_s,T)\n",
    "    G_2=Gamma1(V,R1,C1,C2,-2,Q0,Delta_t,Delta_s,T)-Gamma1(-V,R1,C1,C2,2,-Q0,Delta_t,Delta_s,T)\n",
    "    G3=Gamma1(V,R1,C1,C2,3,Q0,Delta_t,Delta_s,T)-Gamma1(-V,R1,C1,C2,-3,-Q0,Delta_t,Delta_s,T)\n",
    "    G_3=Gamma1(V,R1,C1,C2,-3,Q0,Delta_t,Delta_s,T)-Gamma1(-V,R1,C1,C2,3,-Q0,Delta_t,Delta_s,T)\n",
    "    return np.multiply(p0,G0)+np.multiply(p1,G1)+np.multiply(p_1,G_1)+np.multiply(p2,G2)+np.multiply(p_2,G_2)+np.multiply(p3,G3)+np.multiply(p_3,G_3)\n",
    "\n",
    "def current2(V,R1,R2,C1,C2,Q0,Delta_t,Delta_s,T):\n",
    "    p0,p_1,p1,p_2,p2,p_3,p3=p(V,R1,R2,C1,C2,Q0,Delta_t,Delta_s,T)\n",
    "    G0=Gamma2(V,R2,C1,C2,0,Q0,Delta_t,T)-Gamma2(-V,R2,C1,C2,0,-Q0,Delta_t,T)\n",
    "    G1=Gamma2(V,R2,C1,C2,1,Q0,Delta_t,T)-Gamma2(-V,R2,C1,C2,-1,-Q0,Delta_t,T)\n",
    "    G_1=Gamma2(V,R2,C1,C2,-1,Q0,Delta_t,T)-Gamma2(-V,R2,C1,C2,1,-Q0,Delta_t,T)\n",
    "    G2=Gamma2(V,R2,C1,C2,2,Q0,Delta_t,T)-Gamma2(-V,R2,C1,C2,-2,-Q0,Delta_t,T)\n",
    "    G_2=Gamma2(V,R2,C1,C2,-2,Q0,Delta_t,T)-Gamma2(-V,R2,C1,C2,2,-Q0,Delta_t,T)\n",
    "    G3=Gamma2(V,R2,C1,C2,3,Q0,Delta_t,T)-Gamma2(-V,R2,C1,C2,-3,-Q0,Delta_t,T)\n",
    "    G_3=Gamma2(V,R2,C1,C2,-3,Q0,Delta_t,T)-Gamma2(-V,R2,C1,C2,3,-Q0,Delta_t,T)\n",
    "    return np.multiply(p0,G0)+np.multiply(p1,G1)+np.multiply(p_1,G_1)+np.multiply(p2,G2)+np.multiply(p_2,G_2)+np.multiply(p3,G3)+np.multiply(p_3,G_3)\n"
   ]
  },
  {
   "cell_type": "code",
   "execution_count": null,
   "metadata": {},
   "outputs": [],
   "source": [
    "Q0s = np.linspace(-0.2,0.2,40)\n",
    "labels = [\n",
    "'R1',\n",
    "'R2',\n",
    "'C1',\n",
    "'C2',\n",
    "'Q0',\n",
    "'Delta_t',\n",
    "'Delta_s',\n",
    "'T',]\n",
    "Delta = 0.562\n",
    "params = [\n",
    "0.2091, #'R1'\n",
    "0.1706,#'R2'\n",
    "0.140,#'C1'\n",
    "0.192,#'C2'\n",
    "-0.225,#'Q0'\n",
    "0.562,#'Delta_t'\n",
    "0.562,#'Delta_s'\n",
    "0.0177,#'T'\n",
    "]\n",
    "\n",
    "V=np.linspace(-15,15,400)\n",
    "\n",
    "def cul_exp(param_v):\n",
    "    image = []\n",
    "    t0 = time.time()\n",
    "    my_range = range(0,param_v.shape[0])\n",
    "    for i in my_range:\n",
    "        uf.timing(i,t0,cycles=my_range[-1])\n",
    "        c0 = np.gradient(current(V,params[0],params[1],params[2],params[3],param_v[i],params[5],params[6],params[7]))\n",
    "        image.append(c0/c0[0])\n",
    "    return image\n",
    "\n",
    "image = cul_exp(Q0s)"
   ]
  },
  {
   "cell_type": "code",
   "execution_count": null,
   "metadata": {},
   "outputs": [],
   "source": [
    "plt.figure()\n",
    "plt.plot(image[2])"
   ]
  },
  {
   "cell_type": "code",
   "execution_count": null,
   "metadata": {},
   "outputs": [],
   "source": [
    "f,ax = plt.subplots()\n",
    "\n",
    "ax.imshow(image,aspect='auto',extent=[-15/Delta,15/Delta,-0.2,0.2],interpolation='nearest')\n",
    "ax.set_xlabel('Energy (delta)')\n",
    "ax.set_ylabel('Q0')\n"
   ]
  },
  {
   "cell_type": "markdown",
   "metadata": {},
   "source": [
    "# Josephson analysis 26/09/2023"
   ]
  },
  {
   "cell_type": "code",
   "execution_count": null,
   "metadata": {},
   "outputs": [],
   "source": [
    "data=pd.read_excel(\"C:/Users/strivini/Documents/Git/nanonis/Order.xls\")\n",
    "path='Z:/STMDATA/Berlino/GrSiC-Si side/2023.07.23 - Gr SiC Sandra 2/2023.07.26 - 1st evap/'\n",
    "\n",
    "height_dat=data.iloc[:,8]\n"
   ]
  },
  {
   "cell_type": "code",
   "execution_count": null,
   "metadata": {},
   "outputs": [],
   "source": [
    "data"
   ]
  },
  {
   "cell_type": "code",
   "execution_count": null,
   "metadata": {},
   "outputs": [],
   "source": []
  },
  {
   "cell_type": "markdown",
   "metadata": {},
   "source": [
    "# Correlation josephson splitting and outer peaks"
   ]
  },
  {
   "cell_type": "code",
   "execution_count": null,
   "metadata": {},
   "outputs": [],
   "source": [
    "# import z-approach\n",
    "idxs = []\n",
    "idxs.append(np.concatenate((np.arange(739,743),np.arange(744,745))))\n",
    "idxs.append(np.arange(747,753))\n",
    "idxs.append(np.arange(753,759))\n",
    "# idxs.append(np.arange(759,765))\n",
    "idxs.append(np.concatenate((np.arange(766,771),np.arange(772,773))))\n",
    "\n",
    "fnames = []\n",
    "for idx in idxs:\n",
    "    fnames.append(loadfnames(idx,'S230803_'))"
   ]
  },
  {
   "cell_type": "code",
   "execution_count": null,
   "metadata": {},
   "outputs": [],
   "source": [
    "for s in range(0,4):\n",
    "    f,ax = plt.subplots(1)\n",
    "    for f in fnames[s]:\n",
    "        spectra.load(f)\n",
    "        spectra.normalizeTo(4e-3)\n",
    "        ax.plot(spectra.bias,spectra.conductance)"
   ]
  },
  {
   "cell_type": "code",
   "execution_count": null,
   "metadata": {},
   "outputs": [],
   "source": [
    "f,ax = plt.subplots(1)\n",
    "colors = ['red','k','blue']\n",
    "n=0\n",
    "for s in range(0,4):\n",
    "    if s==2:\n",
    "        continue\n",
    "    spectra.load(fnames[s][-1])\n",
    "    spectra.normalizeRange_symm([4e-3,5e-3])\n",
    "    x = spectra.bias\n",
    "    y = spectra.conductance\n",
    "    xx, yy = uf.data_smooth(x,y,9)\n",
    "    ax.plot(xx,yy,color = colors[n])\n",
    "    n+=1\n",
    "\n",
    "vlines = np.array([-777,-540,-326,281,544,780])*1e-6\n",
    "for i in vlines:\n",
    "    ax.axvline(i)\n",
    "\n",
    "# f,ax = plt.subplots(1)\n",
    "\n",
    "# for s in range(0,4):\n",
    "#     spectra.load(fnames[s][0])\n",
    "#     spectra.normalizeRange_symm([4e-3,5e-3])\n",
    "#     # ax.plot(spectra.bias,spectra.conductance)\n",
    "\n"
   ]
  },
  {
   "cell_type": "code",
   "execution_count": null,
   "metadata": {},
   "outputs": [],
   "source": [
    "2510-3080"
   ]
  },
  {
   "cell_type": "code",
   "execution_count": null,
   "metadata": {},
   "outputs": [],
   "source": [
    "plt.plot(spectra.normalizeRange_symm([3e-3,4e-3])[1])"
   ]
  },
  {
   "cell_type": "code",
   "execution_count": null,
   "metadata": {},
   "outputs": [],
   "source": [
    "E = np.linspace(-30,30,8000)*1e-3\n",
    "V = np.linspace(-10,10,2000)*1e-3\n",
    "Delta1 = 1.35e-3*2\n",
    "Delta2 = 1.25e-3*2\n",
    "Gamma1 = 1e-6\n",
    "Gamma2 = 0.01e-6\n",
    "Q01 = 0\n",
    "Q02 = 0\n",
    "T = 0.1\n",
    "def two_dynes(E,Q01,Q02,Delta1,Delta2,Gamma1,Gamma2):\n",
    "    temp = sc.dynes_curve(E+Q01,Delta1,Gamma1)+sc.dynes_curve(E+Q02,Delta2,Gamma2)\n",
    "    return temp\n",
    "\n",
    "def fdd(E, T): #fermi Dirac function\n",
    "    if T == 0:\n",
    "        f = np.heaviside(-E, 1)\n",
    "    else:\n",
    "        f = 1/(1+np.exp((E)/(const.k*T/const.e)))\n",
    "    return f\n",
    "\n",
    "def fermi_conv(V,E,T,Q01,Q02, Delta1, Delta2, Gamma1, Gamma2): \n",
    "    a,b = np.meshgrid(E,V)\n",
    "    t = a + b\n",
    "    f = two_dynes(E,Q01,Q02,Delta1,Delta2,Gamma1,Gamma2)\n",
    "    didv = np.gradient( np.dot((1-fdd(t,T)) , f*fdd(E,T)))-np.gradient( np.dot((fdd(t,T)) , f*(1-fdd(E,T))))\n",
    "    return didv/didv[0]\n",
    "\n",
    "\n",
    "plt.plot(V,fermi_conv(V,E,T,Q01,Q02, Delta1, Delta2, Gamma1, Gamma2))\n",
    "\n",
    "spectra.load(fnames[s][-1])\n",
    "spectra.normalizeRange_symm([4e-3,5e-3])\n",
    "plt.plot(spectra.bias,spectra.conductance)"
   ]
  },
  {
   "cell_type": "code",
   "execution_count": null,
   "metadata": {},
   "outputs": [],
   "source": [
    "def Gamma2(V,R2,C1,C2,n,Q0,T):\n",
    "    x=np.linspace(-20,20,3000)\n",
    "    k=C1/(C1+C2)\n",
    "    Ec=(1)/(2*(C1+C2))\n",
    "    a,b=np.meshgrid(x,-k**2*Ec+E2(C1,C2,V,-n,-Q0))\n",
    "    t=a+b\n",
    "    return np.dot(1-fermi(T,t),fermi(T,x))/R2"
   ]
  },
  {
   "cell_type": "code",
   "execution_count": null,
   "metadata": {},
   "outputs": [],
   "source": []
  }
 ],
 "metadata": {
  "kernelspec": {
   "display_name": "base",
   "language": "python",
   "name": "python3"
  },
  "language_info": {
   "codemirror_mode": {
    "name": "ipython",
    "version": 3
   },
   "file_extension": ".py",
   "mimetype": "text/x-python",
   "name": "python",
   "nbconvert_exporter": "python",
   "pygments_lexer": "ipython3",
   "version": "3.9.7"
  },
  "orig_nbformat": 4
 },
 "nbformat": 4,
 "nbformat_minor": 2
}
