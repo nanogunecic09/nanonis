{
 "cells": [
  {
   "cell_type": "code",
   "execution_count": 1,
   "metadata": {},
   "outputs": [],
   "source": [
    "import sys\n",
    "sys.path.append(\"../\")\n",
    "import nanonis\n",
    "import numpy as np\n",
    "import scipy as sc\n",
    "import pandas as pd\n",
    "import matplotlib.pyplot as plt\n",
    "import xlrd\n",
    "import lmfit\n",
    "from lmfit import Model\n",
    "import matplotlib.colors as colors\n",
    "from scipy import constants as const\n",
    "%matplotlib qt\n",
    "spectra=nanonis.biasSpectroscopy()"
   ]
  },
  {
   "cell_type": "markdown",
   "metadata": {},
   "source": [
    "# File management #"
   ]
  },
  {
   "cell_type": "code",
   "execution_count": 23,
   "metadata": {},
   "outputs": [],
   "source": [
    "data=pd.read_excel(\"C:/Users/jonor/Documents/GitHub/nanonis/Order.xls\")"
   ]
  },
  {
   "cell_type": "code",
   "execution_count": 33,
   "metadata": {},
   "outputs": [],
   "source": [
    "Bfield_files=data.iloc[:,2]\n",
    "B=data.iloc[:,3]\n",
    "size_dat=data.iloc[:,7]\n",
    "height_dat=data.iloc[:,8]\n",
    "temp=data.iloc[:,6]\n",
    "temp_files=data.iloc[:,5]\n",
    "josephson=data.iloc[:,4]\n",
    "path=data.iloc[:,10]"
   ]
  },
  {
   "cell_type": "code",
   "execution_count": 35,
   "metadata": {},
   "outputs": [],
   "source": [
    "dat=[ 8, 11, 12, 13, 14, 15, 16, 17, 18, 19, 21, 23, 24]\n",
    "T=[]\n",
    "Tfiles=[]\n",
    "Bfiles=[]\n",
    "Jfiles=[]\n",
    "size=[]\n",
    "height=[]\n",
    "Bfiles=[]\n",
    "B=[]\n",
    "for j in dat:\n",
    "    T.append([float(i) for i in temp[j].split(',')])\n",
    "    Tfiles.append([path[j]+i for i in temp_files[j].split(',')])\n",
    "    size.append(size_dat[j])\n",
    "    height.append(height_dat[j])\n",
    "    B.append([int(i) for i in Bfields[j].split(',')])\n",
    "    Bfiles.append([path[j]+i for i in Bfield_files[j].split(',')])\n",
    "    Jfiles.append([path[j]+i for i in josephson[j].split(',')])"
   ]
  },
  {
   "cell_type": "markdown",
   "metadata": {},
   "source": [
    "# Functions"
   ]
  },
  {
   "cell_type": "code",
   "execution_count": 100,
   "metadata": {},
   "outputs": [],
   "source": [
    "def fermi(T,x):\n",
    "    return np.divide(1,1+np.exp(x/T))\n",
    "\n",
    "def E1(C1,C2,V,n,Q0):\n",
    "    k=C2/(C1+C2)\n",
    "    return k*V+(n+Q0-1/2)/(C1+C2)\n",
    "\n",
    "def E2(C1,C2,V,n,Q0):\n",
    "    k=C1/(C1+C2)\n",
    "    return k*V+(n+Q0-1/2)/(C1+C2)\n",
    "\n",
    "def Gamma1(V,R1,C1,C2,n,Q0,T):\n",
    "    k=C2/(C1+C2)\n",
    "    Ec=(C1+C2)/(2*C1*C2)\n",
    "    x=E1(C1,C2,V,n,Q0)\n",
    "    return (x/(1-np.exp(-x/T)))/R1\n",
    "\n",
    "def Gamma2(V,R2,C1,C2,n,Q0,T):\n",
    "    k=C1/(C1+C2)\n",
    "    Ec=(C1+C2)/(2*C1*C2)\n",
    "    x=E2(C1,C2,V,-n,-Q0)\n",
    "    return (x/(1-np.exp(-x/T)))/R2\n",
    "\n",
    "\n",
    "def PN(V,R1,R2,C1,C2,Q0,T,n):\n",
    "    mn=(Gamma1(V,R1,C1,C2,-n,Q0,T)+Gamma2(-V,R2,C1,C2,n,-Q0,T))/(Gamma1(-V,R1,C1,C2,n+1,-Q0,T)+Gamma2(V,R2,C1,C2,-n-1,Q0,T))\n",
    "    en=(Gamma1(-V,R1,C1,C2,-n,-Q0,T)+Gamma2(V,R2,C1,C2,n,Q0,T))/(Gamma1(V,R1,C1,C2,n+1,Q0,T)+Gamma2(-V,R2,C1,C2,-n-1,-Q0,T))\n",
    "    return en,mn\n",
    "\n",
    "def check_p(V,R1,R2,C1,C2,Q0,T):\n",
    "    Vmax=V\n",
    "    n=[0]\n",
    "    while True:\n",
    "        a=[]\n",
    "        b=[]\n",
    "        for i in n:\n",
    "            an,bn=PN(Vmax,R1,R2,C1,C2,Q0,T,i)\n",
    "            a.append(an[0])\n",
    "            b.append(bn[0])\n",
    "        p0=1\n",
    "        for i in range(len(a)):\n",
    "            temp=np.zeros(len(a))\n",
    "            temp[0:i+1]=1\n",
    "            temp=temp.tolist()\n",
    "            p0+=np.prod(a,where=temp)+np.prod(b,where=temp)\n",
    "        p0=1/p0\n",
    "        pn=p0*np.prod(a)\n",
    "        p_n=p0*np.prod(b)\n",
    "        #print(pn,p_n)\n",
    "        n.append(n[-1]+1)\n",
    "        if np.sum(pn)<0.001 and np.sum(p_n)<0.001:\n",
    "            #print(len(a))\n",
    "            break \n",
    "    return n[-1]\n",
    "\n",
    "def all_p(V,R1,R2,C1,C2,Q0,T,n):\n",
    "    a=[]\n",
    "    b=[]\n",
    "    for i in range(n):\n",
    "        an,bn=PN(V,R1,R2,C1,C2,Q0,T,i)\n",
    "        a.append(an)\n",
    "        b.append(bn)\n",
    "    p0=1\n",
    "    pn=[]\n",
    "    p_n=[]\n",
    "    for i in range(n):\n",
    "        temp=np.zeros(n)\n",
    "        temp[0:i+1]=1\n",
    "        temp=temp.tolist()\n",
    "        temp1=np.full(len(V),1.0)\n",
    "        temp2=np.full(len(V),1.0)\n",
    "        for j in range(n):\n",
    "            if temp[j]<=0.1:\n",
    "                pass\n",
    "            else:\n",
    "                temp1*=a[j]       \n",
    "                temp2*=b[j]\n",
    "        p0+=temp1+temp2\n",
    "        pn.append(temp1)\n",
    "        p_n.append(temp2)\n",
    "    p0=1/p0\n",
    "    pn=p0*np.array(pn)\n",
    "    p_n=p0*np.array(p_n)\n",
    "    return p0,pn,p_n\n",
    "\n",
    "def G1n(V,R1,C1,C2,Q0,T,n):\n",
    "    return Gamma1(V,R1,C1,C2,n,Q0,T)-Gamma1(-V,R1,C1,C2,-n,-Q0,T)\n",
    "\n",
    "def G2n(V,R2,C1,C2,Q0,T,n):\n",
    "    return Gamma2(V,R2,C1,C2,n,Q0,T)-Gamma2(-V,R2,C1,C2,-n,-Q0,T)\n",
    "\n",
    "def current(V,R1,R2,C1,C2,Q0,T):\n",
    "    n=check_p(V,R1,R2,C1,C2,Q0,T)\n",
    "    p0,pn,p_n=all_p(V,R1,R2,C1,C2,Q0,T,n)\n",
    "    I=p0*G1n(V,R1,C1,C2,Q0,T,0)\n",
    "    for i in range(1,n+1):\n",
    "        I+=pn[i-1]*G1n(V,R1,C1,C2,Q0,T,i)\n",
    "        I+=p_n[i-1]*G1n(V,R1,C1,C2,Q0,T,-i)\n",
    "    return I/np.abs(I[0])\n",
    "\n",
    "def conductance(V,R1,R2,C1,C2,Q0,T):\n",
    "    n=check_p(V,R1,R2,C1,C2,Q0,T)\n",
    "    p0,pn,p_n=all_p(V,R1,R2,C1,C2,Q0,T,n)\n",
    "    I=p0*G1n(V,R1,C1,C2,Q0,T,0)\n",
    "    for i in range(1,n+1):\n",
    "        I+=pn[i-1]*G1n(V,R1,C1,C2,Q0,T,i)\n",
    "        I+=p_n[i-1]*G1n(V,R1,C1,C2,Q0,T,-i)\n",
    "    I=-np.gradient(I)\n",
    "    return I/np.abs(I[0])\n",
    "\n",
    "\n",
    "def current2(V,R1,R2,C1,C2,Q0,T):\n",
    "    n=check_p(V,R1,R2,C1,C2,Q0,T)\n",
    "    p0,pn,p_n=all_p(V,R1,R2,C1,C2,Q0,T,n)\n",
    "    I=p0*G2n(V,R2,C1,C2,Q0,T,0)\n",
    "    for i in range(1,n+1):\n",
    "        I+=pn[i-1]*G2n(V,R2,C1,C2,Q0,T,i)\n",
    "        I+=p_n[i-1]*G2n(V,R2,C1,C2,Q0,T,-i)\n",
    "    I=-np.gradient(I)\n",
    "    return I/np.abs(I[0])\n",
    "\n",
    "def gap_size(x,y,epsilon):\n",
    "    xx=[]\n",
    "    for i in range(len(y)):\n",
    "        if np.abs(y[i])<epsilon:\n",
    "            xx.append(x[i])\n",
    "    return np.abs(xx[0]-xx[-1])"
   ]
  },
  {
   "cell_type": "markdown",
   "metadata": {},
   "source": [
    "# Analysis for the B field data"
   ]
  },
  {
   "cell_type": "markdown",
   "metadata": {},
   "source": [
    "## 1st method: fitting the current"
   ]
  },
  {
   "cell_type": "code",
   "execution_count": null,
   "metadata": {},
   "outputs": [],
   "source": [
    "for i in range(0,13):\n",
    "    print(i)\n",
    "    h=0\n",
    "    cutt=np.arange(10,200,20)\n",
    "    B800=B[i].index(800)\n",
    "    R=[]\n",
    "    R2=[]\n",
    "    for cut in cutt:\n",
    "        C1=[]\n",
    "        Q0=[]\n",
    "        erC=[]\n",
    "        erQ0=[]\n",
    "        for j in Bfiles[i][B800:-1]:\n",
    "            spectra.load(j)\n",
    "            x=np.array(spectra.bias)[200-cut:200+cut]\n",
    "            y=np.array(spectra.current)[200-cut:200+cut]\n",
    "            y=y/np.abs(y[0])\n",
    "            #plt.plot(1000*x,y+h,linewidth=2)\n",
    "            par,error=sc.optimize.curve_fit(lambda xx, C1,Q0: current(xx, 1,10000, C1,0.001,Q0,0.1), 1000*x, y,p0=[0.5,0.0],bounds=([0.01,-0.5],[15.0,0.5]))\n",
    "            #a=current2(1000*x,1,10000,par[0],0.0001,par[1],0.1)\n",
    "            #plt.plot(1000*x,a+h)\n",
    "            #h+=1\n",
    "            #C1.append(par[0])\n",
    "            #Q0.append(par[1])\n",
    "            erC.append(np.sqrt(np.diag(error))[0])\n",
    "            erQ0.append(np.sqrt(np.diag(error))[1])\n",
    "        #plt.plot(1/np.array(C1))\n",
    "        R.append(np.mean(erC))\n",
    "        R2.append(np.mean(erQ0))\n",
    "        #plt.plot(erQ0)\n",
    "    plt.plot(cutt,R)\n"
   ]
  },
  {
   "cell_type": "markdown",
   "metadata": {},
   "source": [
    "cut>100 doe snot change much the error"
   ]
  },
  {
   "cell_type": "markdown",
   "metadata": {},
   "source": [
    "## 2nd method: fitting the conductance"
   ]
  },
  {
   "cell_type": "code",
   "execution_count": 106,
   "metadata": {},
   "outputs": [
    {
     "name": "stdout",
     "output_type": "stream",
     "text": [
      "0\n"
     ]
    },
    {
     "name": "stderr",
     "output_type": "stream",
     "text": [
      "C:\\Users\\jonor\\AppData\\Local\\Temp/ipykernel_22396/3435372294.py:16: RuntimeWarning: overflow encountered in exp\n",
      "  return (x/(1-np.exp(-x/T)))/R1\n",
      "C:\\Users\\jonor\\AppData\\Local\\Temp/ipykernel_22396/3435372294.py:22: RuntimeWarning: overflow encountered in exp\n",
      "  return (x/(1-np.exp(-x/T)))/R2\n"
     ]
    },
    {
     "name": "stdout",
     "output_type": "stream",
     "text": [
      "1\n",
      "2\n"
     ]
    },
    {
     "name": "stderr",
     "output_type": "stream",
     "text": [
      "C:\\Users\\jonor\\AppData\\Local\\Temp/ipykernel_22396/3435372294.py:16: RuntimeWarning: overflow encountered in exp\n",
      "  return (x/(1-np.exp(-x/T)))/R1\n"
     ]
    },
    {
     "name": "stdout",
     "output_type": "stream",
     "text": [
      "3\n",
      "4\n",
      "5\n"
     ]
    },
    {
     "ename": "RuntimeError",
     "evalue": "Optimal parameters not found: The maximum number of function evaluations is exceeded.",
     "output_type": "error",
     "traceback": [
      "\u001b[1;31m---------------------------------------------------------------------------\u001b[0m",
      "\u001b[1;31mRuntimeError\u001b[0m                              Traceback (most recent call last)",
      "\u001b[1;32m~\\AppData\\Local\\Temp/ipykernel_22396/1529414663.py\u001b[0m in \u001b[0;36m<module>\u001b[1;34m\u001b[0m\n\u001b[0;32m     17\u001b[0m             \u001b[0my\u001b[0m\u001b[1;33m=\u001b[0m\u001b[0my\u001b[0m\u001b[1;33m/\u001b[0m\u001b[0mnp\u001b[0m\u001b[1;33m.\u001b[0m\u001b[0mabs\u001b[0m\u001b[1;33m(\u001b[0m\u001b[0my\u001b[0m\u001b[1;33m[\u001b[0m\u001b[1;36m0\u001b[0m\u001b[1;33m]\u001b[0m\u001b[1;33m)\u001b[0m\u001b[1;33m\u001b[0m\u001b[1;33m\u001b[0m\u001b[0m\n\u001b[0;32m     18\u001b[0m             \u001b[1;31m#plt.plot(1000*x,y+1*h,linewidth=2)\u001b[0m\u001b[1;33m\u001b[0m\u001b[1;33m\u001b[0m\u001b[0m\n\u001b[1;32m---> 19\u001b[1;33m             \u001b[0mpar\u001b[0m\u001b[1;33m,\u001b[0m\u001b[0merror\u001b[0m\u001b[1;33m=\u001b[0m\u001b[0msc\u001b[0m\u001b[1;33m.\u001b[0m\u001b[0moptimize\u001b[0m\u001b[1;33m.\u001b[0m\u001b[0mcurve_fit\u001b[0m\u001b[1;33m(\u001b[0m\u001b[1;32mlambda\u001b[0m \u001b[0mxx\u001b[0m\u001b[1;33m,\u001b[0m \u001b[0mC1\u001b[0m\u001b[1;33m,\u001b[0m\u001b[0mQ0\u001b[0m\u001b[1;33m:\u001b[0m \u001b[0mconductance\u001b[0m\u001b[1;33m(\u001b[0m\u001b[0mxx\u001b[0m\u001b[1;33m,\u001b[0m \u001b[1;36m1\u001b[0m\u001b[1;33m,\u001b[0m\u001b[1;36m10000\u001b[0m\u001b[1;33m,\u001b[0m \u001b[0mC1\u001b[0m\u001b[1;33m,\u001b[0m\u001b[1;36m0.001\u001b[0m\u001b[1;33m,\u001b[0m\u001b[0mQ0\u001b[0m\u001b[1;33m,\u001b[0m\u001b[1;36m0.1\u001b[0m\u001b[1;33m)\u001b[0m\u001b[1;33m,\u001b[0m \u001b[1;36m1000\u001b[0m\u001b[1;33m*\u001b[0m\u001b[0mx\u001b[0m\u001b[1;33m,\u001b[0m \u001b[0my\u001b[0m\u001b[1;33m,\u001b[0m\u001b[0mp0\u001b[0m\u001b[1;33m=\u001b[0m\u001b[1;33m[\u001b[0m\u001b[1;36m0.5\u001b[0m\u001b[1;33m,\u001b[0m\u001b[1;36m0.0\u001b[0m\u001b[1;33m]\u001b[0m\u001b[1;33m,\u001b[0m\u001b[0mbounds\u001b[0m\u001b[1;33m=\u001b[0m\u001b[1;33m(\u001b[0m\u001b[1;33m[\u001b[0m\u001b[1;36m0.01\u001b[0m\u001b[1;33m,\u001b[0m\u001b[1;33m-\u001b[0m\u001b[1;36m0.5\u001b[0m\u001b[1;33m]\u001b[0m\u001b[1;33m,\u001b[0m\u001b[1;33m[\u001b[0m\u001b[1;36m2.0\u001b[0m\u001b[1;33m,\u001b[0m\u001b[1;36m0.5\u001b[0m\u001b[1;33m]\u001b[0m\u001b[1;33m)\u001b[0m\u001b[1;33m)\u001b[0m\u001b[1;33m\u001b[0m\u001b[1;33m\u001b[0m\u001b[0m\n\u001b[0m\u001b[0;32m     20\u001b[0m             \u001b[1;31m#a=current2(1000*x,1,10000,par[0],0.0001,par[1],0.1)\u001b[0m\u001b[1;33m\u001b[0m\u001b[1;33m\u001b[0m\u001b[0m\n\u001b[0;32m     21\u001b[0m             \u001b[1;31m#plt.plot(1000*x,a+1*h)\u001b[0m\u001b[1;33m\u001b[0m\u001b[1;33m\u001b[0m\u001b[0m\n",
      "\u001b[1;32m~\\AppData\\Local\\Packages\\PythonSoftwareFoundation.Python.3.9_qbz5n2kfra8p0\\LocalCache\\local-packages\\Python39\\site-packages\\scipy\\optimize\\minpack.py\u001b[0m in \u001b[0;36mcurve_fit\u001b[1;34m(f, xdata, ydata, p0, sigma, absolute_sigma, check_finite, bounds, method, jac, **kwargs)\u001b[0m\n\u001b[0;32m    802\u001b[0m \u001b[1;33m\u001b[0m\u001b[0m\n\u001b[0;32m    803\u001b[0m         \u001b[1;32mif\u001b[0m \u001b[1;32mnot\u001b[0m \u001b[0mres\u001b[0m\u001b[1;33m.\u001b[0m\u001b[0msuccess\u001b[0m\u001b[1;33m:\u001b[0m\u001b[1;33m\u001b[0m\u001b[1;33m\u001b[0m\u001b[0m\n\u001b[1;32m--> 804\u001b[1;33m             \u001b[1;32mraise\u001b[0m \u001b[0mRuntimeError\u001b[0m\u001b[1;33m(\u001b[0m\u001b[1;34m\"Optimal parameters not found: \"\u001b[0m \u001b[1;33m+\u001b[0m \u001b[0mres\u001b[0m\u001b[1;33m.\u001b[0m\u001b[0mmessage\u001b[0m\u001b[1;33m)\u001b[0m\u001b[1;33m\u001b[0m\u001b[1;33m\u001b[0m\u001b[0m\n\u001b[0m\u001b[0;32m    805\u001b[0m \u001b[1;33m\u001b[0m\u001b[0m\n\u001b[0;32m    806\u001b[0m         \u001b[0mysize\u001b[0m \u001b[1;33m=\u001b[0m \u001b[0mlen\u001b[0m\u001b[1;33m(\u001b[0m\u001b[0mres\u001b[0m\u001b[1;33m.\u001b[0m\u001b[0mfun\u001b[0m\u001b[1;33m)\u001b[0m\u001b[1;33m\u001b[0m\u001b[1;33m\u001b[0m\u001b[0m\n",
      "\u001b[1;31mRuntimeError\u001b[0m: Optimal parameters not found: The maximum number of function evaluations is exceeded."
     ]
    }
   ],
   "source": [
    "for i in range(0,13):\n",
    "    print(i)\n",
    "    h=0\n",
    "    cutt=np.arange(10,200,20)\n",
    "    B800=B[i].index(800)\n",
    "    R=[]\n",
    "    R2=[]\n",
    "    for cut in cutt:\n",
    "        C1=[]\n",
    "        Q0=[]\n",
    "        erC=[]\n",
    "        erQ0=[]\n",
    "        for j in Bfiles[i][B800:-1]:\n",
    "            spectra.load(j)\n",
    "            x=np.array(spectra.bias)[200-cut:200+cut]\n",
    "            y=np.array(spectra.conductance)[200-cut:200+cut]\n",
    "            y=y/np.abs(y[0])\n",
    "            #plt.plot(1000*x,y+1*h,linewidth=2)\n",
    "            par,error=sc.optimize.curve_fit(lambda xx, C1,Q0: conductance(xx, 1,10000, C1,0.001,Q0,0.1), 1000*x, y,p0=[0.5,0.0],bounds=([0.01,-0.5],[2.0,0.5]))\n",
    "            #a=current2(1000*x,1,10000,par[0],0.0001,par[1],0.1)\n",
    "            #plt.plot(1000*x,a+1*h)\n",
    "            h+=1\n",
    "            C1.append(par[0])\n",
    "            Q0.append(par[1])\n",
    "            erC.append(np.sqrt(np.diag(error))[0])\n",
    "            erQ0.append(np.sqrt(np.diag(error))[1])\n",
    "        R.append(np.mean(erC))\n",
    "        R2.append(np.mean(erQ0))\n",
    "    plt.plot(cutt,R)\n"
   ]
  },
  {
   "cell_type": "markdown",
   "metadata": {},
   "source": [
    "## 3rd method: calculate the zero current"
   ]
  },
  {
   "cell_type": "code",
   "execution_count": null,
   "metadata": {},
   "outputs": [],
   "source": [
    "for i in range(0,13):\n",
    "    print(i)\n",
    "\n",
    "    B800=B[i].index(800)\n",
    "    Eg=[]\n",
    "    Q0=[]\n",
    "    cut=np.arange(10,500)\n",
    "    for epsilon in \n",
    "        for j in Bfiles[i][B800:-1]:\n",
    "            spectra.load(j)\n",
    "            x=np.array(spectra.bias)\n",
    "            y=np.array(spectra.current)\n",
    "            y=y/np.abs(y[0])\n",
    "\n",
    "            C1.append(par[0])\n",
    "            Q0.append(par[1])\n",
    "            erC.append(np.sqrt(np.diag(error))[0])\n",
    "            erQ0.append(np.sqrt(np.diag(error))[1])\n",
    "        R.append(np.mean(erC))\n",
    "        R2.append(np.mean(erQ0))\n",
    "plt.plot(cutt,R)\n"
   ]
  }
 ],
 "metadata": {
  "kernelspec": {
   "display_name": "Python 3",
   "language": "python",
   "name": "python3"
  },
  "language_info": {
   "codemirror_mode": {
    "name": "ipython",
    "version": 3
   },
   "file_extension": ".py",
   "mimetype": "text/x-python",
   "name": "python",
   "nbconvert_exporter": "python",
   "pygments_lexer": "ipython3",
   "version": "3.9.13"
  }
 },
 "nbformat": 4,
 "nbformat_minor": 2
}
