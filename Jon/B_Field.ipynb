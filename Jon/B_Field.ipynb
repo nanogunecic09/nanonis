{
 "cells": [
  {
   "cell_type": "code",
   "execution_count": 167,
   "metadata": {},
   "outputs": [],
   "source": [
    "import sys\n",
    "sys.path.append(\"../\")\n",
    "import nanonis\n",
    "import numpy as np\n",
    "import scipy as sc\n",
    "import pandas as pd\n",
    "import matplotlib.pyplot as plt\n",
    "import xlrd\n",
    "import lmfit\n",
    "from lmfit import Model\n",
    "import matplotlib.colors as colors\n",
    "from scipy import constants as const\n",
    "%matplotlib qt\n",
    "spectra=nanonis.biasSpectroscopy()"
   ]
  },
  {
   "cell_type": "markdown",
   "metadata": {},
   "source": [
    "# File management #"
   ]
  },
  {
   "cell_type": "code",
   "execution_count": 173,
   "metadata": {},
   "outputs": [],
   "source": [
    "data=pd.read_excel(\"C:/Users/jonor/Documents/GitHub/nanonis/Order.xls\")"
   ]
  },
  {
   "cell_type": "code",
   "execution_count": 174,
   "metadata": {},
   "outputs": [],
   "source": [
    "Bfield_files=data.iloc[:,2]\n",
    "Bfields=data.iloc[:,3]\n",
    "size_dat=data.iloc[:,7]\n",
    "height_dat=data.iloc[:,8]\n",
    "temp=data.iloc[:,6]\n",
    "temp_files=data.iloc[:,5]\n",
    "josephson=data.iloc[:,4]\n",
    "path=data.iloc[:,10]\n",
    "Zapproach_fil=data.iloc[:,1]"
   ]
  },
  {
   "cell_type": "code",
   "execution_count": 177,
   "metadata": {},
   "outputs": [],
   "source": [
    "#dat=[ 8, 11, 12, 13, 14, 15, 16, 17, 18, 19, 21, 23, 24]\n",
    "dat=[ 0,1,2,3,4,5,6,7, 8, 11, 12, 13, 14, 15, 16, 17, 19, 21, 23, 24,32]\n",
    "T=[]\n",
    "Tfiles=[]\n",
    "Bfiles=[]\n",
    "Jfiles=[]\n",
    "size=[]\n",
    "height=[]\n",
    "Bfiles=[]\n",
    "B=[]\n",
    "for j in dat:\n",
    "    #T.append([float(i) for i in temp[j].split(',')])\n",
    "    #Tfiles.append([path[j]+i for i in temp_files[j].split(',')])\n",
    "    size.append(size_dat[j])\n",
    "    height.append(height_dat[j])\n",
    "    B.append([int(i) for i in Bfields[j].split(',')])\n",
    "    Bfiles.append([path[j]+i for i in Bfield_files[j].split(',')])\n",
    "    Jfiles.append([path[j]+i for i in josephson[j].split(',')])\n",
    "\n",
    "\n",
    "for j in range(len(B)):\n",
    "    list1, list2 = zip(*sorted(zip(B[j], Bfiles[j])))\n",
    "    B[j]=np.array(list1)\n",
    "    Bfiles[j]=np.array(list2)\n",
    "size=np.array(size)\n",
    "height=np.array(height)\n",
    "\n",
    "Zapproach=[]\n",
    "Zapproach.append([path[32]+i for i in Zapproach_fil[32].split(',')])"
   ]
  },
  {
   "cell_type": "markdown",
   "metadata": {},
   "source": [
    "# Functions"
   ]
  },
  {
   "cell_type": "code",
   "execution_count": 10,
   "metadata": {},
   "outputs": [],
   "source": [
    "def fermi(T,x):\n",
    "    return np.divide(1,1+np.exp(x/T))\n",
    "\n",
    "def E1(C1,C2,V,n,Q0):\n",
    "    k=C2/(C1+C2)\n",
    "    return k*V+(n+Q0-1/2)/(C1+C2)\n",
    "\n",
    "def E2(C1,C2,V,n,Q0):\n",
    "    k=C1/(C1+C2)\n",
    "    return k*V+(n+Q0-1/2)/(C1+C2)\n",
    "\n",
    "def Gamma1(V,R1,C1,C2,n,Q0,T):\n",
    "    k=C2/(C1+C2)\n",
    "    Ec=(C1+C2)/(2*C1*C2)\n",
    "    x=E1(C1,C2,V,n,Q0)\n",
    "    return (x/(1-np.exp(-x/T)))/R1\n",
    "\n",
    "def Gamma2(V,R2,C1,C2,n,Q0,T):\n",
    "    k=C1/(C1+C2)\n",
    "    Ec=(C1+C2)/(2*C1*C2)\n",
    "    x=E2(C1,C2,V,-n,-Q0)\n",
    "    return (x/(1-np.exp(-x/T)))/R2\n",
    "\n",
    "\n",
    "def PN(V,R1,R2,C1,C2,Q0,T,n):\n",
    "    mn=(Gamma1(V,R1,C1,C2,-n,Q0,T)+Gamma2(-V,R2,C1,C2,n,-Q0,T))/(Gamma1(-V,R1,C1,C2,n+1,-Q0,T)+Gamma2(V,R2,C1,C2,-n-1,Q0,T))\n",
    "    en=(Gamma1(-V,R1,C1,C2,-n,-Q0,T)+Gamma2(V,R2,C1,C2,n,Q0,T))/(Gamma1(V,R1,C1,C2,n+1,Q0,T)+Gamma2(-V,R2,C1,C2,-n-1,-Q0,T))\n",
    "    return en,mn\n",
    "\n",
    "def check_p(V,R1,R2,C1,C2,Q0,T):\n",
    "    Vmax=V\n",
    "    n=[0]\n",
    "    while True:\n",
    "        a=[]\n",
    "        b=[]\n",
    "        for i in n:\n",
    "            an,bn=PN(Vmax,R1,R2,C1,C2,Q0,T,i)\n",
    "            a.append(an[0])\n",
    "            b.append(bn[0])\n",
    "        p0=1\n",
    "        for i in range(len(a)):\n",
    "            temp=np.zeros(len(a))\n",
    "            temp[0:i+1]=1\n",
    "            temp=temp.tolist()\n",
    "            p0+=np.prod(a,where=temp)+np.prod(b,where=temp)\n",
    "        p0=1/p0\n",
    "        pn=p0*np.prod(a)\n",
    "        p_n=p0*np.prod(b)\n",
    "        #print(pn,p_n)\n",
    "        n.append(n[-1]+1)\n",
    "        if np.sum(pn)<0.001 and np.sum(p_n)<0.001:\n",
    "            #print(len(a))\n",
    "            break \n",
    "    return n[-1]\n",
    "\n",
    "def all_p(V,R1,R2,C1,C2,Q0,T,n):\n",
    "    a=[]\n",
    "    b=[]\n",
    "    for i in range(n):\n",
    "        an,bn=PN(V,R1,R2,C1,C2,Q0,T,i)\n",
    "        a.append(an)\n",
    "        b.append(bn)\n",
    "    p0=1\n",
    "    pn=[]\n",
    "    p_n=[]\n",
    "    for i in range(n):\n",
    "        temp=np.zeros(n)\n",
    "        temp[0:i+1]=1\n",
    "        temp=temp.tolist()\n",
    "        temp1=np.full(len(V),1.0)\n",
    "        temp2=np.full(len(V),1.0)\n",
    "        for j in range(n):\n",
    "            if temp[j]<=0.1:\n",
    "                pass\n",
    "            else:\n",
    "                temp1*=a[j]       \n",
    "                temp2*=b[j]\n",
    "        p0+=temp1+temp2\n",
    "        pn.append(temp1)\n",
    "        p_n.append(temp2)\n",
    "    p0=1/p0\n",
    "    pn=p0*np.array(pn)\n",
    "    p_n=p0*np.array(p_n)\n",
    "    return p0,pn,p_n\n",
    "\n",
    "def G1n(V,R1,C1,C2,Q0,T,n):\n",
    "    return Gamma1(V,R1,C1,C2,n,Q0,T)-Gamma1(-V,R1,C1,C2,-n,-Q0,T)\n",
    "\n",
    "def G2n(V,R2,C1,C2,Q0,T,n):\n",
    "    return Gamma2(V,R2,C1,C2,n,Q0,T)-Gamma2(-V,R2,C1,C2,-n,-Q0,T)\n",
    "\n",
    "def current(V,R1,R2,C1,C2,Q0,T):\n",
    "    n=check_p(V,R1,R2,C1,C2,Q0,T)\n",
    "    p0,pn,p_n=all_p(V,R1,R2,C1,C2,Q0,T,n)\n",
    "    I=p0*G1n(V,R1,C1,C2,Q0,T,0)\n",
    "    for i in range(1,n+1):\n",
    "        I+=pn[i-1]*G1n(V,R1,C1,C2,Q0,T,i)\n",
    "        I+=p_n[i-1]*G1n(V,R1,C1,C2,Q0,T,-i)\n",
    "    return I/np.abs(I[0])\n",
    "\n",
    "def conductance(V,R1,R2,C1,C2,Q0,T):\n",
    "    n=check_p(V,R1,R2,C1,C2,Q0,T)\n",
    "    p0,pn,p_n=all_p(V,R1,R2,C1,C2,Q0,T,n)\n",
    "    I=p0*G1n(V,R1,C1,C2,Q0,T,0)\n",
    "    for i in range(1,n+1):\n",
    "        I+=pn[i-1]*G1n(V,R1,C1,C2,Q0,T,i)\n",
    "        I+=p_n[i-1]*G1n(V,R1,C1,C2,Q0,T,-i)\n",
    "    I=-np.gradient(I)\n",
    "    return I/np.abs(I[0])\n",
    "\n",
    "\n",
    "def current2(V,R1,R2,C1,C2,Q0,T):\n",
    "    n=check_p(V,R1,R2,C1,C2,Q0,T)\n",
    "    p0,pn,p_n=all_p(V,R1,R2,C1,C2,Q0,T,n)\n",
    "    I=p0*G2n(V,R2,C1,C2,Q0,T,0)\n",
    "    for i in range(1,n+1):\n",
    "        I+=pn[i-1]*G2n(V,R2,C1,C2,Q0,T,i)\n",
    "        I+=p_n[i-1]*G2n(V,R2,C1,C2,Q0,T,-i)\n",
    "    I=-np.gradient(I)\n",
    "    return I/np.abs(I[0])\n",
    "\n",
    "def gap_size(x,y,epsilon):\n",
    "    xx=[]\n",
    "    for i in range(len(y)):\n",
    "        if np.abs(y[i])<epsilon:\n",
    "            xx.append(x[i])\n",
    "    if len(xx)<2:\n",
    "        return 0,0\n",
    "    else:\n",
    "        return np.abs(xx[0]-xx[-1]), np.abs(xx[0]+xx[-1])/2\n",
    "\n",
    "def gap_size2(x,y,epsilon):\n",
    "    xx=[]\n",
    "    half=int(len(y)/2)\n",
    "    for i in range(half):\n",
    "        if np.abs(y[half+i])<epsilon:\n",
    "            xx.append(x[half+i])\n",
    "        if np.abs(y[half-i])<epsilon:\n",
    "            xx.append(x[half-i])\n",
    "        else:\n",
    "            break\n",
    "    if len(xx)<2:\n",
    "        return 0,0\n",
    "    #elif np.abs(1-epsilon/min(y))<0.1:\n",
    "    #    return 0,0\n",
    "    else:\n",
    "        return np.abs(max(xx)-min(xx)), np.abs(max(xx)+min(xx))/2\n",
    "\n",
    "\n",
    "def find_nearest(array,value):\n",
    "    idx = (np.abs(array-value)).argmin()\n",
    "    return idx"
   ]
  },
  {
   "cell_type": "markdown",
   "metadata": {},
   "source": [
    "# Analysis for the B field data"
   ]
  },
  {
   "cell_type": "markdown",
   "metadata": {},
   "source": [
    "## 1st method: fitting the current"
   ]
  },
  {
   "cell_type": "code",
   "execution_count": null,
   "metadata": {},
   "outputs": [],
   "source": [
    "for i in range(0,13):\n",
    "    print(i)\n",
    "    h=0\n",
    "    cutt=np.arange(10,200,20)\n",
    "    B800=B[i].index(800)\n",
    "    R=[]\n",
    "    R2=[]\n",
    "    for cut in cutt:\n",
    "        C1=[]\n",
    "        Q0=[]\n",
    "        erC=[]\n",
    "        erQ0=[]\n",
    "        for j in Bfiles[i][B800:-1]:\n",
    "            spectra.load(j)\n",
    "            x=np.array(spectra.bias)[200-cut:200+cut]\n",
    "            y=np.array(spectra.current)[200-cut:200+cut]\n",
    "            y=y/np.abs(y[0])\n",
    "            #plt.plot(1000*x,y+h,linewidth=2)\n",
    "            par,error=sc.optimize.curve_fit(lambda xx, C1,Q0: current(xx, 1,10000, C1,0.001,Q0,0.1), 1000*x, y,p0=[0.5,0.0],bounds=([0.01,-0.5],[15.0,0.5]))\n",
    "            #a=current2(1000*x,1,10000,par[0],0.0001,par[1],0.1)\n",
    "            #plt.plot(1000*x,a+h)\n",
    "            #h+=1\n",
    "            #C1.append(par[0])\n",
    "            #Q0.append(par[1])\n",
    "            erC.append(np.sqrt(np.diag(error))[0])\n",
    "            erQ0.append(np.sqrt(np.diag(error))[1])\n",
    "        #plt.plot(1/np.array(C1))\n",
    "        R.append(np.mean(erC))\n",
    "        R2.append(np.mean(erQ0))\n",
    "        #plt.plot(erQ0)\n",
    "    plt.plot(cutt,R)\n"
   ]
  },
  {
   "cell_type": "markdown",
   "metadata": {},
   "source": [
    "cut>100 doe snot change much the error"
   ]
  },
  {
   "cell_type": "markdown",
   "metadata": {},
   "source": [
    "## 2nd method: fitting the conductance"
   ]
  },
  {
   "cell_type": "code",
   "execution_count": null,
   "metadata": {},
   "outputs": [],
   "source": [
    "for i in range(0,13):\n",
    "    print(i)\n",
    "    h=0\n",
    "    cutt=np.arange(50,100,10)\n",
    "    B800=B[i].index(800)\n",
    "    R=[]\n",
    "    R2=[]\n",
    "    for cut in cutt:\n",
    "        C1=[]\n",
    "        Q0=[]\n",
    "        erC=[]\n",
    "        erQ0=[]\n",
    "        for j in Bfiles[i][B800:-1]:\n",
    "            spectra.load(j)\n",
    "            x=np.array(spectra.bias)[200-cut:200+cut]\n",
    "            y=np.array(spectra.conductance)[200-cut:200+cut]\n",
    "            y=y/np.abs(y[0])\n",
    "            plt.plot(1000*x,y+1*h,linewidth=2)\n",
    "            par,error=sc.optimize.curve_fit(lambda xx, C1,Q0: conductance(xx, 1,10000, C1,0.001,Q0,0.1), 1000*x, y,p0=[0.5,0.0],bounds=([0.01,-0.5],[2.0,0.5]))\n",
    "            a=current2(1000*x,1,10000,par[0],0.0001,par[1],0.1)\n",
    "            plt.plot(1000*x,a+1*h)\n",
    "            h+=1\n",
    "            C1.append(par[0])\n",
    "            Q0.append(par[1])\n",
    "            erC.append(np.sqrt(np.diag(error))[0])\n",
    "            erQ0.append(np.sqrt(np.diag(error))[1])\n",
    "        R.append(np.mean(erC))\n",
    "        R2.append(np.mean(erQ0))\n",
    "    plt.plot(cutt,R)\n"
   ]
  },
  {
   "cell_type": "markdown",
   "metadata": {},
   "source": [
    "The fit does not converge for all values of cut "
   ]
  },
  {
   "cell_type": "markdown",
   "metadata": {},
   "source": [
    "## 3rd method: calculate the zero current"
   ]
  },
  {
   "cell_type": "code",
   "execution_count": null,
   "metadata": {},
   "outputs": [],
   "source": [
    "i=3\n",
    "B800=B[i].index(800)\n",
    "cut=np.arange(10,500,50)\n",
    "for epsilon in cut:\n",
    "    Eg=[]\n",
    "    for j in Bfiles[i][B800:-1]:\n",
    "        spectra.load(j)\n",
    "        x=np.array(spectra.bias)\n",
    "        y=np.array(spectra.current)\n",
    "        y=y/np.abs(y[0])\n",
    "        Eg.append(gap_size(x,y,max(y)/epsilon))\n",
    "    plt.plot(Eg)\n"
   ]
  },
  {
   "cell_type": "markdown",
   "metadata": {},
   "source": [
    "For values of epsilon bigger than 100 Eg is always linerarly decaying"
   ]
  },
  {
   "cell_type": "code",
   "execution_count": null,
   "metadata": {},
   "outputs": [],
   "source": [
    "i=3\n",
    "B800=B[i].index(800)\n",
    "cut=np.arange(2,20,1)\n",
    "for epsilon in cut:\n",
    "    Eg=[]\n",
    "    for j in Bfiles[i][B800:-1]:\n",
    "        spectra.load(j)\n",
    "        x=np.array(spectra.bias)\n",
    "        y=np.array(spectra.conductance)\n",
    "        y=y/np.abs(y[0])\n",
    "        Eg.append(gap_size(x,y,max(y)/epsilon))\n",
    "    plt.plot(Eg)"
   ]
  },
  {
   "cell_type": "markdown",
   "metadata": {},
   "source": [
    "## Comparison between methods"
   ]
  },
  {
   "cell_type": "code",
   "execution_count": null,
   "metadata": {},
   "outputs": [],
   "source": [
    "i=0\n",
    "h=0\n",
    "\n",
    "B800=B[i].index(800)\n",
    "\n",
    "C1=[]\n",
    "C2=[]\n",
    "Eg1=[]\n",
    "Eg2=[]\n",
    "cut=200\n",
    "epsilon1=50\n",
    "epsilon2=2\n",
    "for j in Bfiles[i][B800:-1]:\n",
    "    spectra.load(j)\n",
    "    x=np.array(spectra.bias)[200-cut:200+cut]\n",
    "    y=np.array(spectra.current)[200-cut:200+cut]\n",
    "    y=y/np.abs(y[0])\n",
    "    par1,error1=sc.optimize.curve_fit(lambda xx, C1,Q0: current(xx, 1,10000, C1,0.001,Q0,0.1), 1000*x, y,p0=[0.5,0.0],bounds=([0.01,-0.5],[15.0,0.5]))\n",
    "    Eg1.append(gap_size(1000*x,y,max(y)/epsilon1))\n",
    "    y=np.array(spectra.conductance)[200-cut:200+cut]\n",
    "    y=y/np.abs(y[0])\n",
    "    #plt.plot(1000*x,y)\n",
    "    par2,error2=sc.optimize.curve_fit(lambda xx, C1,Q0: conductance(xx, 1,10000, C1,0.001,Q0,0.1), 1000*x, y,p0=[0.5,0.0],bounds=([0.01,-0.5],[2.0,0.5]))\n",
    "    Eg2.append(gap_size(1000*x,y,max(y)/epsilon2))\n",
    "    C1.append(par1[0])\n",
    "    C2.append(par2[0])\n",
    "plt.plot(1/np.array(C1),label='current')\n",
    "plt.plot(1/np.array(C2),label='conductance')\n",
    "plt.plot(Eg1,label='gap1')\n",
    "plt.plot(Eg2,label='gap2')\n",
    "plt.legend()\n",
    "\n"
   ]
  },
  {
   "cell_type": "markdown",
   "metadata": {},
   "source": [
    "All methods give a similar answer, excep the gap_size using the current, with depends twoo much on epsilon. It looks like themost relaiable one is the gap_size method using the conductance."
   ]
  },
  {
   "cell_type": "markdown",
   "metadata": {},
   "source": [
    "## New method: two coulomb gaps separated by E_zemman"
   ]
  },
  {
   "cell_type": "code",
   "execution_count": 150,
   "metadata": {},
   "outputs": [
    {
     "data": {
      "text/plain": [
       "[<matplotlib.lines.Line2D at 0x11f9c789640>]"
      ]
     },
     "execution_count": 150,
     "metadata": {},
     "output_type": "execute_result"
    }
   ],
   "source": [
    "i=4\n",
    "h=0\n",
    "B800=B[i].index(800)\n",
    "cut=100\n",
    "C1=[]\n",
    "Q0=[]\n",
    "R0=[]\n",
    "Eg=[]\n",
    "epsilon=2\n",
    "for j in Bfiles[i][B800:-1]:\n",
    "    spectra.load(j)\n",
    "    x=np.array(spectra.bias)[200-cut:200+cut]\n",
    "    y=np.array(spectra.conductance)[200-cut:200+cut]\n",
    "    y=y/np.abs(y[0])\n",
    "    #plt.plot(1000*x,y+1*h,linewidth=2)\n",
    "    par,error=sc.optimize.curve_fit(lambda xx, C1,Q0: conductance(xx, 1,10000, C1,0.001,Q0,0.1), 1000*x, y,p0=[0.5,0.0],bounds=([0.01,-0.5],[3.0,0.5]))\n",
    "    a=current2(1000*x,1,10000,par[0],0.0001,par[1],0.1)\n",
    "    x=np.array(spectra.bias)\n",
    "    y=np.array(spectra.conductance)\n",
    "    y=y/np.abs(y[0])\n",
    "    Eg.append(gap_size(1000*x,y,max(y)/epsilon)[0])\n",
    "    #plt.plot(1000*x,a+1*h)\n",
    "    h+=1\n",
    "    C1.append(par[0])\n",
    "    R0.append(np.sqrt(np.diag(error))[0])\n",
    "\n",
    "\n",
    "#plt.errorbar(B[i][B800:-1],C1,yerr=R0)\n",
    "plt.plot(1/np.array(C1))\n",
    "plt.plot(Eg)"
   ]
  },
  {
   "cell_type": "markdown",
   "metadata": {},
   "source": [
    "## Analysis of the data using gap_size method with conductance"
   ]
  },
  {
   "cell_type": "markdown",
   "metadata": {},
   "source": [
    "### Fisrt Method"
   ]
  },
  {
   "cell_type": "code",
   "execution_count": 879,
   "metadata": {},
   "outputs": [],
   "source": [
    "EG=[]\n",
    "V0=[]\n",
    "for i in range(0,20):\n",
    "    #B800=B[i].index(0)\n",
    "    cut=100\n",
    "    Eg=[]\n",
    "    v00=[]\n",
    "    #Epi=np.linspace(1.8,2.2,50)\n",
    "    Epi=[2]\n",
    "    h=0\n",
    "    #for j in Bfiles[i][B800:-1]:\n",
    "    for j in Bfiles[i]:\n",
    "        Egt=[]\n",
    "        v0t=[]\n",
    "        for epsilon in Epi:\n",
    "            spectra.load(j)\n",
    "            x=np.array(spectra.bias)\n",
    "            y=np.array(spectra.conductance)\n",
    "            y=y/np.abs(y[0])\n",
    "            #plt.plot(x,y+h)\n",
    "            a,b=gap_size2(1000*x,y,np.max(y)/epsilon)\n",
    "            Egt.append(a)\n",
    "            v0t.append(b)\n",
    "        h+=1\n",
    "        Eg.append(np.mean(Egt))\n",
    "        v00.append(np.mean(v0t))\n",
    "    EG.append(Eg)\n",
    "    V0.append(v00)"
   ]
  },
  {
   "cell_type": "code",
   "execution_count": 881,
   "metadata": {},
   "outputs": [
    {
     "data": {
      "text/plain": [
       "<matplotlib.collections.PathCollection at 0x272bdc9c190>"
      ]
     },
     "execution_count": 881,
     "metadata": {},
     "output_type": "execute_result"
    }
   ],
   "source": [
    "a=[]\n",
    "b=[]\n",
    "R1=[]\n",
    "R2=[]\n",
    "for i in range(0,20):\n",
    "    B800=np.where(B[i]==800)[0][0]\n",
    "    yt=EG[i][B800:-1]\n",
    "    xt=B[i][B800:-1]\n",
    "    y=[]\n",
    "    x=[]\n",
    "    for j in range(len(xt)):\n",
    "        if np.abs(yt[j])>0.1:\n",
    "            x.append(xt[j])\n",
    "            y.append(yt[j])\n",
    "        else:\n",
    "            continue\n",
    "    x=np.array(x)/1000\n",
    "    y=np.array(y)\n",
    "    par,err=sc.optimize.curve_fit(lambda xx, a,b: a*xx+b, x, y,p0=[-0.1,1],bounds=([-10,0.0],[0.0,10]))\n",
    "    a.append(par[0])\n",
    "    b.append(par[1])\n",
    "    R1.append(np.sqrt(np.diag(err))[0])\n",
    "    R2.append(np.sqrt(np.diag(err))[0])\n",
    "    #plt.plot(x,y)\n",
    "    #plt.plot(x,par[0]*x+par[1])\n",
    "\n",
    "#plt.scatter(size,a/np.array(size))\n",
    "#R=np.sqrt((R1/size)**2+(R1*10/size**2)**2)\n",
    "#plt.errorbar(size,a/size,R,fmt=\"o\")\n",
    "#np.mean(a)/2\n",
    "#np.mean(a/(size[0:20]*height[0:20]))\n",
    "#t=a\n",
    "#par,err=sc.optimize.curve_fit(lambda xx, a,b: a*xx+b, size[0:20],t,p0=[-1,0],bounds=([-10,0.0],[0.0,10]))\n",
    "#plt.plot(size[0:20],par[0]*size[0:20]+par[1])\n",
    "plt.scatter(size[0:20],a)\n",
    "#par[0]\n"
   ]
  },
  {
   "cell_type": "markdown",
   "metadata": {},
   "source": [
    "### Second Method"
   ]
  },
  {
   "cell_type": "code",
   "execution_count": 305,
   "metadata": {},
   "outputs": [],
   "source": [
    "def gap_size3(x,y,epsilon):\n",
    "    xx=[]\n",
    "    half=int(len(y)/2)\n",
    "    for i in range(half):\n",
    "        if np.abs(y[half+i])<epsilon:\n",
    "            xx.append(x[half+i])\n",
    "        else:\n",
    "            break\n",
    "    for i in range(half):\n",
    "        if np.abs(y[half-i])<epsilon:\n",
    "            xx.append(x[half-i])\n",
    "        else:\n",
    "            break\n",
    "    if len(xx)<2:\n",
    "        return 0,0,x[half],x[half]\n",
    "    #elif np.abs(1-epsilon/min(y))<0.1:\n",
    "    #    return 0,0\n",
    "    else:\n",
    "        return np.abs(max(xx)-min(xx)), np.abs(max(xx)+min(xx))/2,max(xx),min(xx)\n",
    "\n",
    "\n",
    "\n",
    "EG=[]\n",
    "V0=[]\n",
    "Epi=np.linspace(1.9,2.1,20)\n",
    "for i in range(0,20):\n",
    "    Eg=[]\n",
    "    v00=[]\n",
    "    xx=[]\n",
    "    yy=[]\n",
    "    h=0\n",
    "    cut1=0\n",
    "    spectra.load(Bfiles[i][0])\n",
    "    cut2=len(spectra.bias)\n",
    "    for j in Bfiles[i]:\n",
    "        spectra.load(j)\n",
    "        x=1000*np.array(spectra.bias)[cut1:cut2]\n",
    "        y=np.array(spectra.conductance)[cut1:cut2]\n",
    "        y=(y-min(y))/np.abs(y[0])\n",
    "        #plt.plot(x,y+h)\n",
    "        G=[]\n",
    "        for ep in Epi:\n",
    "            g,q0,a,b=gap_size3(x,y,np.max(y)/ep)    \n",
    "            G.append(g)   \n",
    "        Eg.append(np.mean(G))   \n",
    "        x=1000*np.array(spectra.bias)\n",
    "        y=np.array(spectra.conductance)\n",
    "        #plt.scatter(x[np.where(x==a)[0][0]],y[np.where(x==a)[0][0]]+h)\n",
    "        #plt.scatter(x[np.where(x==b)[0][0]],y[np.where(x==b)[0][0]]+h)\n",
    "        cut1=min(np.where(x==a)[0][0],np.where(x==b)[0][0])-10\n",
    "        cut2=max(np.where(x==a)[0][0],np.where(x==b)[0][0])+10\n",
    "        h+=1\n",
    "    EG.append(Eg)\n"
   ]
  },
  {
   "cell_type": "code",
   "execution_count": 271,
   "metadata": {},
   "outputs": [
    {
     "data": {
      "text/plain": [
       "Text(0, 0.5, 'Gap ($meV$)')"
      ]
     },
     "execution_count": 271,
     "metadata": {},
     "output_type": "execute_result"
    }
   ],
   "source": [
    "for i in range(len(size)-1):\n",
    "    plt.scatter(size[i]*height[i],EG[i][0],color='C0',label='B=0T')\n",
    "    B800=np.where(B[i]==200)[0][0]\n",
    "    plt.scatter(size[i]*height[i],EG[i][B800],color='C1',label='B=0.2T')\n",
    "    B800=np.where(B[i]==400)[0][0]\n",
    "    plt.scatter(size[i]*height[i],EG[i][B800],color='C2',label='B=0.4T')\n",
    "    B800=np.where(B[i]==800)[0][0]\n",
    "    plt.scatter(size[i]*height[i],EG[i][B800],color='C3',label='B=0.8T')\n",
    "plt.legend()\n",
    "plt.xlabel('Volume ($nm^3$)')\n",
    "plt.ylabel('Gap ($meV$)')"
   ]
  },
  {
   "cell_type": "code",
   "execution_count": 306,
   "metadata": {},
   "outputs": [
    {
     "data": {
      "text/plain": [
       "Text(0, 0.5, 'Gap ($meV$)')"
      ]
     },
     "execution_count": 306,
     "metadata": {},
     "output_type": "execute_result"
    }
   ],
   "source": [
    "\n",
    "plt.scatter(B[8]/1000,EG[8],color='C0',label=str(int(size[8]*height[10]))+'$nm^3$') \n",
    "plt.scatter(B[10]/1000,EG[10],color='C1',label=str(int(size[10]*height[10]))+'$nm^3$') \n",
    "plt.scatter(B[12]/1000,EG[12],color='C2',label=str(int(size[12]*height[12]))+'$nm^3$') \n",
    "plt.scatter(B[14]/1000,EG[14],color='C3',label=str(int(size[14]*height[14]))+'$nm^3$') \n",
    "plt.legend()\n",
    "plt.xlabel('B(T)')\n",
    "plt.ylabel('Gap ($meV$)')"
   ]
  },
  {
   "cell_type": "code",
   "execution_count": 293,
   "metadata": {},
   "outputs": [],
   "source": [
    "ax1 = plt.subplot2grid((2,4), (0,0), colspan=2)\n",
    "ax2 = plt.subplot2grid((2,4), (0,2), colspan=2)\n",
    "ax3 = plt.subplot2grid((2,4), (1,0), colspan=2)\n",
    "ax4 = plt.subplot2grid((2,4), (1,2), colspan=2)\n",
    "ax=[ax1,ax2,ax3,ax4]\n",
    "C=['C0','C1','C2','C3']\n",
    "h=0\n",
    "a=[8,10,12,14]\n",
    "for i in range(len(a)):\n",
    "    for j in Bfiles[a[i]]:\n",
    "        spectra.load(j)\n",
    "        x=1000*np.array(spectra.bias)\n",
    "        y=np.array(spectra.conductance)\n",
    "        y=(y-min(y))/np.abs(y[0])\n",
    "        ax[i].plot(x,y+0.2*h,color=C[i],linewidth=2)\n",
    "        h+=1"
   ]
  },
  {
   "cell_type": "code",
   "execution_count": 279,
   "metadata": {},
   "outputs": [
    {
     "data": {
      "text/plain": [
       "<matplotlib.collections.PathCollection at 0x18415a3dac0>"
      ]
     },
     "execution_count": 279,
     "metadata": {},
     "output_type": "execute_result"
    }
   ],
   "source": [
    "a=[]\n",
    "b=[]\n",
    "R1=[]\n",
    "R2=[]\n",
    "for i in range(0,20):\n",
    "    B800=np.where(B[i]==800)[0][0]\n",
    "    yt=EG[i][B800:-1]\n",
    "    xt=B[i][B800:-1]\n",
    "    y=[]\n",
    "    x=[]\n",
    "    for j in range(len(xt)):\n",
    "        if np.abs(yt[j])>0.01:\n",
    "            x.append(xt[j])\n",
    "            y.append(yt[j])\n",
    "        else:\n",
    "            continue\n",
    "    x=np.array(x)/1000\n",
    "    y=np.array(y)\n",
    "    par,err=sc.optimize.curve_fit(lambda xx, a,b: a*xx+b, x, y,p0=[-0.1,1],bounds=([-10,0.0],[0.0,10]))\n",
    "    a.append(par[0])\n",
    "    b.append(par[1])\n",
    "    R1.append(np.sqrt(np.diag(err))[0])\n",
    "    R2.append(np.sqrt(np.diag(err))[0])\n",
    "    #plt.scatter(x,y)\n",
    "    #plt.plot(x,par[0]*x+par[1])\n",
    "\n",
    "#plt.scatter(size,a/np.array(size))\n",
    "#R=np.sqrt((R1/size)**2+(R1*10/size**2)**2)\n",
    "#plt.errorbar(size,a/size,R,fmt=\"o\")\n",
    "#np.mean(a)/2\n",
    "plt.scatter(size[0:20],a)\n",
    "#t=a\n",
    "#par,err=sc.optimize.curve_fit(lambda xx, a,b: a*xx+b, size[0:20],t,p0=[-1,0],bounds=([-10,0.0],[0.0,10]))\n",
    "#plt.plot(size[0:20],par[0]*size[0:20]+par[1])\n",
    "#plt.scatter(size[0:20],a)\n",
    "#par[0]"
   ]
  },
  {
   "cell_type": "code",
   "execution_count": 295,
   "metadata": {},
   "outputs": [
    {
     "data": {
      "text/plain": [
       "<matplotlib.collections.PathCollection at 0x184163799a0>"
      ]
     },
     "execution_count": 295,
     "metadata": {},
     "output_type": "execute_result"
    }
   ],
   "source": [
    "Eg=[]\n",
    "v00=[]\n",
    "i=8\n",
    "for j in Bfiles[i]:\n",
    "    Egt=[]\n",
    "    v0t=[]\n",
    "    Epi=[2]\n",
    "    for epsilon in Epi:\n",
    "        spectra.load(j)\n",
    "        x=np.array(spectra.bias)\n",
    "        y=np.array(spectra.conductance)\n",
    "        y=y/np.abs(y[0])\n",
    "        #plt.plot(1000*x,y)\n",
    "        a,b=gap_size2(1000*x,y,np.max(y)/epsilon)\n",
    "        Egt.append(a)\n",
    "        v0t.append(b)\n",
    "    Eg.append(np.mean(Egt))\n",
    "    v00.append(np.mean(v0t))\n",
    "plt.scatter(B[i],Eg,color='C0')        "
   ]
  },
  {
   "cell_type": "markdown",
   "metadata": {},
   "source": [
    "### Only for the big Island"
   ]
  },
  {
   "cell_type": "code",
   "execution_count": 149,
   "metadata": {},
   "outputs": [],
   "source": [
    "i=20\n",
    "cut=100\n",
    "Eg=[]\n",
    "v00=[]\n",
    "#Epi=np.linspace(1.8,2.2,50)\n",
    "Epi=[2]\n",
    "h=0\n",
    "#for j in Bfiles[i][B800:-1]:\n",
    "for j in Bfiles[i]:\n",
    "    Egt=[]\n",
    "    v0t=[]\n",
    "    for epsilon in Epi:\n",
    "        spectra.load(j)\n",
    "        x=np.array(spectra.bias)\n",
    "        y=np.array(spectra.conductance)\n",
    "        y=y/np.abs(y[0])\n",
    "        y=y\n",
    "        y=sc.signal.savgol_filter(y,21,1)\n",
    "        f=sc.interpolate.interp1d(x,y)\n",
    "        xx=np.linspace(-0.005,0.005,10000)\n",
    "        plt.plot(x,(y-1)/10+h)\n",
    "        yy=np.abs(np.gradient(f(xx)))\n",
    "        plt.plot(xx,yy+h)\n",
    "        peak=sc.signal.find_peaks(yy/max(yy),width=20,prominence=0.14)[0]\n",
    "        plt.scatter(xx[peak],yy[peak]+h)\n",
    "        if len(peak)>=2:\n",
    "            temp=np.sort(np.abs(xx[peak]))\n",
    "\n",
    "            Eg.append(temp[0]+temp[1])\n",
    "        else:\n",
    "            Eg.append(0)\n",
    "    h+=1\n",
    "\n",
    "#print(Eg)\n",
    "#plt.scatter(B[i],Eg)"
   ]
  },
  {
   "cell_type": "code",
   "execution_count": 242,
   "metadata": {},
   "outputs": [
    {
     "data": {
      "text/plain": [
       "(0.5972608212199684, 2.5435559499443166, 0.276071223790091)"
      ]
     },
     "execution_count": 242,
     "metadata": {},
     "output_type": "execute_result"
    }
   ],
   "source": [
    "d=2.1\n",
    "par,err=sc.optimize.curve_fit(lambda xx, a,b,c: d*np.real(np.sqrt(1-((xx+0.0001*1j)/a)**2))+b*np.real(np.sqrt(1-((xx+0.0001*1j)/c)**2)), B[20]/1000,1000*np.array(Eg) ,p0=[0.7,2.6,0.2],bounds=([0.0,1.0,0.1],[0.8,5,0.8]))\n",
    "plt.scatter(B[20]/1000,1000*np.array(Eg))\n",
    "x=np.linspace(0,0.8,100)\n",
    "plt.plot(x,  d*np.real(np.sqrt(1-((x+0.0001*1j)/par[0])**2))+par[1]*np.real(np.sqrt(1-((x+0.0001*1j)/par[2])**2))  )\n",
    "par[0],par[1],par[2]"
   ]
  },
  {
   "cell_type": "markdown",
   "metadata": {},
   "source": [
    "# Analysis for the T dependent data"
   ]
  },
  {
   "cell_type": "markdown",
   "metadata": {},
   "source": [
    "We can not use the same method we used earlier. The broadening due to temperature is too big to calculate the gap. It is better to fit the T=8.0K graph with the model"
   ]
  },
  {
   "cell_type": "code",
   "execution_count": 265,
   "metadata": {},
   "outputs": [],
   "source": [
    "EG8K=[]\n",
    "V0=[]\n",
    "h=0\n",
    "for i in range(0,12):\n",
    "    cut=50\n",
    "\n",
    "    j=Tfiles[i][0]\n",
    "    Egt=[]\n",
    "    v0t=[]\n",
    "    #for cut in cutt:\n",
    "    spectra.load(j)\n",
    "    x=np.array(spectra.bias)\n",
    "    half=int(len(x)/2)\n",
    "    x=np.array(spectra.bias)[half-cut:half+cut]\n",
    "    y=np.array(spectra.current)[half-cut:half+cut]\n",
    "    #x=np.array(spectra.bias)\n",
    "    #y=np.array(spectra.current)\n",
    "    y=y/np.abs(y[0])\n",
    "    #plt.plot(1000*x,y+h)\n",
    "    par,err=sc.optimize.curve_fit(lambda xx, C1,Q0: current(xx, 1,10000, C1,0.001,Q0,0.7), 1000*x, y,p0=[0.5,0.0],bounds=([0.01,-0.1],[5.0,0.1]))\n",
    "    EG8K.append(1/par[0])\n",
    "    V0.append(par[1])\n",
    "    #plt.plot(1000*x,current(1000*x, 1,10000, par[0],0.001,par[1],0.7)+h)\n",
    "    h+=1\n",
    "    #EG.append(np.mean(Egt))\n",
    "    #V0.append(np.mean(v0t))"
   ]
  },
  {
   "cell_type": "code",
   "execution_count": 264,
   "metadata": {},
   "outputs": [
    {
     "data": {
      "text/plain": [
       "<matplotlib.collections.PathCollection at 0x272a1cf32e0>"
      ]
     },
     "execution_count": 264,
     "metadata": {},
     "output_type": "execute_result"
    }
   ],
   "source": [
    "plt.scatter(size,EG8K)"
   ]
  },
  {
   "cell_type": "markdown",
   "metadata": {},
   "source": [
    "# Probak"
   ]
  }
 ],
 "metadata": {
  "kernelspec": {
   "display_name": "Python 3",
   "language": "python",
   "name": "python3"
  },
  "language_info": {
   "codemirror_mode": {
    "name": "ipython",
    "version": 3
   },
   "file_extension": ".py",
   "mimetype": "text/x-python",
   "name": "python",
   "nbconvert_exporter": "python",
   "pygments_lexer": "ipython3",
   "version": "3.9.13"
  }
 },
 "nbformat": 4,
 "nbformat_minor": 2
}
