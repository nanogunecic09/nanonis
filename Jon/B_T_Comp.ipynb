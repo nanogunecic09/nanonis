{
 "cells": [
  {
   "cell_type": "code",
   "execution_count": 1,
   "metadata": {},
   "outputs": [],
   "source": [
    "import sys\n",
    "sys.path.append(\"../\")\n",
    "import nanonis\n",
    "import numpy as np\n",
    "import scipy as sc\n",
    "import pandas as pd\n",
    "import matplotlib.pyplot as plt\n",
    "import xlrd\n",
    "import lmfit\n",
    "from lmfit import Model\n",
    "import matplotlib.colors as colors\n",
    "from scipy import constants as const\n",
    "%matplotlib qt\n",
    "spectra=nanonis.biasSpectroscopy()"
   ]
  },
  {
   "cell_type": "markdown",
   "metadata": {},
   "source": [
    "# File Management"
   ]
  },
  {
   "cell_type": "code",
   "execution_count": 11,
   "metadata": {},
   "outputs": [],
   "source": [
    "#data=pd.read_excel(\"C:/Users/jonor/Documents/GitHub/nanonis/Order.xls\")\n",
    "data=pd.read_excel(\"C:/Users/jortuzar/Documents/Git/nanonis/Jon/Order.xls\")\n"
   ]
  },
  {
   "cell_type": "code",
   "execution_count": 12,
   "metadata": {},
   "outputs": [],
   "source": [
    "Bfield_files=data.iloc[:,2]\n",
    "Bfields=data.iloc[:,3]\n",
    "size_dat=data.iloc[:,7]\n",
    "height_dat=data.iloc[:,8]\n",
    "temp=data.iloc[:,6]\n",
    "temp_files=data.iloc[:,5]\n",
    "josephson=data.iloc[:,4]\n",
    "path=data.iloc[:,11]\n",
    "Zapproach_fil=data.iloc[:,1]"
   ]
  },
  {
   "cell_type": "code",
   "execution_count": 13,
   "metadata": {},
   "outputs": [],
   "source": [
    "#dat=[ 8, 11, 12, 13, 14, 15, 16, 17, 18, 19, 21, 23, 24]\n",
    "dat=[ 0,1,2,3,4,5,6,7, 8, 11, 12, 13, 14, 15, 16, 17, 19, 21, 23, 24,32]\n",
    "T=[]\n",
    "Tfiles=[]\n",
    "Bfiles=[]\n",
    "Jfiles=[]\n",
    "size=[]\n",
    "height=[]\n",
    "Bfiles=[]\n",
    "B=[]\n",
    "for j in dat:\n",
    "    #T.append([float(i) for i in temp[j].split(',')])\n",
    "    #Tfiles.append([path[j]+i for i in temp_files[j].split(',')])\n",
    "    size.append(size_dat[j])\n",
    "    height.append(height_dat[j])\n",
    "    B.append([int(i) for i in Bfields[j].split(',')])\n",
    "    Bfiles.append([path[j]+i for i in Bfield_files[j].split(',')])\n",
    "    Jfiles.append([path[j]+i for i in josephson[j].split(',')])\n",
    "\n",
    "\n",
    "for j in range(len(B)):\n",
    "    list1, list2 = zip(*sorted(zip(B[j], Bfiles[j])))\n",
    "    B[j]=np.array(list1)\n",
    "    Bfiles[j]=np.array(list2)\n",
    "size=np.array(size)\n",
    "height=np.array(height)\n",
    "\n",
    "Zapproach=[]\n",
    "Zapproach.append([path[32]+i for i in Zapproach_fil[32].split(',')])"
   ]
  },
  {
   "cell_type": "markdown",
   "metadata": {},
   "source": [
    "# Some definitions"
   ]
  },
  {
   "cell_type": "code",
   "execution_count": 57,
   "metadata": {},
   "outputs": [],
   "source": [
    "def find_nearest(array,value):\n",
    "        idx = (np.abs(array-value)).argmin()\n",
    "        return idx\n",
    "\n",
    "def fast_spec(file):\n",
    "        spectra.load(file)\n",
    "        x=np.array(spectra.bias)\n",
    "        y=np.array(spectra.conductance)\n",
    "        return x,y\n",
    "\n",
    "def fast_cur(file):\n",
    "        spectra.load(file)\n",
    "        x=np.array(spectra.bias)\n",
    "        y=np.array(spectra.current)\n",
    "        return x,y\n",
    "\n",
    "def fast_I(file):\n",
    "        spectra.load(file)\n",
    "        x=np.array(spectra.bias)\n",
    "        y=np.array(spectra.biasVI_b)\n",
    "        z=np.array(spectra.biasVI_f)\n",
    "        w=np.array(spectra.current)\n",
    "        a=np.abs((w[0]-w[-1])/(x[0]-x[-1]))*1e6\n",
    "        x=x*a\n",
    "        return x,y,z,w,a\n",
    "\n",
    "def fermi(x,T):\n",
    "    return np.divide(1,1+np.exp(x/T))\n",
    "\n",
    "color_list=['#1f77b4', '#ff7f0e', '#2ca02c', '#d62728', '#9467bd', '#8c564b', '#e377c2', '#7f7f7f', '#bcbd22', '#17becf']"
   ]
  },
  {
   "cell_type": "markdown",
   "metadata": {},
   "source": [
    "# T dependence"
   ]
  },
  {
   "cell_type": "code",
   "execution_count": 45,
   "metadata": {},
   "outputs": [],
   "source": [
    "index=range(8,25)\n",
    "T_files=[]\n",
    "T=[]\n",
    "for i in index:\n",
    "    T_files.append([path[i]+j for j in temp_files[i].split(',')])\n",
    "    T.append([float(j) for j in temp[i].split(',')])"
   ]
  },
  {
   "cell_type": "code",
   "execution_count": 72,
   "metadata": {},
   "outputs": [
    {
     "data": {
      "text/plain": [
       "[<matplotlib.lines.Line2D at 0x27f1236d0d0>]"
      ]
     },
     "execution_count": 72,
     "metadata": {},
     "output_type": "execute_result"
    }
   ],
   "source": [
    "def coulomb_T(x,Ec,Q0,T):\n",
    "    return fermi(Ec-x+Q0,T)+fermi(Ec+x-Q0,T)\n",
    "\n",
    "def coulomb_T2(x,Ec,Q0,T):\n",
    "    return np.sinh(np.abs(x)/T)/(np.cosh(x/T)+np.cosh(Ec/T))\n",
    "\n",
    "x,y=fast_spec(T_files[0][0])\n",
    "plt.plot(1000*x,y/y[0])\n",
    "yy=coulomb_T2(1000*x,3,0,0.7)\n",
    "plt.plot(1000*x,yy/yy[0])"
   ]
  },
  {
   "cell_type": "code",
   "execution_count": 67,
   "metadata": {},
   "outputs": [
    {
     "data": {
      "text/plain": [
       "0.6893866609716143"
      ]
     },
     "execution_count": 67,
     "metadata": {},
     "output_type": "execute_result"
    }
   ],
   "source": [
    "8*1e3*const.k/const.e"
   ]
  }
 ],
 "metadata": {
  "kernelspec": {
   "display_name": "Python 3",
   "language": "python",
   "name": "python3"
  },
  "language_info": {
   "codemirror_mode": {
    "name": "ipython",
    "version": 3
   },
   "file_extension": ".py",
   "mimetype": "text/x-python",
   "name": "python",
   "nbconvert_exporter": "python",
   "pygments_lexer": "ipython3",
   "version": "3.12.0"
  }
 },
 "nbformat": 4,
 "nbformat_minor": 2
}
