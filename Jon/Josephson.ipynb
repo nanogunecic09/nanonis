{
 "cells": [
  {
   "cell_type": "code",
   "execution_count": 1,
   "metadata": {},
   "outputs": [],
   "source": [
    "import sys\n",
    "sys.path.append(\"../\")\n",
    "import nanonis\n",
    "import numpy as np\n",
    "import scipy as sc\n",
    "import pandas as pd\n",
    "import matplotlib.pyplot as plt\n",
    "import xlrd\n",
    "import lmfit\n",
    "from lmfit import Model\n",
    "import matplotlib.colors as colors\n",
    "from scipy import constants as const\n",
    "%matplotlib qt\n",
    "spectra=nanonis.biasSpectroscopy()"
   ]
  },
  {
   "cell_type": "markdown",
   "metadata": {},
   "source": [
    "# File management #"
   ]
  },
  {
   "cell_type": "code",
   "execution_count": 1,
   "metadata": {},
   "outputs": [
    {
     "ename": "NameError",
     "evalue": "name 'pd' is not defined",
     "output_type": "error",
     "traceback": [
      "\u001b[1;31m---------------------------------------------------------------------------\u001b[0m",
      "\u001b[1;31mNameError\u001b[0m                                 Traceback (most recent call last)",
      "Cell \u001b[1;32mIn[1], line 2\u001b[0m\n\u001b[0;32m      1\u001b[0m \u001b[38;5;66;03m#data=pd.read_excel(\"C:/Users/jonor/Documents/GitHub/nanonis/Order.xls\")\u001b[39;00m\n\u001b[1;32m----> 2\u001b[0m data\u001b[38;5;241m=\u001b[39m\u001b[43mpd\u001b[49m\u001b[38;5;241m.\u001b[39mread_excel(\u001b[38;5;124m\"\u001b[39m\u001b[38;5;124mC:/Users/jortuzar/Documents/Git/nanonis/Order.xls\u001b[39m\u001b[38;5;124m\"\u001b[39m)\n",
      "\u001b[1;31mNameError\u001b[0m: name 'pd' is not defined"
     ]
    }
   ],
   "source": [
    "#data=pd.read_excel(\"C:/Users/jonor/Documents/GitHub/nanonis/Order.xls\")\n",
    "data=pd.read_excel(\"C:/Users/jortuzar/Documents/Git/nanonis/Order.xls\")"
   ]
  },
  {
   "cell_type": "code",
   "execution_count": 21,
   "metadata": {},
   "outputs": [],
   "source": [
    "Bfield_files=data.iloc[:,2]\n",
    "Bfields=data.iloc[:,3]\n",
    "size_dat=data.iloc[:,7]\n",
    "height_dat=data.iloc[:,8]\n",
    "temp=data.iloc[:,6]\n",
    "temp_files=data.iloc[:,5]\n",
    "josephson=data.iloc[:,4]\n",
    "#path=data.iloc[:,10]\n",
    "path=data.iloc[:,11]\n",
    "Zapproach_fil=data.iloc[:,1]"
   ]
  },
  {
   "cell_type": "code",
   "execution_count": 22,
   "metadata": {},
   "outputs": [],
   "source": [
    "#dat=[ 8, 11, 12, 13, 14, 15, 16, 17, 18, 19, 21, 23, 24]\n",
    "dat=[ 0,1,2,3,4,5,6,7, 8, 11, 12, 13, 14, 15, 16, 17, 19, 21, 23, 24,32]\n",
    "T=[]\n",
    "Tfiles=[]\n",
    "Bfiles=[]\n",
    "Jfiles=[]\n",
    "size=[]\n",
    "height=[]\n",
    "Bfiles=[]\n",
    "B=[]\n",
    "for j in dat:\n",
    "    #T.append([float(i) for i in temp[j].split(',')])\n",
    "    #Tfiles.append([path[j]+i for i in temp_files[j].split(',')])\n",
    "    size.append(size_dat[j])\n",
    "    height.append(height_dat[j])\n",
    "    B.append([int(i) for i in Bfields[j].split(',')])\n",
    "    Bfiles.append([path[j]+i for i in Bfield_files[j].split(',')])\n",
    "    Jfiles.append([path[j]+i for i in josephson[j].split(',')])\n",
    "\n",
    "\n",
    "for j in range(len(B)):\n",
    "    list1, list2 = zip(*sorted(zip(B[j], Bfiles[j])))\n",
    "    B[j]=np.array(list1)\n",
    "    Bfiles[j]=np.array(list2)\n",
    "size=np.array(size)\n",
    "height=np.array(height)\n",
    "\n",
    "Zapproach=[]\n",
    "Zapproach.append([path[32]+i for i in Zapproach_fil[32].split(',')])"
   ]
  },
  {
   "cell_type": "code",
   "execution_count": 59,
   "metadata": {},
   "outputs": [
    {
     "data": {
      "text/plain": [
       "<matplotlib.legend.Legend at 0x16d3ffdd040>"
      ]
     },
     "execution_count": 59,
     "metadata": {},
     "output_type": "execute_result"
    }
   ],
   "source": [
    "i=10\n",
    "spectra.load(Jfiles[i][-1])\n",
    "x=spectra.bias\n",
    "y=spectra.conductance\n",
    "plt.plot(x,y/y[0],label=str(size[i]))\n",
    "spectra.load(Jfiles[i][0])\n",
    "x=spectra.bias\n",
    "y=spectra.conductance\n",
    "plt.plot(x,y/y[0])\n",
    "plt.legend()"
   ]
  },
  {
   "cell_type": "code",
   "execution_count": 123,
   "metadata": {},
   "outputs": [
    {
     "data": {
      "text/plain": [
       "'S230726_052.dat,S230726_055.dat,S230726_065.dat,S230726_066.dat,S230726_077.dat,S230726_078.dat,S230726_089.dat,S230726_090.dat,S230726_101.dat,S230726_102.dat,S230726_115.dat'"
      ]
     },
     "execution_count": 123,
     "metadata": {},
     "output_type": "execute_result"
    }
   ],
   "source": [
    "Bfield_files[0]"
   ]
  },
  {
   "cell_type": "code",
   "execution_count": 60,
   "metadata": {},
   "outputs": [],
   "source": [
    "def bcs(delta,x,eta):\n",
    "    if delta<=0.01: \n",
    "        return 1.0\n",
    "    else:\n",
    "        return (np.sign(x))*np.imag(np.divide(np.abs(x+eta*1j),np.sqrt(delta**2-(x+eta*1j)**2)))\n",
    "    \n",
    "def bcs_i(delta,x,eta,n):\n",
    "    if np.mod(n,2)==0:\n",
    "        if delta<=0.01: \n",
    "            return 1.0\n",
    "        else:\n",
    "            return (np.sign(x))*np.imag(np.divide(np.abs(x+eta*1j),np.sqrt(delta**2-(x+eta*1j)**2)))\n",
    "    else:\n",
    "        return 1.0\n",
    "\n",
    "def fermi(T,x):\n",
    "    if T==0.0:\n",
    "        return np.heaviside(-x,1)\n",
    "    else:\n",
    "        return np.divide(1,1+np.exp(x/T))\n",
    "\n",
    "def E1(C1,C2,V,n,Q0):\n",
    "    k=C2/(C1+C2)\n",
    "    return k*V+(n+Q0-1/2)/(C1+C2)\n",
    "\n",
    "def E2(C1,C2,V,n,Q0):\n",
    "    k=C1/(C1+C2)\n",
    "    return k*V+(n+Q0-1/2)/(C1+C2)\n",
    "\n",
    "def Gamma1D(V,R1,C1,C2,n,Q0,Delta,delta_t,delta_s,T,eta):\n",
    "    x=np.linspace(-4*np.max(V),4*np.max(V),7000)\n",
    "    a,b=np.meshgrid(x,E1(C1,C2,V,n,Q0))\n",
    "    t=a+b\n",
    "    return np.dot( bcs(delta_t,t,eta)*(1-fermi(T,t)),bcs_i(Delta,x,eta,n)*fermi(T,x) )/R1\n",
    "\n",
    "def Gamma2D(V,R2,C1,C2,n,Q0,Delta,delta_t,delta_s,T,eta):\n",
    "    x=np.linspace(-4*np.max(V),4*np.max(V),7000)\n",
    "    a,b=np.meshgrid(x,E2(C1,C2,V,-n,-Q0))\n",
    "    t=a+b\n",
    "    return np.dot(bcs(delta_s,t,eta)*(1-fermi(T,t)),bcs_i(Delta,x,eta,n)*fermi(T,x))/R2\n",
    "\n",
    "\n",
    "def PND(V,R1,R2,C1,C2,Q0,Delta,delta_t,delta_s,T,eta,n):\n",
    "    mn=(Gamma1D(V,R1,C1,C2,-n,Q0,Delta,delta_t,delta_s,T,eta)+Gamma2D(-V,R2,C1,C2,n,-Q0,Delta,delta_t,delta_s,T,eta))/(Gamma1D(-V,R1,C1,C2,n+1,-Q0,Delta,delta_t,delta_s,T,eta)+Gamma2D(V,R2,C1,C2,-n-1,Q0,Delta,delta_t,delta_s,T,eta))\n",
    "    en=(Gamma1D(-V,R1,C1,C2,-n,-Q0,Delta,delta_t,delta_s,T,eta)+Gamma2D(V,R2,C1,C2,n,Q0,Delta,delta_t,delta_s,T,eta))/(Gamma1D(V,R1,C1,C2,n+1,Q0,Delta,delta_t,delta_s,T,eta)+Gamma2D(-V,R2,C1,C2,-n-1,-Q0,Delta,delta_t,delta_s,T,eta))\n",
    "    return en,mn\n",
    "\n",
    "def check_pD(V,R1,R2,C1,C2,Q0,Delta,delta_t,delta_s,T,eta):\n",
    "    Vmax=V[-1]\n",
    "    n=[0]\n",
    "    while True:\n",
    "        a=[]\n",
    "        b=[]\n",
    "        for i in n:\n",
    "            an,bn=PND(Vmax,R1,R2,C1,C2,Q0,Delta,delta_t,delta_s,T,eta,i)\n",
    "            a.append(an[0])\n",
    "            b.append(bn[0])\n",
    "        p0=1\n",
    "        for i in range(len(a)):\n",
    "            temp=np.zeros(len(a))\n",
    "            temp[0:i+1]=1\n",
    "            temp=temp.tolist()\n",
    "            p0+=np.prod(a,where=temp)+np.prod(b,where=temp)\n",
    "        p0=1/p0\n",
    "        pn=p0*np.prod(a)\n",
    "        p_n=p0*np.prod(b)\n",
    "        #print(pn,p_n)\n",
    "        n.append(n[-1]+1)\n",
    "        if pn<0.0001 and p_n<0.0001:\n",
    "            #print(len(a))\n",
    "            break \n",
    "    return n[-1]\n",
    "\n",
    "def all_pD(V,R1,R2,C1,C2,Q0,Delta,delta_t,delta_s,T,eta,n):\n",
    "    a=[]\n",
    "    b=[]\n",
    "    for i in range(n):\n",
    "        an,bn=PND(V,R1,R2,C1,C2,Q0,Delta,delta_t,delta_s,T,eta,i)\n",
    "        a.append(an)\n",
    "        b.append(bn)\n",
    "    p0=1\n",
    "    pn=[]\n",
    "    p_n=[]\n",
    "    for i in range(n):\n",
    "        temp=np.zeros(n)\n",
    "        temp[0:i+1]=1\n",
    "        temp=temp.tolist()\n",
    "        temp1=np.full(len(V),1.0)\n",
    "        temp2=np.full(len(V),1.0)\n",
    "        for j in range(n):\n",
    "            if temp[j]<=0.1:\n",
    "                pass\n",
    "            else:\n",
    "                temp1*=a[j]       \n",
    "                temp2*=b[j]\n",
    "        p0+=temp1+temp2\n",
    "        pn.append(temp1)\n",
    "        p_n.append(temp2)\n",
    "    p0=1/p0\n",
    "    pn=p0*np.array(pn)\n",
    "    p_n=p0*np.array(p_n)\n",
    "    return p0,pn,p_n\n",
    "\n",
    "def G1nD(V,R1,R2,C1,C2,Q0,Delta,delta_t,delta_s,T,eta,n):\n",
    "    return Gamma1D(V,R1,C1,C2,n,Q0,Delta,delta_t,delta_s,T,eta)-Gamma1D(-V,R1,C1,C2,-n,-Q0,Delta,delta_t,delta_s,T,eta)\n",
    "\n",
    "def G2nD(V,R1,R2,C1,C2,Q0,Delta,delta_t,delta_s,T,eta,n):\n",
    "    return Gamma2D(V,R2,C1,C2,n,Q0,Delta,delta_t,delta_s,T,eta)-Gamma2D(-V,R2,C1,C2,-n,-Q0,Delta,delta_t,delta_s,T,eta)\n",
    "\n",
    "def currentD(V,R1,R2,C1,C2,Q0,Delta,delta_t,delta_s,T,eta):\n",
    "    n=check_pD(V,R1,R2,C1,C2,Q0,Delta,delta_t,delta_s,T,eta)\n",
    "    p0,pn,p_n=all_pD(V,R1,R2,C1,C2,Q0,Delta,delta_t,delta_s,T,eta,n)\n",
    "    I=p0*G1nD(V,R1,R2,C1,C2,Q0,Delta,delta_t,delta_s,T,eta,0)\n",
    "    for i in range(1,n+1):\n",
    "        I+=pn[i-1]*G1nD(V,R1,R2,C1,C2,Q0,Delta,delta_t,delta_s,T,eta,i)\n",
    "        I+=p_n[i-1]*G1nD(V,R1,R2,C1,C2,Q0,Delta,delta_t,delta_s,T,eta,-i)\n",
    "    t=np.gradient(I)\n",
    "    return t/np.sum(t)\n",
    "\n",
    "\n",
    "def currentD2(V,R1,R2,C1,C2,Q0,Delta,delta_t,delta_s,T,eta):\n",
    "    n=check_pD(V,R1,R2,C1,C2,Q0,Delta,delta_t,delta_s,T,eta)\n",
    "    p0,pn,p_n=all_pD(V,R1,R2,C1,C2,Q0,Delta,delta_t,delta_s,T,eta,n)\n",
    "    I=p0*G2nD(V,R1,R2,C1,C2,Q0,Delta,delta_t,delta_s,T,eta,0)\n",
    "    for i in range(1,n+1):\n",
    "        I+=pn[i-1]*G2nD(V,R1,R2,C1,C2,Q0,Delta,delta_t,delta_s,T,eta,i)\n",
    "        I+=p_n[i-1]*G2nD(V,R1,R2,C1,C2,Q0,Delta,delta_t,delta_s,T,eta,-i)\n",
    "    t=np.gradient(I)\n",
    "    return t/np.sum(t)"
   ]
  },
  {
   "cell_type": "code",
   "execution_count": 117,
   "metadata": {},
   "outputs": [
    {
     "data": {
      "text/plain": [
       "<matplotlib.legend.Legend at 0x16d506924e0>"
      ]
     },
     "execution_count": 117,
     "metadata": {},
     "output_type": "execute_result"
    }
   ],
   "source": [
    "x=np.linspace(-5,5,100)\n",
    "y=currentD2(x,10000,1,0.01,0.4,-0.8,1.3,1.3,0.3,0.11,0.05)\n",
    "plt.plot(x,y/y[0])\n",
    "i=10\n",
    "spectra.load(Jfiles[i][0])\n",
    "x=spectra.bias\n",
    "y=spectra.conductance\n",
    "plt.plot(1000*x,y/y[0],label=str(size[i]))\n",
    "\n",
    "plt.legend()"
   ]
  },
  {
   "cell_type": "code",
   "execution_count": 119,
   "metadata": {},
   "outputs": [],
   "source": [
    "h=0\n",
    "for i in np.linspace(1,10,10):\n",
    "    x=np.linspace(-10,10,100)\n",
    "    y=currentD2(x,i,1,0.01,0.4,0.8,1.3,1.3,0.3,0.11,0.05)\n",
    "    plt.plot(x,y/y[0]+h)\n",
    "    h+=1"
   ]
  },
  {
   "cell_type": "code",
   "execution_count": 122,
   "metadata": {},
   "outputs": [
    {
     "name": "stderr",
     "output_type": "stream",
     "text": [
      "C:\\Users\\jortuzar\\AppData\\Local\\Temp\\ipykernel_19064\\4068234084.py:44: RuntimeWarning: divide by zero encountered in divide\n",
      "  mn=(Gamma1D(V,R1,C1,C2,-n,Q0,Delta,delta_t,delta_s,T,eta)+Gamma2D(-V,R2,C1,C2,n,-Q0,Delta,delta_t,delta_s,T,eta))/(Gamma1D(-V,R1,C1,C2,n+1,-Q0,Delta,delta_t,delta_s,T,eta)+Gamma2D(V,R2,C1,C2,-n-1,Q0,Delta,delta_t,delta_s,T,eta))\n",
      "C:\\Users\\jortuzar\\AppData\\Local\\Temp\\ipykernel_19064\\4068234084.py:44: RuntimeWarning: invalid value encountered in divide\n",
      "  mn=(Gamma1D(V,R1,C1,C2,-n,Q0,Delta,delta_t,delta_s,T,eta)+Gamma2D(-V,R2,C1,C2,n,-Q0,Delta,delta_t,delta_s,T,eta))/(Gamma1D(-V,R1,C1,C2,n+1,-Q0,Delta,delta_t,delta_s,T,eta)+Gamma2D(V,R2,C1,C2,-n-1,Q0,Delta,delta_t,delta_s,T,eta))\n",
      "C:\\Users\\jortuzar\\AppData\\Local\\Temp\\ipykernel_19064\\4068234084.py:45: RuntimeWarning: divide by zero encountered in divide\n",
      "  en=(Gamma1D(-V,R1,C1,C2,-n,-Q0,Delta,delta_t,delta_s,T,eta)+Gamma2D(V,R2,C1,C2,n,Q0,Delta,delta_t,delta_s,T,eta))/(Gamma1D(V,R1,C1,C2,n+1,Q0,Delta,delta_t,delta_s,T,eta)+Gamma2D(-V,R2,C1,C2,-n-1,-Q0,Delta,delta_t,delta_s,T,eta))\n",
      "C:\\Users\\jortuzar\\AppData\\Local\\Temp\\ipykernel_19064\\4068234084.py:45: RuntimeWarning: invalid value encountered in divide\n",
      "  en=(Gamma1D(-V,R1,C1,C2,-n,-Q0,Delta,delta_t,delta_s,T,eta)+Gamma2D(V,R2,C1,C2,n,Q0,Delta,delta_t,delta_s,T,eta))/(Gamma1D(V,R1,C1,C2,n+1,Q0,Delta,delta_t,delta_s,T,eta)+Gamma2D(-V,R2,C1,C2,-n-1,-Q0,Delta,delta_t,delta_s,T,eta))\n"
     ]
    },
    {
     "ename": "TypeError",
     "evalue": "object of type 'int' has no len()",
     "output_type": "error",
     "traceback": [
      "\u001b[1;31m---------------------------------------------------------------------------\u001b[0m",
      "\u001b[1;31mTypeError\u001b[0m                                 Traceback (most recent call last)",
      "Cell \u001b[1;32mIn[122], line 2\u001b[0m\n\u001b[0;32m      1\u001b[0m q0\u001b[38;5;241m=\u001b[39mnp\u001b[38;5;241m.\u001b[39mlinspace(\u001b[38;5;241m-\u001b[39m\u001b[38;5;241m1\u001b[39m,\u001b[38;5;241m1\u001b[39m,\u001b[38;5;241m10\u001b[39m)\n\u001b[1;32m----> 2\u001b[0m p0,pn,p_n\u001b[38;5;241m=\u001b[39m\u001b[43mall_pD\u001b[49m\u001b[43m(\u001b[49m\u001b[38;5;241;43m0\u001b[39;49m\u001b[43m,\u001b[49m\u001b[38;5;241;43m1000\u001b[39;49m\u001b[43m,\u001b[49m\u001b[38;5;241;43m1\u001b[39;49m\u001b[43m,\u001b[49m\u001b[38;5;241;43m0.01\u001b[39;49m\u001b[43m,\u001b[49m\u001b[38;5;241;43m0.4\u001b[39;49m\u001b[43m,\u001b[49m\u001b[43mq0\u001b[49m\u001b[43m,\u001b[49m\u001b[38;5;241;43m1.3\u001b[39;49m\u001b[43m,\u001b[49m\u001b[38;5;241;43m1.3\u001b[39;49m\u001b[43m,\u001b[49m\u001b[38;5;241;43m0.3\u001b[39;49m\u001b[43m,\u001b[49m\u001b[38;5;241;43m0.11\u001b[39;49m\u001b[43m,\u001b[49m\u001b[38;5;241;43m0.05\u001b[39;49m\u001b[43m,\u001b[49m\u001b[38;5;241;43m2\u001b[39;49m\u001b[43m)\u001b[49m\n\u001b[0;32m      3\u001b[0m plt\u001b[38;5;241m.\u001b[39mscatter(q0,p0)\n",
      "Cell \u001b[1;32mIn[60], line 88\u001b[0m, in \u001b[0;36mall_pD\u001b[1;34m(V, R1, R2, C1, C2, Q0, Delta, delta_t, delta_s, T, eta, n)\u001b[0m\n\u001b[0;32m     86\u001b[0m temp[\u001b[38;5;241m0\u001b[39m:i\u001b[38;5;241m+\u001b[39m\u001b[38;5;241m1\u001b[39m]\u001b[38;5;241m=\u001b[39m\u001b[38;5;241m1\u001b[39m\n\u001b[0;32m     87\u001b[0m temp\u001b[38;5;241m=\u001b[39mtemp\u001b[38;5;241m.\u001b[39mtolist()\n\u001b[1;32m---> 88\u001b[0m temp1\u001b[38;5;241m=\u001b[39mnp\u001b[38;5;241m.\u001b[39mfull(\u001b[38;5;28;43mlen\u001b[39;49m\u001b[43m(\u001b[49m\u001b[43mV\u001b[49m\u001b[43m)\u001b[49m,\u001b[38;5;241m1.0\u001b[39m)\n\u001b[0;32m     89\u001b[0m temp2\u001b[38;5;241m=\u001b[39mnp\u001b[38;5;241m.\u001b[39mfull(\u001b[38;5;28mlen\u001b[39m(V),\u001b[38;5;241m1.0\u001b[39m)\n\u001b[0;32m     90\u001b[0m \u001b[38;5;28;01mfor\u001b[39;00m j \u001b[38;5;129;01min\u001b[39;00m \u001b[38;5;28mrange\u001b[39m(n):\n",
      "\u001b[1;31mTypeError\u001b[0m: object of type 'int' has no len()"
     ]
    }
   ],
   "source": [
    "q0=np.linspace(-1,1,10)\n",
    "p0,pn,p_n=all_pD(0,1000,1,0.01,0.4,q0,1.3,1.3,0.3,0.11,0.05,2)\n",
    "plt.scatter(q0,p0)"
   ]
  }
 ],
 "metadata": {
  "kernelspec": {
   "display_name": "Python 3",
   "language": "python",
   "name": "python3"
  },
  "language_info": {
   "codemirror_mode": {
    "name": "ipython",
    "version": 3
   },
   "file_extension": ".py",
   "mimetype": "text/x-python",
   "name": "python",
   "nbconvert_exporter": "python",
   "pygments_lexer": "ipython3",
   "version": "3.12.0"
  }
 },
 "nbformat": 4,
 "nbformat_minor": 2
}
