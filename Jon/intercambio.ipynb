{
 "cells": [
  {
   "cell_type": "code",
   "execution_count": null,
   "metadata": {},
   "outputs": [],
   "source": [
    "plt.rcParams[\"axes.prop_cycle\"] = plt.cycler(\"color\", plt.cm.tab10(np.linspace(0,1,10)))\n"
   ]
  },
  {
   "cell_type": "code",
   "execution_count": null,
   "metadata": {},
   "outputs": [],
   "source": [
    "def Ip(Vp,R2,C1,C2,Q0,delta=1.35e-3):\n",
    "    n0 = np.round(((-C2*Vp+Q0-const.e/2)/const.e + (-C2*Vp+Q0+const.e/2)/const.e)/2)\n",
    "    if (-const.e/2 + n0*const.e -Q0 )/C1-delta < Vp <  (const.e/2 + n0*const.e -Q0)/C1+delta:\n",
    "        Ip = 0\n",
    "    else:\n",
    "        Ip = (1/(R2*(C1+C2)))*(-(n0*const.e-Q0)+C1*Vp-const.e*np.sign(Vp)/2)\n",
    "    return Ip"
   ]
  }
 ],
 "metadata": {
  "language_info": {
   "name": "python"
  },
  "orig_nbformat": 4
 },
 "nbformat": 4,
 "nbformat_minor": 2
}
