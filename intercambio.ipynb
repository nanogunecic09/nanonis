{
 "cells": [
  {
   "cell_type": "code",
   "execution_count": 102,
   "metadata": {},
   "outputs": [
    {
     "name": "stdout",
     "output_type": "stream",
     "text": [
      "1 cycle: 0.001 minutes --- Total time: 7.5 seconds\n"
     ]
    }
   ],
   "source": [
    "import sys\n",
    "import Green_functions as gr\n",
    "import numpy as np\n",
    "\n",
    "%reload_ext autoreload\n",
    "%autoreload 2\n",
    "%matplotlib qt\n",
    "\n",
    "sim = gr.simulation()\n",
    "sim.GYSRMapCalcSquare(xypx=100,xy=(-120,120),mode=2)\n",
    "sim.map2Dplot()\n"
   ]
  },
  {
   "cell_type": "code",
   "execution_count": 99,
   "metadata": {},
   "outputs": [
    {
     "name": "stdout",
     "output_type": "stream",
     "text": [
      "1 cycle: 0.01095438003540039 allcycle: 1.095438003540039\n"
     ]
    }
   ],
   "source": [
    "sim.G0MAPcalcSquare(xypx=100,xy=(-120,120),mode=2)\n",
    "sim.map2Dplot()"
   ]
  }
 ],
 "metadata": {
  "interpreter": {
   "hash": "8c3a2e97da19f2fe6eaeb358a7ab717156a0b7e22ef161919b57a8eecbb1563f"
  },
  "kernelspec": {
   "display_name": "Python 3.9.7 64-bit (windows store)",
   "name": "python3"
  },
  "language_info": {
   "codemirror_mode": {
    "name": "ipython",
    "version": 3
   },
   "file_extension": ".py",
   "mimetype": "text/x-python",
   "name": "python",
   "nbconvert_exporter": "python",
   "pygments_lexer": "ipython3",
   "version": "3.9.7"
  },
  "orig_nbformat": 4
 },
 "nbformat": 4,
 "nbformat_minor": 2
}
