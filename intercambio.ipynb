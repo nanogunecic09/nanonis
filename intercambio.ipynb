{
 "cells": [
  {
   "cell_type": "code",
   "execution_count": 126,
   "metadata": {},
   "outputs": [
    {
     "name": "stdout",
     "output_type": "stream",
     "text": [
      "1 cycle: 0.001 minutes --- Total time: 7.98 seconds\n"
     ]
    }
   ],
   "source": [
    "import sys\n",
    "import Green_functions as gr\n",
    "import numpy as np\n",
    "\n",
    "%reload_ext autoreload\n",
    "%autoreload 2\n",
    "%matplotlib qt\n",
    "\n",
    "sim = gr.simulation()\n",
    "sim.GYSRMapCalcSquare(xypx=100,xy=(-40,40),mode=2)\n",
    "sim.map2Dplot()\n"
   ]
  },
  {
   "cell_type": "code",
   "execution_count": 113,
   "metadata": {},
   "outputs": [
    {
     "name": "stdout",
     "output_type": "stream",
     "text": [
      "1 cycle: 0.00698089599609375 allcycle: 0.698089599609375\n"
     ]
    }
   ],
   "source": [
    "sim.G0MAPcalcSquare(xypx=100,xy=(-120,120),mode=1)\n",
    "sim.map2Dplot()"
   ]
  }
 ],
 "metadata": {
  "interpreter": {
   "hash": "8c3a2e97da19f2fe6eaeb358a7ab717156a0b7e22ef161919b57a8eecbb1563f"
  },
  "kernelspec": {
   "display_name": "Python 3.9.7 64-bit (windows store)",
   "name": "python3"
  },
  "language_info": {
   "codemirror_mode": {
    "name": "ipython",
    "version": 3
   },
   "file_extension": ".py",
   "mimetype": "text/x-python",
   "name": "python",
   "nbconvert_exporter": "python",
   "pygments_lexer": "ipython3",
   "version": "3.9.7"
  },
  "orig_nbformat": 4
 },
 "nbformat": 4,
 "nbformat_minor": 2
}
