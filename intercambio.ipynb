{
 "cells": [
  {
   "cell_type": "code",
   "execution_count": 126,
   "metadata": {},
   "outputs": [
    {
     "name": "stdout",
     "output_type": "stream",
     "text": [
      "1 cycle: 0.001 minutes --- Total time: 7.98 seconds\n"
     ]
    }
   ],
   "source": [
    "import sys\n",
    "import Green_functions as gr\n",
    "import numpy as np\n",
    "\n",
    "%reload_ext autoreload\n",
    "%autoreload 2\n",
    "%matplotlib qt\n",
    "\n",
    "sim = gr.simulation()\n",
    "sim.GYSRMapCalcSquare(xypx=100,xy=(-40,40),mode=2)\n",
    "sim.map2Dplot()\n"
   ]
  },
  {
   "cell_type": "code",
   "execution_count": 113,
   "metadata": {},
   "outputs": [
    {
     "name": "stdout",
     "output_type": "stream",
     "text": [
      "1 cycle: 0.00698089599609375 allcycle: 0.698089599609375\n"
     ]
    }
   ],
   "source": [
    "sim.G0MAPcalcSquare(xypx=100,xy=(-120,120),mode=1)\n",
    "sim.map2Dplot()"
   ]
  },
  {
   "cell_type": "code",
   "execution_count": null,
   "metadata": {},
   "outputs": [],
   "source": [
    "import numpy as np\n",
    "import matplotlib.pyplot as plt\n",
    "\n",
    "def P(D,Delta,J,E,T):\n",
    "    En=Energies(D,Delta,J)\n",
    "    return np.divide(np.exp(-np.divide(E,T)),np.sum(np.exp(-np.divide(En,T))))\n",
    "    \n",
    "def peak(D,Delta,J,x,DeltaE,Gamma,w,T,E0):\n",
    "    print(P(D,Delta,J,E0,T)*w,DeltaE)\n",
    "    return w*P(D,Delta,J,E0,T)*np.divide(Gamma,np.add(np.power(np.add(x,-DeltaE),2),Gamma**2/2))\n",
    "\n",
    "def Energies(D,Delta,J):\n",
    "    return [D/4-Delta,D/4+Delta,D/4-7*J/4,D/4+5*J/4,(1/4)*(5*D-J-2*np.sqrt(4*D**2-4*D*J+9*J**2)),(1/4)*(5*D-J+2*np.sqrt(4*D**2-4*D*J+9*J**2))]\n",
    "\n",
    "def weights(D,Delta,J):\n",
    "    return [1/2,1/2,(1/2)*((-2*D+J-np.sqrt(4*D**2-4*D*J+9*J**2))**2/(8*J**2+np.abs(-2*D+J-np.sqrt(4*D**2-4*D*J+9*J**2))**2)),(1/2)*((2*D-J-np.sqrt(4*D**2-4*D*J+9*J**2))**2)/(8*J**2+np.abs(2*D-J-np.sqrt(4*D**2-4*D*J+9*J**2))**2) ]\n",
    "\n",
    "## LIST OF ABSOLUTE ENERGIES AND TRANSITION WEIGHTS ##\n",
    "#  EGSW=D/4-Delta (Sz=+-1/2)\n",
    "#  EW1=D/4+Delta  (Sz=+-1/2)\n",
    "#  EGSS=D/4-7*J/4 (Sz=0)\n",
    "#  ES1=D/4+5*J/4 (Sz=0)\n",
    "#  ES2=(1/4)*(5*D-J-2*np.sqrt[4D**2-4*D*J+9J**2]) (Sz=+-1)\n",
    "#  ES3=(1/4)*(5*D-J+2*np.sqrt[4D**2-4*D*J+9J**2]) (Sz=+-1)\n",
    "#  1/2(2-0)-->1/2(down), w1=1/4 (EGSS-EGSW) and w1*=1/4 (ES1-EGSW)\n",
    "#  -1/2(2-0)-->-1/2(up), w1=1/4 (EGSS-EGSW) and w1*=1/4 (ES1-EGSW)\n",
    "#  1/2(2-0)-->1/2(up), w3=(1/2)(2*D-J+np.sqrt(4*D**2-4*D*J+9J**2))**2/(8J**2+J*np.abs(2*D-J+np.sqrt(4*D**2-4*D*J+9J**2))) (ES2-EGSW)\n",
    "#  w3*=(1/2)(2*D-J-np.sqrt(4*D**2-4*D*J+9J**2))**2/(8J**2+J*np.abs(2*D-J-np.sqrt(4*D**2-4*D*J+9J**2))) (ES3-EGSW)\n",
    "#  -1/2(2-0)-->1/2(downm) w3 (ES2-EGSW) and w3* (ES3-EGSW)\n",
    "#  1/2(down)-(-1/2)(up)--> 1/2(2) or (-1/2)(0), w4=1/4 (EGSW-EGSS) and W4*=1/4 (EW1-EGSS)\n",
    "\n",
    "\n",
    "D=2\n",
    "Delta=2\n",
    "\n",
    "a=np.linspace(0.8,1.4,100)\n",
    "b=np.linspace(1.4,0.8,100)\n",
    "J=np.concatenate((b,a))\n",
    "x=np.linspace(-2,6,1000)\n",
    "T=0.3\n",
    "Gamma=0.1\n",
    "\n",
    "\n",
    "Y=[]\n",
    "for i in J:\n",
    "    E=Energies(D,Delta,i)\n",
    "    w=weights(D,Delta,i)\n",
    "    p1=peak(D,Delta,i,x,E[2]-E[0],Gamma,w[0],T,E[0])\n",
    "    p2=peak(D,Delta,i,x,E[3]-E[0],Gamma,w[1],T,E[0])\n",
    "    p3=peak(D,Delta,i,x,E[4]-E[0],Gamma,w[2],T,E[0])\n",
    "    p4=peak(D,Delta,i,x,E[5]-E[0],Gamma,w[3],T,E[0])\n",
    "    p5=peak(D,Delta,i,x,E[0]-E[2],Gamma,w[0],T,E[2])\n",
    "    p6=peak(D,Delta,i,x,E[1]-E[2],Gamma,w[1],T,E[2])\n",
    "    Y.append(p1+p2+p3+p4+p5+p6)\n",
    "    #pp1=\n",
    "    #pp2=\n",
    "    #pp3=\n",
    "    #pp4=\n",
    "    #pp5=\n",
    "    #pp6=\n",
    "plt.imshow(Y,aspect='auto',extent=(-2,6,0,1))\n",
    "plt.show()"
   ]
  }
 ],
 "metadata": {
  "interpreter": {
   "hash": "8c3a2e97da19f2fe6eaeb358a7ab717156a0b7e22ef161919b57a8eecbb1563f"
  },
  "kernelspec": {
   "display_name": "Python 3.9.7 64-bit (windows store)",
   "name": "python3"
  },
  "language_info": {
   "codemirror_mode": {
    "name": "ipython",
    "version": 3
   },
   "file_extension": ".py",
   "mimetype": "text/x-python",
   "name": "python",
   "nbconvert_exporter": "python",
   "pygments_lexer": "ipython3",
   "version": "3.9.7"
  },
  "orig_nbformat": 4
 },
 "nbformat": 4,
 "nbformat_minor": 2
}
