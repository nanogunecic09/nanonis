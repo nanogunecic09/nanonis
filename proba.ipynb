{
 "cells": [
  {
   "cell_type": "code",
   "execution_count": 1,
   "metadata": {},
   "outputs": [
    {
     "name": "stdout",
     "output_type": "stream",
     "text": [
      "1 cycle: 0.0 minutes --- Total time: 0.12 seconds\n"
     ]
    }
   ],
   "source": [
    "import numpy as np\n",
    "import scipy.special as scisp\n",
    "import scipy.integrate as integ\n",
    "import mpmath\n",
    "from scipy import constants as const\n",
    "import Green_functions as gr\n",
    "import matplotlib.pyplot as plt\n",
    "from matplotlib.gridspec import GridSpec\n",
    "sim = gr.simulation()\n",
    "\n",
    "\n",
    "%matplotlib qt\n",
    "sim.GYSRLSCalcSquare( J1=-0.0296,J2=0,alpha=0,delta=0.0000287,m=20.956,pf=0.274,dynes=5e-6,Epx=400,x=(0,157),xypx=100,YSRenergy=0.000020947026906146,dir='110')\n",
    "\n",
    "\n"
   ]
  },
  {
   "cell_type": "code",
   "execution_count": 7,
   "metadata": {},
   "outputs": [
    {
     "data": {
      "text/plain": [
       "[<matplotlib.lines.Line2D at 0x2592cf1dd90>]"
      ]
     },
     "execution_count": 7,
     "metadata": {},
     "output_type": "execute_result"
    }
   ],
   "source": [
    "x=np.linspace(-3,3,100)\n",
    "y=[]\n",
    "\n",
    "for i in x:\n",
    "    sim.G(1,1,i+0.01j,1,1,1,0)\n",
    "    y.append(-np.trace(np.imag(sim.G0)))\n",
    "plt.plot(x,y)"
   ]
  },
  {
   "cell_type": "code",
   "execution_count": 41,
   "metadata": {},
   "outputs": [
    {
     "name": "stderr",
     "output_type": "stream",
     "text": [
      "C:\\Users\\jonor\\AppData\\Local\\Temp/ipykernel_10404/4274449038.py:12: DeprecationWarning: `np.complex` is a deprecated alias for the builtin `complex`. To silence this warning, use `complex` by itself. Doing this will not modify any behavior and is safe. If you specifically wanted the numpy scalar type, use `np.complex128` here.\n",
      "Deprecated in NumPy 1.20; for more details and guidance: https://numpy.org/devdocs/release/1.20.0-notes.html#deprecations\n",
      "  y.append(F(np.complex(i,0.01),1,0.5,0.5))\n"
     ]
    },
    {
     "data": {
      "image/png": "[encoded data removed]",
      "text/plain": [
       "<Figure size 432x288 with 1 Axes>"
      ]
     },
     "metadata": {
      "needs_background": "light"
     },
     "output_type": "display_data"
    }
   ],
   "source": [
    "def F(E,delta,alpha,eta):\n",
    "    O=np.sqrt(E**2-delta**2)\n",
    "    a=4*np.divide(E-O,E+O)*E**2\n",
    "    u=1+np.divide(E-O,E+O)*eta+alpha*np.divide(2*O,E+O)*(1-eta)\n",
    "    D=np.divide(a,u**2)\n",
    "    return np.divide(2,np.pi*700)*np.real(np.divide(E,np.sqrt(E**2-D**2)))\n",
    "    \n",
    "\n",
    "x=np.linspace(0,1.5,1000)\n",
    "y=[]\n",
    "for i in x:\n",
    "    y.append(F(np.complex(i,0.01),1,0.5,0.5))\n",
    "\n",
    "plt.plot(x,y)\n",
    "\n",
    "plt.show()\n",
    "\n"
   ]
  },
  {
   "cell_type": "code",
   "execution_count": 3,
   "metadata": {},
   "outputs": [],
   "source": [
    "def F(E,delta,d,eta):\n",
    "    E=E+1j*eta\n",
    "    OS=np.sqrt(E**2-delta**2)\n",
    "    a=d\n",
    "    g=complex(0,1)*np.divide(E,OS)\n",
    "    return np.abs(np.imag(np.divide(g*np.cos(a*np.abs(E))+np.sin(a*np.abs(E)),g*np.sin(a*np.abs(E))-np.cos(a*np.abs(E)))))\n",
    "\n",
    "def fermi(E,T):\n",
    "    kb=8.62E-2\n",
    "    return np.divide(1,1+np.exp(np.divide(E,kb*T)))\n",
    "\n",
    "def dynes(E,eta,delta):\n",
    "    E=E+1j*eta\n",
    "    return np.imag(E/np.sqrt(-E**2+delta**2))\n",
    "\n",
    "def conv(V,delta,d,eta,T):\n",
    "    E=np.linspace(-2*V,2*V,5000)\n",
    "    return -np.trapz(dynes(E,eta,delta)*F(E+V,delta,d,2*eta)*(fermi(E+V,T)-fermi(E,T)),x=E)\n",
    "\n",
    "x=np.linspace(-5,5,500)\n",
    "y=[]\n",
    "for i in x:\n",
    "    y.append(conv(i,0.78,2,0.05,1))\n",
    "\n",
    "plt.plot(x,np.abs(np.gradient(y)))\n",
    "plt.show()"
   ]
  },
  {
   "cell_type": "code",
   "execution_count": 75,
   "metadata": {},
   "outputs": [],
   "source": [
    "x=np.linspace(-5,5,500)\n",
    "\n",
    "plt.plot(x,F(x,0.78,3,0.1))\n",
    "plt.plot(x,dynes(x,0.1,0.78))\n",
    "plt.show()\n"
   ]
  },
  {
   "cell_type": "code",
   "execution_count": 106,
   "metadata": {},
   "outputs": [],
   "source": [
    "def Ff(E,x,delta,d,eta):\n",
    "    E=E+1j*eta\n",
    "    OS=np.sqrt(E**2-delta**2)\n",
    "    kp=1000*np.sqrt(1+d*np.abs(E)/1000)\n",
    "    km=1000*np.sqrt(1-d*np.abs(E)/1000)\n",
    "    F=E/OS\n",
    "    A=1j*F*np.cos(kp*x+km*d)-np.sin(kp*x+km*d)\n",
    "    return np.abs(np.imag(np.divide(A,1j*F*np.sin(d*np.abs(E))-np.cos(d*np.abs(E)))))\n",
    "\n",
    "x=np.linspace(-1,1,500)\n",
    "\n",
    "plt.plot(x,Ff(x,-3,0.1,3,0.00001))\n",
    "plt.show()\n"
   ]
  },
  {
   "cell_type": "code",
   "execution_count": 4,
   "metadata": {},
   "outputs": [],
   "source": [
    "def H1(J1,J2,J12,Delta,t):\n",
    "  a= np.kron(np.identity(8), [[J12/4, 0, 0, 0], [0, -J12/4, J12/2, 0], [0, J12/2, -J12/4,0], [0, 0, 0, J12/4]])\n",
    "  b=np.kron(np.diag([1, 0]),np.kron( [[2*Delta, 0, 0, 0], [0, 0, 0, 0], [0, 0, 0, 0], [0, 0, 0, -2*Delta]], np.identity(4)) )\n",
    "  c=np.kron(np.diag([0, 1]),np.kron(np.diag([1, 1, -1, -1]),np.diag([J1/4, J1/4, -J1/4, -J1/4])))\n",
    "  d=np.kron(np.diag([0, 1]),np.kron( [[0, 0, 1, 0], [0, 0, 0, 1], [0, 0, 0, 0], [0, 0, 0, 0]], [[0, 0, 0, 0], [0, 0, 0, 0], [J1/2, 0, 0, 0], [0, J1/2, 0, 0]]) )\n",
    "  e=np.kron(np.diag([0, 1]), np.kron([[0, 0, 0, 0], [0, 0, 0, 0], [1, 0, 0, 0], [0, 1, 0, 0]], [[0, 0, J1/2, 0], [0, 0, 0, J1/2], [0, 0, 0, 0], [0, 0, 0, 0]]))\n",
    "  f=np.kron(np.diag([0, 1]),np.kron(np.diag([1, -1, 1, -1]), np.diag([J2/4, -J2/4, J2/4, -J2/4])) )\n",
    "  g=np.kron(np.diag([0, 1]), np.kron([[0, 1, 0, 0], [0, 0, 0, 0], [0, 0, 0, 1], [0, 0, 0, 0]], [[0, 0, 0, 0], [J2/2, 0, 0, 0], [0, 0, 0,0], [0, 0, J2/2, 0]]) )\n",
    "  h=np.kron(np.diag([0, 1]), np.kron([[0, 0, 0, 0], [1, 0, 0, 0], [0, 0, 0, 0], [0, 0, 1, 0]], [[0, J2/2, 0, 0], [0, 0, 0, 0], [0, 0, 0, J2/2], [0, 0, 0, 0]]) )\n",
    "  i=np.kron([[0, 1], [1, 0]],np.kron([[0, t, 0, 0], [0, 0, -t, 0], [0, 0, t, 0], [0, -t, 0, 0]], np.identity(4)))\n",
    "\n",
    "  return a+b+c+d+e+f+g+h+i\n",
    "\n",
    "def H2(J1,J2,J12,Delta,t):\n",
    "  a=np.kron(np.identity(8), [[J12/4, 0, 0, 0], [0, -J12/4, J12/2, 0], [0, J12/2, -J12/4, 0], [0, 0, 0, J12/4]]) \n",
    "  b=np.kron(np.identity(2),np.kron( np.diag([-Delta, Delta]), np.identity(8)) )\n",
    "  c=np.kron(np.diag([1, 1, 0, 0]),np.kron( np.diag([1, -1]),  np.diag([J2/4, -J2/4, J2/4, -J2/4]))) \n",
    "  d=np.kron(np.diag([1, 1, 0, 0]), np.kron([[0, 0], [1, 0]], [[0, J2/2, 0, 0], [0, 0, 0, 0], [0, 0, 0, J2/2], [0, 0, 0, 0]]) )\n",
    "  e=np.kron(np.diag([1, 1, 0, 0]),np.kron( [[0, 1], [0, 0]], [[0, 0, 0, 0], [J2/2, 0, 0, 0], [0, 0, 0, 0], [0, 0, J2/2, 0]]) )\n",
    "  f=np.kron(np.diag([0, 0, 1, 1]),np.kron( np.diag([1, -1]), np.diag([J1/4, -J1/4, J1/4, -J1/4])) )\n",
    "  g=np.kron(np.diag([0, 0, 1, 1]),np.kron( [[0, 0], [1, 0]], [[0, J1/2, 0, 0], [0, 0, 0, 0], [0, 0, 0, J1/2], [0, 0, 0, 0]]) )\n",
    "  h=np.kron(np.diag([0, 0, 1, 1]),np.kron( [[0, 1], [0, 0]], [[0, 0, 0, 0], [J1/2, 0, 0, 0], [0, 0, 0, 0], [0, 0, J1/2, 0]]) )\n",
    "  i=np.kron([[0, 0, 1, 0], [0, 0, 0, 1], [1, 0, 0, 0], [0, 1, 0,0]], np.kron(np.diag([t, -t]), np.identity(4)))\n",
    "  \n",
    "  return a+b+c+d+e+f+g+h+i\n",
    "\n",
    "\n",
    "\n",
    "def eigh1(J1,J2,J12,Delta,t):\n",
    "  return np.linalg.eigh(H1(J1,J2,J12,Delta,t))\n",
    "\n",
    "def eigh2(J1,J2,J12,Delta,t):\n",
    "  return np.linalg.eigh(H2(J1,J2,J12,Delta,t))"
   ]
  },
  {
   "cell_type": "code",
   "execution_count": 6,
   "metadata": {},
   "outputs": [],
   "source": [
    "x=np.linspace(0,1,100)\n",
    "J1_1=[]\n",
    "J2_1=[]\n",
    "J12_1=[]\n",
    "t_1=[]\n",
    "J1_2=[]\n",
    "J2_2=[]\n",
    "J12_2=[]\n",
    "t_2=[]\n",
    "\n",
    "\n",
    "cm = 1/2.54\n",
    "f = plt.figure(figsize=(21*cm,15*cm))\n",
    "\n",
    "for i in x:\n",
    "    J1_1.append(eigh1(i,0,0,1,0)[0])\n",
    "    J1_2.append(eigh2(i,0,0,1,0)[0])\n",
    "for i in x:\n",
    "    J2_1.append(eigh1(1,i,0,1,0)[0])\n",
    "    J2_2.append(eigh2(1,i,0,1,0)[0])\n",
    "for i in x:\n",
    "    J12_1.append(eigh1(1,1,i,1,0)[0])\n",
    "    J12_2.append(eigh2(1,1,i,1,0)[0])\n",
    "for i in x:\n",
    "    t_1.append(eigh1(1,1,1,1,i)[0])\n",
    "    t_2.append(eigh2(1,1,1,1,i)[0])\n",
    "J1_1=np.array(J1_1)\n",
    "J2_1=np.array(J2_1)\n",
    "J12_1=np.array(J12_1)\n",
    "t_1=np.array(t_1)\n",
    "J1_2=np.array(J1_2)\n",
    "J2_2=np.array(J2_2)\n",
    "J12_2=np.array(J12_2)\n",
    "t_2=np.array(t_2)\n",
    "\n",
    "\n",
    "ax = []\n",
    "\n",
    "gs1 = GridSpec(1, 4,width_ratios=[1,1,1,1],wspace=0)\n",
    "ax.append(f.add_subplot(gs1[0,0]))\n",
    "ax.append(f.add_subplot(gs1[0,1]))\n",
    "ax.append(f.add_subplot(gs1[0,2]))\n",
    "ax.append(f.add_subplot(gs1[0,3]))\n",
    "ax[1].yaxis.set_visible(False)\n",
    "ax[2].yaxis.set_visible(False)\n",
    "ax[3].yaxis.set_visible(False)\n",
    "\n",
    "ax[1].xaxis.set_ticks_position('top')\n",
    "ax[3].xaxis.set_ticks_position('top')\n",
    "ax[0].set_xlabel('J1')\n",
    "ax[1].set_xlabel('J2')\n",
    "ax[2].set_xlabel('J12')\n",
    "ax[3].set_xlabel('t')\n",
    "ax[0].set_ylim(-3,3)\n",
    "ax[1].set_ylim(-3,3)\n",
    "ax[2].set_ylim(-3,3)\n",
    "ax[3].set_ylim(-3,3)\n",
    "\n",
    "for i in range(0,32):\n",
    "    ax[0].plot(x,J1_1[:,i],color='C0')\n",
    "    ax[0].plot(x,J1_2[:,i],color='C1')\n",
    "    ax[1].plot(x,J2_1[:,i],color='C0')\n",
    "    ax[1].plot(x,J2_2[:,i],color='C1')\n",
    "    ax[2].plot(x,J12_1[:,i],color='C0')\n",
    "    ax[2].plot(x,J12_2[:,i],color='C1')\n",
    "    ax[3].plot(x,t_1[:,i],color='C0')\n",
    "    ax[3].plot(x,t_2[:,i],color='C1')\n",
    "plt.show()"
   ]
  },
  {
   "cell_type": "code",
   "execution_count": 60,
   "metadata": {},
   "outputs": [
    {
     "data": {
      "text/plain": [
       "array([0.        , 0.01010101, 0.02020202, 0.03030303, 0.04040404,\n",
       "       0.05050505, 0.06060606, 0.07070707, 0.08080808, 0.09090909,\n",
       "       0.1010101 , 0.11111111, 0.12121212, 0.13131313, 0.14141414,\n",
       "       0.15151515, 0.16161616, 0.17171717, 0.18181818, 0.19191919,\n",
       "       0.2020202 , 0.21212121, 0.22222222, 0.23232323, 0.24242424,\n",
       "       0.25252525, 0.26262626, 0.27272727, 0.28282828, 0.29292929,\n",
       "       0.3030303 , 0.31313131, 0.32323232, 0.33333333, 0.34343434,\n",
       "       0.35353535, 0.36363636, 0.37373737, 0.38383838, 0.39393939,\n",
       "       0.4040404 , 0.41414141, 0.42424242, 0.43434343, 0.44444444,\n",
       "       0.45454545, 0.46464646, 0.47474747, 0.48484848, 0.49494949,\n",
       "       0.50505051, 0.51515152, 0.52525253, 0.53535354, 0.54545455,\n",
       "       0.55555556, 0.56565657, 0.57575758, 0.58585859, 0.5959596 ,\n",
       "       0.60606061, 0.61616162, 0.62626263, 0.63636364, 0.64646465,\n",
       "       0.65656566, 0.66666667, 0.67676768, 0.68686869, 0.6969697 ,\n",
       "       0.70707071, 0.71717172, 0.72727273, 0.73737374, 0.74747475,\n",
       "       0.75757576, 0.76767677, 0.77777778, 0.78787879, 0.7979798 ,\n",
       "       0.80808081, 0.81818182, 0.82828283, 0.83838384, 0.84848485,\n",
       "       0.85858586, 0.86868687, 0.87878788, 0.88888889, 0.8989899 ,\n",
       "       0.90909091, 0.91919192, 0.92929293, 0.93939394, 0.94949495,\n",
       "       0.95959596, 0.96969697, 0.97979798, 0.98989899, 1.        ,\n",
       "       0.        , 0.01010101, 0.02020202, 0.03030303, 0.04040404,\n",
       "       0.05050505, 0.06060606, 0.07070707, 0.08080808, 0.09090909,\n",
       "       0.1010101 , 0.11111111, 0.12121212, 0.13131313, 0.14141414,\n",
       "       0.15151515, 0.16161616, 0.17171717, 0.18181818, 0.19191919,\n",
       "       0.2020202 , 0.21212121, 0.22222222, 0.23232323, 0.24242424,\n",
       "       0.25252525, 0.26262626, 0.27272727, 0.28282828, 0.29292929,\n",
       "       0.3030303 , 0.31313131, 0.32323232, 0.33333333, 0.34343434,\n",
       "       0.35353535, 0.36363636, 0.37373737, 0.38383838, 0.39393939,\n",
       "       0.4040404 , 0.41414141, 0.42424242, 0.43434343, 0.44444444,\n",
       "       0.45454545, 0.46464646, 0.47474747, 0.48484848, 0.49494949,\n",
       "       0.50505051, 0.51515152, 0.52525253, 0.53535354, 0.54545455,\n",
       "       0.55555556, 0.56565657, 0.57575758, 0.58585859, 0.5959596 ,\n",
       "       0.60606061, 0.61616162, 0.62626263, 0.63636364, 0.64646465,\n",
       "       0.65656566, 0.66666667, 0.67676768, 0.68686869, 0.6969697 ,\n",
       "       0.70707071, 0.71717172, 0.72727273, 0.73737374, 0.74747475,\n",
       "       0.75757576, 0.76767677, 0.77777778, 0.78787879, 0.7979798 ,\n",
       "       0.80808081, 0.81818182, 0.82828283, 0.83838384, 0.84848485,\n",
       "       0.85858586, 0.86868687, 0.87878788, 0.88888889, 0.8989899 ,\n",
       "       0.90909091, 0.91919192, 0.92929293, 0.93939394, 0.94949495,\n",
       "       0.95959596, 0.96969697, 0.97979798, 0.98989899, 1.        ])"
      ]
     },
     "execution_count": 60,
     "metadata": {},
     "output_type": "execute_result"
    }
   ],
   "source": [
    "np.concatenate((x,x),axis=None)\n"
   ]
  },
  {
   "cell_type": "code",
   "execution_count": 3,
   "metadata": {},
   "outputs": [
    {
     "name": "stdout",
     "output_type": "stream",
     "text": [
      "[[6.25 0.   0.   0.   0.   0.   1.   0.   0.   0.   0.   0.   1.   0.\n",
      "  0.   0.   0.   0.   0.   0.   0.   0.   0.   0.  ]\n",
      " [0.   2.25 0.   0.   0.   0.   0.   1.   0.   0.   0.   0.   0.   1.\n",
      "  0.   0.   0.   0.   0.   0.   0.   0.   0.   0.  ]\n",
      " [0.   0.   0.25 0.   0.   0.   0.   0.   1.   0.   0.   0.   0.   0.\n",
      "  1.   0.   0.   0.   0.   0.   0.   0.   0.   0.  ]\n",
      " [0.   0.   0.   0.25 0.   0.   0.   0.   0.   1.   0.   0.   0.   0.\n",
      "  0.   1.   0.   0.   0.   0.   0.   0.   0.   0.  ]\n",
      " [0.   0.   0.   0.   2.25 0.   0.   0.   0.   0.   1.   0.   0.   0.\n",
      "  0.   0.   1.   0.   0.   0.   0.   0.   0.   0.  ]\n",
      " [0.   0.   0.   0.   0.   6.25 0.   0.   0.   0.   0.   1.   0.   0.\n",
      "  0.   0.   0.   1.   0.   0.   0.   0.   0.   0.  ]\n",
      " [1.   0.   0.   0.   0.   0.   6.25 0.   0.   0.   0.   0.   0.   0.\n",
      "  0.   0.   0.   0.   1.   0.   0.   0.   0.   0.  ]\n",
      " [0.   1.   0.   0.   0.   0.   0.   2.25 0.   0.   0.   0.   0.   0.\n",
      "  0.   0.   0.   0.   0.   1.   0.   0.   0.   0.  ]\n",
      " [0.   0.   1.   0.   0.   0.   0.   0.   0.25 0.   0.   0.   0.   0.\n",
      "  0.   0.   0.   0.   0.   0.   1.   0.   0.   0.  ]\n",
      " [0.   0.   0.   1.   0.   0.   0.   0.   0.   0.25 0.   0.   0.   0.\n",
      "  0.   0.   0.   0.   0.   0.   0.   1.   0.   0.  ]\n",
      " [0.   0.   0.   0.   1.   0.   0.   0.   0.   0.   2.25 0.   0.   0.\n",
      "  0.   0.   0.   0.   0.   0.   0.   0.   1.   0.  ]\n",
      " [0.   0.   0.   0.   0.   1.   0.   0.   0.   0.   0.   6.25 0.   0.\n",
      "  0.   0.   0.   0.   0.   0.   0.   0.   0.   1.  ]\n",
      " [1.   0.   0.   0.   0.   0.   0.   0.   0.   0.   0.   0.   6.25 0.\n",
      "  0.   0.   0.   0.   1.   0.   0.   0.   0.   0.  ]\n",
      " [0.   1.   0.   0.   0.   0.   0.   0.   0.   0.   0.   0.   0.   2.25\n",
      "  0.   0.   0.   0.   0.   1.   0.   0.   0.   0.  ]\n",
      " [0.   0.   1.   0.   0.   0.   0.   0.   0.   0.   0.   0.   0.   0.\n",
      "  0.25 0.   0.   0.   0.   0.   1.   0.   0.   0.  ]\n",
      " [0.   0.   0.   1.   0.   0.   0.   0.   0.   0.   0.   0.   0.   0.\n",
      "  0.   0.25 0.   0.   0.   0.   0.   1.   0.   0.  ]\n",
      " [0.   0.   0.   0.   1.   0.   0.   0.   0.   0.   0.   0.   0.   0.\n",
      "  0.   0.   2.25 0.   0.   0.   0.   0.   1.   0.  ]\n",
      " [0.   0.   0.   0.   0.   1.   0.   0.   0.   0.   0.   0.   0.   0.\n",
      "  0.   0.   0.   6.25 0.   0.   0.   0.   0.   1.  ]\n",
      " [0.   0.   0.   0.   0.   0.   1.   0.   0.   0.   0.   0.   1.   0.\n",
      "  0.   0.   0.   0.   6.25 0.   0.   0.   0.   0.  ]\n",
      " [0.   0.   0.   0.   0.   0.   0.   1.   0.   0.   0.   0.   0.   1.\n",
      "  0.   0.   0.   0.   0.   2.25 0.   0.   0.   0.  ]\n",
      " [0.   0.   0.   0.   0.   0.   0.   0.   1.   0.   0.   0.   0.   0.\n",
      "  1.   0.   0.   0.   0.   0.   0.25 0.   0.   0.  ]\n",
      " [0.   0.   0.   0.   0.   0.   0.   0.   0.   1.   0.   0.   0.   0.\n",
      "  0.   1.   0.   0.   0.   0.   0.   0.25 0.   0.  ]\n",
      " [0.   0.   0.   0.   0.   0.   0.   0.   0.   0.   1.   0.   0.   0.\n",
      "  0.   0.   1.   0.   0.   0.   0.   0.   2.25 0.  ]\n",
      " [0.   0.   0.   0.   0.   0.   0.   0.   0.   0.   0.   1.   0.   0.\n",
      "  0.   0.   0.   1.   0.   0.   0.   0.   0.   6.25]]\n"
     ]
    }
   ],
   "source": [
    "def M(Del,D,J1,J2):\n",
    "    Delta= [[Del, 0, 0, 0, 0, 0], [0, Del, 0, 0, 0, 0], [0, 0, Del, 0, 0, 0], [0, 0, 0, Del, 0, 0], [0, 0, 0, 0, Del, 0], [0, 0, 0, 0, 0, Del]]\n",
    "    Spin= [[(25/4)*D, 0, 0, 0, 0, 0], [0, (9/4)*D, 0, 0, 0, 0], [0, 0, (1/4)*D, 0, 0, 0], [0, 0, 0, (1/4)*D, 0, 0], [0, 0, 0, 0, (9/4)*D, 0], [0, 0, 0, 0, 0, (25/4)*D]]\n",
    "    DJ1= [[(5/4)*J1, 0, 0, 0, 0, 0], [0, (3/4)*J1, 0, 0, 0, 0], [0, 0, (1/4)*J1, 0, 0, 0], [0, 0, 0, -(1/4)*J1, 0, 0], [0, 0, 0, 0, -(3/4)*J1, 0], [0, 0, 0, 0, 0, -(5/4)*J1]]\n",
    "    ND1J1= [[0, 0, 0, 0, 0, 0], [(np.sqrt(5)/2)*J1, 0, 0, 0, 0, 0], [0, np.sqrt(2)*J1, 0, 0, 0, 0], [0, 0, (3/2)*J1, 0, 0, 0], [0, 0, 0, np.sqrt(2)*J1, 0, 0], [0, 0, 0, 0, (np.sqrt(5)/2)*J1, 0]]\n",
    "    ND2J1= [[0, (np.sqrt(5)/2)*J1, 0, 0, 0, 0], [0, 0, np.sqrt(2)*J1, 0, 0, 0], [0, 0, 0, (3/2)*J1, 0, 0], [0, 0, 0, 0, np.sqrt(2)*J1, 0], [0, 0, 0, 0, 0, (np.sqrt(5)/2)*J1], [0, 0, 0, 0, 0, 0]]\n",
    "    DJ2= [[(5/4)*J2, 0, 0, 0, 0, 0], [0, (3/4)*J2, 0, 0, 0, 0], [0, 0, (1/4)*J2, 0, 0, 0], [0, 0, 0, -(1/4)*J2, 0, 0], [0, 0, 0, 0, -(3/4)*J2, 0], [0, 0, 0, 0, 0, -(5/4)*J2]]\n",
    "    ND1J2= [[0, 0, 0, 0, 0, 0], [(np.sqrt(5)/2)*J2, 0, 0, 0, 0, 0], [0, np.sqrt(2)*J2, 0, 0, 0, 0], [0, 0, (3/2)*J2, 0, 0, 0], [0, 0, 0, np.sqrt(2)*J2, 0, 0], [0, 0, 0, 0, (np.sqrt(5)/2)*J2, 0]]\n",
    "    ND2J2= [[0, (np.sqrt(5)/2)*J2, 0, 0, 0, 0], [0, 0, np.sqrt(2)*J2, 0, 0, 0], [0, 0, 0, (3/2)*J2, 0, 0], [0, 0, 0, 0, np.sqrt(2)*J2, 0], [0, 0, 0, 0, 0, (np.sqrt(5)/2)*J2], [0, 0, 0, 0, 0, 0]]\n",
    "    tau0 = [[1,0,0,0],[0,1,0,0],[0,0,1,0],[0,0,0,1]]\n",
    "    tauz = [[1, 0, 0, 0], [0, -1, 0, 0], [0, 0, 1, 0], [0, 0, 0, -1]]\n",
    "    tauzz = [[1, 0, 0, 0], [0, 1, 0, 0], [0, 0, -1, 0], [0, 0, 0, -1]]\n",
    "    tau1 = [[0, 1, 1, 0], [1, 0, 0, 1], [1, 0, 0, 1], [0, 1, 1, 0]]\n",
    "    tau21 = [[0, 0, 1, 0], [0, 0, 0, 1], [0, 0, 0, 0], [0, 0, 0, 0]]\n",
    "    tau22 = [[0, 0, 0, 0], [0, 0, 0, 0], [1, 0, 0, 0], [0, 1, 0, 0]]\n",
    "    tau31 = [[0, 1, 0, 0], [0, 0, 0, 0], [0, 0, 0, 1], [0, 0, 0, 0]]\n",
    "    tau32 = [[0, 0, 0, 0], [1, 0, 0, 0], [0, 0, 0, 0], [0, 0, 1, 0]]\n",
    "    Mat11= np.kron(tau0, Spin)+np.kron(tau1, Delta)\n",
    "    Mat01= np.kron(tau0, Spin)+np.kron(tauz, DJ1)+np.kron(np.add(tau21,tau22), Delta)+np.kron(tau31, ND1J1)+np.kron(tau32, ND2J1)\n",
    "    Mat10= np.kron(tau0, Spin)+np.kron(tauz, DJ2)+np.kron(np.add(tau21,tau22), Delta)+np.kron(tau31, ND1J2)+np.kron(tau32, ND2J2)\n",
    "    Mat00= np.kron(tau0, Spin) + np.kron(tauz, DJ1) + np.kron(tauzz, DJ2) + np.kron(tau31, ND1J1) + np.kron(tau32, ND2J1) + np.kron(tau21, ND1J2) + np.kron(tau22, ND2J2)\n",
    "    return [Mat11,Mat01,Mat10,Mat00]\n",
    "\n",
    "print(M(1,1,1,1)[0])\n"
   ]
  },
  {
   "cell_type": "code",
   "execution_count": null,
   "metadata": {},
   "outputs": [],
   "source": []
  }
 ],
 "metadata": {
  "interpreter": {
   "hash": "8c3a2e97da19f2fe6eaeb358a7ab717156a0b7e22ef161919b57a8eecbb1563f"
  },
  "kernelspec": {
   "display_name": "Python 3.9.10 64-bit (windows store)",
   "language": "python",
   "name": "python3"
  },
  "language_info": {
   "codemirror_mode": {
    "name": "ipython",
    "version": 3
   },
   "file_extension": ".py",
   "mimetype": "text/x-python",
   "name": "python",
   "nbconvert_exporter": "python",
   "pygments_lexer": "ipython3",
   "version": "3.9.12"
  },
  "orig_nbformat": 4
 },
 "nbformat": 4,
 "nbformat_minor": 2
}
